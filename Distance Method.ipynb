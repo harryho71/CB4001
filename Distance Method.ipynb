{
 "cells": [
  {
   "cell_type": "code",
   "execution_count": 1,
   "metadata": {},
   "outputs": [],
   "source": [
    "import pandas as pd\n",
    "from datetime import timedelta\n",
    "import numpy as np\n",
    "from dateutil.relativedelta import *\n",
    "from collections import defaultdict"
   ]
  },
  {
   "cell_type": "markdown",
   "metadata": {},
   "source": [
    "### Import Data"
   ]
  },
  {
   "cell_type": "code",
   "execution_count": 2,
   "metadata": {},
   "outputs": [],
   "source": [
    "# Get historical crypto market cap rank data\n",
    "cryptoMarketCapRankDf = pd.read_csv('data\\CryptoMarketCap.csv')\n",
    "cryptoMarketCapRankDf['Date'] = pd.to_datetime(cryptoMarketCapRankDf['Date'])"
   ]
  },
  {
   "cell_type": "code",
   "execution_count": 3,
   "metadata": {},
   "outputs": [],
   "source": [
    "# Get historical crypto price data\n",
    "cryptoPriceDf = pd.read_csv('data\\TradingViewCryptoPrice.csv', index_col=0)\n",
    "cryptoPriceDf.index = pd.to_datetime(cryptoPriceDf.index)"
   ]
  },
  {
   "cell_type": "markdown",
   "metadata": {},
   "source": [
    "### Formation Period"
   ]
  },
  {
   "cell_type": "code",
   "execution_count": 4,
   "metadata": {},
   "outputs": [],
   "source": [
    "def marketCapCryptoSelection(cryptoMarketCapRankDf, cutoffDate, cutoffRank):\n",
    "    # Get formation period sample crypto list\n",
    "    marketCapCutoffDate = pd.to_datetime(cutoffDate) - timedelta(days=1)\n",
    "    sampleCrypto = cryptoMarketCapRankDf[(cryptoMarketCapRankDf['Date'] == marketCapCutoffDate) & (cryptoMarketCapRankDf['Rank'] <= cutoffRank)]\n",
    "    sampleCrypto = list(sampleCrypto['Symbol'])\n",
    "    return sampleCrypto"
   ]
  },
  {
   "cell_type": "code",
   "execution_count": 5,
   "metadata": {},
   "outputs": [],
   "source": [
    "def cryptoPriceCleaning(cryptoPriceDf, sampleCrypto, cutoffDate, lookback):\n",
    "    # Fliter the crypto with formation period\n",
    "    cutoffRowIdx = cryptoPriceDf.index.get_loc(cutoffDate)\n",
    "    if cutoffRowIdx < lookback:\n",
    "        # if there is not enough got the whole lookback period, just get all the availiable data\n",
    "        sampleCryptoPrice = cryptoPriceDf.iloc[:cutoffRowIdx]\n",
    "    else:\n",
    "        sampleCryptoPrice = cryptoPriceDf.iloc[cutoffRowIdx-lookback:cutoffRowIdx]\n",
    "    \n",
    "    # Filter based on the availiablity of crpyto price\n",
    "    sampleCrypto = set(sampleCrypto).intersection([x[7:-3] for x in sampleCryptoPrice.columns])\n",
    "\n",
    "    # Data Cleaning\n",
    "    sampleCryptoPrice = sampleCryptoPrice[[\"CRYPTO:\" + x + \"USD\" for x in sampleCrypto]]\n",
    "    sampleCryptoPrice = sampleCryptoPrice.ffill(axis=0)\n",
    "    sampleCryptoPrice = sampleCryptoPrice.dropna(axis=1)\n",
    "\n",
    "    print('Remaining number of crpyto: ', len(sampleCryptoPrice.columns))\n",
    "\n",
    "    return sampleCryptoPrice"
   ]
  },
  {
   "cell_type": "markdown",
   "metadata": {},
   "source": [
    "#### Distance Method"
   ]
  },
  {
   "cell_type": "code",
   "execution_count": 6,
   "metadata": {},
   "outputs": [],
   "source": [
    "def distanceMethodSelection(sampleCryptoPrice):\n",
    "    # Normalized the log price\n",
    "    sampleCryptoLogPrice = np.log(sampleCryptoPrice)\n",
    "    sampleCryptoNormalizedLogPrice = (sampleCryptoLogPrice - sampleCryptoLogPrice.mean())/sampleCryptoLogPrice.std()\n",
    "\n",
    "    # SSD calculation for each pair\n",
    "    SSDResults = []\n",
    "    for i in range(len(sampleCryptoNormalizedLogPrice.columns)):\n",
    "        for j in range(i+1, len(sampleCryptoNormalizedLogPrice.columns)):\n",
    "            SSD = ((sampleCryptoNormalizedLogPrice[sampleCryptoNormalizedLogPrice.columns[i]] - sampleCryptoNormalizedLogPrice[sampleCryptoNormalizedLogPrice.columns[j]]) ** 2).sum()\n",
    "            SSDResults.append([sampleCryptoNormalizedLogPrice.columns[i], sampleCryptoNormalizedLogPrice.columns[j], SSD])\n",
    "    \n",
    "    # Return the SSD results\n",
    "    SSDResults = pd.DataFrame(SSDResults, columns=['Crypto 1', 'Crypto 2', 'SSD'])\n",
    "    SSDResults = SSDResults.sort_values('SSD', ascending=True)\n",
    "    SSDResults = SSDResults.reindex()\n",
    "    \n",
    "    return SSDResults"
   ]
  },
  {
   "cell_type": "markdown",
   "metadata": {},
   "source": [
    "### Trading Period"
   ]
  },
  {
   "cell_type": "code",
   "execution_count": 7,
   "metadata": {},
   "outputs": [],
   "source": [
    "def distanceMethodTrading(cryptoPriceDf, sampleCryptoPrice, SSDResults, cutoffDate, forward, noTradingPairs, spreadThreshold, closeThreshold, constantModel=True):\n",
    "    \n",
    "    # initialize the records dataframe\n",
    "    TransactionRecords = pd.DataFrame(columns=['Date', 'Crypto', 'Long/Short', 'Price', \"Open/Close\", \"Transaction pair\", \"Round Trip No.\", \"Pair No.\"])\n",
    "    SpreadRecords = pd.DataFrame()\n",
    "    PairNo = 0\n",
    "\n",
    "    # get trading crpyto price\n",
    "    cutoffRowIdx = cryptoPriceDf.index.get_loc(cutoffDate)\n",
    "    if cutoffRowIdx + forward > len(cryptoPriceDf):\n",
    "        # if there is not enough got the whole forward period, just get all the availiable data\n",
    "        tradingCryptoPrice = cryptoPriceDf.iloc[cutoffRowIdx:]\n",
    "    else:\n",
    "        tradingCryptoPrice = cryptoPriceDf.iloc[cutoffRowIdx:cutoffRowIdx+forward]\n",
    "\n",
    "    logSampleCrpytoPrice = np.log(sampleCryptoPrice)\n",
    "    logTradingCryptoPrice = np.log(tradingCryptoPrice)\n",
    "\n",
    "    for i in range(noTradingPairs):\n",
    "        ############ Trading Signal Calculation ############\n",
    "\n",
    "        # Parameter\n",
    "        crypto1 = SSDResults.loc[i, 'Crypto 1']\n",
    "        crypto2 = SSDResults.loc[i, 'Crypto 2']\n",
    "\n",
    "        # Calculate normalized spread\n",
    "        if constantModel:\n",
    "            # constant model parameter\n",
    "            crypto1Mean = logSampleCrpytoPrice.mean()[crypto1]\n",
    "            crypto2Mean = logSampleCrpytoPrice.mean()[crypto2]\n",
    "            crypto1SD = logSampleCrpytoPrice.std()[crypto1]\n",
    "            crypto2SD = logSampleCrpytoPrice.std()[crypto2]\n",
    "\n",
    "            # calculate spread\n",
    "            normalizedCrypto1LogPrice = (logTradingCryptoPrice[crypto1] - crypto1Mean)/crypto1SD\n",
    "            normalizedCrypto2LogPrice = (logTradingCryptoPrice[crypto2] - crypto2Mean)/crypto2SD\n",
    "            Spread = normalizedCrypto1LogPrice - normalizedCrypto2LogPrice\n",
    "\n",
    "        else:\n",
    "            # Expending window model\n",
    "            logCrypto1Price = pd.concat([logSampleCrpytoPrice[crypto1],logTradingCryptoPrice[crypto1]], axis=0)\n",
    "            logCrypto2Price = pd.concat([logSampleCrpytoPrice[crypto2],logTradingCryptoPrice[crypto2]], axis=0)\n",
    "            crypto1Mean = logCrypto1Price.expanding(min_periods=1).mean() # or df.rolling(window=len(df), min_periods=1).mean()\n",
    "            crypto2Mean = logCrypto2Price.expanding(min_periods=1).mean()\n",
    "            crypto1SD = logCrypto1Price.expanding(min_periods=1).std()\n",
    "            crypto2SD = logCrypto2Price.expanding(min_periods=1).std()\n",
    "\n",
    "            # calculate spread\n",
    "            normalizedCrypto1LogPrice = (logCrypto1Price- crypto1Mean)/crypto1SD\n",
    "            normalizedCrypto2LogPrice = (logCrypto2Price - crypto2Mean)/crypto2SD\n",
    "            Spread = normalizedCrypto1LogPrice - normalizedCrypto2LogPrice\n",
    "            Spread = Spread.loc[cutoffDate:]\n",
    "\n",
    "        ############ Trading Execution ############\n",
    "        # check if there is any trading opportunity\n",
    "        SpreadWithoutLastDay = Spread.iloc[:-1]\n",
    "        if len(SpreadWithoutLastDay[(SpreadWithoutLastDay >= spreadThreshold) | (SpreadWithoutLastDay <= -spreadThreshold)]) > 0:\n",
    "            \n",
    "            # save the spread records\n",
    "            Spread.name = crypto1 + \" \" + crypto2\n",
    "            SpreadRecords = SpreadRecords.merge(Spread, how='outer', left_index=True, right_index=True)\n",
    "\n",
    "            # initialize before the transaction\n",
    "            PairNo += 1\n",
    "            Spread.name = 'spread'\n",
    "            Spread = Spread.to_frame()\n",
    "            Opened = False\n",
    "            long = None\n",
    "            RoundTripNo = 1\n",
    "\n",
    "            for date in Spread.index:\n",
    "\n",
    "                # When the trading date is not the last day\n",
    "                if date != Spread.index[-1]:\n",
    "                    # If there is an open position before that date\n",
    "                    if Opened:\n",
    "                        # Close postion if the spread cross closeThreshold\n",
    "                        if not long and Spread.loc[date, 'spread'] <= closeThreshold:\n",
    "                            TransactionRecords.loc[len(TransactionRecords)] = [date, crypto1, \"Long\",  tradingCryptoPrice.loc[date, crypto1], \"Close\", crypto2, RoundTripNo, PairNo]\n",
    "                            TransactionRecords.loc[len(TransactionRecords)] = [date, crypto2, \"Short\",  tradingCryptoPrice.loc[date, crypto2], \"Close\", crypto1, RoundTripNo, PairNo]\n",
    "                            RoundTripNo += 1\n",
    "                            long = None\n",
    "                            Opened = False\n",
    "                            \n",
    "                        elif long and Spread.loc[date, 'spread'] >= -closeThreshold:\n",
    "                            TransactionRecords.loc[len(TransactionRecords)] = [date, crypto1, \"Short\",  tradingCryptoPrice.loc[date, crypto1], \"Close\", crypto2, RoundTripNo, PairNo]\n",
    "                            TransactionRecords.loc[len(TransactionRecords)] = [date, crypto2, \"Long\",  tradingCryptoPrice.loc[date, crypto2], \"Close\", crypto1, RoundTripNo, PairNo]\n",
    "                            RoundTripNo += 1\n",
    "                            long = None\n",
    "                            Opened = False\n",
    "                            \n",
    "                    \n",
    "                    # Check again if there is any position, if no and fulfil the criteria, then open position \n",
    "                    if not Opened:\n",
    "                        # short crypto 1 and long crypto 2 if spread >= spreadThreshold\n",
    "                        if Spread.loc[date, 'spread'] >= spreadThreshold:\n",
    "                            TransactionRecords.loc[len(TransactionRecords)] = [date, crypto1, \"Short\",  tradingCryptoPrice.loc[date, crypto1], \"Open\", crypto2, RoundTripNo, PairNo]\n",
    "                            TransactionRecords.loc[len(TransactionRecords)] = [date, crypto2, \"Long\",  tradingCryptoPrice.loc[date, crypto2], \"Open\", crypto1, RoundTripNo, PairNo]\n",
    "                            long = False\n",
    "                            Opened = True\n",
    "                            \n",
    "                        # long crypto 1 and short crypto 2 if spread <= -spreadThreshold\n",
    "                        elif Spread.loc[date, 'spread'] <= -spreadThreshold:\n",
    "                            TransactionRecords.loc[len(TransactionRecords)] = [date, crypto1, \"Long\",  tradingCryptoPrice.loc[date, crypto1], \"Open\", crypto2, RoundTripNo, PairNo]\n",
    "                            TransactionRecords.loc[len(TransactionRecords)] = [date, crypto2, \"Short\",  tradingCryptoPrice.loc[date, crypto2], \"Open\", crypto1, RoundTripNo, PairNo]\n",
    "                            long = True\n",
    "                            Opened = True\n",
    "                            \n",
    "\n",
    "                # For last day closing position\n",
    "                else:\n",
    "                    if Opened:\n",
    "                        if not long:\n",
    "                            TransactionRecords.loc[len(TransactionRecords)] = [date, crypto1, \"Long\",  tradingCryptoPrice.loc[date, crypto1], \"Close\", crypto2, RoundTripNo, PairNo]\n",
    "                            TransactionRecords.loc[len(TransactionRecords)] = [date, crypto2, \"Short\",  tradingCryptoPrice.loc[date, crypto2], \"Close\", crypto1, RoundTripNo, PairNo]\n",
    "                            long = None\n",
    "                            Opened = False\n",
    "                            \n",
    "                        else:\n",
    "                            TransactionRecords.loc[len(TransactionRecords)] = [date, crypto1, \"Short\",  tradingCryptoPrice.loc[date, crypto1], \"Close\", crypto2, RoundTripNo, PairNo]\n",
    "                            TransactionRecords.loc[len(TransactionRecords)] = [date, crypto2, \"Long\",  tradingCryptoPrice.loc[date, crypto2], \"Close\", crypto1, RoundTripNo, PairNo]\n",
    "                            long = None\n",
    "                            Opened = False\n",
    "                            \n",
    "    return (TransactionRecords, SpreadRecords)"
   ]
  },
  {
   "cell_type": "markdown",
   "metadata": {},
   "source": [
    "### Rolling Window"
   ]
  },
  {
   "cell_type": "code",
   "execution_count": 8,
   "metadata": {},
   "outputs": [],
   "source": [
    "# General parameters\n",
    "startDate = '2019-01-01'\n",
    "endDate = '2023-07-01'\n",
    "lookback =365\n",
    "forward = 60\n",
    "\n",
    "# Formation period parameters\n",
    "cutoffRank = 100\n",
    "\n",
    "# Trading period parameters\n",
    "noTradingPairs = 50\n",
    "spreadThreshold = 2.5\n",
    "closeThreshold = -1 # same sign as spreadThreshold"
   ]
  },
  {
   "cell_type": "code",
   "execution_count": 9,
   "metadata": {},
   "outputs": [
    {
     "name": "stdout",
     "output_type": "stream",
     "text": [
      "Remaining number of crpyto:  45\n",
      "Remaining number of crpyto:  51\n",
      "Remaining number of crpyto:  55\n",
      "Remaining number of crpyto:  49\n",
      "Remaining number of crpyto:  47\n",
      "Remaining number of crpyto:  48\n",
      "Remaining number of crpyto:  46\n",
      "Remaining number of crpyto:  47\n",
      "Remaining number of crpyto:  49\n",
      "Remaining number of crpyto:  52\n",
      "Remaining number of crpyto:  52\n",
      "Remaining number of crpyto:  57\n",
      "Remaining number of crpyto:  60\n",
      "Remaining number of crpyto:  58\n",
      "Remaining number of crpyto:  62\n",
      "Remaining number of crpyto:  63\n",
      "Remaining number of crpyto:  66\n",
      "Remaining number of crpyto:  67\n",
      "Remaining number of crpyto:  65\n",
      "Remaining number of crpyto:  65\n",
      "Remaining number of crpyto:  68\n",
      "Remaining number of crpyto:  77\n",
      "Remaining number of crpyto:  84\n",
      "Remaining number of crpyto:  78\n",
      "Remaining number of crpyto:  82\n",
      "Remaining number of crpyto:  82\n",
      "Remaining number of crpyto:  88\n",
      "Remaining number of crpyto:  88\n"
     ]
    }
   ],
   "source": [
    "TransactionRecords = pd.DataFrame(columns=['Date', 'Crypto', 'Long/Short', 'Price', \"Open/Close\", \"Transaction pair\",  \"Period No.\", \"Pair No.\", \"Round Trip No.\"])\n",
    "SpreadRecords = pd.DataFrame()\n",
    "\n",
    "period = 1\n",
    "for cutoffDate in pd.date_range(startDate, endDate, freq='2MS'):\n",
    "    sampleCrypto = marketCapCryptoSelection(cryptoMarketCapRankDf, cutoffDate, cutoffRank)\n",
    "    sampleCryptoPrice = cryptoPriceCleaning(cryptoPriceDf, sampleCrypto, cutoffDate, lookback)\n",
    "    SSDResults = distanceMethodSelection(sampleCryptoPrice)\n",
    "    Transaction, Spread = distanceMethodTrading(cryptoPriceDf, sampleCryptoPrice, SSDResults, cutoffDate, forward, noTradingPairs, spreadThreshold, closeThreshold, False)\n",
    "    Transaction['Period No.'] = period\n",
    "    TransactionRecords = pd.concat([TransactionRecords, Transaction], ignore_index=True)\n",
    "    SpreadRecords = pd.concat([SpreadRecords, Spread])\n",
    "    period += 1"
   ]
  },
  {
   "cell_type": "markdown",
   "metadata": {},
   "source": [
    "### Transform transaction records to Result"
   ]
  },
  {
   "cell_type": "code",
   "execution_count": 10,
   "metadata": {},
   "outputs": [],
   "source": [
    "result = pd.DataFrame(columns=['Period No.', 'Pair No.', 'Round Trip No.', 'Start Date', 'End Date', 'long crypto', 'short crypto', 'long crypto return', 'short crypto return'])\n",
    "# loop each period\n",
    "for k in range(1, TransactionRecords['Period No.'].max() + 1):\n",
    "    period =  TransactionRecords[TransactionRecords['Period No.'] == k]\n",
    "    \n",
    "    # if there is no trade in that period\n",
    "    if len(period) == 0:\n",
    "        continue\n",
    "    \n",
    "    # loop each pair of transactions\n",
    "    for i in range(1, period['Pair No.'].max() + 1):\n",
    "        pair = period[period['Pair No.'] == i]\n",
    "        # loop each Round Trip in pair\n",
    "        for j in range(1, pair['Round Trip No.'].max() + 1):\n",
    "            roundTrip = pair[pair['Round Trip No.'] == j]\n",
    "\n",
    "            returnResult = dict()\n",
    "\n",
    "            # loop each crypto in the round trip\n",
    "            for crypto in set(roundTrip['Crypto']):\n",
    "                \n",
    "                # prepare the specific round trip transaction record\n",
    "                record = roundTrip[roundTrip['Crypto'] == crypto]\n",
    "                record = record.reset_index(drop=True)\n",
    "\n",
    "                # Calculate the return of the specific round trip\n",
    "                returns = record['Price'][1] / record['Price'][0] - 1\n",
    "                if record['Long/Short'][0] == 'Short':\n",
    "                    returns = -returns \n",
    "                \n",
    "                # Insert Record\n",
    "                if len(returnResult) == 0:\n",
    "                    returnResult['Period No.'] = k\n",
    "                    returnResult['Pair No.'] = i\n",
    "                    returnResult['Round Trip No.'] = j\n",
    "                    returnResult['Start Date'] = record['Date'][0]\n",
    "                    returnResult['End Date'] = record['Date'][1]\n",
    "                \n",
    "                if record['Long/Short'][0] == 'Long':\n",
    "                    returnResult['long crypto'] = crypto\n",
    "                    returnResult['long crypto return'] = returns\n",
    "                else:\n",
    "                    returnResult['short crypto'] = crypto\n",
    "                    returnResult['short crypto return'] = returns\n",
    "\n",
    "            result.loc[len(result)] = returnResult  \n"
   ]
  },
  {
   "cell_type": "code",
   "execution_count": 11,
   "metadata": {},
   "outputs": [
    {
     "data": {
      "text/html": [
       "<div>\n",
       "<style scoped>\n",
       "    .dataframe tbody tr th:only-of-type {\n",
       "        vertical-align: middle;\n",
       "    }\n",
       "\n",
       "    .dataframe tbody tr th {\n",
       "        vertical-align: top;\n",
       "    }\n",
       "\n",
       "    .dataframe thead th {\n",
       "        text-align: right;\n",
       "    }\n",
       "</style>\n",
       "<table border=\"1\" class=\"dataframe\">\n",
       "  <thead>\n",
       "    <tr style=\"text-align: right;\">\n",
       "      <th></th>\n",
       "      <th>Period No.</th>\n",
       "      <th>Pair No.</th>\n",
       "      <th>Round Trip No.</th>\n",
       "      <th>Start Date</th>\n",
       "      <th>End Date</th>\n",
       "      <th>long crypto</th>\n",
       "      <th>short crypto</th>\n",
       "      <th>long crypto return</th>\n",
       "      <th>short crypto return</th>\n",
       "      <th>Total Return</th>\n",
       "    </tr>\n",
       "  </thead>\n",
       "  <tbody>\n",
       "    <tr>\n",
       "      <th>0</th>\n",
       "      <td>1</td>\n",
       "      <td>1</td>\n",
       "      <td>1</td>\n",
       "      <td>2019-01-06</td>\n",
       "      <td>2019-03-01</td>\n",
       "      <td>CRYPTO:ADAUSD</td>\n",
       "      <td>CRYPTO:USDTUSD</td>\n",
       "      <td>-0.121768</td>\n",
       "      <td>0.015430</td>\n",
       "      <td>-0.106338</td>\n",
       "    </tr>\n",
       "    <tr>\n",
       "      <th>1</th>\n",
       "      <td>2</td>\n",
       "      <td>1</td>\n",
       "      <td>1</td>\n",
       "      <td>2019-04-19</td>\n",
       "      <td>2019-04-29</td>\n",
       "      <td>CRYPTO:ADAUSD</td>\n",
       "      <td>CRYPTO:BNBUSD</td>\n",
       "      <td>-0.195462</td>\n",
       "      <td>0.127620</td>\n",
       "      <td>-0.067842</td>\n",
       "    </tr>\n",
       "    <tr>\n",
       "      <th>2</th>\n",
       "      <td>2</td>\n",
       "      <td>2</td>\n",
       "      <td>1</td>\n",
       "      <td>2019-03-08</td>\n",
       "      <td>2019-04-29</td>\n",
       "      <td>CRYPTO:ADAUSD</td>\n",
       "      <td>CRYPTO:ENJUSD</td>\n",
       "      <td>0.508101</td>\n",
       "      <td>0.300986</td>\n",
       "      <td>0.809087</td>\n",
       "    </tr>\n",
       "    <tr>\n",
       "      <th>3</th>\n",
       "      <td>3</td>\n",
       "      <td>1</td>\n",
       "      <td>1</td>\n",
       "      <td>2019-05-24</td>\n",
       "      <td>2019-06-29</td>\n",
       "      <td>CRYPTO:ADAUSD</td>\n",
       "      <td>CRYPTO:BNBUSD</td>\n",
       "      <td>0.105445</td>\n",
       "      <td>-0.034104</td>\n",
       "      <td>0.071342</td>\n",
       "    </tr>\n",
       "    <tr>\n",
       "      <th>4</th>\n",
       "      <td>3</td>\n",
       "      <td>2</td>\n",
       "      <td>1</td>\n",
       "      <td>2019-05-16</td>\n",
       "      <td>2019-06-29</td>\n",
       "      <td>CRYPTO:ADAUSD</td>\n",
       "      <td>CRYPTO:LINKUSD</td>\n",
       "      <td>0.018474</td>\n",
       "      <td>-3.125683</td>\n",
       "      <td>-3.107209</td>\n",
       "    </tr>\n",
       "    <tr>\n",
       "      <th>...</th>\n",
       "      <td>...</td>\n",
       "      <td>...</td>\n",
       "      <td>...</td>\n",
       "      <td>...</td>\n",
       "      <td>...</td>\n",
       "      <td>...</td>\n",
       "      <td>...</td>\n",
       "      <td>...</td>\n",
       "      <td>...</td>\n",
       "      <td>...</td>\n",
       "    </tr>\n",
       "    <tr>\n",
       "      <th>230</th>\n",
       "      <td>28</td>\n",
       "      <td>9</td>\n",
       "      <td>1</td>\n",
       "      <td>2023-08-01</td>\n",
       "      <td>2023-08-29</td>\n",
       "      <td>CRYPTO:DYDXUSD</td>\n",
       "      <td>CRYPTO:MKRUSD</td>\n",
       "      <td>0.070669</td>\n",
       "      <td>0.215957</td>\n",
       "      <td>0.286627</td>\n",
       "    </tr>\n",
       "    <tr>\n",
       "      <th>231</th>\n",
       "      <td>28</td>\n",
       "      <td>10</td>\n",
       "      <td>1</td>\n",
       "      <td>2023-08-24</td>\n",
       "      <td>2023-08-29</td>\n",
       "      <td>CRYPTO:AVAXUSD</td>\n",
       "      <td>CRYPTO:DYDXUSD</td>\n",
       "      <td>0.069374</td>\n",
       "      <td>0.003368</td>\n",
       "      <td>0.072742</td>\n",
       "    </tr>\n",
       "    <tr>\n",
       "      <th>232</th>\n",
       "      <td>28</td>\n",
       "      <td>11</td>\n",
       "      <td>1</td>\n",
       "      <td>2023-08-17</td>\n",
       "      <td>2023-08-29</td>\n",
       "      <td>CRYPTO:EOSUSD</td>\n",
       "      <td>CRYPTO:DYDXUSD</td>\n",
       "      <td>0.091782</td>\n",
       "      <td>-0.152486</td>\n",
       "      <td>-0.060704</td>\n",
       "    </tr>\n",
       "    <tr>\n",
       "      <th>233</th>\n",
       "      <td>28</td>\n",
       "      <td>12</td>\n",
       "      <td>1</td>\n",
       "      <td>2023-08-16</td>\n",
       "      <td>2023-08-29</td>\n",
       "      <td>CRYPTO:DYDXUSD</td>\n",
       "      <td>CRYPTO:GUSDUSD</td>\n",
       "      <td>0.088853</td>\n",
       "      <td>0.019685</td>\n",
       "      <td>0.108538</td>\n",
       "    </tr>\n",
       "    <tr>\n",
       "      <th>234</th>\n",
       "      <td>28</td>\n",
       "      <td>13</td>\n",
       "      <td>1</td>\n",
       "      <td>2023-08-17</td>\n",
       "      <td>2023-08-29</td>\n",
       "      <td>CRYPTO:DASHUSD</td>\n",
       "      <td>CRYPTO:DYDXUSD</td>\n",
       "      <td>0.045412</td>\n",
       "      <td>-0.152486</td>\n",
       "      <td>-0.107075</td>\n",
       "    </tr>\n",
       "  </tbody>\n",
       "</table>\n",
       "<p>235 rows × 10 columns</p>\n",
       "</div>"
      ],
      "text/plain": [
       "     Period No.  Pair No.  Round Trip No. Start Date   End Date  \\\n",
       "0             1         1               1 2019-01-06 2019-03-01   \n",
       "1             2         1               1 2019-04-19 2019-04-29   \n",
       "2             2         2               1 2019-03-08 2019-04-29   \n",
       "3             3         1               1 2019-05-24 2019-06-29   \n",
       "4             3         2               1 2019-05-16 2019-06-29   \n",
       "..          ...       ...             ...        ...        ...   \n",
       "230          28         9               1 2023-08-01 2023-08-29   \n",
       "231          28        10               1 2023-08-24 2023-08-29   \n",
       "232          28        11               1 2023-08-17 2023-08-29   \n",
       "233          28        12               1 2023-08-16 2023-08-29   \n",
       "234          28        13               1 2023-08-17 2023-08-29   \n",
       "\n",
       "        long crypto    short crypto  long crypto return  short crypto return  \\\n",
       "0     CRYPTO:ADAUSD  CRYPTO:USDTUSD           -0.121768             0.015430   \n",
       "1     CRYPTO:ADAUSD   CRYPTO:BNBUSD           -0.195462             0.127620   \n",
       "2     CRYPTO:ADAUSD   CRYPTO:ENJUSD            0.508101             0.300986   \n",
       "3     CRYPTO:ADAUSD   CRYPTO:BNBUSD            0.105445            -0.034104   \n",
       "4     CRYPTO:ADAUSD  CRYPTO:LINKUSD            0.018474            -3.125683   \n",
       "..              ...             ...                 ...                  ...   \n",
       "230  CRYPTO:DYDXUSD   CRYPTO:MKRUSD            0.070669             0.215957   \n",
       "231  CRYPTO:AVAXUSD  CRYPTO:DYDXUSD            0.069374             0.003368   \n",
       "232   CRYPTO:EOSUSD  CRYPTO:DYDXUSD            0.091782            -0.152486   \n",
       "233  CRYPTO:DYDXUSD  CRYPTO:GUSDUSD            0.088853             0.019685   \n",
       "234  CRYPTO:DASHUSD  CRYPTO:DYDXUSD            0.045412            -0.152486   \n",
       "\n",
       "     Total Return  \n",
       "0       -0.106338  \n",
       "1       -0.067842  \n",
       "2        0.809087  \n",
       "3        0.071342  \n",
       "4       -3.107209  \n",
       "..            ...  \n",
       "230      0.286627  \n",
       "231      0.072742  \n",
       "232     -0.060704  \n",
       "233      0.108538  \n",
       "234     -0.107075  \n",
       "\n",
       "[235 rows x 10 columns]"
      ]
     },
     "execution_count": 11,
     "metadata": {},
     "output_type": "execute_result"
    }
   ],
   "source": [
    "# Remark: return can be more than -100% for the short selling position\n",
    "result['Total Return'] = result['long crypto return'] + result['short crypto return']\n",
    "result"
   ]
  },
  {
   "cell_type": "code",
   "execution_count": null,
   "metadata": {},
   "outputs": [],
   "source": [
    "result.groupby('Period No.').mean()['Total Return']"
   ]
  },
  {
   "cell_type": "markdown",
   "metadata": {},
   "source": [
    "### Daily Return"
   ]
  },
  {
   "cell_type": "code",
   "execution_count": 78,
   "metadata": {},
   "outputs": [],
   "source": [
    "def getcumReturns(cryptoPriceDf, result):\n",
    "    cumReturn = pd.DataFrame()\n",
    "    # loop through each row\n",
    "    for idx, row in result.iterrows():\n",
    "        crpyto1StartPrice = cryptoPriceDf.loc[row['Start Date'], row['long crypto']]\n",
    "        crpyto2StartPrice = cryptoPriceDf.loc[row['Start Date'], row['short crypto']]\n",
    "        crpyto1cumReturn = cryptoPriceDf.loc[row['Start Date']:row['End Date'], row['long crypto']] / crpyto1StartPrice - 1\n",
    "        crpyto2cumReturn = cryptoPriceDf.loc[row['Start Date']:row['End Date'], row['short crypto']] / crpyto2StartPrice - 1\n",
    "        cumReturnSeries = crpyto1cumReturn - crpyto2cumReturn\n",
    "        cumReturnSeries.name = row['long crypto'] + \" \" + row['short crypto'] + \" \" + str(row['Period No.']) + + \" \" + str(row['Round Trip No.'])\n",
    "        cumReturn = cumReturn.merge(cumReturnSeries, left_index=True, right_index=True, how=\"outer\")\n",
    "    return cumReturn"
   ]
  },
  {
   "cell_type": "code",
   "execution_count": 102,
   "metadata": {},
   "outputs": [
    {
     "name": "stderr",
     "output_type": "stream",
     "text": [
      "C:\\Users\\harry\\AppData\\Local\\Packages\\PythonSoftwareFoundation.Python.3.9_qbz5n2kfra8p0\\LocalCache\\local-packages\\Python39\\site-packages\\pandas\\core\\internals\\blocks.py:351: RuntimeWarning: invalid value encountered in log\n",
      "  result = func(self.values, **kwargs)\n"
     ]
    }
   ],
   "source": [
    "cumReturns = getcumReturns(cryptoPriceDf, result)\n",
    "dailyReturns = np.exp(np.log(cumReturns + 1).diff()) - 1 # OR (cumReturns + 1) / (cumReturns.shift(1) + 1) - 1\n",
    "averageDailyReturn = dailyReturns.mean(axis=1)\n",
    "averageDailyReturn = averageDailyReturn.fillna(0)\n",
    "averageCumReturn = np.cumprod(1 +averageDailyReturn) - 1"
   ]
  },
  {
   "cell_type": "code",
   "execution_count": 106,
   "metadata": {},
   "outputs": [
    {
     "data": {
      "text/plain": [
       "<AxesSubplot:xlabel='Date'>"
      ]
     },
     "execution_count": 106,
     "metadata": {},
     "output_type": "execute_result"
    },
    {
     "data": {
      "image/png": "[encoded data removed]",
      "text/plain": [
       "<Figure size 432x288 with 1 Axes>"
      ]
     },
     "metadata": {
      "needs_background": "light"
     },
     "output_type": "display_data"
    }
   ],
   "source": [
    "averageCumReturn.plot()"
   ]
  },
  {
   "cell_type": "code",
   "execution_count": 127,
   "metadata": {},
   "outputs": [
    {
     "data": {
      "text/plain": [
       "Period No.\n",
       "1      1\n",
       "2      2\n",
       "3      2\n",
       "4      2\n",
       "5      1\n",
       "6      2\n",
       "7      8\n",
       "8      8\n",
       "9      8\n",
       "10    26\n",
       "11     4\n",
       "12     6\n",
       "13    15\n",
       "14     6\n",
       "15     5\n",
       "16     3\n",
       "19    18\n",
       "20    21\n",
       "21    42\n",
       "22     4\n",
       "23     8\n",
       "24    12\n",
       "25     5\n",
       "26     9\n",
       "27     2\n",
       "28    13\n",
       "Name: Total Return, dtype: int64"
      ]
     },
     "execution_count": 127,
     "metadata": {},
     "output_type": "execute_result"
    }
   ],
   "source": [
    "result.groupby(['Period No.']).count()['Total Return']"
   ]
  },
  {
   "cell_type": "code",
   "execution_count": 128,
   "metadata": {},
   "outputs": [
    {
     "name": "stderr",
     "output_type": "stream",
     "text": [
      "C:\\Users\\harry\\AppData\\Local\\Temp\\ipykernel_18812\\64978782.py:1: FutureWarning: The default value of numeric_only in DataFrameGroupBy.mean is deprecated. In a future version, numeric_only will default to False. Either specify numeric_only or select only columns which should be valid for the function.\n",
      "  result.groupby(['Period No.']).mean()['Total Return']\n"
     ]
    },
    {
     "data": {
      "text/plain": [
       "Period No.\n",
       "1    -0.106338\n",
       "2     0.370623\n",
       "3    -1.517934\n",
       "4     0.056517\n",
       "5    -0.400763\n",
       "6    -0.348116\n",
       "7     0.610763\n",
       "8     0.336026\n",
       "9     0.053360\n",
       "10    0.413664\n",
       "11    0.198323\n",
       "12    0.056355\n",
       "13   -0.454544\n",
       "14   -0.116344\n",
       "15    0.275704\n",
       "16   -0.058741\n",
       "19   -0.226808\n",
       "20   -0.001145\n",
       "21   -0.294625\n",
       "22    0.055261\n",
       "23    0.026263\n",
       "24    0.035196\n",
       "25   -0.010445\n",
       "26    0.057317\n",
       "27    0.167848\n",
       "28    0.043607\n",
       "Name: Total Return, dtype: float64"
      ]
     },
     "execution_count": 128,
     "metadata": {},
     "output_type": "execute_result"
    }
   ],
   "source": [
    "result.groupby(['Period No.']).mean()['Total Return']"
   ]
  },
  {
   "cell_type": "code",
   "execution_count": 117,
   "metadata": {},
   "outputs": [
    {
     "data": {
      "text/plain": [
       "<AxesSubplot:xlabel='Date'>"
      ]
     },
     "execution_count": 117,
     "metadata": {},
     "output_type": "execute_result"
    },
    {
     "data": {
      "image/png": "[encoded data removed]",
      "text/plain": [
       "<Figure size 432x288 with 1 Axes>"
      ]
     },
     "metadata": {
      "needs_background": "light"
     },
     "output_type": "display_data"
    }
   ],
   "source": [
    "(cryptoPriceDf.loc[averageCumReturn.index[0]:averageCumReturn.index[-1], 'CRYPTO:BTCUSD'] / cryptoPriceDf.loc[averageCumReturn.index[0], 'CRYPTO:BTCUSD'] - 1).plot()"
   ]
  },
  {
   "cell_type": "markdown",
   "metadata": {},
   "source": [
    "### TO-DO list:\n",
    "1) create a time series chart (input pair No.) and show the pair daily return over the period and spread over the period (SpreadRecords)\n",
    "2) make a function to loop the above process each two months and return both the transaction records and transform it to result [OK]\n",
    "3) Price should be normalized to the first day of the trading period [Solved]\n"
   ]
  },
  {
   "cell_type": "markdown",
   "metadata": {},
   "source": []
  }
 ],
 "metadata": {
  "kernelspec": {
   "display_name": "Python 3",
   "language": "python",
   "name": "python3"
  },
  "language_info": {
   "codemirror_mode": {
    "name": "ipython",
    "version": 3
   },
   "file_extension": ".py",
   "mimetype": "text/x-python",
   "name": "python",
   "nbconvert_exporter": "python",
   "pygments_lexer": "ipython3",
   "version": "3.9.13"
  },
  "orig_nbformat": 4
 },
 "nbformat": 4,
 "nbformat_minor": 2
}
