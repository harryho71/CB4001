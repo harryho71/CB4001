{
 "cells": [
  {
   "cell_type": "code",
   "execution_count": 93,
   "metadata": {},
   "outputs": [],
   "source": [
    "import pandas as pd\n",
    "from datetime import timedelta\n",
    "import numpy as np\n",
    "from dateutil.relativedelta import *\n",
    "from collections import defaultdict"
   ]
  },
  {
   "cell_type": "markdown",
   "metadata": {},
   "source": [
    "### Import Data"
   ]
  },
  {
   "cell_type": "code",
   "execution_count": 94,
   "metadata": {},
   "outputs": [],
   "source": [
    "# Get historical crypto market cap rank data\n",
    "cryptoMarketCapRankDf = pd.read_csv('data\\CryptoMarketCap.csv')\n",
    "cryptoMarketCapRankDf['Date'] = pd.to_datetime(cryptoMarketCapRankDf['Date'])"
   ]
  },
  {
   "cell_type": "code",
   "execution_count": 95,
   "metadata": {},
   "outputs": [],
   "source": [
    "# Get historical crypto price data\n",
    "cryptoPriceDf = pd.read_csv('data\\TradingViewCryptoPrice.csv', index_col=0)\n",
    "cryptoPriceDf.index = pd.to_datetime(cryptoPriceDf.index)"
   ]
  },
  {
   "cell_type": "markdown",
   "metadata": {},
   "source": [
    "### Formation Period"
   ]
  },
  {
   "cell_type": "code",
   "execution_count": 96,
   "metadata": {},
   "outputs": [],
   "source": [
    "# Formation period paramenter\n",
    "cutoffDate = '2023-01-01'\n",
    "cutoffRank = 100"
   ]
  },
  {
   "cell_type": "code",
   "execution_count": 97,
   "metadata": {},
   "outputs": [],
   "source": [
    "# Get formation period sample crypto list\n",
    "marketCapCutoffDate = pd.to_datetime(cutoffDate) - timedelta(days=1)\n",
    "sampleCrypto = cryptoMarketCapRankDf[(cryptoMarketCapRankDf['Date'] == marketCapCutoffDate) & (cryptoMarketCapRankDf['Rank'] <= cutoffRank)]\n",
    "sampleCrypto = list(sampleCrypto['Symbol'])"
   ]
  },
  {
   "cell_type": "code",
   "execution_count": 98,
   "metadata": {},
   "outputs": [
    {
     "name": "stdout",
     "output_type": "stream",
     "text": [
      "Remaining number of crpyto:  82\n"
     ]
    }
   ],
   "source": [
    "# Fliter the crypto with formation period and availiablity of crpyto price\n",
    "sampleCryptoPrice = cryptoPriceDf.loc[pd.to_datetime(cutoffDate) + relativedelta(months=-12): marketCapCutoffDate]\n",
    "sampleCrypto = set(sampleCrypto).intersection([x[7:-3] for x in sampleCryptoPrice.columns])\n",
    "\n",
    "# Data Cleaning\n",
    "sampleCryptoPrice = sampleCryptoPrice[[\"CRYPTO:\" + x + \"USD\" for x in sampleCrypto]]\n",
    "sampleCryptoPrice = sampleCryptoPrice.ffill(axis=0)\n",
    "sampleCryptoPrice = sampleCryptoPrice.dropna(axis=1)\n",
    "\n",
    "print('Remaining number of crpyto: ', len(sampleCryptoPrice.columns))"
   ]
  },
  {
   "cell_type": "markdown",
   "metadata": {},
   "source": [
    "#### Distance Method"
   ]
  },
  {
   "cell_type": "code",
   "execution_count": 99,
   "metadata": {},
   "outputs": [],
   "source": [
    "# Normalized the log price\n",
    "sampleCryptoLogPrice = np.log(sampleCryptoPrice)\n",
    "sampleCryptoNormalizedLogPrice = (sampleCryptoLogPrice - sampleCryptoLogPrice.mean())/sampleCryptoLogPrice.std()"
   ]
  },
  {
   "cell_type": "code",
   "execution_count": 100,
   "metadata": {},
   "outputs": [],
   "source": [
    "# SSD calculation for each pair\n",
    "SSDResults = []\n",
    "for i in range(len(sampleCryptoNormalizedLogPrice.columns)):\n",
    "    for j in range(i+1, len(sampleCryptoNormalizedLogPrice.columns)):\n",
    "        SSD = ((sampleCryptoNormalizedLogPrice[sampleCryptoNormalizedLogPrice.columns[i]] - sampleCryptoNormalizedLogPrice[sampleCryptoNormalizedLogPrice.columns[j]]) ** 2).sum()\n",
    "        SSDResults.append([sampleCryptoNormalizedLogPrice.columns[i], sampleCryptoNormalizedLogPrice.columns[j], SSD])"
   ]
  },
  {
   "cell_type": "code",
   "execution_count": 101,
   "metadata": {},
   "outputs": [
    {
     "data": {
      "text/html": [
       "<div>\n",
       "<style scoped>\n",
       "    .dataframe tbody tr th:only-of-type {\n",
       "        vertical-align: middle;\n",
       "    }\n",
       "\n",
       "    .dataframe tbody tr th {\n",
       "        vertical-align: top;\n",
       "    }\n",
       "\n",
       "    .dataframe thead th {\n",
       "        text-align: right;\n",
       "    }\n",
       "</style>\n",
       "<table border=\"1\" class=\"dataframe\">\n",
       "  <thead>\n",
       "    <tr style=\"text-align: right;\">\n",
       "      <th></th>\n",
       "      <th>Crypto 1</th>\n",
       "      <th>Crypto 2</th>\n",
       "      <th>SSD</th>\n",
       "    </tr>\n",
       "  </thead>\n",
       "  <tbody>\n",
       "    <tr>\n",
       "      <th>2932</th>\n",
       "      <td>CRYPTO:WBTCUSD</td>\n",
       "      <td>CRYPTO:BTCUSD</td>\n",
       "      <td>0.165664</td>\n",
       "    </tr>\n",
       "    <tr>\n",
       "      <th>999</th>\n",
       "      <td>CRYPTO:SANDUSD</td>\n",
       "      <td>CRYPTO:ENJUSD</td>\n",
       "      <td>4.186039</td>\n",
       "    </tr>\n",
       "    <tr>\n",
       "      <th>485</th>\n",
       "      <td>CRYPTO:XEMUSD</td>\n",
       "      <td>CRYPTO:AVAXUSD</td>\n",
       "      <td>4.266660</td>\n",
       "    </tr>\n",
       "    <tr>\n",
       "      <th>1159</th>\n",
       "      <td>CRYPTO:1INCHUSD</td>\n",
       "      <td>CRYPTO:DOTUSD</td>\n",
       "      <td>5.173343</td>\n",
       "    </tr>\n",
       "    <tr>\n",
       "      <th>1819</th>\n",
       "      <td>CRYPTO:FILUSD</td>\n",
       "      <td>CRYPTO:DOTUSD</td>\n",
       "      <td>5.276612</td>\n",
       "    </tr>\n",
       "    <tr>\n",
       "      <th>...</th>\n",
       "      <td>...</td>\n",
       "      <td>...</td>\n",
       "      <td>...</td>\n",
       "    </tr>\n",
       "    <tr>\n",
       "      <th>206</th>\n",
       "      <td>CRYPTO:XTZUSD</td>\n",
       "      <td>CRYPTO:TWTUSD</td>\n",
       "      <td>1165.157620</td>\n",
       "    </tr>\n",
       "    <tr>\n",
       "      <th>1271</th>\n",
       "      <td>CRYPTO:KCSUSD</td>\n",
       "      <td>CRYPTO:TWTUSD</td>\n",
       "      <td>1180.497630</td>\n",
       "    </tr>\n",
       "    <tr>\n",
       "      <th>2767</th>\n",
       "      <td>CRYPTO:TWTUSD</td>\n",
       "      <td>CRYPTO:SOLUSD</td>\n",
       "      <td>1187.711354</td>\n",
       "    </tr>\n",
       "    <tr>\n",
       "      <th>941</th>\n",
       "      <td>CRYPTO:MANAUSD</td>\n",
       "      <td>CRYPTO:TWTUSD</td>\n",
       "      <td>1188.185045</td>\n",
       "    </tr>\n",
       "    <tr>\n",
       "      <th>838</th>\n",
       "      <td>CRYPTO:OKBUSD</td>\n",
       "      <td>CRYPTO:USDTUSD</td>\n",
       "      <td>1200.342650</td>\n",
       "    </tr>\n",
       "  </tbody>\n",
       "</table>\n",
       "<p>3321 rows × 3 columns</p>\n",
       "</div>"
      ],
      "text/plain": [
       "             Crypto 1        Crypto 2          SSD\n",
       "2932   CRYPTO:WBTCUSD   CRYPTO:BTCUSD     0.165664\n",
       "999    CRYPTO:SANDUSD   CRYPTO:ENJUSD     4.186039\n",
       "485     CRYPTO:XEMUSD  CRYPTO:AVAXUSD     4.266660\n",
       "1159  CRYPTO:1INCHUSD   CRYPTO:DOTUSD     5.173343\n",
       "1819    CRYPTO:FILUSD   CRYPTO:DOTUSD     5.276612\n",
       "...               ...             ...          ...\n",
       "206     CRYPTO:XTZUSD   CRYPTO:TWTUSD  1165.157620\n",
       "1271    CRYPTO:KCSUSD   CRYPTO:TWTUSD  1180.497630\n",
       "2767    CRYPTO:TWTUSD   CRYPTO:SOLUSD  1187.711354\n",
       "941    CRYPTO:MANAUSD   CRYPTO:TWTUSD  1188.185045\n",
       "838     CRYPTO:OKBUSD  CRYPTO:USDTUSD  1200.342650\n",
       "\n",
       "[3321 rows x 3 columns]"
      ]
     },
     "execution_count": 101,
     "metadata": {},
     "output_type": "execute_result"
    }
   ],
   "source": [
    "# Print out the SSD results\n",
    "SSDResults = pd.DataFrame(SSDResults, columns=['Crypto 1', 'Crypto 2', 'SSD'])\n",
    "SSDResults = SSDResults.sort_values('SSD', ascending=True)\n",
    "SSDResults = SSDResults.reindex()\n",
    "SSDResults"
   ]
  },
  {
   "cell_type": "markdown",
   "metadata": {},
   "source": [
    "### Trading Period"
   ]
  },
  {
   "cell_type": "code",
   "execution_count": 102,
   "metadata": {},
   "outputs": [],
   "source": [
    "noTradingPairs = 50\n",
    "spreadThreshold = 2.5\n",
    "closeThreshold = 0"
   ]
  },
  {
   "cell_type": "code",
   "execution_count": 103,
   "metadata": {},
   "outputs": [],
   "source": [
    "TransactionRecords = pd.DataFrame(columns=['Date', 'Crypto', 'Long/Short', 'Price', \"Open/Close\", \"Transaction pair\", \"Round Trip No.\", \"Pair No.\"])\n",
    "SpreadRecords = pd.DataFrame()\n",
    "PairNo = 0\n",
    "\n",
    "# get trading crpyto price\n",
    "tradingCryptoPrice = cryptoPriceDf.loc[pd.to_datetime(cutoffDate): pd.to_datetime(cutoffDate) + relativedelta(days=59)]\n",
    "logTradingCryptoPrice = np.log(tradingCryptoPrice)\n",
    "\n",
    "for i in range(noTradingPairs):\n",
    "    \n",
    "    # parameter\n",
    "    crypto1 = SSDResults.loc[i, 'Crypto 1']\n",
    "    crypto2 = SSDResults.loc[i, 'Crypto 2']\n",
    "    crypto1Mean = sampleCryptoLogPrice.mean()[crypto1]\n",
    "    crypto2Mean = sampleCryptoLogPrice.mean()[crypto2]\n",
    "    crypto1SD = sampleCryptoLogPrice.std()[crypto1]\n",
    "    crypto2SD = sampleCryptoLogPrice.std()[crypto2]\n",
    "\n",
    "    # calculate spread\n",
    "    normalizedCrypto1LogPrice = (logTradingCryptoPrice[crypto1] - crypto1Mean)/crypto1SD\n",
    "    normalizedCrypto2LogPrice = (logTradingCryptoPrice[crypto2] - crypto2Mean)/crypto2SD\n",
    "    Spread = normalizedCrypto1LogPrice - normalizedCrypto2LogPrice\n",
    "\n",
    "    # check if there is any trading opportunity\n",
    "    if len(Spread[(Spread >= spreadThreshold) | (Spread <= -spreadThreshold)]) > 0:\n",
    "        \n",
    "        # save the spread records\n",
    "        Spread.name = crypto1 + \" \" + crypto2\n",
    "        SpreadRecords = SpreadRecords.merge(Spread, how='outer', left_index=True, right_index=True)\n",
    "\n",
    "        # initialize before the transaction\n",
    "        PairNo += 1\n",
    "        Spread.name = 'spread'\n",
    "        Spread = Spread.to_frame()\n",
    "        Spread['position'] = 0\n",
    "        RoundTripNo = 1\n",
    "\n",
    "        for date in Spread.index:\n",
    "            # When the trading date is not the last day\n",
    "            if date != (pd.to_datetime(cutoffDate) + relativedelta(days=59)):\n",
    "                \n",
    "                # continuous the position if the spread do not cross closeThreshold\n",
    "                if Spread.loc[date, 'position'] == -1 and Spread.loc[date, 'spread'] > closeThreshold:\n",
    "                    Spread.loc[date + relativedelta(days=1), 'position'] = -1\n",
    "                \n",
    "                # continuous the position if the spread do not cross closeThreshold\n",
    "                elif Spread.loc[date, 'position'] == 1 and Spread.loc[date, 'spread'] < closeThreshold:\n",
    "                    Spread.loc[date + relativedelta(days=1), 'position'] = 1\n",
    "                \n",
    "                # short crypto 1 and long crypto 2 if spread >= spreadThreshold\n",
    "                elif Spread.loc[date, 'spread'] >= spreadThreshold:\n",
    "                    Spread.loc[date + relativedelta(days=1), 'position'] = -1\n",
    "                    # Long/Short with tomorrow open price  i.e. today close price\n",
    "                    TransactionRecords.loc[len(TransactionRecords)] = [date + relativedelta(days=1), crypto1, \"Short\",  tradingCryptoPrice.loc[date, crypto1], \"Open\", crypto2, RoundTripNo, PairNo]\n",
    "                    TransactionRecords.loc[len(TransactionRecords)] = [date + relativedelta(days=1), crypto2, \"Long\",  tradingCryptoPrice.loc[date, crypto2], \"Open\", crypto1, RoundTripNo, PairNo]\n",
    "                \n",
    "                # long crypto 1 and short crypto 2 if spread <= -spreadThreshold\n",
    "                elif Spread.loc[date, 'spread'] <= -spreadThreshold:\n",
    "                    Spread.loc[date + relativedelta(days=1), 'position'] = 1\n",
    "                    # Long/Short with tomorrow open price  i.e. today close price\n",
    "                    TransactionRecords.loc[len(TransactionRecords)] = [date + relativedelta(days=1), crypto1, \"Long\",  tradingCryptoPrice.loc[date, crypto1], \"Open\", crypto2, RoundTripNo, PairNo]\n",
    "                    TransactionRecords.loc[len(TransactionRecords)] = [date + relativedelta(days=1), crypto2, \"Short\",  tradingCryptoPrice.loc[date, crypto2], \"Open\", crypto1, RoundTripNo, PairNo]\n",
    "                \n",
    "                # Close the position if the spread cross closeThreshold\n",
    "                elif Spread.loc[date, 'position'] == -1 and Spread.loc[date, 'spread'] <= closeThreshold:\n",
    "                    # Long/Short with today close price\n",
    "                    TransactionRecords.loc[len(TransactionRecords)] = [date, crypto1, \"Long\",  tradingCryptoPrice.loc[date, crypto1], \"Close\", crypto2, RoundTripNo, PairNo]\n",
    "                    TransactionRecords.loc[len(TransactionRecords)] = [date, crypto2, \"Short\",  tradingCryptoPrice.loc[date, crypto2], \"Close\", crypto1, RoundTripNo, PairNo]\n",
    "                    RoundTripNo += 1\n",
    "\n",
    "                elif Spread.loc[date, 'position'] == 1 and Spread.loc[date, 'spread'] >= closeThreshold:\n",
    "                    # Long/Short with today close price\n",
    "                    TransactionRecords.loc[len(TransactionRecords)] = [date, crypto1, \"Short\",  tradingCryptoPrice.loc[date, crypto1], \"Close\", crypto2, RoundTripNo, PairNo]\n",
    "                    TransactionRecords.loc[len(TransactionRecords)] = [date, crypto2, \"Long\",  tradingCryptoPrice.loc[date, crypto2], \"Close\", crypto1, RoundTripNo, PairNo]\n",
    "                    RoundTripNo += 1\n",
    "            \n",
    "            # For last day closing position\n",
    "            else:\n",
    "                if Spread.loc[date, 'position'] == -1:\n",
    "                    # Long/Short with today close price\n",
    "                    TransactionRecords.loc[len(TransactionRecords)] = [date, crypto1, \"Long\",  tradingCryptoPrice.loc[date, crypto1], \"Close\", crypto2, RoundTripNo, PairNo]\n",
    "                    TransactionRecords.loc[len(TransactionRecords)] = [date, crypto2, \"Short\",  tradingCryptoPrice.loc[date, crypto2], \"Close\", crypto1, RoundTripNo, PairNo]\n",
    "                    RoundTripNo += 1\n",
    "                elif Spread.loc[date, 'position'] == 1:\n",
    "                    # Long/Short with today close price\n",
    "                    TransactionRecords.loc[len(TransactionRecords)] = [date, crypto1, \"Short\",  tradingCryptoPrice.loc[date, crypto1], \"Close\", crypto2, RoundTripNo, PairNo]\n",
    "                    TransactionRecords.loc[len(TransactionRecords)] = [date, crypto2, \"Long\",  tradingCryptoPrice.loc[date, crypto2], \"Close\", crypto1, RoundTripNo, PairNo]\n",
    "                    RoundTripNo += 1\n",
    "        \n",
    "        # Spread[crypto1] = tradingCryptoPrice[crypto1]\n",
    "        # Spread[crypto2] = tradingCryptoPrice[crypto2]\n",
    "        # Spread[crypto1 + ' Log Return'] = (logTradingCryptoPrice[crypto1] - logTradingCryptoPrice[crypto1].shift(1)) * Spread['position']\n",
    "        # Spread[crypto2 + ' Log Return'] = (logTradingCryptoPrice[crypto2] - logTradingCryptoPrice[crypto2].shift(1)) * -Spread['position']\n",
    "        # Spread[crypto1 + ' cum Log Return'] = Spread[crypto1 + ' Log Return'].cumsum()\n",
    "        # Spread[crypto2 + ' cum Log Return'] = Spread[crypto2 + ' Log Return'].cumsum()\n",
    "\n",
    "        # print(crypto1)\n",
    "        # print(np.exp(Spread[crypto1 + ' cum Log Return'][-1])-1)\n",
    "        # print(crypto2)\n",
    "        # print(np.exp(Spread[crypto2 + ' cum Log Return'][-1])-1)\n",
    "        \n",
    "        # return calculation (short selling position incorrect if use log)\n",
    "\n",
    "        # short sell return is normal return calculation but add a negative sign to the return\n",
    "\n"
   ]
  },
  {
   "cell_type": "markdown",
   "metadata": {},
   "source": [
    "### Transform transaction records to Result"
   ]
  },
  {
   "cell_type": "code",
   "execution_count": 104,
   "metadata": {},
   "outputs": [],
   "source": [
    "result = pd.DataFrame(columns=['Pair No.', 'Round Trip No.', 'Start Date', 'End Date', 'crypto 1', 'crypto 2', 'crypto 1 return', 'crypto 2 return'])\n",
    "# loop each pair of transactions\n",
    "for i in range(1, TransactionRecords['Pair No.'].max() + 1):\n",
    "    pair = TransactionRecords[TransactionRecords['Pair No.'] == i]\n",
    "\n",
    "    # loop each Round Trip in pair\n",
    "    for j in range(1, pair['Round Trip No.'].max() + 1):\n",
    "        roundTrip = pair[pair['Round Trip No.'] == j]\n",
    "\n",
    "        returnResult = dict()\n",
    "\n",
    "        # loop each crypto in the round trip\n",
    "        for crypto in set(roundTrip['Crypto']):\n",
    "            \n",
    "            # prepare the specific round trip transaction record\n",
    "            record = roundTrip[roundTrip['Crypto'] == crypto]\n",
    "            record = record.reset_index(drop=True)\n",
    "\n",
    "            # Calculate the return of the specific round trip\n",
    "            returns = record['Price'][1] / record['Price'][0] - 1\n",
    "            if record['Long/Short'][0] == 'Short':\n",
    "                returns = -returns \n",
    "            \n",
    "            # Insert Record\n",
    "            if len(returnResult) == 0:\n",
    "                returnResult['Pair No.'] = i\n",
    "                returnResult['Round Trip No.'] = j\n",
    "                returnResult['Start Date'] = record['Date'][0]\n",
    "                returnResult['End Date'] = record['Date'][1]\n",
    "                returnResult['crypto 1'] = crypto\n",
    "                returnResult['crypto 1 return'] = returns\n",
    "            else:\n",
    "                returnResult['crypto 2'] = crypto\n",
    "                returnResult['crypto 2 return'] = returns\n",
    "\n",
    "        result.loc[len(result)] = returnResult  \n"
   ]
  },
  {
   "cell_type": "code",
   "execution_count": 105,
   "metadata": {},
   "outputs": [
    {
     "data": {
      "text/html": [
       "<div>\n",
       "<style scoped>\n",
       "    .dataframe tbody tr th:only-of-type {\n",
       "        vertical-align: middle;\n",
       "    }\n",
       "\n",
       "    .dataframe tbody tr th {\n",
       "        vertical-align: top;\n",
       "    }\n",
       "\n",
       "    .dataframe thead th {\n",
       "        text-align: right;\n",
       "    }\n",
       "</style>\n",
       "<table border=\"1\" class=\"dataframe\">\n",
       "  <thead>\n",
       "    <tr style=\"text-align: right;\">\n",
       "      <th></th>\n",
       "      <th>Pair No.</th>\n",
       "      <th>Round Trip No.</th>\n",
       "      <th>Start Date</th>\n",
       "      <th>End Date</th>\n",
       "      <th>crypto 1</th>\n",
       "      <th>crypto 2</th>\n",
       "      <th>crypto 1 return</th>\n",
       "      <th>crypto 2 return</th>\n",
       "      <th>Total Return</th>\n",
       "    </tr>\n",
       "  </thead>\n",
       "  <tbody>\n",
       "    <tr>\n",
       "      <th>0</th>\n",
       "      <td>1</td>\n",
       "      <td>1</td>\n",
       "      <td>2023-01-02</td>\n",
       "      <td>2023-03-01</td>\n",
       "      <td>CRYPTO:TUSDUSD</td>\n",
       "      <td>CRYPTO:XTZUSD</td>\n",
       "      <td>0.003591</td>\n",
       "      <td>0.672958</td>\n",
       "      <td>0.676550</td>\n",
       "    </tr>\n",
       "    <tr>\n",
       "      <th>1</th>\n",
       "      <td>2</td>\n",
       "      <td>1</td>\n",
       "      <td>2023-01-15</td>\n",
       "      <td>2023-03-01</td>\n",
       "      <td>CRYPTO:TUSDUSD</td>\n",
       "      <td>CRYPTO:OKBUSD</td>\n",
       "      <td>0.000205</td>\n",
       "      <td>-0.586354</td>\n",
       "      <td>-0.586149</td>\n",
       "    </tr>\n",
       "    <tr>\n",
       "      <th>2</th>\n",
       "      <td>3</td>\n",
       "      <td>1</td>\n",
       "      <td>2023-01-20</td>\n",
       "      <td>2023-01-21</td>\n",
       "      <td>CRYPTO:TUSDUSD</td>\n",
       "      <td>CRYPTO:USDCUSD</td>\n",
       "      <td>0.000163</td>\n",
       "      <td>0.000844</td>\n",
       "      <td>0.001008</td>\n",
       "    </tr>\n",
       "    <tr>\n",
       "      <th>3</th>\n",
       "      <td>3</td>\n",
       "      <td>2</td>\n",
       "      <td>2023-02-07</td>\n",
       "      <td>2023-02-07</td>\n",
       "      <td>CRYPTO:TUSDUSD</td>\n",
       "      <td>CRYPTO:USDCUSD</td>\n",
       "      <td>0.000892</td>\n",
       "      <td>0.001169</td>\n",
       "      <td>0.002061</td>\n",
       "    </tr>\n",
       "    <tr>\n",
       "      <th>4</th>\n",
       "      <td>4</td>\n",
       "      <td>1</td>\n",
       "      <td>2023-01-07</td>\n",
       "      <td>2023-02-02</td>\n",
       "      <td>CRYPTO:TUSDUSD</td>\n",
       "      <td>CRYPTO:USDDUSD</td>\n",
       "      <td>0.000599</td>\n",
       "      <td>0.025052</td>\n",
       "      <td>0.025651</td>\n",
       "    </tr>\n",
       "  </tbody>\n",
       "</table>\n",
       "</div>"
      ],
      "text/plain": [
       "   Pair No.  Round Trip No. Start Date   End Date        crypto 1  \\\n",
       "0         1               1 2023-01-02 2023-03-01  CRYPTO:TUSDUSD   \n",
       "1         2               1 2023-01-15 2023-03-01  CRYPTO:TUSDUSD   \n",
       "2         3               1 2023-01-20 2023-01-21  CRYPTO:TUSDUSD   \n",
       "3         3               2 2023-02-07 2023-02-07  CRYPTO:TUSDUSD   \n",
       "4         4               1 2023-01-07 2023-02-02  CRYPTO:TUSDUSD   \n",
       "\n",
       "         crypto 2  crypto 1 return  crypto 2 return  Total Return  \n",
       "0   CRYPTO:XTZUSD         0.003591         0.672958      0.676550  \n",
       "1   CRYPTO:OKBUSD         0.000205        -0.586354     -0.586149  \n",
       "2  CRYPTO:USDCUSD         0.000163         0.000844      0.001008  \n",
       "3  CRYPTO:USDCUSD         0.000892         0.001169      0.002061  \n",
       "4  CRYPTO:USDDUSD         0.000599         0.025052      0.025651  "
      ]
     },
     "execution_count": 105,
     "metadata": {},
     "output_type": "execute_result"
    }
   ],
   "source": [
    "# Remark: return can be more than -100% for the short selling position\n",
    "result['Total Return'] = result['crypto 1 return'] + result['crypto 2 return']\n",
    "result"
   ]
  },
  {
   "cell_type": "code",
   "execution_count": 106,
   "metadata": {},
   "outputs": [
    {
     "data": {
      "text/plain": [
       "0.023824099182591964"
      ]
     },
     "execution_count": 106,
     "metadata": {},
     "output_type": "execute_result"
    }
   ],
   "source": [
    "result['Total Return'].mean()"
   ]
  },
  {
   "cell_type": "markdown",
   "metadata": {},
   "source": [
    "### TO-DO list:\n",
    "1) create a time series chart (input pair No.) and show the pair daily return over the period and spread over the period (SpreadRecords)\n",
    "2) make a function to loop the above process each two months and return both the transaction records and transform it to result\n"
   ]
  }
 ],
 "metadata": {
  "kernelspec": {
   "display_name": "Python 3",
   "language": "python",
   "name": "python3"
  },
  "language_info": {
   "codemirror_mode": {
    "name": "ipython",
    "version": 3
   },
   "file_extension": ".py",
   "mimetype": "text/x-python",
   "name": "python",
   "nbconvert_exporter": "python",
   "pygments_lexer": "ipython3",
   "version": "3.9.13"
  },
  "orig_nbformat": 4
 },
 "nbformat": 4,
 "nbformat_minor": 2
}
