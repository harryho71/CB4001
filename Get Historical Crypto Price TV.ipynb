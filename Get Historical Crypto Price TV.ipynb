{
 "cells": [
  {
   "cell_type": "code",
   "execution_count": 4,
   "metadata": {},
   "outputs": [],
   "source": [
    "# https://investpy.readthedocs.io/index.html\n",
    "from tvDatafeed import TvDatafeed, Interval\n",
    "import pandas as pd\n",
    "import time"
   ]
  },
  {
   "cell_type": "code",
   "execution_count": 5,
   "metadata": {},
   "outputs": [
    {
     "name": "stderr",
     "output_type": "stream",
     "text": [
      "you are using nologin method, data you access may be limited\n"
     ]
    }
   ],
   "source": [
    "tv = TvDatafeed()"
   ]
  },
  {
   "cell_type": "code",
   "execution_count": 6,
   "metadata": {},
   "outputs": [],
   "source": [
    "# On-chain Data, Economic Data, Asset Price Data, Crypto Exchange Data, US Treasury Bond Yield, Leading Economic Data\n",
    "dataType = \"CB4001 Crpyto Price Data\"\n",
    "input = pd.read_excel(\"Symbol Input.xlsx\", sheet_name=dataType)"
   ]
  },
  {
   "cell_type": "code",
   "execution_count": 7,
   "metadata": {},
   "outputs": [
    {
     "data": {
      "text/html": [
       "<div>\n",
       "<style scoped>\n",
       "    .dataframe tbody tr th:only-of-type {\n",
       "        vertical-align: middle;\n",
       "    }\n",
       "\n",
       "    .dataframe tbody tr th {\n",
       "        vertical-align: top;\n",
       "    }\n",
       "\n",
       "    .dataframe thead th {\n",
       "        text-align: right;\n",
       "    }\n",
       "</style>\n",
       "<table border=\"1\" class=\"dataframe\">\n",
       "  <thead>\n",
       "    <tr style=\"text-align: right;\">\n",
       "      <th></th>\n",
       "      <th>Symbol</th>\n",
       "      <th>Exchange</th>\n",
       "      <th>Interval</th>\n",
       "      <th>n_bar</th>\n",
       "    </tr>\n",
       "  </thead>\n",
       "  <tbody>\n",
       "    <tr>\n",
       "      <th>0</th>\n",
       "      <td>CRYPTO:BTCUSD</td>\n",
       "      <td>CRYPTO</td>\n",
       "      <td>D</td>\n",
       "      <td>6000</td>\n",
       "    </tr>\n",
       "    <tr>\n",
       "      <th>1</th>\n",
       "      <td>CRYPTO:XRPUSD</td>\n",
       "      <td>CRYPTO</td>\n",
       "      <td>D</td>\n",
       "      <td>6000</td>\n",
       "    </tr>\n",
       "    <tr>\n",
       "      <th>2</th>\n",
       "      <td>CRYPTO:ETHUSD</td>\n",
       "      <td>CRYPTO</td>\n",
       "      <td>D</td>\n",
       "      <td>6000</td>\n",
       "    </tr>\n",
       "    <tr>\n",
       "      <th>3</th>\n",
       "      <td>CRYPTO:BCHUSD</td>\n",
       "      <td>CRYPTO</td>\n",
       "      <td>D</td>\n",
       "      <td>6000</td>\n",
       "    </tr>\n",
       "    <tr>\n",
       "      <th>4</th>\n",
       "      <td>CRYPTO:ADAUSD</td>\n",
       "      <td>CRYPTO</td>\n",
       "      <td>D</td>\n",
       "      <td>6000</td>\n",
       "    </tr>\n",
       "    <tr>\n",
       "      <th>...</th>\n",
       "      <td>...</td>\n",
       "      <td>...</td>\n",
       "      <td>...</td>\n",
       "      <td>...</td>\n",
       "    </tr>\n",
       "    <tr>\n",
       "      <th>838</th>\n",
       "      <td>CRYPTO:MNTUSD</td>\n",
       "      <td>CRYPTO</td>\n",
       "      <td>D</td>\n",
       "      <td>6000</td>\n",
       "    </tr>\n",
       "    <tr>\n",
       "      <th>839</th>\n",
       "      <td>CRYPTO:WLDUSD</td>\n",
       "      <td>CRYPTO</td>\n",
       "      <td>D</td>\n",
       "      <td>6000</td>\n",
       "    </tr>\n",
       "    <tr>\n",
       "      <th>840</th>\n",
       "      <td>CRYPTO:UNIBOTUSD</td>\n",
       "      <td>CRYPTO</td>\n",
       "      <td>D</td>\n",
       "      <td>6000</td>\n",
       "    </tr>\n",
       "    <tr>\n",
       "      <th>841</th>\n",
       "      <td>CRYPTO:POLYXUSD</td>\n",
       "      <td>CRYPTO</td>\n",
       "      <td>D</td>\n",
       "      <td>6000</td>\n",
       "    </tr>\n",
       "    <tr>\n",
       "      <th>842</th>\n",
       "      <td>CRYPTO:NYMUSD</td>\n",
       "      <td>CRYPTO</td>\n",
       "      <td>D</td>\n",
       "      <td>6000</td>\n",
       "    </tr>\n",
       "  </tbody>\n",
       "</table>\n",
       "<p>843 rows × 4 columns</p>\n",
       "</div>"
      ],
      "text/plain": [
       "               Symbol Exchange Interval  n_bar\n",
       "0       CRYPTO:BTCUSD   CRYPTO        D   6000\n",
       "1       CRYPTO:XRPUSD   CRYPTO        D   6000\n",
       "2       CRYPTO:ETHUSD   CRYPTO        D   6000\n",
       "3       CRYPTO:BCHUSD   CRYPTO        D   6000\n",
       "4       CRYPTO:ADAUSD   CRYPTO        D   6000\n",
       "..                ...      ...      ...    ...\n",
       "838     CRYPTO:MNTUSD   CRYPTO        D   6000\n",
       "839     CRYPTO:WLDUSD   CRYPTO        D   6000\n",
       "840  CRYPTO:UNIBOTUSD   CRYPTO        D   6000\n",
       "841   CRYPTO:POLYXUSD   CRYPTO        D   6000\n",
       "842     CRYPTO:NYMUSD   CRYPTO        D   6000\n",
       "\n",
       "[843 rows x 4 columns]"
      ]
     },
     "execution_count": 7,
     "metadata": {},
     "output_type": "execute_result"
    }
   ],
   "source": [
    "input"
   ]
  },
  {
   "cell_type": "code",
   "execution_count": 8,
   "metadata": {},
   "outputs": [],
   "source": [
    "intervalMap = {\n",
    "    \"1m\": Interval.in_1_minute,\n",
    "    \"3m\": Interval.in_3_minute,\n",
    "    \"5m\": Interval.in_5_minute,\n",
    "    \"15m\": Interval.in_15_minute,\n",
    "    \"30m\": Interval.in_30_minute,\n",
    "    \"45m\": Interval.in_45_minute,\n",
    "    \"1h\": Interval.in_1_hour,\n",
    "    \"2h\": Interval.in_2_hour,\n",
    "    \"3h\": Interval.in_3_hour,\n",
    "    \"4h\": Interval.in_4_hour,\n",
    "    \"D\": Interval.in_daily,\n",
    "    \"W\": Interval.in_weekly,\n",
    "    \"M\": Interval.in_monthly\n",
    "}"
   ]
  },
  {
   "cell_type": "code",
   "execution_count": 10,
   "metadata": {},
   "outputs": [
    {
     "name": "stdout",
     "output_type": "stream",
     "text": [
      "datetime\n",
      "2013-08-04 08:00:00    0.005927\n",
      "2013-08-05 08:00:00    0.005643\n",
      "2013-08-06 08:00:00    0.004692\n",
      "2013-08-07 08:00:00    0.004417\n",
      "2013-08-08 08:00:00    0.004254\n",
      "                         ...   \n",
      "2023-09-23 08:00:00    0.507720\n",
      "2023-09-24 08:00:00    0.502140\n",
      "2023-09-25 08:00:00    0.505360\n",
      "2023-09-26 08:00:00    0.501820\n",
      "2023-09-27 08:00:00    0.497070\n",
      "Name: close, Length: 3680, dtype: float64\n",
      "Index(['symbol', 'open', 'high', 'low', 'close', 'volume'], dtype='object')\n",
      "datetime\n",
      "2015-08-07 08:00:00       3.00000\n",
      "2015-08-08 08:00:00       1.19999\n",
      "2015-08-11 08:00:00       0.99000\n",
      "2015-08-12 08:00:00       1.28800\n",
      "2015-08-13 08:00:00       1.88480\n",
      "                          ...    \n",
      "2023-09-23 08:00:00    1593.79000\n",
      "2023-09-24 08:00:00    1580.85000\n",
      "2023-09-25 08:00:00    1588.06000\n",
      "2023-09-26 08:00:00    1593.16000\n",
      "2023-09-27 08:00:00    1591.45000\n",
      "Name: close, Length: 2969, dtype: float64\n",
      "Index(['symbol', 'open', 'high', 'low', 'close', 'volume'], dtype='object')\n",
      "datetime\n",
      "2017-07-23 08:00:00    551.10700\n",
      "2017-07-24 08:00:00    441.31800\n",
      "2017-07-25 08:00:00    401.38600\n",
      "2017-07-26 08:00:00    368.20600\n",
      "2017-07-27 08:00:00    412.67500\n",
      "                         ...    \n",
      "2023-09-23 08:00:00    208.09469\n",
      "2023-09-24 08:00:00    204.58380\n",
      "2023-09-25 08:00:00    210.30118\n",
      "2023-09-26 08:00:00    214.52612\n",
      "2023-09-27 08:00:00    214.92560\n",
      "Name: close, Length: 2254, dtype: float64\n",
      "Index(['symbol', 'open', 'high', 'low', 'close', 'volume'], dtype='object')\n",
      "datetime\n",
      "2017-10-01 08:00:00    0.021159\n",
      "2017-10-02 08:00:00    0.026152\n",
      "2017-10-03 08:00:00    0.021030\n",
      "2017-10-04 08:00:00    0.021840\n",
      "2017-10-05 08:00:00    0.021483\n",
      "                         ...   \n",
      "2023-09-23 08:00:00    0.246068\n",
      "2023-09-24 08:00:00    0.242765\n",
      "2023-09-25 08:00:00    0.245901\n",
      "2023-09-26 08:00:00    0.245496\n",
      "2023-09-27 08:00:00    0.244257\n",
      "Name: close, Length: 2188, dtype: float64\n",
      "Index(['symbol', 'open', 'high', 'low', 'close', 'volume'], dtype='object')\n",
      "datetime\n",
      "2013-10-24 08:00:00     3.000000\n",
      "2013-11-04 08:00:00     3.000000\n",
      "2013-11-07 08:00:00     3.200000\n",
      "2013-11-08 08:00:00     3.200000\n",
      "2013-11-13 08:00:00     5.000000\n",
      "                         ...    \n",
      "2023-09-23 08:00:00    65.093564\n",
      "2023-09-24 08:00:00    63.589565\n",
      "2023-09-25 08:00:00    64.319431\n",
      "2023-09-26 08:00:00    63.770531\n",
      "2023-09-27 08:00:00    63.811302\n",
      "Name: close, Length: 3440, dtype: float64\n",
      "Index(['symbol', 'open', 'high', 'low', 'close', 'volume'], dtype='object')\n",
      "datetime\n",
      "2017-06-13 08:00:00    0.580911\n",
      "2017-06-14 08:00:00    0.527174\n",
      "2017-06-15 08:00:00    0.386946\n",
      "2017-06-16 08:00:00    0.410631\n",
      "2017-06-17 08:00:00    0.444033\n",
      "                         ...   \n",
      "2023-09-23 08:00:00    0.151499\n",
      "2023-09-24 08:00:00    0.148525\n",
      "2023-09-25 08:00:00    0.150477\n",
      "2023-09-26 08:00:00    0.149254\n",
      "2023-09-27 08:00:00    0.148167\n",
      "Name: close, Length: 2298, dtype: float64\n",
      "Index(['symbol', 'open', 'high', 'low', 'close', 'volume'], dtype='object')\n",
      "datetime\n",
      "2021-06-27 08:00:00    0.112700\n",
      "2021-06-28 08:00:00    0.116700\n",
      "2021-06-29 08:00:00    0.128200\n",
      "2021-06-30 08:00:00    0.134400\n",
      "2021-07-01 08:00:00    0.128100\n",
      "                         ...   \n",
      "2023-09-23 08:00:00    0.026266\n",
      "2023-09-24 08:00:00    0.026103\n",
      "2023-09-25 08:00:00    0.025527\n",
      "2023-09-26 08:00:00    0.025238\n",
      "2023-09-27 08:00:00    0.025066\n",
      "Name: close, Length: 818, dtype: float64\n",
      "Index(['symbol', 'open', 'high', 'low', 'close', 'volume'], dtype='object')\n",
      "datetime\n",
      "2014-02-14 08:00:00     0.376380\n",
      "2014-02-15 08:00:00     0.317603\n",
      "2014-02-16 08:00:00     0.450050\n",
      "2014-02-17 08:00:00     1.494600\n",
      "2014-02-18 08:00:00     0.922929\n",
      "                         ...    \n",
      "2023-09-23 08:00:00    26.487522\n",
      "2023-09-24 08:00:00    26.138654\n",
      "2023-09-25 08:00:00    26.705462\n",
      "2023-09-26 08:00:00    26.290048\n",
      "2023-09-27 08:00:00    26.359155\n",
      "Name: close, Length: 3512, dtype: float64\n",
      "Index(['symbol', 'open', 'high', 'low', 'close', 'volume'], dtype='object')\n",
      "datetime\n",
      "2014-08-05 08:00:00    0.002440\n",
      "2014-08-06 08:00:00    0.002663\n",
      "2014-08-07 08:00:00    0.002515\n",
      "2014-08-08 08:00:00    0.003219\n",
      "2014-08-09 08:00:00    0.003504\n",
      "                         ...   \n",
      "2023-09-23 08:00:00    0.114173\n",
      "2023-09-24 08:00:00    0.112168\n",
      "2023-09-25 08:00:00    0.113008\n",
      "2023-09-26 08:00:00    0.111837\n",
      "2023-09-27 08:00:00    0.112358\n",
      "Name: close, Length: 3341, dtype: float64\n",
      "Index(['symbol', 'open', 'high', 'low', 'close', 'volume'], dtype='object')\n",
      "datetime\n",
      "2014-05-21 08:00:00      1.720220\n",
      "2014-05-22 08:00:00      2.141730\n",
      "2014-05-23 08:00:00      2.867430\n",
      "2014-05-24 08:00:00      3.695630\n",
      "2014-05-25 08:00:00      2.924050\n",
      "                          ...    \n",
      "2023-09-23 08:00:00    141.642549\n",
      "2023-09-24 08:00:00    143.739111\n",
      "2023-09-25 08:00:00    144.512780\n",
      "2023-09-26 08:00:00    144.808528\n",
      "2023-09-27 08:00:00    144.635638\n",
      "Name: close, Length: 3415, dtype: float64\n",
      "Index(['symbol', 'open', 'high', 'low', 'close', 'volume'], dtype='object')\n",
      "datetime\n",
      "2017-10-11 08:00:00    0.613426\n",
      "2017-10-12 08:00:00    0.586879\n",
      "2017-10-13 08:00:00    0.602266\n",
      "2017-10-14 08:00:00    0.582774\n",
      "2017-10-15 08:00:00    0.576890\n",
      "                         ...   \n",
      "2023-09-23 08:00:00    0.581696\n",
      "2023-09-24 08:00:00    0.571684\n",
      "2023-09-25 08:00:00    0.568686\n",
      "2023-09-26 08:00:00    0.561930\n",
      "2023-09-27 08:00:00    0.561119\n",
      "Name: close, Length: 2178, dtype: float64\n",
      "Index(['symbol', 'open', 'high', 'low', 'close', 'volume'], dtype='object')\n",
      "datetime\n",
      "2017-07-14 08:00:00    5.535158\n",
      "2017-07-15 08:00:00    4.948954\n",
      "2017-07-16 08:00:00    5.039008\n",
      "2017-07-17 08:00:00    5.936689\n",
      "2017-07-18 08:00:00    6.096753\n",
      "                         ...   \n",
      "2023-09-23 08:00:00    7.419776\n",
      "2023-09-24 08:00:00    7.239747\n",
      "2023-09-25 08:00:00    7.259816\n",
      "2023-09-26 08:00:00    7.191718\n",
      "2023-09-27 08:00:00    7.174710\n",
      "Name: close, Length: 2267, dtype: float64\n",
      "Index(['symbol', 'open', 'high', 'low', 'close', 'volume'], dtype='object')\n",
      "datetime\n",
      "2017-05-24 08:00:00    6.463013\n",
      "2017-05-25 08:00:00    4.758365\n",
      "2017-05-26 08:00:00    4.247228\n",
      "2017-05-27 08:00:00    4.515452\n",
      "2017-05-28 08:00:00    4.706136\n",
      "                         ...   \n",
      "2023-09-23 08:00:00    2.204023\n",
      "2023-09-24 08:00:00    2.164741\n",
      "2023-09-25 08:00:00    2.157486\n",
      "2023-09-26 08:00:00    2.113697\n",
      "2023-09-27 08:00:00    2.146408\n",
      "Name: close, Length: 2318, dtype: float64\n",
      "Index(['symbol', 'open', 'high', 'low', 'close', 'volume'], dtype='object')\n",
      "datetime\n",
      "2017-10-24 08:00:00    371.000000\n",
      "2017-10-25 08:00:00    219.450000\n",
      "2017-10-26 08:00:00    223.659999\n",
      "2017-10-27 08:00:00    210.000000\n",
      "2017-10-28 08:00:00    235.000000\n",
      "                          ...    \n",
      "2023-09-23 08:00:00     12.540800\n",
      "2023-09-24 08:00:00     12.654800\n",
      "2023-09-25 08:00:00     12.647500\n",
      "2023-09-26 08:00:00     12.466600\n",
      "2023-09-27 08:00:00     12.358300\n",
      "Name: close, Length: 1782, dtype: float64\n",
      "Index(['symbol', 'open', 'high', 'low', 'close', 'volume'], dtype='object')\n",
      "datetime\n",
      "2018-05-01 08:00:00    0.080450\n",
      "2018-05-02 08:00:00    0.080820\n",
      "2018-05-03 08:00:00    0.079500\n",
      "2018-05-04 08:00:00    0.079801\n",
      "2018-05-05 08:00:00    0.079847\n",
      "                         ...   \n",
      "2023-09-23 08:00:00    0.003307\n",
      "2023-09-24 08:00:00    0.003258\n",
      "2023-09-25 08:00:00    0.003335\n",
      "2023-09-26 08:00:00    0.003363\n",
      "2023-09-27 08:00:00    0.003319\n",
      "Name: close, Length: 1957, dtype: float64\n",
      "Index(['symbol', 'open', 'high', 'low', 'close', 'volume'], dtype='object')\n",
      "datetime\n",
      "2017-09-13 08:00:00    0.001994\n",
      "2017-09-14 08:00:00    0.001416\n",
      "2017-09-15 08:00:00    0.001803\n",
      "2017-09-16 08:00:00    0.001836\n",
      "2017-09-17 08:00:00    0.003333\n",
      "                         ...   \n",
      "2023-09-23 08:00:00    0.083656\n",
      "2023-09-24 08:00:00    0.083601\n",
      "2023-09-25 08:00:00    0.084548\n",
      "2023-09-26 08:00:00    0.084696\n",
      "2023-09-27 08:00:00    0.084967\n",
      "Name: close, Length: 2206, dtype: float64\n",
      "Index(['symbol', 'open', 'high', 'low', 'close', 'volume'], dtype='object')\n"
     ]
    },
    {
     "name": "stderr",
     "output_type": "stream",
     "text": [
      "ERROR:tvDatafeed.main:The read operation timed out\n",
      "ERROR:tvDatafeed.main:no data, please check the exchange and symbol\n"
     ]
    },
    {
     "name": "stdout",
     "output_type": "stream",
     "text": [
      "CRYPTO:NANOUSD\n",
      "datetime\n",
      "2016-07-24 08:00:00     0.927848\n",
      "2016-07-25 08:00:00     0.611105\n",
      "2016-07-26 08:00:00     2.636600\n",
      "2016-07-27 08:00:00     1.633340\n",
      "2016-07-28 08:00:00     1.726840\n",
      "                         ...    \n",
      "2023-09-23 08:00:00    15.262239\n",
      "2023-09-24 08:00:00    15.076687\n",
      "2023-09-25 08:00:00    15.206019\n",
      "2023-09-26 08:00:00    15.082030\n",
      "2023-09-27 08:00:00    15.084828\n",
      "Name: close, Length: 2622, dtype: float64\n",
      "Index(['symbol', 'open', 'high', 'low', 'close', 'volume'], dtype='object')\n"
     ]
    },
    {
     "name": "stderr",
     "output_type": "stream",
     "text": [
      "ERROR:tvDatafeed.main:The read operation timed out\n",
      "ERROR:tvDatafeed.main:no data, please check the exchange and symbol\n"
     ]
    },
    {
     "name": "stdout",
     "output_type": "stream",
     "text": [
      "CRYPTO:BCCUSD\n",
      "datetime\n",
      "2016-06-25 08:00:00    0.359147\n",
      "2016-06-26 08:00:00    0.330794\n",
      "2016-06-27 08:00:00    0.311459\n",
      "2016-06-28 08:00:00    0.292920\n",
      "2016-06-29 08:00:00    0.303096\n",
      "                         ...   \n",
      "2023-09-23 08:00:00    0.757500\n",
      "2023-09-24 08:00:00    0.742400\n",
      "2023-09-25 08:00:00    0.731230\n",
      "2023-09-26 08:00:00    0.723209\n",
      "2023-09-27 08:00:00    0.722822\n",
      "Name: close, Length: 2651, dtype: float64\n",
      "Index(['symbol', 'open', 'high', 'low', 'close', 'volume'], dtype='object')\n",
      "datetime\n",
      "2017-07-14 08:00:00    0.574437\n",
      "2017-07-15 08:00:00    0.446837\n",
      "2017-07-16 08:00:00    0.386081\n",
      "2017-07-17 08:00:00    0.586639\n",
      "2017-07-18 08:00:00    0.785702\n",
      "                         ...   \n",
      "2023-09-23 08:00:00    0.453341\n",
      "2023-09-24 08:00:00    0.455696\n",
      "2023-09-25 08:00:00    0.458772\n",
      "2023-09-26 08:00:00    0.459889\n",
      "2023-09-27 08:00:00    0.455198\n",
      "Name: close, Length: 2267, dtype: float64\n",
      "Index(['symbol', 'open', 'high', 'low', 'close', 'volume'], dtype='object')\n",
      "datetime\n",
      "2017-10-27 08:00:00    0.500025\n",
      "2017-10-28 08:00:00    0.477791\n",
      "2017-10-29 08:00:00    0.451945\n",
      "2017-10-30 08:00:00    0.564445\n",
      "2017-10-31 08:00:00    0.766090\n",
      "                         ...   \n",
      "2023-09-23 08:00:00    0.178645\n",
      "2023-09-24 08:00:00    0.174053\n",
      "2023-09-25 08:00:00    0.175446\n",
      "2023-09-26 08:00:00    0.170805\n",
      "2023-09-27 08:00:00    0.171172\n",
      "Name: close, Length: 2040, dtype: float64\n",
      "Index(['symbol', 'open', 'high', 'low', 'close', 'volume'], dtype='object')\n",
      "datetime\n",
      "2016-07-23 08:00:00    0.036913\n",
      "2016-07-24 08:00:00    0.042588\n",
      "2016-07-25 08:00:00    0.042056\n",
      "2016-07-26 08:00:00    0.041837\n",
      "2016-07-27 08:00:00    0.042131\n",
      "                         ...   \n",
      "2023-09-23 08:00:00    0.071521\n",
      "2023-09-24 08:00:00    0.067536\n",
      "2023-09-25 08:00:00    0.067771\n",
      "2023-09-26 08:00:00    0.066596\n",
      "2023-09-27 08:00:00    0.066784\n",
      "Name: close, Length: 2623, dtype: float64\n",
      "Index(['symbol', 'open', 'high', 'low', 'close', 'volume'], dtype='object')\n",
      "datetime\n",
      "2016-06-25 08:00:00    0.003759\n",
      "2016-06-26 08:00:00    0.003904\n",
      "2016-06-27 08:00:00    0.003979\n",
      "2016-06-28 08:00:00    0.004726\n",
      "2016-06-29 08:00:00    0.004878\n",
      "                         ...   \n",
      "2023-09-23 08:00:00    0.009078\n",
      "2023-09-24 08:00:00    0.009362\n",
      "2023-09-25 08:00:00    0.009126\n",
      "2023-09-26 08:00:00    0.009091\n",
      "2023-09-27 08:00:00    0.009071\n",
      "Name: close, Length: 2649, dtype: float64\n",
      "Index(['symbol', 'open', 'high', 'low', 'close', 'volume'], dtype='object')\n"
     ]
    },
    {
     "name": "stderr",
     "output_type": "stream",
     "text": [
      "ERROR:tvDatafeed.main:The read operation timed out\n",
      "ERROR:tvDatafeed.main:no data, please check the exchange and symbol\n"
     ]
    },
    {
     "name": "stdout",
     "output_type": "stream",
     "text": [
      "CRYPTO:PPTUSD\n",
      "datetime\n",
      "2016-10-29 08:00:00    2000.000420\n",
      "2016-10-30 08:00:00     650.000000\n",
      "2016-10-31 08:00:00    1600.000000\n",
      "2016-11-01 08:00:00    1400.000000\n",
      "2016-11-02 08:00:00    1000.000000\n",
      "                          ...     \n",
      "2023-09-23 08:00:00      26.565309\n",
      "2023-09-24 08:00:00      25.824156\n",
      "2023-09-25 08:00:00      26.090900\n",
      "2023-09-26 08:00:00      26.230258\n",
      "2023-09-27 08:00:00      26.048849\n",
      "Name: close, Length: 2524, dtype: float64\n",
      "Index(['symbol', 'open', 'high', 'low', 'close', 'volume'], dtype='object')\n",
      "datetime\n",
      "2015-02-25 08:00:00    1.211600\n",
      "2015-02-26 08:00:00    1.206340\n",
      "2015-03-02 08:00:00    0.606493\n",
      "2015-03-03 08:00:00    0.606229\n",
      "2015-03-06 08:00:00    1.000000\n",
      "                         ...   \n",
      "2023-09-23 08:00:00    1.002153\n",
      "2023-09-24 08:00:00    1.000377\n",
      "2023-09-25 08:00:00    1.000708\n",
      "2023-09-26 08:00:00    1.000395\n",
      "2023-09-27 08:00:00    1.000252\n",
      "Name: close, Length: 3132, dtype: float64\n",
      "Index(['symbol', 'open', 'high', 'low', 'close', 'volume'], dtype='object')\n"
     ]
    },
    {
     "name": "stderr",
     "output_type": "stream",
     "text": [
      "ERROR:tvDatafeed.main:The read operation timed out\n",
      "ERROR:tvDatafeed.main:no data, please check the exchange and symbol\n"
     ]
    },
    {
     "name": "stdout",
     "output_type": "stream",
     "text": [
      "CRYPTO:STRATUSD\n",
      "datetime\n",
      "2016-06-25 08:00:00    0.210212\n",
      "2016-06-26 08:00:00    0.168854\n",
      "2016-06-27 08:00:00    0.176393\n",
      "2016-06-28 08:00:00    0.146944\n",
      "2016-06-29 08:00:00    0.146187\n",
      "                         ...   \n",
      "2023-09-23 08:00:00    1.576661\n",
      "2023-09-24 08:00:00    1.533063\n",
      "2023-09-25 08:00:00    1.533483\n",
      "2023-09-26 08:00:00    1.518855\n",
      "2023-09-27 08:00:00    1.517105\n",
      "Name: close, Length: 2651, dtype: float64\n",
      "Index(['symbol', 'open', 'high', 'low', 'close', 'volume'], dtype='object')\n"
     ]
    },
    {
     "name": "stderr",
     "output_type": "stream",
     "text": [
      "ERROR:tvDatafeed.main:The read operation timed out\n",
      "ERROR:tvDatafeed.main:no data, please check the exchange and symbol\n"
     ]
    },
    {
     "name": "stdout",
     "output_type": "stream",
     "text": [
      "CRYPTO:HCUSD\n"
     ]
    },
    {
     "name": "stderr",
     "output_type": "stream",
     "text": [
      "ERROR:tvDatafeed.main:The read operation timed out\n",
      "ERROR:tvDatafeed.main:no data, please check the exchange and symbol\n"
     ]
    },
    {
     "name": "stdout",
     "output_type": "stream",
     "text": [
      "CRYPTO:BCNUSD\n",
      "datetime\n",
      "2017-02-05 08:00:00    0.114187\n",
      "2017-02-06 08:00:00    0.155288\n",
      "2017-02-07 08:00:00    0.147895\n",
      "2017-02-08 08:00:00    0.140270\n",
      "2017-02-09 08:00:00    0.120312\n",
      "                         ...   \n",
      "2023-09-23 08:00:00    0.232366\n",
      "2023-09-24 08:00:00    0.222713\n",
      "2023-09-25 08:00:00    0.221984\n",
      "2023-09-26 08:00:00    0.218929\n",
      "2023-09-27 08:00:00    0.219742\n",
      "Name: close, Length: 2426, dtype: float64\n",
      "Index(['symbol', 'open', 'high', 'low', 'close', 'volume'], dtype='object')\n",
      "datetime\n",
      "2013-12-15 08:00:00    0.000902\n",
      "2013-12-16 08:00:00    0.000234\n",
      "2013-12-17 08:00:00    0.000267\n",
      "2013-12-18 08:00:00    0.000332\n",
      "2013-12-19 08:00:00    0.001171\n",
      "                         ...   \n",
      "2023-09-23 08:00:00    0.061464\n",
      "2023-09-24 08:00:00    0.060702\n",
      "2023-09-25 08:00:00    0.060953\n",
      "2023-09-26 08:00:00    0.060555\n",
      "2023-09-27 08:00:00    0.060461\n",
      "Name: close, Length: 3574, dtype: float64\n",
      "Index(['symbol', 'open', 'high', 'low', 'close', 'volume'], dtype='object')\n",
      "datetime\n",
      "2018-04-23 08:00:00    0.021450\n",
      "2018-04-24 08:00:00    0.021800\n",
      "2018-04-25 08:00:00    0.019250\n",
      "2018-04-26 08:00:00    0.027349\n",
      "2018-04-27 08:00:00    0.028410\n",
      "                         ...   \n",
      "2023-09-23 08:00:00    0.003080\n",
      "2023-09-24 08:00:00    0.002950\n",
      "2023-09-25 08:00:00    0.002905\n",
      "2023-09-26 08:00:00    0.002920\n",
      "2023-09-27 08:00:00    0.002960\n",
      "Name: close, Length: 1980, dtype: float64\n",
      "Index(['symbol', 'open', 'high', 'low', 'close', 'volume'], dtype='object')\n",
      "datetime\n",
      "2017-07-14 08:00:00      0.085741\n",
      "2017-07-15 08:00:00      0.074864\n",
      "2017-07-16 08:00:00      0.074783\n",
      "2017-07-17 08:00:00      0.090186\n",
      "2017-07-18 08:00:00      0.086503\n",
      "                          ...    \n",
      "2023-09-23 08:00:00    210.406162\n",
      "2023-09-24 08:00:00    208.210000\n",
      "2023-09-25 08:00:00    209.810635\n",
      "2023-09-26 08:00:00    212.352203\n",
      "2023-09-27 08:00:00    212.636438\n",
      "Name: close, Length: 2267, dtype: float64\n",
      "Index(['symbol', 'open', 'high', 'low', 'close', 'volume'], dtype='object')\n",
      "datetime\n",
      "2017-06-28 08:00:00    0.057537\n",
      "2017-06-29 08:00:00    0.052241\n",
      "2017-06-30 08:00:00    0.044371\n",
      "2017-07-01 08:00:00    0.044064\n",
      "2017-07-02 08:00:00    0.042852\n",
      "                         ...   \n",
      "2023-09-23 08:00:00    0.023369\n",
      "2023-09-24 08:00:00    0.022545\n",
      "2023-09-25 08:00:00    0.022566\n",
      "2023-09-26 08:00:00    0.022429\n",
      "2023-09-27 08:00:00    0.022561\n",
      "Name: close, Length: 2283, dtype: float64\n",
      "Index(['symbol', 'open', 'high', 'low', 'close', 'volume'], dtype='object')\n",
      "datetime\n",
      "2015-10-27 08:00:00    1.46851\n",
      "2015-10-28 08:00:00    1.52483\n",
      "2015-10-29 08:00:00    1.62301\n",
      "2015-10-30 08:00:00    1.69627\n",
      "2015-10-31 08:00:00    1.56906\n",
      "                        ...   \n",
      "2023-09-23 08:00:00    0.70740\n",
      "2023-09-24 08:00:00    0.63950\n",
      "2023-09-25 08:00:00    0.60210\n",
      "2023-09-26 08:00:00    0.66800\n",
      "2023-09-27 08:00:00    0.62070\n",
      "Name: close, Length: 2793, dtype: float64\n",
      "Index(['symbol', 'open', 'high', 'low', 'close', 'volume'], dtype='object')\n",
      "datetime\n",
      "2016-06-25 08:00:00    0.228463\n",
      "2016-06-26 08:00:00    0.206440\n",
      "2016-06-27 08:00:00    0.207501\n",
      "2016-06-28 08:00:00    0.235019\n",
      "2016-06-29 08:00:00    0.228492\n",
      "                         ...   \n",
      "2023-09-23 08:00:00    0.175746\n",
      "2023-09-24 08:00:00    0.175986\n",
      "2023-09-25 08:00:00    0.172798\n",
      "2023-09-26 08:00:00    0.166148\n",
      "2023-09-27 08:00:00    0.168804\n",
      "Name: close, Length: 2651, dtype: float64\n",
      "Index(['symbol', 'open', 'high', 'low', 'close', 'volume'], dtype='object')\n"
     ]
    },
    {
     "name": "stderr",
     "output_type": "stream",
     "text": [
      "ERROR:tvDatafeed.main:The read operation timed out\n",
      "ERROR:tvDatafeed.main:no data, please check the exchange and symbol\n"
     ]
    },
    {
     "name": "stdout",
     "output_type": "stream",
     "text": [
      "CRYPTO:NXTUSD\n"
     ]
    },
    {
     "name": "stderr",
     "output_type": "stream",
     "text": [
      "ERROR:tvDatafeed.main:The read operation timed out\n",
      "ERROR:tvDatafeed.main:no data, please check the exchange and symbol\n"
     ]
    },
    {
     "name": "stdout",
     "output_type": "stream",
     "text": [
      "CRYPTO:GNTUSD\n"
     ]
    },
    {
     "name": "stderr",
     "output_type": "stream",
     "text": [
      "ERROR:tvDatafeed.main:The read operation timed out\n",
      "ERROR:tvDatafeed.main:no data, please check the exchange and symbol\n"
     ]
    },
    {
     "name": "stdout",
     "output_type": "stream",
     "text": [
      "CRYPTO:SALTUSD\n",
      "datetime\n",
      "2017-03-21 08:00:00    0.030625\n",
      "2017-03-22 08:00:00    0.033599\n",
      "2017-03-23 08:00:00    0.055870\n",
      "2017-03-24 08:00:00    0.065154\n",
      "2017-03-25 08:00:00    0.090270\n",
      "                         ...   \n",
      "2023-09-23 08:00:00    0.592057\n",
      "2023-09-24 08:00:00    0.491043\n",
      "2023-09-25 08:00:00    0.520000\n",
      "2023-09-26 08:00:00    0.551100\n",
      "2023-09-27 08:00:00    0.533800\n",
      "Name: close, Length: 2381, dtype: float64\n",
      "Index(['symbol', 'open', 'high', 'low', 'close', 'volume'], dtype='object')\n"
     ]
    },
    {
     "name": "stderr",
     "output_type": "stream",
     "text": [
      "ERROR:tvDatafeed.main:The read operation timed out\n",
      "ERROR:tvDatafeed.main:no data, please check the exchange and symbol\n"
     ]
    },
    {
     "name": "stdout",
     "output_type": "stream",
     "text": [
      "CRYPTO:VERIUSD\n",
      "datetime\n",
      "2020-06-22 08:00:00    0.021025\n",
      "2020-06-23 08:00:00    0.020207\n",
      "2020-06-24 08:00:00    0.018854\n",
      "2020-06-25 08:00:00    0.019217\n",
      "2020-06-26 08:00:00    0.018676\n",
      "                         ...   \n",
      "2023-09-23 08:00:00    0.006381\n",
      "2023-09-24 08:00:00    0.006305\n",
      "2023-09-25 08:00:00    0.006310\n",
      "2023-09-26 08:00:00    0.006293\n",
      "2023-09-27 08:00:00    0.006300\n",
      "Name: close, Length: 1193, dtype: float64\n",
      "Index(['symbol', 'open', 'high', 'low', 'close', 'volume'], dtype='object')\n"
     ]
    },
    {
     "name": "stderr",
     "output_type": "stream",
     "text": [
      "ERROR:tvDatafeed.main:The read operation timed out\n",
      "ERROR:tvDatafeed.main:no data, please check the exchange and symbol\n"
     ]
    },
    {
     "name": "stdout",
     "output_type": "stream",
     "text": [
      "CRYPTO:VENUSD\n",
      "datetime\n",
      "2016-06-25 08:00:00     1.671225\n",
      "2016-06-26 08:00:00     1.568958\n",
      "2016-06-27 08:00:00     2.010090\n",
      "2016-06-28 08:00:00     1.874198\n",
      "2016-06-29 08:00:00     2.039523\n",
      "                         ...    \n",
      "2023-09-23 08:00:00    13.080568\n",
      "2023-09-24 08:00:00    13.446446\n",
      "2023-09-25 08:00:00    13.481097\n",
      "2023-09-26 08:00:00    13.455773\n",
      "2023-09-27 08:00:00    13.387643\n",
      "Name: close, Length: 2651, dtype: float64\n",
      "Index(['symbol', 'open', 'high', 'low', 'close', 'volume'], dtype='object')\n",
      "datetime\n",
      "2016-06-25 08:00:00    0.002523\n",
      "2016-06-26 08:00:00    0.002568\n",
      "2016-06-27 08:00:00    0.002643\n",
      "2016-06-28 08:00:00    0.002661\n",
      "2016-06-29 08:00:00    0.003039\n",
      "                         ...   \n",
      "2023-09-23 08:00:00    0.173078\n",
      "2023-09-24 08:00:00    0.172024\n",
      "2023-09-25 08:00:00    0.176192\n",
      "2023-09-26 08:00:00    0.180762\n",
      "2023-09-27 08:00:00    0.183434\n",
      "Name: close, Length: 2651, dtype: float64\n",
      "Index(['symbol', 'open', 'high', 'low', 'close', 'volume'], dtype='object')\n",
      "datetime\n",
      "2021-06-27 08:00:00    1.316500\n",
      "2021-06-28 08:00:00    1.374700\n",
      "2021-06-29 08:00:00    1.477900\n",
      "2021-06-30 08:00:00    1.449500\n",
      "2021-07-01 08:00:00    1.396700\n",
      "                         ...   \n",
      "2023-09-18 08:00:00    0.433562\n",
      "2023-09-20 08:00:00    0.439725\n",
      "2023-09-25 08:00:00    0.394083\n",
      "2023-09-26 08:00:00    0.402881\n",
      "2023-09-27 08:00:00    0.404790\n",
      "Name: close, Length: 815, dtype: float64\n",
      "Index(['symbol', 'open', 'high', 'low', 'close', 'volume'], dtype='object')\n"
     ]
    },
    {
     "name": "stderr",
     "output_type": "stream",
     "text": [
      "ERROR:tvDatafeed.main:The read operation timed out\n",
      "ERROR:tvDatafeed.main:no data, please check the exchange and symbol\n"
     ]
    },
    {
     "name": "stdout",
     "output_type": "stream",
     "text": [
      "CRYPTO:FCTUSD\n",
      "datetime\n",
      "2021-08-23 08:00:00    0.395748\n",
      "2021-08-24 08:00:00    0.330651\n",
      "2021-08-25 08:00:00    0.347412\n",
      "2021-08-26 08:00:00    0.372995\n",
      "2021-08-27 08:00:00    0.386291\n",
      "                         ...   \n",
      "2023-09-23 08:00:00    0.042534\n",
      "2023-09-24 08:00:00    0.041541\n",
      "2023-09-25 08:00:00    0.040956\n",
      "2023-09-26 08:00:00    0.040313\n",
      "2023-09-27 08:00:00    0.039874\n",
      "Name: close, Length: 766, dtype: float64\n",
      "Index(['symbol', 'open', 'high', 'low', 'close', 'volume'], dtype='object')\n",
      "datetime\n",
      "2017-04-13 08:00:00     88.161961\n",
      "2017-04-14 08:00:00    100.683175\n",
      "2017-04-15 08:00:00    105.452885\n",
      "2017-04-16 08:00:00    111.608565\n",
      "2017-04-17 08:00:00    107.287488\n",
      "                          ...    \n",
      "2023-09-23 08:00:00      9.871005\n",
      "2023-09-24 08:00:00      9.774210\n",
      "2023-09-25 08:00:00      9.829873\n",
      "2023-09-26 08:00:00      9.956699\n",
      "2023-09-27 08:00:00     10.069443\n",
      "Name: close, Length: 2359, dtype: float64\n",
      "Index(['symbol', 'open', 'high', 'low', 'close', 'volume'], dtype='object')\n"
     ]
    },
    {
     "name": "stderr",
     "output_type": "stream",
     "text": [
      "ERROR:tvDatafeed.main:The read operation timed out\n",
      "ERROR:tvDatafeed.main:no data, please check the exchange and symbol\n"
     ]
    },
    {
     "name": "stdout",
     "output_type": "stream",
     "text": [
      "CRYPTO:ETNUSD\n"
     ]
    },
    {
     "name": "stderr",
     "output_type": "stream",
     "text": [
      "ERROR:tvDatafeed.main:The read operation timed out\n",
      "ERROR:tvDatafeed.main:no data, please check the exchange and symbol\n"
     ]
    },
    {
     "name": "stdout",
     "output_type": "stream",
     "text": [
      "CRYPTO:PAYUSD\n"
     ]
    },
    {
     "name": "stderr",
     "output_type": "stream",
     "text": [
      "ERROR:tvDatafeed.main:The read operation timed out\n",
      "ERROR:tvDatafeed.main:no data, please check the exchange and symbol\n"
     ]
    },
    {
     "name": "stdout",
     "output_type": "stream",
     "text": [
      "CRYPTO:MAIDUSD\n",
      "datetime\n",
      "2017-08-16 08:00:00    0.231294\n",
      "2017-08-17 08:00:00    0.209118\n",
      "2017-08-18 08:00:00    0.288239\n",
      "2017-08-19 08:00:00    0.489830\n",
      "2017-08-20 08:00:00    0.424679\n",
      "                         ...   \n",
      "2023-09-23 08:00:00    0.189193\n",
      "2023-09-24 08:00:00    0.184349\n",
      "2023-09-25 08:00:00    0.182887\n",
      "2023-09-26 08:00:00    0.182079\n",
      "2023-09-27 08:00:00    0.184563\n",
      "Name: close, Length: 2234, dtype: float64\n",
      "Index(['symbol', 'open', 'high', 'low', 'close', 'volume'], dtype='object')\n"
     ]
    },
    {
     "name": "stderr",
     "output_type": "stream",
     "text": [
      "ERROR:tvDatafeed.main:The read operation timed out\n",
      "ERROR:tvDatafeed.main:no data, please check the exchange and symbol\n"
     ]
    },
    {
     "name": "stdout",
     "output_type": "stream",
     "text": [
      "CRYPTO:XZCUSD\n"
     ]
    },
    {
     "name": "stderr",
     "output_type": "stream",
     "text": [
      "ERROR:tvDatafeed.main:The read operation timed out\n",
      "ERROR:tvDatafeed.main:no data, please check the exchange and symbol\n"
     ]
    },
    {
     "name": "stdout",
     "output_type": "stream",
     "text": [
      "CRYPTO:BTCDUSD\n",
      "datetime\n",
      "2017-06-01 08:00:00    0.172845\n",
      "2017-06-02 08:00:00    0.158115\n",
      "2017-06-03 08:00:00    0.167677\n",
      "2017-06-04 08:00:00    0.284725\n",
      "2017-06-05 08:00:00    0.293226\n",
      "                         ...   \n",
      "2023-09-23 08:00:00    0.176122\n",
      "2023-09-24 08:00:00    0.172116\n",
      "2023-09-25 08:00:00    0.171399\n",
      "2023-09-26 08:00:00    0.169345\n",
      "2023-09-27 08:00:00    0.167933\n",
      "Name: close, Length: 2310, dtype: float64\n",
      "Index(['symbol', 'open', 'high', 'low', 'close', 'volume'], dtype='object')\n",
      "datetime\n",
      "2021-09-24 08:00:00    0.312783\n",
      "2021-09-25 08:00:00    0.298629\n",
      "2021-09-26 08:00:00    0.311201\n",
      "2021-09-27 08:00:00    0.294761\n",
      "2021-09-28 08:00:00    0.274517\n",
      "                         ...   \n",
      "2023-09-23 08:00:00    0.083603\n",
      "2023-09-24 08:00:00    0.083540\n",
      "2023-09-25 08:00:00    0.085980\n",
      "2023-09-26 08:00:00    0.084436\n",
      "2023-09-27 08:00:00    0.084222\n",
      "Name: close, Length: 734, dtype: float64\n",
      "Index(['symbol', 'open', 'high', 'low', 'close', 'volume'], dtype='object')\n",
      "datetime\n",
      "2017-10-20 08:00:00    0.060456\n",
      "2017-10-21 08:00:00    0.052890\n",
      "2017-10-22 08:00:00    0.051475\n",
      "2017-10-23 08:00:00    0.051206\n",
      "2017-10-24 08:00:00    0.041908\n",
      "                         ...   \n",
      "2023-09-23 08:00:00    0.064500\n",
      "2023-09-24 08:00:00    0.063800\n",
      "2023-09-25 08:00:00    0.063666\n",
      "2023-09-26 08:00:00    0.062616\n",
      "2023-09-27 08:00:00    0.061980\n",
      "Name: close, Length: 2169, dtype: float64\n",
      "Index(['symbol', 'open', 'high', 'low', 'close', 'volume'], dtype='object')\n",
      "datetime\n",
      "2019-08-27 08:00:00    0.003028\n",
      "2019-08-28 08:00:00    0.002760\n",
      "2019-08-29 08:00:00    0.002454\n",
      "2019-08-30 08:00:00    0.002503\n",
      "2019-08-31 08:00:00    0.002695\n",
      "                         ...   \n",
      "2023-09-23 08:00:00    0.003909\n",
      "2023-09-24 08:00:00    0.003967\n",
      "2023-09-25 08:00:00    0.003929\n",
      "2023-09-26 08:00:00    0.003881\n",
      "2023-09-27 08:00:00    0.003868\n",
      "Name: close, Length: 1493, dtype: float64\n",
      "Index(['symbol', 'open', 'high', 'low', 'close', 'volume'], dtype='object')\n",
      "datetime\n",
      "2017-11-01 08:00:00    0.054692\n",
      "2017-11-02 08:00:00    0.115903\n",
      "2017-11-03 08:00:00    0.105635\n",
      "2017-11-04 08:00:00    0.126886\n",
      "2017-11-05 08:00:00    0.161136\n",
      "                         ...   \n",
      "2023-09-23 08:00:00    0.157877\n",
      "2023-09-24 08:00:00    0.147182\n",
      "2023-09-25 08:00:00    0.148072\n",
      "2023-09-26 08:00:00    0.147553\n",
      "2023-09-27 08:00:00    0.153099\n",
      "Name: close, Length: 2157, dtype: float64\n",
      "Index(['symbol', 'open', 'high', 'low', 'close', 'volume'], dtype='object')\n"
     ]
    },
    {
     "name": "stderr",
     "output_type": "stream",
     "text": [
      "ERROR:tvDatafeed.main:The read operation timed out\n",
      "ERROR:tvDatafeed.main:no data, please check the exchange and symbol\n"
     ]
    },
    {
     "name": "stdout",
     "output_type": "stream",
     "text": [
      "CRYPTO:XPUSD\n",
      "datetime\n",
      "2017-10-22 08:00:00    0.081100\n",
      "2017-10-23 08:00:00    0.078200\n",
      "2017-10-24 08:00:00    0.071100\n",
      "2017-10-25 08:00:00    0.068000\n",
      "2017-10-26 08:00:00    0.077900\n",
      "                         ...   \n",
      "2023-09-23 08:00:00    0.032932\n",
      "2023-09-24 08:00:00    0.032662\n",
      "2023-09-25 08:00:00    0.032970\n",
      "2023-09-26 08:00:00    0.032889\n",
      "2023-09-27 08:00:00    0.032741\n",
      "Name: close, Length: 2164, dtype: float64\n",
      "Index(['symbol', 'open', 'high', 'low', 'close', 'volume'], dtype='object')\n",
      "datetime\n",
      "2017-09-24 08:00:00    1.867690\n",
      "2017-09-25 08:00:00    2.404150\n",
      "2017-09-26 08:00:00    1.832130\n",
      "2017-09-27 08:00:00    1.739560\n",
      "2017-09-28 08:00:00    1.745680\n",
      "                         ...   \n",
      "2023-09-23 08:00:00    0.720153\n",
      "2023-09-24 08:00:00    0.681453\n",
      "2023-09-25 08:00:00    0.662658\n",
      "2023-09-26 08:00:00    0.721266\n",
      "2023-09-27 08:00:00    0.698042\n",
      "Name: close, Length: 2195, dtype: float64\n",
      "Index(['symbol', 'open', 'high', 'low', 'close', 'volume'], dtype='object')\n",
      "datetime\n",
      "2020-08-06 08:00:00    0.000008\n",
      "2020-08-07 08:00:00    0.000008\n",
      "2020-08-08 08:00:00    0.000008\n",
      "2020-08-09 08:00:00    0.000011\n",
      "2020-08-10 08:00:00    0.000015\n",
      "                         ...   \n",
      "2023-09-23 08:00:00    0.000012\n",
      "2023-09-24 08:00:00    0.000012\n",
      "2023-09-25 08:00:00    0.000013\n",
      "2023-09-26 08:00:00    0.000014\n",
      "2023-09-27 08:00:00    0.000013\n",
      "Name: close, Length: 1041, dtype: float64\n",
      "Index(['symbol', 'open', 'high', 'low', 'close', 'volume'], dtype='object')\n"
     ]
    },
    {
     "name": "stderr",
     "output_type": "stream",
     "text": [
      "ERROR:tvDatafeed.main:The read operation timed out\n",
      "ERROR:tvDatafeed.main:no data, please check the exchange and symbol\n"
     ]
    },
    {
     "name": "stdout",
     "output_type": "stream",
     "text": [
      "CRYPTO:RDDUSD\n"
     ]
    },
    {
     "name": "stderr",
     "output_type": "stream",
     "text": [
      "ERROR:tvDatafeed.main:The read operation timed out\n",
      "ERROR:tvDatafeed.main:no data, please check the exchange and symbol\n"
     ]
    },
    {
     "name": "stdout",
     "output_type": "stream",
     "text": [
      "CRYPTO:DRGNUSD\n",
      "datetime\n",
      "2017-10-18 08:00:00    0.541221\n",
      "2017-10-19 08:00:00    0.546473\n",
      "2017-10-20 08:00:00    0.610000\n",
      "2017-10-21 08:00:00    0.603486\n",
      "2017-10-22 08:00:00    0.570000\n",
      "                         ...   \n",
      "2023-09-23 08:00:00    4.518873\n",
      "2023-09-24 08:00:00    4.486802\n",
      "2023-09-25 08:00:00    4.458950\n",
      "2023-09-26 08:00:00    4.397807\n",
      "2023-09-27 08:00:00    4.416790\n",
      "Name: close, Length: 2167, dtype: float64\n",
      "Index(['symbol', 'open', 'high', 'low', 'close', 'volume'], dtype='object')\n"
     ]
    },
    {
     "name": "stderr",
     "output_type": "stream",
     "text": [
      "ERROR:tvDatafeed.main:The read operation timed out\n",
      "ERROR:tvDatafeed.main:no data, please check the exchange and symbol\n"
     ]
    },
    {
     "name": "stdout",
     "output_type": "stream",
     "text": [
      "CRYPTO:SANUSD\n",
      "datetime\n",
      "2017-07-02 08:00:00    0.554234\n",
      "2017-07-03 08:00:00    0.821585\n",
      "2017-07-04 08:00:00    0.798863\n",
      "2017-07-05 08:00:00    0.662011\n",
      "2017-07-06 08:00:00    0.663349\n",
      "                         ...   \n",
      "2023-09-23 08:00:00    0.340442\n",
      "2023-09-24 08:00:00    0.329849\n",
      "2023-09-25 08:00:00    0.372117\n",
      "2023-09-26 08:00:00    0.393604\n",
      "2023-09-27 08:00:00    0.395918\n",
      "Name: close, Length: 2279, dtype: float64\n",
      "Index(['symbol', 'open', 'high', 'low', 'close', 'volume'], dtype='object')\n"
     ]
    },
    {
     "name": "stderr",
     "output_type": "stream",
     "text": [
      "ERROR:tvDatafeed.main:The read operation timed out\n",
      "ERROR:tvDatafeed.main:no data, please check the exchange and symbol\n"
     ]
    },
    {
     "name": "stdout",
     "output_type": "stream",
     "text": [
      "CRYPTO:AIONUSD\n"
     ]
    },
    {
     "name": "stderr",
     "output_type": "stream",
     "text": [
      "ERROR:tvDatafeed.main:The read operation timed out\n",
      "ERROR:tvDatafeed.main:no data, please check the exchange and symbol\n"
     ]
    },
    {
     "name": "stdout",
     "output_type": "stream",
     "text": [
      "CRYPTO:DGDUSD\n"
     ]
    },
    {
     "name": "stderr",
     "output_type": "stream",
     "text": [
      "ERROR:tvDatafeed.main:The read operation timed out\n",
      "ERROR:tvDatafeed.main:no data, please check the exchange and symbol\n"
     ]
    },
    {
     "name": "stdout",
     "output_type": "stream",
     "text": [
      "CRYPTO:SKYUSD\n",
      "datetime\n",
      "2017-11-12 08:00:00    0.43470\n",
      "2017-11-13 08:00:00    0.39010\n",
      "2017-11-14 08:00:00    0.40150\n",
      "2017-11-15 08:00:00    0.40500\n",
      "2017-11-16 08:00:00    0.44670\n",
      "                        ...   \n",
      "2023-09-23 08:00:00    0.02071\n",
      "2023-09-24 08:00:00    0.02079\n",
      "2023-09-25 08:00:00    0.02049\n",
      "2023-09-26 08:00:00    0.02077\n",
      "2023-09-27 08:00:00    0.02209\n",
      "Name: close, Length: 2146, dtype: float64\n",
      "Index(['symbol', 'open', 'high', 'low', 'close', 'volume'], dtype='object')\n"
     ]
    },
    {
     "name": "stderr",
     "output_type": "stream",
     "text": [
      "ERROR:tvDatafeed.main:The read operation timed out\n",
      "ERROR:tvDatafeed.main:no data, please check the exchange and symbol\n"
     ]
    },
    {
     "name": "stdout",
     "output_type": "stream",
     "text": [
      "CRYPTO:QASHUSD\n",
      "datetime\n",
      "2017-07-17 08:00:00    0.177565\n",
      "2017-07-18 08:00:00    0.175562\n",
      "2017-07-19 08:00:00    0.141527\n",
      "2017-07-20 08:00:00    0.154570\n",
      "2017-07-21 08:00:00    0.152478\n",
      "                         ...   \n",
      "2023-09-23 08:00:00    0.077300\n",
      "2023-09-24 08:00:00    0.075100\n",
      "2023-09-25 08:00:00    0.075400\n",
      "2023-09-26 08:00:00    0.075500\n",
      "2023-09-27 08:00:00    0.074900\n",
      "Name: close, Length: 2260, dtype: float64\n",
      "Index(['symbol', 'open', 'high', 'low', 'close', 'volume'], dtype='object')\n"
     ]
    },
    {
     "name": "stderr",
     "output_type": "stream",
     "text": [
      "ERROR:tvDatafeed.main:The read operation timed out\n",
      "ERROR:tvDatafeed.main:no data, please check the exchange and symbol\n"
     ]
    },
    {
     "name": "stdout",
     "output_type": "stream",
     "text": [
      "CRYPTO:VTCUSD\n",
      "datetime\n",
      "2017-08-27 08:00:00    1.102178\n",
      "2017-08-28 08:00:00    0.955536\n",
      "2017-08-29 08:00:00    0.835288\n",
      "2017-08-30 08:00:00    0.645737\n",
      "2017-08-31 08:00:00    0.601718\n",
      "                         ...   \n",
      "2023-09-23 08:00:00    0.176813\n",
      "2023-09-24 08:00:00    0.157091\n",
      "2023-09-25 08:00:00    0.159911\n",
      "2023-09-26 08:00:00    0.160999\n",
      "2023-09-27 08:00:00    0.165390\n",
      "Name: close, Length: 2223, dtype: float64\n",
      "Index(['symbol', 'open', 'high', 'low', 'close', 'volume'], dtype='object')\n"
     ]
    },
    {
     "name": "stderr",
     "output_type": "stream",
     "text": [
      "ERROR:tvDatafeed.main:The read operation timed out\n",
      "ERROR:tvDatafeed.main:no data, please check the exchange and symbol\n"
     ]
    },
    {
     "name": "stdout",
     "output_type": "stream",
     "text": [
      "CRYPTO:INKUSD\n",
      "datetime\n",
      "2017-07-06 08:00:00    1.809238\n",
      "2017-07-07 08:00:00    2.025599\n",
      "2017-07-08 08:00:00    1.815986\n",
      "2017-07-09 08:00:00    2.132971\n",
      "2017-07-10 08:00:00    2.157957\n",
      "                         ...   \n",
      "2023-09-23 08:00:00    2.408884\n",
      "2023-09-24 08:00:00    2.387374\n",
      "2023-09-25 08:00:00    2.373391\n",
      "2023-09-26 08:00:00    2.347231\n",
      "2023-09-27 08:00:00    2.323212\n",
      "Name: close, Length: 2275, dtype: float64\n",
      "Index(['symbol', 'open', 'high', 'low', 'close', 'volume'], dtype='object')\n"
     ]
    },
    {
     "name": "stderr",
     "output_type": "stream",
     "text": [
      "ERROR:tvDatafeed.main:The read operation timed out\n",
      "ERROR:tvDatafeed.main:no data, please check the exchange and symbol\n"
     ]
    },
    {
     "name": "stdout",
     "output_type": "stream",
     "text": [
      "CRYPTO:ICNUSD\n"
     ]
    },
    {
     "name": "stderr",
     "output_type": "stream",
     "text": [
      "ERROR:tvDatafeed.main:The read operation timed out\n",
      "ERROR:tvDatafeed.main:no data, please check the exchange and symbol\n"
     ]
    },
    {
     "name": "stdout",
     "output_type": "stream",
     "text": [
      "CRYPTO:BTXUSD\n"
     ]
    },
    {
     "name": "stderr",
     "output_type": "stream",
     "text": [
      "ERROR:tvDatafeed.main:The read operation timed out\n",
      "ERROR:tvDatafeed.main:no data, please check the exchange and symbol\n"
     ]
    },
    {
     "name": "stdout",
     "output_type": "stream",
     "text": [
      "CRYPTO:GAMEUSD\n",
      "datetime\n",
      "2017-12-21 08:00:00    1.137527\n",
      "2017-12-22 08:00:00    0.838332\n",
      "2017-12-23 08:00:00    1.123245\n",
      "2017-12-24 08:00:00    1.044936\n",
      "2017-12-25 08:00:00    1.085837\n",
      "                         ...   \n",
      "2023-09-23 08:00:00    0.367186\n",
      "2023-09-24 08:00:00    0.367162\n",
      "2023-09-25 08:00:00    0.370049\n",
      "2023-09-26 08:00:00    0.362853\n",
      "2023-09-27 08:00:00    0.359925\n",
      "Name: close, Length: 2107, dtype: float64\n",
      "Index(['symbol', 'open', 'high', 'low', 'close', 'volume'], dtype='object')\n"
     ]
    },
    {
     "name": "stderr",
     "output_type": "stream",
     "text": [
      "ERROR:tvDatafeed.main:The read operation timed out\n",
      "ERROR:tvDatafeed.main:no data, please check the exchange and symbol\n"
     ]
    },
    {
     "name": "stdout",
     "output_type": "stream",
     "text": [
      "CRYPTO:SUBUSD\n"
     ]
    },
    {
     "name": "stderr",
     "output_type": "stream",
     "text": [
      "ERROR:tvDatafeed.main:The read operation timed out\n",
      "ERROR:tvDatafeed.main:no data, please check the exchange and symbol\n"
     ]
    },
    {
     "name": "stdout",
     "output_type": "stream",
     "text": [
      "CRYPTO:UBQUSD\n"
     ]
    },
    {
     "name": "stderr",
     "output_type": "stream",
     "text": [
      "ERROR:tvDatafeed.main:The read operation timed out\n",
      "ERROR:tvDatafeed.main:no data, please check the exchange and symbol\n"
     ]
    },
    {
     "name": "stdout",
     "output_type": "stream",
     "text": [
      "CRYPTO:TRIGUSD\n",
      "datetime\n",
      "2022-07-21 08:00:00    153.262172\n",
      "2022-07-22 08:00:00    148.198337\n",
      "2022-07-23 08:00:00    148.474377\n",
      "2022-07-24 08:00:00    153.199913\n",
      "2022-07-25 08:00:00    141.254124\n",
      "                          ...    \n",
      "2023-09-23 08:00:00     99.003477\n",
      "2023-09-24 08:00:00     97.781365\n",
      "2023-09-25 08:00:00     98.010146\n",
      "2023-09-26 08:00:00     97.690289\n",
      "2023-09-27 08:00:00     96.573670\n",
      "Name: close, Length: 430, dtype: float64\n",
      "Index(['symbol', 'open', 'high', 'low', 'close', 'volume'], dtype='object')\n",
      "datetime\n",
      "2017-09-17 08:00:00    0.024955\n",
      "2017-09-18 08:00:00    0.024656\n",
      "2017-09-19 08:00:00    0.017814\n",
      "2017-09-20 08:00:00    0.022169\n",
      "2017-09-21 08:00:00    0.019807\n",
      "                         ...   \n",
      "2023-09-23 08:00:00    0.293465\n",
      "2023-09-24 08:00:00    0.293137\n",
      "2023-09-25 08:00:00    0.298548\n",
      "2023-09-26 08:00:00    0.296716\n",
      "2023-09-27 08:00:00    0.295031\n",
      "Name: close, Length: 2202, dtype: float64\n",
      "Index(['symbol', 'open', 'high', 'low', 'close', 'volume'], dtype='object')\n",
      "datetime\n",
      "2022-02-03 08:00:00    0.10175\n",
      "2022-02-04 08:00:00    0.08709\n",
      "2022-02-05 08:00:00    0.07939\n",
      "2022-02-06 08:00:00    0.07401\n",
      "2022-02-07 08:00:00    0.07234\n",
      "                        ...   \n",
      "2023-09-23 08:00:00    0.01013\n",
      "2023-09-24 08:00:00    0.01011\n",
      "2023-09-25 08:00:00    0.01010\n",
      "2023-09-26 08:00:00    0.01006\n",
      "2023-09-27 08:00:00    0.01006\n",
      "Name: close, Length: 602, dtype: float64\n",
      "Index(['symbol', 'open', 'high', 'low', 'close', 'volume'], dtype='object')\n"
     ]
    },
    {
     "name": "stderr",
     "output_type": "stream",
     "text": [
      "ERROR:tvDatafeed.main:The read operation timed out\n",
      "ERROR:tvDatafeed.main:no data, please check the exchange and symbol\n"
     ]
    },
    {
     "name": "stdout",
     "output_type": "stream",
     "text": [
      "CRYPTO:CNXUSD\n"
     ]
    },
    {
     "name": "stderr",
     "output_type": "stream",
     "text": [
      "ERROR:tvDatafeed.main:The read operation timed out\n",
      "ERROR:tvDatafeed.main:no data, please check the exchange and symbol\n"
     ]
    },
    {
     "name": "stdout",
     "output_type": "stream",
     "text": [
      "CRYPTO:BCOUSD\n"
     ]
    },
    {
     "name": "stderr",
     "output_type": "stream",
     "text": [
      "ERROR:tvDatafeed.main:The read operation timed out\n",
      "ERROR:tvDatafeed.main:no data, please check the exchange and symbol\n"
     ]
    },
    {
     "name": "stdout",
     "output_type": "stream",
     "text": [
      "CRYPTO:BLOCKUSD\n",
      "datetime\n",
      "2021-11-18 08:00:00    4.36000\n",
      "2021-11-19 08:00:00    3.86000\n",
      "2021-11-20 08:00:00    4.08000\n",
      "2021-11-21 08:00:00    3.78000\n",
      "2021-11-22 08:00:00    5.21000\n",
      "                        ...   \n",
      "2023-09-23 08:00:00    0.12275\n",
      "2023-09-24 08:00:00    0.12068\n",
      "2023-09-25 08:00:00    0.12090\n",
      "2023-09-26 08:00:00    0.11828\n",
      "2023-09-27 08:00:00    0.11696\n",
      "Name: close, Length: 679, dtype: float64\n",
      "Index(['symbol', 'open', 'high', 'low', 'close', 'volume'], dtype='object')\n"
     ]
    },
    {
     "name": "stderr",
     "output_type": "stream",
     "text": [
      "ERROR:tvDatafeed.main:The read operation timed out\n",
      "ERROR:tvDatafeed.main:no data, please check the exchange and symbol\n"
     ]
    },
    {
     "name": "stdout",
     "output_type": "stream",
     "text": [
      "CRYPTO:SMARTUSD\n"
     ]
    },
    {
     "name": "stderr",
     "output_type": "stream",
     "text": [
      "ERROR:tvDatafeed.main:The read operation timed out\n",
      "ERROR:tvDatafeed.main:no data, please check the exchange and symbol\n"
     ]
    },
    {
     "name": "stdout",
     "output_type": "stream",
     "text": [
      "CRYPTO:RDNUSD\n"
     ]
    },
    {
     "name": "stderr",
     "output_type": "stream",
     "text": [
      "ERROR:tvDatafeed.main:The read operation timed out\n",
      "ERROR:tvDatafeed.main:no data, please check the exchange and symbol\n"
     ]
    },
    {
     "name": "stdout",
     "output_type": "stream",
     "text": [
      "CRYPTO:GXCUSD\n",
      "datetime\n",
      "2017-09-20 08:00:00    0.186840\n",
      "2017-09-21 08:00:00    0.169521\n",
      "2017-09-22 08:00:00    0.158151\n",
      "2017-09-23 08:00:00    0.129924\n",
      "2017-09-24 08:00:00    0.171196\n",
      "                         ...   \n",
      "2023-09-23 08:00:00    7.192083\n",
      "2023-09-24 08:00:00    6.972706\n",
      "2023-09-25 08:00:00    7.492810\n",
      "2023-09-26 08:00:00    7.362573\n",
      "2023-09-27 08:00:00    7.436074\n",
      "Name: close, Length: 2199, dtype: float64\n",
      "Index(['symbol', 'open', 'high', 'low', 'close', 'volume'], dtype='object')\n",
      "datetime\n",
      "2021-08-11 08:00:00    0.004263\n",
      "2021-08-12 08:00:00    0.004398\n",
      "2021-08-13 08:00:00    0.005548\n",
      "2021-08-15 08:00:00    0.007441\n",
      "2021-08-16 08:00:00    0.006560\n",
      "                         ...   \n",
      "2023-09-23 08:00:00    0.000616\n",
      "2023-09-24 08:00:00    0.000605\n",
      "2023-09-25 08:00:00    0.000605\n",
      "2023-09-26 08:00:00    0.000596\n",
      "2023-09-27 08:00:00    0.000593\n",
      "Name: close, Length: 777, dtype: float64\n",
      "Index(['symbol', 'open', 'high', 'low', 'close', 'volume'], dtype='object')\n"
     ]
    },
    {
     "name": "stderr",
     "output_type": "stream",
     "text": [
      "ERROR:tvDatafeed.main:The read operation timed out\n",
      "ERROR:tvDatafeed.main:no data, please check the exchange and symbol\n"
     ]
    },
    {
     "name": "stdout",
     "output_type": "stream",
     "text": [
      "CRYPTO:PHXUSD\n"
     ]
    },
    {
     "name": "stderr",
     "output_type": "stream",
     "text": [
      "ERROR:tvDatafeed.main:The read operation timed out\n",
      "ERROR:tvDatafeed.main:no data, please check the exchange and symbol\n"
     ]
    },
    {
     "name": "stdout",
     "output_type": "stream",
     "text": [
      "CRYPTO:POEUSD\n"
     ]
    },
    {
     "name": "stderr",
     "output_type": "stream",
     "text": [
      "ERROR:tvDatafeed.main:The read operation timed out\n",
      "ERROR:tvDatafeed.main:no data, please check the exchange and symbol\n"
     ]
    },
    {
     "name": "stdout",
     "output_type": "stream",
     "text": [
      "CRYPTO:NAVUSD\n"
     ]
    },
    {
     "name": "stderr",
     "output_type": "stream",
     "text": [
      "ERROR:tvDatafeed.main:The read operation timed out\n",
      "ERROR:tvDatafeed.main:no data, please check the exchange and symbol\n"
     ]
    },
    {
     "name": "stdout",
     "output_type": "stream",
     "text": [
      "CRYPTO:MCOUSD\n"
     ]
    },
    {
     "name": "stderr",
     "output_type": "stream",
     "text": [
      "ERROR:tvDatafeed.main:The read operation timed out\n",
      "ERROR:tvDatafeed.main:no data, please check the exchange and symbol\n"
     ]
    },
    {
     "name": "stdout",
     "output_type": "stream",
     "text": [
      "CRYPTO:NASUSD\n"
     ]
    },
    {
     "name": "stderr",
     "output_type": "stream",
     "text": [
      "ERROR:tvDatafeed.main:The read operation timed out\n",
      "ERROR:tvDatafeed.main:no data, please check the exchange and symbol\n"
     ]
    },
    {
     "name": "stdout",
     "output_type": "stream",
     "text": [
      "CRYPTO:ENGUSD\n"
     ]
    },
    {
     "name": "stderr",
     "output_type": "stream",
     "text": [
      "ERROR:tvDatafeed.main:The read operation timed out\n",
      "ERROR:tvDatafeed.main:no data, please check the exchange and symbol\n"
     ]
    },
    {
     "name": "stdout",
     "output_type": "stream",
     "text": [
      "CRYPTO:ZCLUSD\n"
     ]
    },
    {
     "name": "stderr",
     "output_type": "stream",
     "text": [
      "ERROR:tvDatafeed.main:The read operation timed out\n",
      "ERROR:tvDatafeed.main:no data, please check the exchange and symbol\n"
     ]
    },
    {
     "name": "stdout",
     "output_type": "stream",
     "text": [
      "CRYPTO:DCNUSD\n"
     ]
    },
    {
     "name": "stderr",
     "output_type": "stream",
     "text": [
      "ERROR:tvDatafeed.main:The read operation timed out\n",
      "ERROR:tvDatafeed.main:no data, please check the exchange and symbol\n"
     ]
    },
    {
     "name": "stdout",
     "output_type": "stream",
     "text": [
      "CRYPTO:RCNUSD\n"
     ]
    },
    {
     "name": "stderr",
     "output_type": "stream",
     "text": [
      "ERROR:tvDatafeed.main:The read operation timed out\n",
      "ERROR:tvDatafeed.main:no data, please check the exchange and symbol\n"
     ]
    },
    {
     "name": "stdout",
     "output_type": "stream",
     "text": [
      "CRYPTO:EDGUSD\n"
     ]
    },
    {
     "name": "stderr",
     "output_type": "stream",
     "text": [
      "ERROR:tvDatafeed.main:The read operation timed out\n",
      "ERROR:tvDatafeed.main:no data, please check the exchange and symbol\n"
     ]
    },
    {
     "name": "stdout",
     "output_type": "stream",
     "text": [
      "CRYPTO:BAYUSD\n"
     ]
    },
    {
     "name": "stderr",
     "output_type": "stream",
     "text": [
      "ERROR:tvDatafeed.main:The read operation timed out\n",
      "ERROR:tvDatafeed.main:no data, please check the exchange and symbol\n"
     ]
    },
    {
     "name": "stdout",
     "output_type": "stream",
     "text": [
      "CRYPTO:LENDUSD\n",
      "datetime\n",
      "2017-06-01 08:00:00    11.394725\n",
      "2017-06-02 08:00:00     9.940371\n",
      "2017-06-03 08:00:00     9.180908\n",
      "2017-06-04 08:00:00    10.193380\n",
      "2017-06-05 08:00:00    18.810560\n",
      "                         ...    \n",
      "2023-09-23 08:00:00     7.394996\n",
      "2023-09-24 08:00:00     7.224860\n",
      "2023-09-25 08:00:00     7.553167\n",
      "2023-09-26 08:00:00     7.557642\n",
      "2023-09-27 08:00:00     7.616668\n",
      "Name: close, Length: 2310, dtype: float64\n",
      "Index(['symbol', 'open', 'high', 'low', 'close', 'volume'], dtype='object')\n"
     ]
    },
    {
     "name": "stderr",
     "output_type": "stream",
     "text": [
      "ERROR:tvDatafeed.main:The read operation timed out\n",
      "ERROR:tvDatafeed.main:no data, please check the exchange and symbol\n"
     ]
    },
    {
     "name": "stdout",
     "output_type": "stream",
     "text": [
      "CRYPTO:NXSUSD\n"
     ]
    },
    {
     "name": "stderr",
     "output_type": "stream",
     "text": [
      "ERROR:tvDatafeed.main:The read operation timed out\n",
      "ERROR:tvDatafeed.main:no data, please check the exchange and symbol\n"
     ]
    },
    {
     "name": "stdout",
     "output_type": "stream",
     "text": [
      "CRYPTO:EMC2USD\n",
      "datetime\n",
      "2017-07-01 08:00:00    0.262279\n",
      "2017-07-02 08:00:00    0.251975\n",
      "2017-07-03 08:00:00    0.260444\n",
      "2017-07-04 08:00:00    0.427790\n",
      "2017-07-05 08:00:00    0.306221\n",
      "                         ...   \n",
      "2023-09-23 08:00:00    0.134005\n",
      "2023-09-24 08:00:00    0.133298\n",
      "2023-09-25 08:00:00    0.133132\n",
      "2023-09-26 08:00:00    0.134055\n",
      "2023-09-27 08:00:00    0.137421\n",
      "Name: close, Length: 2280, dtype: float64\n",
      "Index(['symbol', 'open', 'high', 'low', 'close', 'volume'], dtype='object')\n"
     ]
    },
    {
     "name": "stderr",
     "output_type": "stream",
     "text": [
      "ERROR:tvDatafeed.main:The read operation timed out\n",
      "ERROR:tvDatafeed.main:no data, please check the exchange and symbol\n"
     ]
    },
    {
     "name": "stdout",
     "output_type": "stream",
     "text": [
      "CRYPTO:PARTUSD\n",
      "datetime\n",
      "2017-12-29 08:00:00    0.207856\n",
      "2017-12-30 08:00:00    0.252036\n",
      "2017-12-31 08:00:00    0.493828\n",
      "2018-01-01 08:00:00    0.476943\n",
      "2018-01-02 08:00:00    0.617303\n",
      "                         ...   \n",
      "2023-09-23 08:00:00    0.054575\n",
      "2023-09-24 08:00:00    0.053362\n",
      "2023-09-25 08:00:00    0.056035\n",
      "2023-09-26 08:00:00    0.055455\n",
      "2023-09-27 08:00:00    0.054327\n",
      "Name: close, Length: 2099, dtype: float64\n",
      "Index(['symbol', 'open', 'high', 'low', 'close', 'volume'], dtype='object')\n"
     ]
    },
    {
     "name": "stderr",
     "output_type": "stream",
     "text": [
      "ERROR:tvDatafeed.main:The read operation timed out\n",
      "ERROR:tvDatafeed.main:no data, please check the exchange and symbol\n"
     ]
    },
    {
     "name": "stdout",
     "output_type": "stream",
     "text": [
      "CRYPTO:RUSD\n"
     ]
    },
    {
     "name": "stderr",
     "output_type": "stream",
     "text": [
      "ERROR:tvDatafeed.main:The read operation timed out\n",
      "ERROR:tvDatafeed.main:no data, please check the exchange and symbol\n"
     ]
    },
    {
     "name": "stdout",
     "output_type": "stream",
     "text": [
      "CRYPTO:XBYUSD\n",
      "datetime\n",
      "2017-06-23 08:00:00    4.037880\n",
      "2017-06-24 08:00:00    3.439850\n",
      "2017-06-25 08:00:00    2.824090\n",
      "2017-06-26 08:00:00    2.490180\n",
      "2017-06-27 08:00:00    3.041650\n",
      "                         ...   \n",
      "2023-09-23 08:00:00    0.403390\n",
      "2023-09-24 08:00:00    0.390318\n",
      "2023-09-25 08:00:00    0.401093\n",
      "2023-09-26 08:00:00    0.397557\n",
      "2023-09-27 08:00:00    0.393017\n",
      "Name: close, Length: 2286, dtype: float64\n",
      "Index(['symbol', 'open', 'high', 'low', 'close', 'volume'], dtype='object')\n",
      "datetime\n",
      "2021-05-04 08:00:00    0.005377\n",
      "2021-05-05 08:00:00    0.005153\n",
      "2021-05-06 08:00:00    0.004885\n",
      "2021-05-07 08:00:00    0.010941\n",
      "2021-05-08 08:00:00    0.006456\n",
      "                         ...   \n",
      "2023-07-31 08:00:00    0.000134\n",
      "2023-08-01 08:00:00    0.000039\n",
      "2023-08-02 08:00:00    0.000026\n",
      "2023-08-03 08:00:00    0.000023\n",
      "2023-08-04 08:00:00    0.000026\n",
      "Name: close, Length: 823, dtype: float64\n",
      "Index(['symbol', 'open', 'high', 'low', 'close', 'volume'], dtype='object')\n",
      "datetime\n",
      "2017-07-09 08:00:00    1.914462\n",
      "2017-07-10 08:00:00    2.190101\n",
      "2017-07-11 08:00:00    3.180588\n",
      "2017-07-12 08:00:00    4.003264\n",
      "2017-07-13 08:00:00    3.406455\n",
      "                         ...   \n",
      "2023-09-23 08:00:00    1.334112\n",
      "2023-09-24 08:00:00    1.352074\n",
      "2023-09-25 08:00:00    1.359505\n",
      "2023-09-26 08:00:00    1.282862\n",
      "2023-09-27 08:00:00    1.291119\n",
      "Name: close, Length: 2272, dtype: float64\n",
      "Index(['symbol', 'open', 'high', 'low', 'close', 'volume'], dtype='object')\n"
     ]
    },
    {
     "name": "stderr",
     "output_type": "stream",
     "text": [
      "ERROR:tvDatafeed.main:The read operation timed out\n",
      "ERROR:tvDatafeed.main:no data, please check the exchange and symbol\n"
     ]
    },
    {
     "name": "stdout",
     "output_type": "stream",
     "text": [
      "CRYPTO:CLOAKUSD\n"
     ]
    },
    {
     "name": "stderr",
     "output_type": "stream",
     "text": [
      "ERROR:tvDatafeed.main:The read operation timed out\n",
      "ERROR:tvDatafeed.main:no data, please check the exchange and symbol\n"
     ]
    },
    {
     "name": "stdout",
     "output_type": "stream",
     "text": [
      "CRYPTO:SNGLSUSD\n"
     ]
    },
    {
     "name": "stderr",
     "output_type": "stream",
     "text": [
      "ERROR:tvDatafeed.main:The read operation timed out\n",
      "ERROR:tvDatafeed.main:no data, please check the exchange and symbol\n"
     ]
    },
    {
     "name": "stdout",
     "output_type": "stream",
     "text": [
      "CRYPTO:STORMUSD\n"
     ]
    },
    {
     "name": "stderr",
     "output_type": "stream",
     "text": [
      "ERROR:tvDatafeed.main:The read operation timed out\n",
      "ERROR:tvDatafeed.main:no data, please check the exchange and symbol\n"
     ]
    },
    {
     "name": "stdout",
     "output_type": "stream",
     "text": [
      "CRYPTO:XDNUSD\n"
     ]
    },
    {
     "name": "stderr",
     "output_type": "stream",
     "text": [
      "ERROR:tvDatafeed.main:The read operation timed out\n",
      "ERROR:tvDatafeed.main:no data, please check the exchange and symbol\n"
     ]
    },
    {
     "name": "stdout",
     "output_type": "stream",
     "text": [
      "CRYPTO:RISEUSD\n"
     ]
    },
    {
     "name": "stderr",
     "output_type": "stream",
     "text": [
      "ERROR:tvDatafeed.main:The read operation timed out\n",
      "ERROR:tvDatafeed.main:no data, please check the exchange and symbol\n"
     ]
    },
    {
     "name": "stdout",
     "output_type": "stream",
     "text": [
      "CRYPTO:CTRUSD\n"
     ]
    },
    {
     "name": "stderr",
     "output_type": "stream",
     "text": [
      "ERROR:tvDatafeed.main:The read operation timed out\n",
      "ERROR:tvDatafeed.main:no data, please check the exchange and symbol\n"
     ]
    },
    {
     "name": "stdout",
     "output_type": "stream",
     "text": [
      "CRYPTO:PPPUSD\n"
     ]
    },
    {
     "name": "stderr",
     "output_type": "stream",
     "text": [
      "ERROR:tvDatafeed.main:The read operation timed out\n",
      "ERROR:tvDatafeed.main:no data, please check the exchange and symbol\n"
     ]
    },
    {
     "name": "stdout",
     "output_type": "stream",
     "text": [
      "CRYPTO:ITCUSD\n"
     ]
    },
    {
     "name": "stderr",
     "output_type": "stream",
     "text": [
      "ERROR:tvDatafeed.main:The read operation timed out\n",
      "ERROR:tvDatafeed.main:no data, please check the exchange and symbol\n"
     ]
    },
    {
     "name": "stdout",
     "output_type": "stream",
     "text": [
      "CRYPTO:THCUSD\n"
     ]
    },
    {
     "name": "stderr",
     "output_type": "stream",
     "text": [
      "ERROR:tvDatafeed.main:The read operation timed out\n",
      "ERROR:tvDatafeed.main:no data, please check the exchange and symbol\n"
     ]
    },
    {
     "name": "stdout",
     "output_type": "stream",
     "text": [
      "CRYPTO:SNMUSD\n",
      "datetime\n",
      "2020-03-08 08:00:00    0.002857\n",
      "2020-03-09 08:00:00    0.002857\n",
      "2020-03-10 08:00:00    0.002860\n",
      "2020-03-11 08:00:00    0.002861\n",
      "2020-03-12 08:00:00    0.002200\n",
      "                         ...   \n",
      "2023-09-23 08:00:00    0.009032\n",
      "2023-09-24 08:00:00    0.008908\n",
      "2023-09-25 08:00:00    0.008898\n",
      "2023-09-26 08:00:00    0.008790\n",
      "2023-09-27 08:00:00    0.008724\n",
      "Name: close, Length: 1142, dtype: float64\n",
      "Index(['symbol', 'open', 'high', 'low', 'close', 'volume'], dtype='object')\n"
     ]
    },
    {
     "name": "stderr",
     "output_type": "stream",
     "text": [
      "ERROR:tvDatafeed.main:The read operation timed out\n",
      "ERROR:tvDatafeed.main:no data, please check the exchange and symbol\n"
     ]
    },
    {
     "name": "stdout",
     "output_type": "stream",
     "text": [
      "CRYPTO:DCTUSD\n"
     ]
    },
    {
     "name": "stderr",
     "output_type": "stream",
     "text": [
      "ERROR:tvDatafeed.main:The read operation timed out\n",
      "ERROR:tvDatafeed.main:no data, please check the exchange and symbol\n"
     ]
    },
    {
     "name": "stdout",
     "output_type": "stream",
     "text": [
      "CRYPTO:RHOCUSD\n",
      "datetime\n",
      "2017-11-03 08:00:00    0.064675\n",
      "2017-11-04 08:00:00    0.076412\n",
      "2017-11-05 08:00:00    0.097450\n",
      "2017-11-06 08:00:00    0.072589\n",
      "2017-11-07 08:00:00    0.073207\n",
      "                         ...   \n",
      "2023-09-23 08:00:00    0.022720\n",
      "2023-09-24 08:00:00    0.022400\n",
      "2023-09-25 08:00:00    0.022619\n",
      "2023-09-26 08:00:00    0.022540\n",
      "2023-09-27 08:00:00    0.022840\n",
      "Name: close, Length: 2155, dtype: float64\n",
      "Index(['symbol', 'open', 'high', 'low', 'close', 'volume'], dtype='object')\n",
      "datetime\n",
      "2017-08-30 08:00:00    0.097846\n",
      "2017-08-31 08:00:00    0.133257\n",
      "2017-09-01 08:00:00    0.075981\n",
      "2017-09-02 08:00:00    0.058767\n",
      "2017-09-03 08:00:00    0.082856\n",
      "                         ...   \n",
      "2023-09-23 08:00:00    0.174968\n",
      "2023-09-24 08:00:00    0.170218\n",
      "2023-09-25 08:00:00    0.171671\n",
      "2023-09-26 08:00:00    0.171754\n",
      "2023-09-27 08:00:00    0.171596\n",
      "Name: close, Length: 2220, dtype: float64\n",
      "Index(['symbol', 'open', 'high', 'low', 'close', 'volume'], dtype='object')\n",
      "datetime\n",
      "2017-11-01 08:00:00    0.019861\n",
      "2017-11-02 08:00:00    0.017241\n",
      "2017-11-03 08:00:00    0.020469\n",
      "2017-11-04 08:00:00    0.018464\n",
      "2017-11-05 08:00:00    0.017723\n",
      "                         ...   \n",
      "2023-09-23 08:00:00    0.228113\n",
      "2023-09-24 08:00:00    0.224701\n",
      "2023-09-25 08:00:00    0.227602\n",
      "2023-09-26 08:00:00    0.220789\n",
      "2023-09-27 08:00:00    0.221424\n",
      "Name: close, Length: 2157, dtype: float64\n",
      "Index(['symbol', 'open', 'high', 'low', 'close', 'volume'], dtype='object')\n"
     ]
    },
    {
     "name": "stderr",
     "output_type": "stream",
     "text": [
      "ERROR:tvDatafeed.main:The read operation timed out\n",
      "ERROR:tvDatafeed.main:no data, please check the exchange and symbol\n"
     ]
    },
    {
     "name": "stdout",
     "output_type": "stream",
     "text": [
      "CRYPTO:MGOUSD\n"
     ]
    },
    {
     "name": "stderr",
     "output_type": "stream",
     "text": [
      "ERROR:tvDatafeed.main:The read operation timed out\n",
      "ERROR:tvDatafeed.main:no data, please check the exchange and symbol\n"
     ]
    },
    {
     "name": "stdout",
     "output_type": "stream",
     "text": [
      "CRYPTO:UNITYUSD\n"
     ]
    },
    {
     "name": "stderr",
     "output_type": "stream",
     "text": [
      "ERROR:tvDatafeed.main:The read operation timed out\n",
      "ERROR:tvDatafeed.main:no data, please check the exchange and symbol\n"
     ]
    },
    {
     "name": "stdout",
     "output_type": "stream",
     "text": [
      "CRYPTO:AGRSUSD\n",
      "datetime\n",
      "2017-05-18 08:00:00    1.522104\n",
      "2017-05-19 08:00:00    1.355466\n",
      "2017-05-20 08:00:00    1.452398\n",
      "2017-05-21 08:00:00    1.396040\n",
      "2017-05-22 08:00:00    1.524752\n",
      "                         ...   \n",
      "2023-09-23 08:00:00    4.702638\n",
      "2023-09-24 08:00:00    4.781828\n",
      "2023-09-25 08:00:00    4.871789\n",
      "2023-09-26 08:00:00    4.967107\n",
      "2023-09-27 08:00:00    4.950422\n",
      "Name: close, Length: 2324, dtype: float64\n",
      "Index(['symbol', 'open', 'high', 'low', 'close', 'volume'], dtype='object')\n"
     ]
    },
    {
     "name": "stderr",
     "output_type": "stream",
     "text": [
      "ERROR:tvDatafeed.main:The read operation timed out\n",
      "ERROR:tvDatafeed.main:no data, please check the exchange and symbol\n"
     ]
    },
    {
     "name": "stdout",
     "output_type": "stream",
     "text": [
      "CRYPTO:CNDUSD\n",
      "datetime\n",
      "2017-06-10 08:00:00    0.700290\n",
      "2017-06-11 08:00:00    0.668674\n",
      "2017-06-12 08:00:00    0.706995\n",
      "2017-06-13 08:00:00    1.377657\n",
      "2017-06-14 08:00:00    1.669881\n",
      "                         ...   \n",
      "2023-09-23 08:00:00    0.132910\n",
      "2023-09-24 08:00:00    0.115970\n",
      "2023-09-25 08:00:00    0.122460\n",
      "2023-09-26 08:00:00    0.148990\n",
      "2023-09-27 08:00:00    0.149010\n",
      "Name: close, Length: 2280, dtype: float64\n",
      "Index(['symbol', 'open', 'high', 'low', 'close', 'volume'], dtype='object')\n"
     ]
    },
    {
     "name": "stderr",
     "output_type": "stream",
     "text": [
      "ERROR:tvDatafeed.main:The read operation timed out\n",
      "ERROR:tvDatafeed.main:no data, please check the exchange and symbol\n"
     ]
    },
    {
     "name": "stdout",
     "output_type": "stream",
     "text": [
      "CRYPTO:RVRUSD\n"
     ]
    },
    {
     "name": "stderr",
     "output_type": "stream",
     "text": [
      "ERROR:tvDatafeed.main:The read operation timed out\n",
      "ERROR:tvDatafeed.main:no data, please check the exchange and symbol\n"
     ]
    },
    {
     "name": "stdout",
     "output_type": "stream",
     "text": [
      "CRYPTO:MODUSD\n"
     ]
    },
    {
     "name": "stderr",
     "output_type": "stream",
     "text": [
      "ERROR:tvDatafeed.main:The read operation timed out\n",
      "ERROR:tvDatafeed.main:no data, please check the exchange and symbol\n"
     ]
    },
    {
     "name": "stdout",
     "output_type": "stream",
     "text": [
      "CRYPTO:VEEUSD\n"
     ]
    },
    {
     "name": "stderr",
     "output_type": "stream",
     "text": [
      "ERROR:tvDatafeed.main:The read operation timed out\n",
      "ERROR:tvDatafeed.main:no data, please check the exchange and symbol\n"
     ]
    },
    {
     "name": "stdout",
     "output_type": "stream",
     "text": [
      "CRYPTO:SHIFTUSD\n"
     ]
    },
    {
     "name": "stderr",
     "output_type": "stream",
     "text": [
      "ERROR:tvDatafeed.main:The read operation timed out\n",
      "ERROR:tvDatafeed.main:no data, please check the exchange and symbol\n"
     ]
    },
    {
     "name": "stdout",
     "output_type": "stream",
     "text": [
      "CRYPTO:EMCUSD\n"
     ]
    },
    {
     "name": "stderr",
     "output_type": "stream",
     "text": [
      "ERROR:tvDatafeed.main:The read operation timed out\n",
      "ERROR:tvDatafeed.main:no data, please check the exchange and symbol\n"
     ]
    },
    {
     "name": "stdout",
     "output_type": "stream",
     "text": [
      "CRYPTO:XASUSD\n"
     ]
    },
    {
     "name": "stderr",
     "output_type": "stream",
     "text": [
      "ERROR:tvDatafeed.main:The read operation timed out\n",
      "ERROR:tvDatafeed.main:no data, please check the exchange and symbol\n"
     ]
    },
    {
     "name": "stdout",
     "output_type": "stream",
     "text": [
      "CRYPTO:WABIUSD\n"
     ]
    },
    {
     "name": "stderr",
     "output_type": "stream",
     "text": [
      "ERROR:tvDatafeed.main:The read operation timed out\n",
      "ERROR:tvDatafeed.main:no data, please check the exchange and symbol\n"
     ]
    },
    {
     "name": "stdout",
     "output_type": "stream",
     "text": [
      "CRYPTO:WINGSUSD\n"
     ]
    },
    {
     "name": "stderr",
     "output_type": "stream",
     "text": [
      "ERROR:tvDatafeed.main:The read operation timed out\n",
      "ERROR:tvDatafeed.main:no data, please check the exchange and symbol\n"
     ]
    },
    {
     "name": "stdout",
     "output_type": "stream",
     "text": [
      "CRYPTO:ACTUSD\n"
     ]
    },
    {
     "name": "stderr",
     "output_type": "stream",
     "text": [
      "ERROR:tvDatafeed.main:The read operation timed out\n",
      "ERROR:tvDatafeed.main:no data, please check the exchange and symbol\n"
     ]
    },
    {
     "name": "stdout",
     "output_type": "stream",
     "text": [
      "CRYPTO:JINNUSD\n"
     ]
    },
    {
     "name": "stderr",
     "output_type": "stream",
     "text": [
      "ERROR:tvDatafeed.main:The read operation timed out\n",
      "ERROR:tvDatafeed.main:no data, please check the exchange and symbol\n"
     ]
    },
    {
     "name": "stdout",
     "output_type": "stream",
     "text": [
      "CRYPTO:PPCUSD\n",
      "datetime\n",
      "2017-04-20 08:00:00    0.293286\n",
      "2017-04-21 08:00:00    0.310791\n",
      "2017-04-22 08:00:00    0.350147\n",
      "2017-04-23 08:00:00    0.290013\n",
      "2017-04-24 08:00:00    0.288040\n",
      "                         ...   \n",
      "2023-09-23 08:00:00    1.008938\n",
      "2023-09-24 08:00:00    0.990918\n",
      "2023-09-25 08:00:00    0.999243\n",
      "2023-09-26 08:00:00    0.970725\n",
      "2023-09-27 08:00:00    0.964754\n",
      "Name: close, Length: 2352, dtype: float64\n",
      "Index(['symbol', 'open', 'high', 'low', 'close', 'volume'], dtype='object')\n"
     ]
    },
    {
     "name": "stderr",
     "output_type": "stream",
     "text": [
      "ERROR:tvDatafeed.main:The read operation timed out\n",
      "ERROR:tvDatafeed.main:no data, please check the exchange and symbol\n"
     ]
    },
    {
     "name": "stdout",
     "output_type": "stream",
     "text": [
      "CRYPTO:NEBLUSD\n",
      "datetime\n",
      "2016-06-25 08:00:00    0.001644\n",
      "2016-06-26 08:00:00    0.002008\n",
      "2016-06-27 08:00:00    0.002175\n",
      "2016-06-28 08:00:00    0.002255\n",
      "2016-06-29 08:00:00    0.002380\n",
      "                         ...   \n",
      "2023-09-23 08:00:00    0.500312\n",
      "2023-09-24 08:00:00    0.516403\n",
      "2023-09-25 08:00:00    0.492780\n",
      "2023-09-26 08:00:00    0.487286\n",
      "2023-09-27 08:00:00    0.485298\n",
      "Name: close, Length: 2650, dtype: float64\n",
      "Index(['symbol', 'open', 'high', 'low', 'close', 'volume'], dtype='object')\n"
     ]
    },
    {
     "name": "stderr",
     "output_type": "stream",
     "text": [
      "ERROR:tvDatafeed.main:The read operation timed out\n",
      "ERROR:tvDatafeed.main:no data, please check the exchange and symbol\n"
     ]
    },
    {
     "name": "stdout",
     "output_type": "stream",
     "text": [
      "CRYPTO:VIAUSD\n"
     ]
    },
    {
     "name": "stderr",
     "output_type": "stream",
     "text": [
      "ERROR:tvDatafeed.main:The read operation timed out\n",
      "ERROR:tvDatafeed.main:no data, please check the exchange and symbol\n"
     ]
    },
    {
     "name": "stdout",
     "output_type": "stream",
     "text": [
      "CRYPTO:ETPUSD\n"
     ]
    },
    {
     "name": "stderr",
     "output_type": "stream",
     "text": [
      "ERROR:tvDatafeed.main:The read operation timed out\n",
      "ERROR:tvDatafeed.main:no data, please check the exchange and symbol\n"
     ]
    },
    {
     "name": "stdout",
     "output_type": "stream",
     "text": [
      "CRYPTO:BRDUSD\n"
     ]
    },
    {
     "name": "stderr",
     "output_type": "stream",
     "text": [
      "ERROR:tvDatafeed.main:The read operation timed out\n",
      "ERROR:tvDatafeed.main:no data, please check the exchange and symbol\n"
     ]
    },
    {
     "name": "stdout",
     "output_type": "stream",
     "text": [
      "CRYPTO:CDTUSD\n"
     ]
    },
    {
     "name": "stderr",
     "output_type": "stream",
     "text": [
      "ERROR:tvDatafeed.main:The read operation timed out\n",
      "ERROR:tvDatafeed.main:no data, please check the exchange and symbol\n"
     ]
    },
    {
     "name": "stdout",
     "output_type": "stream",
     "text": [
      "CRYPTO:CMTUSD\n"
     ]
    },
    {
     "name": "stderr",
     "output_type": "stream",
     "text": [
      "ERROR:tvDatafeed.main:The read operation timed out\n",
      "ERROR:tvDatafeed.main:no data, please check the exchange and symbol\n"
     ]
    },
    {
     "name": "stdout",
     "output_type": "stream",
     "text": [
      "CRYPTO:NLGUSD\n"
     ]
    },
    {
     "name": "stderr",
     "output_type": "stream",
     "text": [
      "ERROR:tvDatafeed.main:Connection to remote host was lost.\n",
      "ERROR:tvDatafeed.main:no data, please check the exchange and symbol\n"
     ]
    },
    {
     "name": "stdout",
     "output_type": "stream",
     "text": [
      "CRYPTO:LBCUSD\n"
     ]
    },
    {
     "name": "stderr",
     "output_type": "stream",
     "text": [
      "ERROR:tvDatafeed.main:The read operation timed out\n",
      "ERROR:tvDatafeed.main:no data, please check the exchange and symbol\n"
     ]
    },
    {
     "name": "stdout",
     "output_type": "stream",
     "text": [
      "CRYPTO:WGRUSD\n",
      "datetime\n",
      "2017-10-25 08:00:00    0.103067\n",
      "2017-10-26 08:00:00    0.100726\n",
      "2017-10-27 08:00:00    0.096026\n",
      "2017-10-28 08:00:00    0.096099\n",
      "2017-10-29 08:00:00    0.117179\n",
      "                         ...   \n",
      "2023-09-23 08:00:00    0.183147\n",
      "2023-09-24 08:00:00    0.178856\n",
      "2023-09-25 08:00:00    0.182379\n",
      "2023-09-26 08:00:00    0.180705\n",
      "2023-09-27 08:00:00    0.180580\n",
      "Name: close, Length: 2164, dtype: float64\n",
      "Index(['symbol', 'open', 'high', 'low', 'close', 'volume'], dtype='object')\n",
      "datetime\n",
      "2020-12-30 08:00:00    10.804595\n",
      "2020-12-31 08:00:00     8.126119\n",
      "2021-01-01 08:00:00    10.073822\n",
      "2021-01-02 08:00:00     9.718674\n",
      "2021-01-03 08:00:00     8.009309\n",
      "                         ...    \n",
      "2023-09-23 08:00:00     2.445000\n",
      "2023-09-24 08:00:00     2.392626\n",
      "2023-09-25 08:00:00     2.396842\n",
      "2023-09-26 08:00:00     2.386563\n",
      "2023-09-27 08:00:00     2.376000\n",
      "Name: close, Length: 1002, dtype: float64\n",
      "Index(['symbol', 'open', 'high', 'low', 'close', 'volume'], dtype='object')\n"
     ]
    },
    {
     "name": "stderr",
     "output_type": "stream",
     "text": [
      "ERROR:tvDatafeed.main:The read operation timed out\n",
      "ERROR:tvDatafeed.main:no data, please check the exchange and symbol\n"
     ]
    },
    {
     "name": "stdout",
     "output_type": "stream",
     "text": [
      "CRYPTO:DPYUSD\n",
      "datetime\n",
      "2017-10-23 08:00:00    0.197501\n",
      "2017-10-24 08:00:00    0.270846\n",
      "2017-10-25 08:00:00    0.219584\n",
      "2017-10-26 08:00:00    0.238463\n",
      "2017-10-27 08:00:00    0.222437\n",
      "                         ...   \n",
      "2023-09-23 08:00:00    0.008095\n",
      "2023-09-24 08:00:00    0.008743\n",
      "2023-09-25 08:00:00    0.009436\n",
      "2023-09-26 08:00:00    0.010989\n",
      "2023-09-27 08:00:00    0.009360\n",
      "Name: close, Length: 2166, dtype: float64\n",
      "Index(['symbol', 'open', 'high', 'low', 'close', 'volume'], dtype='object')\n"
     ]
    },
    {
     "name": "stderr",
     "output_type": "stream",
     "text": [
      "ERROR:tvDatafeed.main:The read operation timed out\n",
      "ERROR:tvDatafeed.main:no data, please check the exchange and symbol\n"
     ]
    },
    {
     "name": "stdout",
     "output_type": "stream",
     "text": [
      "CRYPTO:BURSTUSD\n"
     ]
    },
    {
     "name": "stderr",
     "output_type": "stream",
     "text": [
      "ERROR:tvDatafeed.main:The read operation timed out\n",
      "ERROR:tvDatafeed.main:no data, please check the exchange and symbol\n"
     ]
    },
    {
     "name": "stdout",
     "output_type": "stream",
     "text": [
      "CRYPTO:POTUSD\n"
     ]
    },
    {
     "name": "stderr",
     "output_type": "stream",
     "text": [
      "ERROR:tvDatafeed.main:The read operation timed out\n",
      "ERROR:tvDatafeed.main:no data, please check the exchange and symbol\n"
     ]
    },
    {
     "name": "stdout",
     "output_type": "stream",
     "text": [
      "CRYPTO:TNTUSD\n",
      "datetime\n",
      "2017-08-03 08:00:00    0.015534\n",
      "2017-08-04 08:00:00    0.018343\n",
      "2017-08-05 08:00:00    0.019118\n",
      "2017-08-06 08:00:00    0.026343\n",
      "2017-08-07 08:00:00    0.025746\n",
      "                         ...   \n",
      "2023-09-23 08:00:00    0.023100\n",
      "2023-09-24 08:00:00    0.023200\n",
      "2023-09-25 08:00:00    0.022636\n",
      "2023-09-26 08:00:00    0.023000\n",
      "2023-09-27 08:00:00    0.022800\n",
      "Name: close, Length: 2246, dtype: float64\n",
      "Index(['symbol', 'open', 'high', 'low', 'close', 'volume'], dtype='object')\n"
     ]
    },
    {
     "name": "stderr",
     "output_type": "stream",
     "text": [
      "ERROR:tvDatafeed.main:The read operation timed out\n",
      "ERROR:tvDatafeed.main:no data, please check the exchange and symbol\n"
     ]
    },
    {
     "name": "stdout",
     "output_type": "stream",
     "text": [
      "CRYPTO:PURAUSD\n"
     ]
    },
    {
     "name": "stderr",
     "output_type": "stream",
     "text": [
      "ERROR:tvDatafeed.main:The read operation timed out\n",
      "ERROR:tvDatafeed.main:no data, please check the exchange and symbol\n"
     ]
    },
    {
     "name": "stdout",
     "output_type": "stream",
     "text": [
      "CRYPTO:CFIUSD\n"
     ]
    },
    {
     "name": "stderr",
     "output_type": "stream",
     "text": [
      "ERROR:tvDatafeed.main:The read operation timed out\n",
      "ERROR:tvDatafeed.main:no data, please check the exchange and symbol\n"
     ]
    },
    {
     "name": "stdout",
     "output_type": "stream",
     "text": [
      "CRYPTO:XCPUSD\n"
     ]
    },
    {
     "name": "stderr",
     "output_type": "stream",
     "text": [
      "ERROR:tvDatafeed.main:The read operation timed out\n",
      "ERROR:tvDatafeed.main:no data, please check the exchange and symbol\n"
     ]
    },
    {
     "name": "stdout",
     "output_type": "stream",
     "text": [
      "CRYPTO:AEONUSD\n"
     ]
    },
    {
     "name": "stderr",
     "output_type": "stream",
     "text": [
      "ERROR:tvDatafeed.main:The read operation timed out\n",
      "ERROR:tvDatafeed.main:no data, please check the exchange and symbol\n"
     ]
    },
    {
     "name": "stdout",
     "output_type": "stream",
     "text": [
      "CRYPTO:EDOUSD\n"
     ]
    },
    {
     "name": "stderr",
     "output_type": "stream",
     "text": [
      "ERROR:tvDatafeed.main:The read operation timed out\n",
      "ERROR:tvDatafeed.main:no data, please check the exchange and symbol\n"
     ]
    },
    {
     "name": "stdout",
     "output_type": "stream",
     "text": [
      "CRYPTO:XSPECUSD\n",
      "datetime\n",
      "2017-10-17 08:00:00    0.423667\n",
      "2017-10-18 08:00:00    0.324421\n",
      "2017-10-19 08:00:00    0.280126\n",
      "2017-10-20 08:00:00    0.257396\n",
      "2017-10-21 08:00:00    0.236060\n",
      "                         ...   \n",
      "2023-09-23 08:00:00    0.087856\n",
      "2023-09-24 08:00:00    0.088452\n",
      "2023-09-25 08:00:00    0.088102\n",
      "2023-09-26 08:00:00    0.086929\n",
      "2023-09-27 08:00:00    0.087148\n",
      "Name: close, Length: 2172, dtype: float64\n",
      "Index(['symbol', 'open', 'high', 'low', 'close', 'volume'], dtype='object')\n"
     ]
    },
    {
     "name": "stderr",
     "output_type": "stream",
     "text": [
      "ERROR:tvDatafeed.main:The read operation timed out\n",
      "ERROR:tvDatafeed.main:no data, please check the exchange and symbol\n"
     ]
    },
    {
     "name": "stdout",
     "output_type": "stream",
     "text": [
      "CRYPTO:SLSUSD\n"
     ]
    },
    {
     "name": "stderr",
     "output_type": "stream",
     "text": [
      "ERROR:tvDatafeed.main:The read operation timed out\n",
      "ERROR:tvDatafeed.main:no data, please check the exchange and symbol\n"
     ]
    },
    {
     "name": "stdout",
     "output_type": "stream",
     "text": [
      "CRYPTO:UKGUSD\n"
     ]
    },
    {
     "name": "stderr",
     "output_type": "stream",
     "text": [
      "ERROR:tvDatafeed.main:The read operation timed out\n",
      "ERROR:tvDatafeed.main:no data, please check the exchange and symbol\n"
     ]
    },
    {
     "name": "stdout",
     "output_type": "stream",
     "text": [
      "CRYPTO:DTRUSD\n"
     ]
    },
    {
     "name": "stderr",
     "output_type": "stream",
     "text": [
      "ERROR:tvDatafeed.main:The read operation timed out\n",
      "ERROR:tvDatafeed.main:no data, please check the exchange and symbol\n"
     ]
    },
    {
     "name": "stdout",
     "output_type": "stream",
     "text": [
      "CRYPTO:1STUSD\n"
     ]
    },
    {
     "name": "stderr",
     "output_type": "stream",
     "text": [
      "ERROR:tvDatafeed.main:The read operation timed out\n",
      "ERROR:tvDatafeed.main:no data, please check the exchange and symbol\n"
     ]
    },
    {
     "name": "stdout",
     "output_type": "stream",
     "text": [
      "CRYPTO:FUELUSD\n"
     ]
    },
    {
     "name": "stderr",
     "output_type": "stream",
     "text": [
      "ERROR:tvDatafeed.main:The read operation timed out\n",
      "ERROR:tvDatafeed.main:no data, please check the exchange and symbol\n"
     ]
    },
    {
     "name": "stdout",
     "output_type": "stream",
     "text": [
      "CRYPTO:HMQUSD\n",
      "datetime\n",
      "2021-06-10 08:00:00    106.214000\n",
      "2021-06-11 08:00:00     84.568000\n",
      "2021-06-12 08:00:00    107.109000\n",
      "2021-06-13 08:00:00     97.878000\n",
      "2021-06-14 08:00:00     98.556000\n",
      "                          ...    \n",
      "2023-09-23 08:00:00     13.695246\n",
      "2023-09-24 08:00:00     18.164566\n",
      "2023-09-25 08:00:00     15.268571\n",
      "2023-09-26 08:00:00     16.334758\n",
      "2023-09-27 08:00:00     15.187430\n",
      "Name: close, Length: 840, dtype: float64\n",
      "Index(['symbol', 'open', 'high', 'low', 'close', 'volume'], dtype='object')\n"
     ]
    },
    {
     "name": "stderr",
     "output_type": "stream",
     "text": [
      "ERROR:tvDatafeed.main:The read operation timed out\n",
      "ERROR:tvDatafeed.main:no data, please check the exchange and symbol\n"
     ]
    },
    {
     "name": "stdout",
     "output_type": "stream",
     "text": [
      "CRYPTO:PLRUSD\n"
     ]
    },
    {
     "name": "stderr",
     "output_type": "stream",
     "text": [
      "ERROR:tvDatafeed.main:The read operation timed out\n",
      "ERROR:tvDatafeed.main:no data, please check the exchange and symbol\n"
     ]
    },
    {
     "name": "stdout",
     "output_type": "stream",
     "text": [
      "CRYPTO:AMPUSD\n"
     ]
    },
    {
     "name": "stderr",
     "output_type": "stream",
     "text": [
      "ERROR:tvDatafeed.main:The read operation timed out\n",
      "ERROR:tvDatafeed.main:no data, please check the exchange and symbol\n"
     ]
    },
    {
     "name": "stdout",
     "output_type": "stream",
     "text": [
      "CRYPTO:OSTUSD\n"
     ]
    },
    {
     "name": "stderr",
     "output_type": "stream",
     "text": [
      "ERROR:tvDatafeed.main:The read operation timed out\n",
      "ERROR:tvDatafeed.main:no data, please check the exchange and symbol\n"
     ]
    },
    {
     "name": "stdout",
     "output_type": "stream",
     "text": [
      "CRYPTO:FTCUSD\n"
     ]
    },
    {
     "name": "stderr",
     "output_type": "stream",
     "text": [
      "ERROR:tvDatafeed.main:The read operation timed out\n",
      "ERROR:tvDatafeed.main:no data, please check the exchange and symbol\n"
     ]
    },
    {
     "name": "stdout",
     "output_type": "stream",
     "text": [
      "CRYPTO:SIBUSD\n"
     ]
    },
    {
     "name": "stderr",
     "output_type": "stream",
     "text": [
      "ERROR:tvDatafeed.main:The read operation timed out\n",
      "ERROR:tvDatafeed.main:no data, please check the exchange and symbol\n"
     ]
    },
    {
     "name": "stdout",
     "output_type": "stream",
     "text": [
      "CRYPTO:MERUSD\n",
      "datetime\n",
      "2017-10-06 08:00:00    0.274095\n",
      "2017-10-07 08:00:00    0.157485\n",
      "2017-10-08 08:00:00    0.155481\n",
      "2017-10-09 08:00:00    0.125306\n",
      "2017-10-10 08:00:00    0.137785\n",
      "                         ...   \n",
      "2023-09-23 08:00:00    0.045461\n",
      "2023-09-24 08:00:00    0.043844\n",
      "2023-09-25 08:00:00    0.045783\n",
      "2023-09-26 08:00:00    0.044833\n",
      "2023-09-27 08:00:00    0.045913\n",
      "Name: close, Length: 2183, dtype: float64\n",
      "Index(['symbol', 'open', 'high', 'low', 'close', 'volume'], dtype='object')\n"
     ]
    },
    {
     "name": "stderr",
     "output_type": "stream",
     "text": [
      "ERROR:tvDatafeed.main:The read operation timed out\n",
      "ERROR:tvDatafeed.main:no data, please check the exchange and symbol\n"
     ]
    },
    {
     "name": "stdout",
     "output_type": "stream",
     "text": [
      "CRYPTO:MTHUSD\n"
     ]
    },
    {
     "name": "stderr",
     "output_type": "stream",
     "text": [
      "ERROR:tvDatafeed.main:The read operation timed out\n",
      "ERROR:tvDatafeed.main:no data, please check the exchange and symbol\n"
     ]
    },
    {
     "name": "stdout",
     "output_type": "stream",
     "text": [
      "CRYPTO:PAYXUSD\n"
     ]
    },
    {
     "name": "stderr",
     "output_type": "stream",
     "text": [
      "ERROR:tvDatafeed.main:The read operation timed out\n",
      "ERROR:tvDatafeed.main:no data, please check the exchange and symbol\n"
     ]
    },
    {
     "name": "stdout",
     "output_type": "stream",
     "text": [
      "CRYPTO:GUPUSD\n",
      "datetime\n",
      "2017-01-29 08:00:00      22.658200\n",
      "2017-01-30 08:00:00      24.328900\n",
      "2017-01-31 08:00:00      24.459400\n",
      "2017-08-27 08:00:00     290.895000\n",
      "2017-08-28 08:00:00     285.809000\n",
      "                          ...     \n",
      "2023-09-23 08:00:00    1287.466608\n",
      "2023-09-24 08:00:00    1271.426255\n",
      "2023-09-25 08:00:00    1319.928116\n",
      "2023-09-26 08:00:00    1420.895160\n",
      "2023-09-27 08:00:00    1426.480785\n",
      "Name: close, Length: 2155, dtype: float64\n",
      "Index(['symbol', 'open', 'high', 'low', 'close', 'volume'], dtype='object')\n",
      "datetime\n",
      "2018-01-25 08:00:00    0.136179\n",
      "2018-01-26 08:00:00    0.118679\n",
      "2018-01-27 08:00:00    0.105093\n",
      "2018-01-28 08:00:00    0.096204\n",
      "2018-01-29 08:00:00    0.089759\n",
      "                         ...   \n",
      "2023-09-23 08:00:00    0.017677\n",
      "2023-09-24 08:00:00    0.016997\n",
      "2023-09-25 08:00:00    0.016917\n",
      "2023-09-26 08:00:00    0.017027\n",
      "2023-09-27 08:00:00    0.016675\n",
      "Name: close, Length: 2072, dtype: float64\n",
      "Index(['symbol', 'open', 'high', 'low', 'close', 'volume'], dtype='object')\n",
      "datetime\n",
      "2018-01-16 08:00:00    0.027616\n",
      "2018-01-17 08:00:00    0.027016\n",
      "2018-01-18 08:00:00    0.036421\n",
      "2018-01-19 08:00:00    0.040696\n",
      "2018-01-20 08:00:00    0.045391\n",
      "                         ...   \n",
      "2023-09-23 08:00:00    0.007179\n",
      "2023-09-24 08:00:00    0.006872\n",
      "2023-09-25 08:00:00    0.007362\n",
      "2023-09-26 08:00:00    0.007344\n",
      "2023-09-27 08:00:00    0.007089\n",
      "Name: close, Length: 2036, dtype: float64\n",
      "Index(['symbol', 'open', 'high', 'low', 'close', 'volume'], dtype='object')\n"
     ]
    },
    {
     "name": "stderr",
     "output_type": "stream",
     "text": [
      "ERROR:tvDatafeed.main:The read operation timed out\n",
      "ERROR:tvDatafeed.main:no data, please check the exchange and symbol\n"
     ]
    },
    {
     "name": "stdout",
     "output_type": "stream",
     "text": [
      "CRYPTO:IGNISUSD\n",
      "datetime\n",
      "2023-04-13 08:00:00    0.307081\n",
      "2023-04-14 08:00:00    0.272339\n",
      "2023-04-15 08:00:00    0.243917\n",
      "2023-04-16 08:00:00    0.224781\n",
      "2023-04-17 08:00:00    0.204123\n",
      "                         ...   \n",
      "2023-09-23 08:00:00    0.046095\n",
      "2023-09-24 08:00:00    0.040440\n",
      "2023-09-25 08:00:00    0.040347\n",
      "2023-09-26 08:00:00    0.038807\n",
      "2023-09-27 08:00:00    0.033147\n",
      "Name: close, Length: 168, dtype: float64\n",
      "Index(['symbol', 'open', 'high', 'low', 'close', 'volume'], dtype='object')\n"
     ]
    },
    {
     "name": "stderr",
     "output_type": "stream",
     "text": [
      "ERROR:tvDatafeed.main:The read operation timed out\n",
      "ERROR:tvDatafeed.main:no data, please check the exchange and symbol\n"
     ]
    },
    {
     "name": "stdout",
     "output_type": "stream",
     "text": [
      "CRYPTO:SRNUSD\n"
     ]
    },
    {
     "name": "stderr",
     "output_type": "stream",
     "text": [
      "ERROR:tvDatafeed.main:The read operation timed out\n",
      "ERROR:tvDatafeed.main:no data, please check the exchange and symbol\n"
     ]
    },
    {
     "name": "stdout",
     "output_type": "stream",
     "text": [
      "CRYPTO:HPBUSD\n"
     ]
    },
    {
     "name": "stderr",
     "output_type": "stream",
     "text": [
      "ERROR:tvDatafeed.main:The read operation timed out\n",
      "ERROR:tvDatafeed.main:no data, please check the exchange and symbol\n"
     ]
    },
    {
     "name": "stdout",
     "output_type": "stream",
     "text": [
      "CRYPTO:DEWUSD\n"
     ]
    },
    {
     "name": "stderr",
     "output_type": "stream",
     "text": [
      "ERROR:tvDatafeed.main:The read operation timed out\n",
      "ERROR:tvDatafeed.main:no data, please check the exchange and symbol\n"
     ]
    },
    {
     "name": "stdout",
     "output_type": "stream",
     "text": [
      "CRYPTO:SPHTXUSD\n"
     ]
    },
    {
     "name": "stderr",
     "output_type": "stream",
     "text": [
      "ERROR:tvDatafeed.main:The read operation timed out\n",
      "ERROR:tvDatafeed.main:no data, please check the exchange and symbol\n"
     ]
    },
    {
     "name": "stdout",
     "output_type": "stream",
     "text": [
      "CRYPTO:BIXUSD\n"
     ]
    },
    {
     "name": "stderr",
     "output_type": "stream",
     "text": [
      "ERROR:tvDatafeed.main:The read operation timed out\n",
      "ERROR:tvDatafeed.main:no data, please check the exchange and symbol\n"
     ]
    },
    {
     "name": "stdout",
     "output_type": "stream",
     "text": [
      "CRYPTO:PACUSD\n"
     ]
    },
    {
     "name": "stderr",
     "output_type": "stream",
     "text": [
      "ERROR:tvDatafeed.main:The read operation timed out\n",
      "ERROR:tvDatafeed.main:no data, please check the exchange and symbol\n"
     ]
    },
    {
     "name": "stdout",
     "output_type": "stream",
     "text": [
      "CRYPTO:COBUSD\n",
      "datetime\n",
      "2018-01-17 08:00:00    0.184086\n",
      "2018-01-18 08:00:00    0.197889\n",
      "2018-01-19 08:00:00    0.182590\n",
      "2018-01-20 08:00:00    0.189755\n",
      "2018-01-21 08:00:00    0.162862\n",
      "                         ...   \n",
      "2023-09-23 08:00:00    0.644001\n",
      "2023-09-24 08:00:00    0.623396\n",
      "2023-09-25 08:00:00    0.634731\n",
      "2023-09-26 08:00:00    0.638247\n",
      "2023-09-27 08:00:00    0.632079\n",
      "Name: close, Length: 2080, dtype: float64\n",
      "Index(['symbol', 'open', 'high', 'low', 'close', 'volume'], dtype='object')\n"
     ]
    },
    {
     "name": "stderr",
     "output_type": "stream",
     "text": [
      "ERROR:tvDatafeed.main:The read operation timed out\n",
      "ERROR:tvDatafeed.main:no data, please check the exchange and symbol\n"
     ]
    },
    {
     "name": "stdout",
     "output_type": "stream",
     "text": [
      "CRYPTO:VIBEUSD\n",
      "datetime\n",
      "2021-05-04 08:00:00    0.010569\n",
      "2021-05-05 08:00:00    0.013868\n",
      "2021-05-06 08:00:00    0.012356\n",
      "2021-05-07 08:00:00    0.014021\n",
      "2021-05-08 08:00:00    0.013787\n",
      "                         ...   \n",
      "2023-09-23 08:00:00    0.002648\n",
      "2023-09-24 08:00:00    0.002399\n",
      "2023-09-25 08:00:00    0.002529\n",
      "2023-09-26 08:00:00    0.002646\n",
      "2023-09-27 08:00:00    0.002637\n",
      "Name: close, Length: 877, dtype: float64\n",
      "Index(['symbol', 'open', 'high', 'low', 'close', 'volume'], dtype='object')\n"
     ]
    },
    {
     "name": "stderr",
     "output_type": "stream",
     "text": [
      "ERROR:tvDatafeed.main:The read operation timed out\n",
      "ERROR:tvDatafeed.main:no data, please check the exchange and symbol\n"
     ]
    },
    {
     "name": "stdout",
     "output_type": "stream",
     "text": [
      "CRYPTO:TNCUSD\n"
     ]
    },
    {
     "name": "stderr",
     "output_type": "stream",
     "text": [
      "ERROR:tvDatafeed.main:The read operation timed out\n",
      "ERROR:tvDatafeed.main:no data, please check the exchange and symbol\n"
     ]
    },
    {
     "name": "stdout",
     "output_type": "stream",
     "text": [
      "CRYPTO:HTMLUSD\n"
     ]
    },
    {
     "name": "stderr",
     "output_type": "stream",
     "text": [
      "ERROR:tvDatafeed.main:The read operation timed out\n",
      "ERROR:tvDatafeed.main:no data, please check the exchange and symbol\n"
     ]
    },
    {
     "name": "stdout",
     "output_type": "stream",
     "text": [
      "CRYPTO:APPCUSD\n",
      "datetime\n",
      "2018-01-28 08:00:00    0.010000\n",
      "2018-01-29 08:00:00    0.010000\n",
      "2018-01-30 08:00:00    0.010000\n",
      "2018-01-31 08:00:00    0.010000\n",
      "2018-02-01 08:00:00    0.010000\n",
      "                         ...   \n",
      "2023-09-23 08:00:00    0.001044\n",
      "2023-09-24 08:00:00    0.001037\n",
      "2023-09-25 08:00:00    0.001020\n",
      "2023-09-26 08:00:00    0.001003\n",
      "2023-09-27 08:00:00    0.000995\n",
      "Name: close, Length: 1663, dtype: float64\n",
      "Index(['symbol', 'open', 'high', 'low', 'close', 'volume'], dtype='object')\n"
     ]
    },
    {
     "name": "stderr",
     "output_type": "stream",
     "text": [
      "ERROR:tvDatafeed.main:The read operation timed out\n",
      "ERROR:tvDatafeed.main:no data, please check the exchange and symbol\n"
     ]
    },
    {
     "name": "stdout",
     "output_type": "stream",
     "text": [
      "CRYPTO:XNSUSD\n"
     ]
    },
    {
     "name": "stderr",
     "output_type": "stream",
     "text": [
      "ERROR:tvDatafeed.main:The read operation timed out\n",
      "ERROR:tvDatafeed.main:no data, please check the exchange and symbol\n"
     ]
    },
    {
     "name": "stdout",
     "output_type": "stream",
     "text": [
      "CRYPTO:MDSUSD\n"
     ]
    },
    {
     "name": "stderr",
     "output_type": "stream",
     "text": [
      "ERROR:tvDatafeed.main:The read operation timed out\n",
      "ERROR:tvDatafeed.main:no data, please check the exchange and symbol\n"
     ]
    },
    {
     "name": "stdout",
     "output_type": "stream",
     "text": [
      "CRYPTO:INTUSD\n"
     ]
    },
    {
     "name": "stderr",
     "output_type": "stream",
     "text": [
      "ERROR:tvDatafeed.main:The read operation timed out\n",
      "ERROR:tvDatafeed.main:no data, please check the exchange and symbol\n"
     ]
    },
    {
     "name": "stdout",
     "output_type": "stream",
     "text": [
      "CRYPTO:IONUSD\n"
     ]
    },
    {
     "name": "stderr",
     "output_type": "stream",
     "text": [
      "ERROR:tvDatafeed.main:The read operation timed out\n",
      "ERROR:tvDatafeed.main:no data, please check the exchange and symbol\n"
     ]
    },
    {
     "name": "stdout",
     "output_type": "stream",
     "text": [
      "CRYPTO:QBTUSD\n"
     ]
    },
    {
     "name": "stderr",
     "output_type": "stream",
     "text": [
      "ERROR:tvDatafeed.main:The read operation timed out\n",
      "ERROR:tvDatafeed.main:no data, please check the exchange and symbol\n"
     ]
    },
    {
     "name": "stdout",
     "output_type": "stream",
     "text": [
      "CRYPTO:SPANKUSD\n"
     ]
    },
    {
     "name": "stderr",
     "output_type": "stream",
     "text": [
      "ERROR:tvDatafeed.main:The read operation timed out\n",
      "ERROR:tvDatafeed.main:no data, please check the exchange and symbol\n"
     ]
    },
    {
     "name": "stdout",
     "output_type": "stream",
     "text": [
      "CRYPTO:NGCUSD\n"
     ]
    },
    {
     "name": "stderr",
     "output_type": "stream",
     "text": [
      "ERROR:tvDatafeed.main:The read operation timed out\n",
      "ERROR:tvDatafeed.main:no data, please check the exchange and symbol\n"
     ]
    },
    {
     "name": "stdout",
     "output_type": "stream",
     "text": [
      "CRYPTO:ECAUSD\n"
     ]
    },
    {
     "name": "stderr",
     "output_type": "stream",
     "text": [
      "ERROR:tvDatafeed.main:The read operation timed out\n",
      "ERROR:tvDatafeed.main:no data, please check the exchange and symbol\n"
     ]
    },
    {
     "name": "stdout",
     "output_type": "stream",
     "text": [
      "CRYPTO:ADTUSD\n"
     ]
    },
    {
     "name": "stderr",
     "output_type": "stream",
     "text": [
      "ERROR:tvDatafeed.main:The read operation timed out\n",
      "ERROR:tvDatafeed.main:no data, please check the exchange and symbol\n"
     ]
    },
    {
     "name": "stdout",
     "output_type": "stream",
     "text": [
      "CRYPTO:CAPPUSD\n",
      "datetime\n",
      "2021-07-27 08:00:00    0.2469\n",
      "2021-07-28 08:00:00    0.2337\n",
      "2021-07-29 08:00:00    0.2540\n",
      "2021-07-30 08:00:00    0.2802\n",
      "2021-07-31 08:00:00    0.2741\n",
      "                        ...  \n",
      "2023-09-23 08:00:00    0.1206\n",
      "2023-09-24 08:00:00    0.1209\n",
      "2023-09-25 08:00:00    0.1237\n",
      "2023-09-26 08:00:00    0.1202\n",
      "2023-09-27 08:00:00    0.1213\n",
      "Name: close, Length: 793, dtype: float64\n",
      "Index(['symbol', 'open', 'high', 'low', 'close', 'volume'], dtype='object')\n"
     ]
    },
    {
     "name": "stderr",
     "output_type": "stream",
     "text": [
      "ERROR:tvDatafeed.main:The read operation timed out\n",
      "ERROR:tvDatafeed.main:no data, please check the exchange and symbol\n"
     ]
    },
    {
     "name": "stdout",
     "output_type": "stream",
     "text": [
      "CRYPTO:PRLUSD\n"
     ]
    },
    {
     "name": "stderr",
     "output_type": "stream",
     "text": [
      "ERROR:tvDatafeed.main:The read operation timed out\n",
      "ERROR:tvDatafeed.main:no data, please check the exchange and symbol\n"
     ]
    },
    {
     "name": "stdout",
     "output_type": "stream",
     "text": [
      "CRYPTO:GVTUSD\n",
      "datetime\n",
      "2018-02-06 08:00:00    0.666893\n",
      "2018-02-07 08:00:00    0.657405\n",
      "2018-02-08 08:00:00    0.789648\n",
      "2018-02-09 08:00:00    0.739936\n",
      "2018-02-10 08:00:00    0.615302\n",
      "                         ...   \n",
      "2023-09-23 08:00:00    0.178582\n",
      "2023-09-24 08:00:00    0.178509\n",
      "2023-09-25 08:00:00    0.184754\n",
      "2023-09-26 08:00:00    0.164625\n",
      "2023-09-27 08:00:00    0.165315\n",
      "Name: close, Length: 2060, dtype: float64\n",
      "Index(['symbol', 'open', 'high', 'low', 'close', 'volume'], dtype='object')\n"
     ]
    },
    {
     "name": "stderr",
     "output_type": "stream",
     "text": [
      "ERROR:tvDatafeed.main:The read operation timed out\n",
      "ERROR:tvDatafeed.main:no data, please check the exchange and symbol\n"
     ]
    },
    {
     "name": "stdout",
     "output_type": "stream",
     "text": [
      "CRYPTO:BCPTUSD\n"
     ]
    },
    {
     "name": "stderr",
     "output_type": "stream",
     "text": [
      "ERROR:tvDatafeed.main:The read operation timed out\n",
      "ERROR:tvDatafeed.main:no data, please check the exchange and symbol\n"
     ]
    },
    {
     "name": "stdout",
     "output_type": "stream",
     "text": [
      "CRYPTO:C20USD\n"
     ]
    },
    {
     "name": "stderr",
     "output_type": "stream",
     "text": [
      "ERROR:tvDatafeed.main:The read operation timed out\n",
      "ERROR:tvDatafeed.main:no data, please check the exchange and symbol\n"
     ]
    },
    {
     "name": "stdout",
     "output_type": "stream",
     "text": [
      "CRYPTO:MNXUSD\n"
     ]
    },
    {
     "name": "stderr",
     "output_type": "stream",
     "text": [
      "ERROR:tvDatafeed.main:The read operation timed out\n",
      "ERROR:tvDatafeed.main:no data, please check the exchange and symbol\n"
     ]
    },
    {
     "name": "stdout",
     "output_type": "stream",
     "text": [
      "CRYPTO:DTAUSD\n"
     ]
    },
    {
     "name": "stderr",
     "output_type": "stream",
     "text": [
      "ERROR:tvDatafeed.main:The read operation timed out\n",
      "ERROR:tvDatafeed.main:no data, please check the exchange and symbol\n"
     ]
    },
    {
     "name": "stdout",
     "output_type": "stream",
     "text": [
      "CRYPTO:JNTUSD\n",
      "datetime\n",
      "2017-12-18 08:00:00    0.397169\n",
      "2017-12-19 08:00:00    0.311960\n",
      "2017-12-20 08:00:00    0.293382\n",
      "2017-12-21 08:00:00    0.280525\n",
      "2017-12-22 08:00:00    0.237420\n",
      "                         ...   \n",
      "2023-09-23 08:00:00    0.018587\n",
      "2023-09-24 08:00:00    0.022147\n",
      "2023-09-25 08:00:00    0.021253\n",
      "2023-09-26 08:00:00    0.021015\n",
      "2023-09-27 08:00:00    0.024351\n",
      "Name: close, Length: 2067, dtype: float64\n",
      "Index(['symbol', 'open', 'high', 'low', 'close', 'volume'], dtype='object')\n"
     ]
    },
    {
     "name": "stderr",
     "output_type": "stream",
     "text": [
      "ERROR:tvDatafeed.main:The read operation timed out\n",
      "ERROR:tvDatafeed.main:no data, please check the exchange and symbol\n"
     ]
    },
    {
     "name": "stdout",
     "output_type": "stream",
     "text": [
      "CRYPTO:WPRUSD\n",
      "datetime\n",
      "2017-11-24 08:00:00    103.99000\n",
      "2017-11-25 08:00:00    102.00000\n",
      "2017-11-26 08:00:00     96.60000\n",
      "2017-11-27 08:00:00     92.81900\n",
      "2017-11-28 08:00:00     81.00000\n",
      "                         ...    \n",
      "2023-09-23 08:00:00      0.05261\n",
      "2023-09-24 08:00:00      0.05431\n",
      "2023-09-25 08:00:00      0.05336\n",
      "2023-09-26 08:00:00      0.05340\n",
      "2023-09-27 08:00:00      0.05267\n",
      "Name: close, Length: 2129, dtype: float64\n",
      "Index(['symbol', 'open', 'high', 'low', 'close', 'volume'], dtype='object')\n",
      "datetime\n",
      "2018-03-08 08:00:00    2.828882\n",
      "2018-03-09 08:00:00    1.655053\n",
      "2018-03-10 08:00:00    1.494026\n",
      "2018-03-11 08:00:00    1.601295\n",
      "2018-03-12 08:00:00    1.415598\n",
      "                         ...   \n",
      "2023-09-23 08:00:00    0.175967\n",
      "2023-09-24 08:00:00    0.167681\n",
      "2023-09-25 08:00:00    0.165589\n",
      "2023-09-26 08:00:00    0.166512\n",
      "2023-09-27 08:00:00    0.165918\n",
      "Name: close, Length: 2030, dtype: float64\n",
      "Index(['symbol', 'open', 'high', 'low', 'close', 'volume'], dtype='object')\n"
     ]
    },
    {
     "name": "stderr",
     "output_type": "stream",
     "text": [
      "ERROR:tvDatafeed.main:The read operation timed out\n",
      "ERROR:tvDatafeed.main:no data, please check the exchange and symbol\n"
     ]
    },
    {
     "name": "stdout",
     "output_type": "stream",
     "text": [
      "CRYPTO:MITHUSD\n"
     ]
    },
    {
     "name": "stderr",
     "output_type": "stream",
     "text": [
      "ERROR:tvDatafeed.main:The read operation timed out\n",
      "ERROR:tvDatafeed.main:no data, please check the exchange and symbol\n"
     ]
    },
    {
     "name": "stdout",
     "output_type": "stream",
     "text": [
      "CRYPTO:NCASHUSD\n"
     ]
    },
    {
     "name": "stderr",
     "output_type": "stream",
     "text": [
      "ERROR:tvDatafeed.main:The read operation timed out\n",
      "ERROR:tvDatafeed.main:no data, please check the exchange and symbol\n"
     ]
    },
    {
     "name": "stdout",
     "output_type": "stream",
     "text": [
      "CRYPTO:DROPUSD\n"
     ]
    },
    {
     "name": "stderr",
     "output_type": "stream",
     "text": [
      "ERROR:tvDatafeed.main:The read operation timed out\n",
      "ERROR:tvDatafeed.main:no data, please check the exchange and symbol\n"
     ]
    },
    {
     "name": "stdout",
     "output_type": "stream",
     "text": [
      "CRYPTO:GNXUSD\n"
     ]
    },
    {
     "name": "stderr",
     "output_type": "stream",
     "text": [
      "ERROR:tvDatafeed.main:The read operation timed out\n",
      "ERROR:tvDatafeed.main:no data, please check the exchange and symbol\n"
     ]
    },
    {
     "name": "stdout",
     "output_type": "stream",
     "text": [
      "CRYPTO:MANUSD\n"
     ]
    },
    {
     "name": "stderr",
     "output_type": "stream",
     "text": [
      "ERROR:tvDatafeed.main:The read operation timed out\n",
      "ERROR:tvDatafeed.main:no data, please check the exchange and symbol\n"
     ]
    },
    {
     "name": "stdout",
     "output_type": "stream",
     "text": [
      "CRYPTO:CSUSD\n"
     ]
    },
    {
     "name": "stderr",
     "output_type": "stream",
     "text": [
      "ERROR:tvDatafeed.main:The read operation timed out\n",
      "ERROR:tvDatafeed.main:no data, please check the exchange and symbol\n"
     ]
    },
    {
     "name": "stdout",
     "output_type": "stream",
     "text": [
      "CRYPTO:POAUSD\n"
     ]
    },
    {
     "name": "stderr",
     "output_type": "stream",
     "text": [
      "ERROR:tvDatafeed.main:The read operation timed out\n",
      "ERROR:tvDatafeed.main:no data, please check the exchange and symbol\n"
     ]
    },
    {
     "name": "stdout",
     "output_type": "stream",
     "text": [
      "CRYPTO:AUTOUSD\n"
     ]
    },
    {
     "name": "stderr",
     "output_type": "stream",
     "text": [
      "ERROR:tvDatafeed.main:The read operation timed out\n",
      "ERROR:tvDatafeed.main:no data, please check the exchange and symbol\n"
     ]
    },
    {
     "name": "stdout",
     "output_type": "stream",
     "text": [
      "CRYPTO:TKYUSD\n",
      "datetime\n",
      "2019-03-21 08:00:00    0.1877\n",
      "2019-03-22 08:00:00    0.4636\n",
      "2019-03-23 08:00:00    0.4500\n",
      "2019-03-24 08:00:00    0.4704\n",
      "2019-03-25 08:00:00    0.5902\n",
      "                        ...  \n",
      "2023-09-23 08:00:00    0.2038\n",
      "2023-09-24 08:00:00    0.2049\n",
      "2023-09-25 08:00:00    0.2060\n",
      "2023-09-26 08:00:00    0.2001\n",
      "2023-09-27 08:00:00    0.2015\n",
      "Name: close, Length: 1539, dtype: float64\n",
      "Index(['symbol', 'open', 'high', 'low', 'close', 'volume'], dtype='object')\n",
      "datetime\n",
      "2022-07-21 08:00:00    0.11200\n",
      "2022-07-22 08:00:00    0.10690\n",
      "2022-07-23 08:00:00    0.10200\n",
      "2022-07-24 08:00:00    0.10320\n",
      "2022-07-25 08:00:00    0.10700\n",
      "                        ...   \n",
      "2023-09-23 08:00:00    0.07350\n",
      "2023-09-24 08:00:00    0.07310\n",
      "2023-09-25 08:00:00    0.07363\n",
      "2023-09-26 08:00:00    0.07182\n",
      "2023-09-27 08:00:00    0.07370\n",
      "Name: close, Length: 434, dtype: float64\n",
      "Index(['symbol', 'open', 'high', 'low', 'close', 'volume'], dtype='object')\n"
     ]
    },
    {
     "name": "stderr",
     "output_type": "stream",
     "text": [
      "ERROR:tvDatafeed.main:The read operation timed out\n",
      "ERROR:tvDatafeed.main:no data, please check the exchange and symbol\n"
     ]
    },
    {
     "name": "stdout",
     "output_type": "stream",
     "text": [
      "CRYPTO:BOSUSD\n"
     ]
    },
    {
     "name": "stderr",
     "output_type": "stream",
     "text": [
      "ERROR:tvDatafeed.main:The read operation timed out\n",
      "ERROR:tvDatafeed.main:no data, please check the exchange and symbol\n"
     ]
    },
    {
     "name": "stdout",
     "output_type": "stream",
     "text": [
      "CRYPTO:SMTUSD\n"
     ]
    },
    {
     "name": "stderr",
     "output_type": "stream",
     "text": [
      "ERROR:tvDatafeed.main:The read operation timed out\n",
      "ERROR:tvDatafeed.main:no data, please check the exchange and symbol\n"
     ]
    },
    {
     "name": "stdout",
     "output_type": "stream",
     "text": [
      "CRYPTO:EVNUSD\n"
     ]
    },
    {
     "name": "stderr",
     "output_type": "stream",
     "text": [
      "ERROR:tvDatafeed.main:The read operation timed out\n",
      "ERROR:tvDatafeed.main:no data, please check the exchange and symbol\n"
     ]
    },
    {
     "name": "stdout",
     "output_type": "stream",
     "text": [
      "CRYPTO:RUFFUSD\n"
     ]
    },
    {
     "name": "stderr",
     "output_type": "stream",
     "text": [
      "ERROR:tvDatafeed.main:The read operation timed out\n",
      "ERROR:tvDatafeed.main:no data, please check the exchange and symbol\n"
     ]
    },
    {
     "name": "stdout",
     "output_type": "stream",
     "text": [
      "CRYPTO:DDDUSD\n",
      "datetime\n",
      "2018-03-14 08:00:00    0.081482\n",
      "2018-03-15 08:00:00    0.090362\n",
      "2018-03-16 08:00:00    0.098229\n",
      "2018-03-17 08:00:00    0.087332\n",
      "2018-03-18 08:00:00    0.088821\n",
      "                         ...   \n",
      "2023-09-23 08:00:00    0.108248\n",
      "2023-09-24 08:00:00    0.086624\n",
      "2023-09-25 08:00:00    0.107057\n",
      "2023-09-26 08:00:00    0.120082\n",
      "2023-09-27 08:00:00    0.118268\n",
      "Name: close, Length: 2024, dtype: float64\n",
      "Index(['symbol', 'open', 'high', 'low', 'close', 'volume'], dtype='object')\n"
     ]
    },
    {
     "name": "stderr",
     "output_type": "stream",
     "text": [
      "ERROR:tvDatafeed.main:The read operation timed out\n",
      "ERROR:tvDatafeed.main:no data, please check the exchange and symbol\n"
     ]
    },
    {
     "name": "stdout",
     "output_type": "stream",
     "text": [
      "CRYPTO:CRPTUSD\n"
     ]
    },
    {
     "name": "stderr",
     "output_type": "stream",
     "text": [
      "ERROR:tvDatafeed.main:The read operation timed out\n",
      "ERROR:tvDatafeed.main:no data, please check the exchange and symbol\n"
     ]
    },
    {
     "name": "stdout",
     "output_type": "stream",
     "text": [
      "CRYPTO:CSCUSD\n",
      "datetime\n",
      "2018-03-23 08:00:00    4.250196\n",
      "2018-03-24 08:00:00    4.140099\n",
      "2018-03-25 08:00:00    4.163830\n",
      "2018-03-26 08:00:00    3.757391\n",
      "2018-03-27 08:00:00    3.359278\n",
      "                         ...   \n",
      "2023-09-23 08:00:00    0.185588\n",
      "2023-09-24 08:00:00    0.180430\n",
      "2023-09-25 08:00:00    0.186751\n",
      "2023-09-26 08:00:00    0.186385\n",
      "2023-09-27 08:00:00    0.184560\n",
      "Name: close, Length: 2015, dtype: float64\n",
      "Index(['symbol', 'open', 'high', 'low', 'close', 'volume'], dtype='object')\n"
     ]
    },
    {
     "name": "stderr",
     "output_type": "stream",
     "text": [
      "ERROR:tvDatafeed.main:The read operation timed out\n",
      "ERROR:tvDatafeed.main:no data, please check the exchange and symbol\n"
     ]
    },
    {
     "name": "stdout",
     "output_type": "stream",
     "text": [
      "CRYPTO:BTCPUSD\n"
     ]
    },
    {
     "name": "stderr",
     "output_type": "stream",
     "text": [
      "ERROR:tvDatafeed.main:The read operation timed out\n",
      "ERROR:tvDatafeed.main:no data, please check the exchange and symbol\n"
     ]
    },
    {
     "name": "stdout",
     "output_type": "stream",
     "text": [
      "CRYPTO:XINUSD\n",
      "datetime\n",
      "2019-11-22 08:00:00    0.133100\n",
      "2019-11-23 08:00:00    0.123798\n",
      "2019-11-24 08:00:00    0.095613\n",
      "2019-11-25 08:00:00    0.088560\n",
      "2019-11-26 08:00:00    0.093530\n",
      "                         ...   \n",
      "2023-09-23 08:00:00    0.123360\n",
      "2023-09-24 08:00:00    0.120965\n",
      "2023-09-25 08:00:00    0.122313\n",
      "2023-09-26 08:00:00    0.121671\n",
      "2023-09-27 08:00:00    0.121015\n",
      "Name: close, Length: 1406, dtype: float64\n",
      "Index(['symbol', 'open', 'high', 'low', 'close', 'volume'], dtype='object')\n",
      "datetime\n",
      "2020-09-17 08:00:00    0.081875\n",
      "2020-09-18 08:00:00    0.069533\n",
      "2020-09-19 08:00:00    0.075733\n",
      "2020-09-20 08:00:00    0.070318\n",
      "2020-09-21 08:00:00    0.064622\n",
      "                         ...   \n",
      "2023-09-23 08:00:00    0.014419\n",
      "2023-09-24 08:00:00    0.014942\n",
      "2023-09-25 08:00:00    0.014094\n",
      "2023-09-26 08:00:00    0.014413\n",
      "2023-09-27 08:00:00    0.013248\n",
      "Name: close, Length: 1104, dtype: float64\n",
      "Index(['symbol', 'open', 'high', 'low', 'close', 'volume'], dtype='object')\n",
      "datetime\n",
      "2021-05-13 08:00:00    7.55000\n",
      "2021-05-14 08:00:00    7.72250\n",
      "2021-05-15 08:00:00    7.39430\n",
      "2021-05-16 08:00:00    6.62830\n",
      "2021-05-17 08:00:00    6.46830\n",
      "                        ...   \n",
      "2023-09-23 08:00:00    1.46300\n",
      "2023-09-24 08:00:00    1.38600\n",
      "2023-09-25 08:00:00    1.40100\n",
      "2023-09-26 08:00:00    1.40206\n",
      "2023-09-27 08:00:00    1.40121\n",
      "Name: close, Length: 868, dtype: float64\n",
      "Index(['symbol', 'open', 'high', 'low', 'close', 'volume'], dtype='object')\n",
      "datetime\n",
      "2021-05-04 08:00:00    23.704400\n",
      "2021-05-05 08:00:00    25.289400\n",
      "2021-05-06 08:00:00    23.771800\n",
      "2021-05-07 08:00:00    26.149600\n",
      "2021-05-08 08:00:00    26.066600\n",
      "                         ...    \n",
      "2023-09-23 08:00:00     2.457609\n",
      "2023-09-24 08:00:00     2.466013\n",
      "2023-09-25 08:00:00     2.438389\n",
      "2023-09-26 08:00:00     2.423839\n",
      "2023-09-27 08:00:00     2.414319\n",
      "Name: close, Length: 876, dtype: float64\n",
      "Index(['symbol', 'open', 'high', 'low', 'close', 'volume'], dtype='object')\n"
     ]
    },
    {
     "name": "stderr",
     "output_type": "stream",
     "text": [
      "ERROR:tvDatafeed.main:The read operation timed out\n",
      "ERROR:tvDatafeed.main:no data, please check the exchange and symbol\n"
     ]
    },
    {
     "name": "stdout",
     "output_type": "stream",
     "text": [
      "CRYPTO:GTCUSD\n"
     ]
    },
    {
     "name": "stderr",
     "output_type": "stream",
     "text": [
      "ERROR:tvDatafeed.main:The read operation timed out\n",
      "ERROR:tvDatafeed.main:no data, please check the exchange and symbol\n"
     ]
    },
    {
     "name": "stdout",
     "output_type": "stream",
     "text": [
      "CRYPTO:BTOUSD\n"
     ]
    },
    {
     "name": "stderr",
     "output_type": "stream",
     "text": [
      "ERROR:tvDatafeed.main:The read operation timed out\n",
      "ERROR:tvDatafeed.main:no data, please check the exchange and symbol\n"
     ]
    },
    {
     "name": "stdout",
     "output_type": "stream",
     "text": [
      "CRYPTO:TPAYUSD\n"
     ]
    },
    {
     "name": "stderr",
     "output_type": "stream",
     "text": [
      "ERROR:tvDatafeed.main:The read operation timed out\n",
      "ERROR:tvDatafeed.main:no data, please check the exchange and symbol\n"
     ]
    },
    {
     "name": "stdout",
     "output_type": "stream",
     "text": [
      "CRYPTO:LCCUSD\n"
     ]
    },
    {
     "name": "stderr",
     "output_type": "stream",
     "text": [
      "ERROR:tvDatafeed.main:The read operation timed out\n",
      "ERROR:tvDatafeed.main:no data, please check the exchange and symbol\n"
     ]
    },
    {
     "name": "stdout",
     "output_type": "stream",
     "text": [
      "CRYPTO:CPXUSD\n"
     ]
    },
    {
     "name": "stderr",
     "output_type": "stream",
     "text": [
      "ERROR:tvDatafeed.main:The read operation timed out\n",
      "ERROR:tvDatafeed.main:no data, please check the exchange and symbol\n"
     ]
    },
    {
     "name": "stdout",
     "output_type": "stream",
     "text": [
      "CRYPTO:SOCUSD\n",
      "datetime\n",
      "2018-03-08 08:00:00    0.635942\n",
      "2018-03-09 08:00:00    0.621617\n",
      "2018-03-10 08:00:00    0.571669\n",
      "2018-03-11 08:00:00    0.636696\n",
      "2018-03-12 08:00:00    0.671711\n",
      "                         ...   \n",
      "2023-09-23 08:00:00    1.323662\n",
      "2023-09-24 08:00:00    1.254743\n",
      "2023-09-25 08:00:00    1.268807\n",
      "2023-09-26 08:00:00    1.268919\n",
      "2023-09-27 08:00:00    1.253500\n",
      "Name: close, Length: 2030, dtype: float64\n",
      "Index(['symbol', 'open', 'high', 'low', 'close', 'volume'], dtype='object')\n"
     ]
    },
    {
     "name": "stderr",
     "output_type": "stream",
     "text": [
      "ERROR:tvDatafeed.main:The read operation timed out\n",
      "ERROR:tvDatafeed.main:no data, please check the exchange and symbol\n"
     ]
    },
    {
     "name": "stdout",
     "output_type": "stream",
     "text": [
      "CRYPTO:XPMUSD\n"
     ]
    },
    {
     "name": "stderr",
     "output_type": "stream",
     "text": [
      "ERROR:tvDatafeed.main:The read operation timed out\n",
      "ERROR:tvDatafeed.main:no data, please check the exchange and symbol\n"
     ]
    },
    {
     "name": "stdout",
     "output_type": "stream",
     "text": [
      "CRYPTO:NANJUSD\n"
     ]
    },
    {
     "name": "stderr",
     "output_type": "stream",
     "text": [
      "ERROR:tvDatafeed.main:The read operation timed out\n",
      "ERROR:tvDatafeed.main:no data, please check the exchange and symbol\n"
     ]
    },
    {
     "name": "stdout",
     "output_type": "stream",
     "text": [
      "CRYPTO:WICCUSD\n",
      "datetime\n",
      "2021-08-11 08:00:00    0.011486\n",
      "2021-08-12 08:00:00    0.010975\n",
      "2021-08-13 08:00:00    0.011876\n",
      "2021-08-15 08:00:00    0.011780\n",
      "2021-08-16 08:00:00    0.011275\n",
      "                         ...   \n",
      "2023-09-23 08:00:00    0.001045\n",
      "2023-09-24 08:00:00    0.001017\n",
      "2023-09-25 08:00:00    0.001025\n",
      "2023-09-26 08:00:00    0.001025\n",
      "2023-09-27 08:00:00    0.001023\n",
      "Name: close, Length: 777, dtype: float64\n",
      "Index(['symbol', 'open', 'high', 'low', 'close', 'volume'], dtype='object')\n"
     ]
    },
    {
     "name": "stderr",
     "output_type": "stream",
     "text": [
      "ERROR:tvDatafeed.main:The read operation timed out\n",
      "ERROR:tvDatafeed.main:no data, please check the exchange and symbol\n"
     ]
    },
    {
     "name": "stdout",
     "output_type": "stream",
     "text": [
      "CRYPTO:BFTUSD\n"
     ]
    },
    {
     "name": "stderr",
     "output_type": "stream",
     "text": [
      "ERROR:tvDatafeed.main:The read operation timed out\n",
      "ERROR:tvDatafeed.main:no data, please check the exchange and symbol\n"
     ]
    },
    {
     "name": "stdout",
     "output_type": "stream",
     "text": [
      "CRYPTO:TRUEUSD\n",
      "datetime\n",
      "2021-07-07 08:00:00    1.671400\n",
      "2021-07-08 08:00:00    1.600100\n",
      "2021-07-09 08:00:00    1.639100\n",
      "2021-07-10 08:00:00    1.628000\n",
      "2021-07-11 08:00:00    1.628200\n",
      "                         ...   \n",
      "2023-09-23 08:00:00    0.562340\n",
      "2023-09-24 08:00:00    0.554147\n",
      "2023-09-25 08:00:00    0.551120\n",
      "2023-09-26 08:00:00    0.551096\n",
      "2023-09-27 08:00:00    0.547393\n",
      "Name: close, Length: 813, dtype: float64\n",
      "Index(['symbol', 'open', 'high', 'low', 'close', 'volume'], dtype='object')\n"
     ]
    },
    {
     "name": "stderr",
     "output_type": "stream",
     "text": [
      "ERROR:tvDatafeed.main:The read operation timed out\n",
      "ERROR:tvDatafeed.main:no data, please check the exchange and symbol\n"
     ]
    },
    {
     "name": "stdout",
     "output_type": "stream",
     "text": [
      "CRYPTO:EOSDACUSD\n"
     ]
    },
    {
     "name": "stderr",
     "output_type": "stream",
     "text": [
      "ERROR:tvDatafeed.main:The read operation timed out\n",
      "ERROR:tvDatafeed.main:no data, please check the exchange and symbol\n"
     ]
    },
    {
     "name": "stdout",
     "output_type": "stream",
     "text": [
      "CRYPTO:STQUSD\n"
     ]
    },
    {
     "name": "stderr",
     "output_type": "stream",
     "text": [
      "ERROR:tvDatafeed.main:The read operation timed out\n",
      "ERROR:tvDatafeed.main:no data, please check the exchange and symbol\n"
     ]
    },
    {
     "name": "stdout",
     "output_type": "stream",
     "text": [
      "CRYPTO:LYMUSD\n"
     ]
    },
    {
     "name": "stderr",
     "output_type": "stream",
     "text": [
      "ERROR:tvDatafeed.main:The read operation timed out\n",
      "ERROR:tvDatafeed.main:no data, please check the exchange and symbol\n"
     ]
    },
    {
     "name": "stdout",
     "output_type": "stream",
     "text": [
      "CRYPTO:IHTUSD\n"
     ]
    },
    {
     "name": "stderr",
     "output_type": "stream",
     "text": [
      "ERROR:tvDatafeed.main:The read operation timed out\n",
      "ERROR:tvDatafeed.main:no data, please check the exchange and symbol\n"
     ]
    },
    {
     "name": "stdout",
     "output_type": "stream",
     "text": [
      "CRYPTO:MTCUSD\n",
      "datetime\n",
      "2021-11-02 08:00:00    2.6491\n",
      "2021-11-03 08:00:00    2.3704\n",
      "2021-11-04 08:00:00    1.8300\n",
      "2021-11-05 08:00:00    1.7613\n",
      "2021-11-06 08:00:00    2.3397\n",
      "                        ...  \n",
      "2023-09-23 08:00:00    0.2302\n",
      "2023-09-24 08:00:00    0.2279\n",
      "2023-09-25 08:00:00    0.2289\n",
      "2023-09-26 08:00:00    0.2311\n",
      "2023-09-27 08:00:00    0.2265\n",
      "Name: close, Length: 695, dtype: float64\n",
      "Index(['symbol', 'open', 'high', 'low', 'close', 'volume'], dtype='object')\n"
     ]
    },
    {
     "name": "stderr",
     "output_type": "stream",
     "text": [
      "ERROR:tvDatafeed.main:The read operation timed out\n",
      "ERROR:tvDatafeed.main:no data, please check the exchange and symbol\n"
     ]
    },
    {
     "name": "stdout",
     "output_type": "stream",
     "text": [
      "CRYPTO:ZEBIUSD\n"
     ]
    },
    {
     "name": "stderr",
     "output_type": "stream",
     "text": [
      "ERROR:tvDatafeed.main:The read operation timed out\n",
      "ERROR:tvDatafeed.main:no data, please check the exchange and symbol\n"
     ]
    },
    {
     "name": "stdout",
     "output_type": "stream",
     "text": [
      "CRYPTO:CVTUSD\n"
     ]
    },
    {
     "name": "stderr",
     "output_type": "stream",
     "text": [
      "ERROR:tvDatafeed.main:The read operation timed out\n",
      "ERROR:tvDatafeed.main:no data, please check the exchange and symbol\n"
     ]
    },
    {
     "name": "stdout",
     "output_type": "stream",
     "text": [
      "CRYPTO:MOACUSD\n",
      "datetime\n",
      "2018-05-31 08:00:00    0.973491\n",
      "2018-06-01 08:00:00    0.971408\n",
      "2018-06-02 08:00:00    0.970981\n",
      "2018-06-03 08:00:00    0.971003\n",
      "2018-06-04 08:00:00    0.970511\n",
      "                         ...   \n",
      "2023-09-23 08:00:00    0.996586\n",
      "2023-09-24 08:00:00    0.996890\n",
      "2023-09-25 08:00:00    0.998343\n",
      "2023-09-26 08:00:00    0.998197\n",
      "2023-09-27 08:00:00    0.997870\n",
      "Name: close, Length: 1942, dtype: float64\n",
      "Index(['symbol', 'open', 'high', 'low', 'close', 'volume'], dtype='object')\n",
      "datetime\n",
      "2019-08-27 08:00:00    0.001638\n",
      "2019-08-28 08:00:00    0.001490\n",
      "2019-08-29 08:00:00    0.001425\n",
      "2019-08-30 08:00:00    0.001460\n",
      "2019-08-31 08:00:00    0.001443\n",
      "                         ...   \n",
      "2023-09-23 08:00:00    0.005423\n",
      "2023-09-24 08:00:00    0.005152\n",
      "2023-09-25 08:00:00    0.005262\n",
      "2023-09-26 08:00:00    0.005153\n",
      "2023-09-27 08:00:00    0.005130\n",
      "Name: close, Length: 1493, dtype: float64\n",
      "Index(['symbol', 'open', 'high', 'low', 'close', 'volume'], dtype='object')\n"
     ]
    },
    {
     "name": "stderr",
     "output_type": "stream",
     "text": [
      "ERROR:tvDatafeed.main:The read operation timed out\n",
      "ERROR:tvDatafeed.main:no data, please check the exchange and symbol\n"
     ]
    },
    {
     "name": "stdout",
     "output_type": "stream",
     "text": [
      "CRYPTO:SAIUSD\n"
     ]
    },
    {
     "name": "stderr",
     "output_type": "stream",
     "text": [
      "ERROR:tvDatafeed.main:The read operation timed out\n",
      "ERROR:tvDatafeed.main:no data, please check the exchange and symbol\n"
     ]
    },
    {
     "name": "stdout",
     "output_type": "stream",
     "text": [
      "CRYPTO:ODEUSD\n"
     ]
    },
    {
     "name": "stderr",
     "output_type": "stream",
     "text": [
      "ERROR:tvDatafeed.main:The read operation timed out\n",
      "ERROR:tvDatafeed.main:no data, please check the exchange and symbol\n"
     ]
    },
    {
     "name": "stdout",
     "output_type": "stream",
     "text": [
      "CRYPTO:SFTUSD\n"
     ]
    },
    {
     "name": "stderr",
     "output_type": "stream",
     "text": [
      "ERROR:tvDatafeed.main:The read operation timed out\n",
      "ERROR:tvDatafeed.main:no data, please check the exchange and symbol\n"
     ]
    },
    {
     "name": "stdout",
     "output_type": "stream",
     "text": [
      "CRYPTO:EKTUSD\n"
     ]
    },
    {
     "name": "stderr",
     "output_type": "stream",
     "text": [
      "ERROR:tvDatafeed.main:The read operation timed out\n",
      "ERROR:tvDatafeed.main:no data, please check the exchange and symbol\n"
     ]
    },
    {
     "name": "stdout",
     "output_type": "stream",
     "text": [
      "CRYPTO:OCNUSD\n"
     ]
    },
    {
     "name": "stderr",
     "output_type": "stream",
     "text": [
      "ERROR:tvDatafeed.main:The read operation timed out\n",
      "ERROR:tvDatafeed.main:no data, please check the exchange and symbol\n"
     ]
    },
    {
     "name": "stdout",
     "output_type": "stream",
     "text": [
      "CRYPTO:XSNUSD\n"
     ]
    },
    {
     "name": "stderr",
     "output_type": "stream",
     "text": [
      "ERROR:tvDatafeed.main:The read operation timed out\n",
      "ERROR:tvDatafeed.main:no data, please check the exchange and symbol\n"
     ]
    },
    {
     "name": "stdout",
     "output_type": "stream",
     "text": [
      "CRYPTO:TIOUSD\n",
      "datetime\n",
      "2017-10-02 08:00:00    1.875930\n",
      "2017-10-03 08:00:00    1.916590\n",
      "2017-10-04 08:00:00    2.182960\n",
      "2017-10-05 08:00:00    2.107110\n",
      "2017-10-06 08:00:00    2.171410\n",
      "                         ...   \n",
      "2023-09-23 08:00:00    0.665614\n",
      "2023-09-24 08:00:00    0.652147\n",
      "2023-09-25 08:00:00    0.657489\n",
      "2023-09-26 08:00:00    0.652047\n",
      "2023-09-27 08:00:00    0.657110\n",
      "Name: close, Length: 2187, dtype: float64\n",
      "Index(['symbol', 'open', 'high', 'low', 'close', 'volume'], dtype='object')\n"
     ]
    },
    {
     "name": "stderr",
     "output_type": "stream",
     "text": [
      "ERROR:tvDatafeed.main:The read operation timed out\n",
      "ERROR:tvDatafeed.main:no data, please check the exchange and symbol\n"
     ]
    },
    {
     "name": "stdout",
     "output_type": "stream",
     "text": [
      "CRYPTO:NPXSUSD\n"
     ]
    },
    {
     "name": "stderr",
     "output_type": "stream",
     "text": [
      "ERROR:tvDatafeed.main:The read operation timed out\n",
      "ERROR:tvDatafeed.main:no data, please check the exchange and symbol\n"
     ]
    },
    {
     "name": "stdout",
     "output_type": "stream",
     "text": [
      "CRYPTO:KICKUSD\n"
     ]
    },
    {
     "name": "stderr",
     "output_type": "stream",
     "text": [
      "ERROR:tvDatafeed.main:The read operation timed out\n",
      "ERROR:tvDatafeed.main:no data, please check the exchange and symbol\n"
     ]
    },
    {
     "name": "stdout",
     "output_type": "stream",
     "text": [
      "CRYPTO:PZMUSD\n"
     ]
    },
    {
     "name": "stderr",
     "output_type": "stream",
     "text": [
      "ERROR:tvDatafeed.main:Connection to remote host was lost.\n",
      "ERROR:tvDatafeed.main:no data, please check the exchange and symbol\n"
     ]
    },
    {
     "name": "stdout",
     "output_type": "stream",
     "text": [
      "CRYPTO:NMCUSD\n"
     ]
    },
    {
     "name": "stderr",
     "output_type": "stream",
     "text": [
      "ERROR:tvDatafeed.main:The read operation timed out\n",
      "ERROR:tvDatafeed.main:no data, please check the exchange and symbol\n"
     ]
    },
    {
     "name": "stdout",
     "output_type": "stream",
     "text": [
      "CRYPTO:NTYUSD\n",
      "datetime\n",
      "2018-06-04 08:00:00    0.293720\n",
      "2018-06-05 08:00:00    0.229459\n",
      "2018-06-06 08:00:00    0.186085\n",
      "2018-06-07 08:00:00    0.177475\n",
      "2018-06-08 08:00:00    0.162162\n",
      "                         ...   \n",
      "2023-09-23 08:00:00    0.008067\n",
      "2023-09-24 08:00:00    0.007875\n",
      "2023-09-25 08:00:00    0.007921\n",
      "2023-09-26 08:00:00    0.008109\n",
      "2023-09-27 08:00:00    0.007879\n",
      "Name: close, Length: 1942, dtype: float64\n",
      "Index(['symbol', 'open', 'high', 'low', 'close', 'volume'], dtype='object')\n"
     ]
    },
    {
     "name": "stderr",
     "output_type": "stream",
     "text": [
      "ERROR:tvDatafeed.main:Connection to remote host was lost.\n",
      "ERROR:tvDatafeed.main:no data, please check the exchange and symbol\n"
     ]
    },
    {
     "name": "stdout",
     "output_type": "stream",
     "text": [
      "CRYPTO:TTUUSD\n"
     ]
    },
    {
     "name": "stderr",
     "output_type": "stream",
     "text": [
      "ERROR:tvDatafeed.main:Connection to remote host was lost.\n",
      "ERROR:tvDatafeed.main:no data, please check the exchange and symbol\n"
     ]
    },
    {
     "name": "stdout",
     "output_type": "stream",
     "text": [
      "CRYPTO:NOAHUSD\n"
     ]
    },
    {
     "name": "stderr",
     "output_type": "stream",
     "text": [
      "ERROR:tvDatafeed.main:Connection to remote host was lost.\n",
      "ERROR:tvDatafeed.main:no data, please check the exchange and symbol\n"
     ]
    },
    {
     "name": "stdout",
     "output_type": "stream",
     "text": [
      "CRYPTO:BITCNYUSD\n"
     ]
    },
    {
     "name": "stderr",
     "output_type": "stream",
     "text": [
      "ERROR:tvDatafeed.main:Connection to remote host was lost.\n",
      "ERROR:tvDatafeed.main:no data, please check the exchange and symbol\n"
     ]
    },
    {
     "name": "stdout",
     "output_type": "stream",
     "text": [
      "CRYPTO:BCIUSD\n"
     ]
    },
    {
     "name": "stderr",
     "output_type": "stream",
     "text": [
      "ERROR:tvDatafeed.main:Connection to remote host was lost.\n",
      "ERROR:tvDatafeed.main:no data, please check the exchange and symbol\n"
     ]
    },
    {
     "name": "stdout",
     "output_type": "stream",
     "text": [
      "CRYPTO:RKTUSD\n"
     ]
    },
    {
     "name": "stderr",
     "output_type": "stream",
     "text": [
      "ERROR:tvDatafeed.main:Connection to remote host was lost.\n",
      "ERROR:tvDatafeed.main:no data, please check the exchange and symbol\n"
     ]
    },
    {
     "name": "stdout",
     "output_type": "stream",
     "text": [
      "CRYPTO:VETUSD\n"
     ]
    },
    {
     "name": "stderr",
     "output_type": "stream",
     "text": [
      "ERROR:tvDatafeed.main:Connection to remote host was lost.\n",
      "ERROR:tvDatafeed.main:no data, please check the exchange and symbol\n"
     ]
    },
    {
     "name": "stdout",
     "output_type": "stream",
     "text": [
      "CRYPTO:AOAUSD\n"
     ]
    },
    {
     "name": "stderr",
     "output_type": "stream",
     "text": [
      "ERROR:tvDatafeed.main:Connection to remote host was lost.\n",
      "ERROR:tvDatafeed.main:no data, please check the exchange and symbol\n"
     ]
    },
    {
     "name": "stdout",
     "output_type": "stream",
     "text": [
      "CRYPTO:RVNUSD\n"
     ]
    },
    {
     "name": "stderr",
     "output_type": "stream",
     "text": [
      "ERROR:tvDatafeed.main:Connection to remote host was lost.\n",
      "ERROR:tvDatafeed.main:no data, please check the exchange and symbol\n"
     ]
    },
    {
     "name": "stdout",
     "output_type": "stream",
     "text": [
      "CRYPTO:DIGUSD\n"
     ]
    },
    {
     "name": "stderr",
     "output_type": "stream",
     "text": [
      "ERROR:tvDatafeed.main:The read operation timed out\n",
      "ERROR:tvDatafeed.main:no data, please check the exchange and symbol\n"
     ]
    },
    {
     "name": "stdout",
     "output_type": "stream",
     "text": [
      "CRYPTO:GOUSD\n"
     ]
    },
    {
     "name": "stderr",
     "output_type": "stream",
     "text": [
      "ERROR:tvDatafeed.main:The read operation timed out\n",
      "ERROR:tvDatafeed.main:no data, please check the exchange and symbol\n"
     ]
    },
    {
     "name": "stdout",
     "output_type": "stream",
     "text": [
      "CRYPTO:TENUSD\n"
     ]
    },
    {
     "name": "stderr",
     "output_type": "stream",
     "text": [
      "ERROR:tvDatafeed.main:The read operation timed out\n",
      "ERROR:tvDatafeed.main:no data, please check the exchange and symbol\n"
     ]
    },
    {
     "name": "stdout",
     "output_type": "stream",
     "text": [
      "CRYPTO:ATXUSD\n"
     ]
    },
    {
     "name": "stderr",
     "output_type": "stream",
     "text": [
      "ERROR:tvDatafeed.main:The read operation timed out\n",
      "ERROR:tvDatafeed.main:no data, please check the exchange and symbol\n"
     ]
    },
    {
     "name": "stdout",
     "output_type": "stream",
     "text": [
      "CRYPTO:LKYUSD\n"
     ]
    },
    {
     "name": "stderr",
     "output_type": "stream",
     "text": [
      "ERROR:tvDatafeed.main:The read operation timed out\n",
      "ERROR:tvDatafeed.main:no data, please check the exchange and symbol\n"
     ]
    },
    {
     "name": "stdout",
     "output_type": "stream",
     "text": [
      "CRYPTO:DAXUSD\n"
     ]
    },
    {
     "name": "stderr",
     "output_type": "stream",
     "text": [
      "ERROR:tvDatafeed.main:The read operation timed out\n",
      "ERROR:tvDatafeed.main:no data, please check the exchange and symbol\n"
     ]
    },
    {
     "name": "stdout",
     "output_type": "stream",
     "text": [
      "CRYPTO:UNOUSD\n"
     ]
    },
    {
     "name": "stderr",
     "output_type": "stream",
     "text": [
      "ERROR:tvDatafeed.main:The read operation timed out\n",
      "ERROR:tvDatafeed.main:no data, please check the exchange and symbol\n"
     ]
    },
    {
     "name": "stdout",
     "output_type": "stream",
     "text": [
      "CRYPTO:XWCUSD\n"
     ]
    },
    {
     "name": "stderr",
     "output_type": "stream",
     "text": [
      "ERROR:tvDatafeed.main:The read operation timed out\n",
      "ERROR:tvDatafeed.main:no data, please check the exchange and symbol\n"
     ]
    },
    {
     "name": "stdout",
     "output_type": "stream",
     "text": [
      "CRYPTO:NECUSD\n"
     ]
    },
    {
     "name": "stderr",
     "output_type": "stream",
     "text": [
      "ERROR:tvDatafeed.main:The read operation timed out\n",
      "ERROR:tvDatafeed.main:no data, please check the exchange and symbol\n"
     ]
    },
    {
     "name": "stdout",
     "output_type": "stream",
     "text": [
      "CRYPTO:SKBUSD\n"
     ]
    },
    {
     "name": "stderr",
     "output_type": "stream",
     "text": [
      "ERROR:tvDatafeed.main:The read operation timed out\n",
      "ERROR:tvDatafeed.main:no data, please check the exchange and symbol\n"
     ]
    },
    {
     "name": "stdout",
     "output_type": "stream",
     "text": [
      "CRYPTO:EDRUSD\n"
     ]
    },
    {
     "name": "stderr",
     "output_type": "stream",
     "text": [
      "ERROR:tvDatafeed.main:The read operation timed out\n",
      "ERROR:tvDatafeed.main:no data, please check the exchange and symbol\n"
     ]
    },
    {
     "name": "stdout",
     "output_type": "stream",
     "text": [
      "CRYPTO:BHPUSD\n"
     ]
    },
    {
     "name": "stderr",
     "output_type": "stream",
     "text": [
      "ERROR:tvDatafeed.main:The read operation timed out\n",
      "ERROR:tvDatafeed.main:no data, please check the exchange and symbol\n"
     ]
    },
    {
     "name": "stdout",
     "output_type": "stream",
     "text": [
      "CRYPTO:MFTUSD\n"
     ]
    },
    {
     "name": "stderr",
     "output_type": "stream",
     "text": [
      "ERROR:tvDatafeed.main:The read operation timed out\n",
      "ERROR:tvDatafeed.main:no data, please check the exchange and symbol\n"
     ]
    },
    {
     "name": "stdout",
     "output_type": "stream",
     "text": [
      "CRYPTO:XETUSD\n"
     ]
    },
    {
     "name": "stderr",
     "output_type": "stream",
     "text": [
      "ERROR:tvDatafeed.main:The read operation timed out\n",
      "ERROR:tvDatafeed.main:no data, please check the exchange and symbol\n"
     ]
    },
    {
     "name": "stdout",
     "output_type": "stream",
     "text": [
      "CRYPTO:ZIPUSD\n"
     ]
    },
    {
     "name": "stderr",
     "output_type": "stream",
     "text": [
      "ERROR:tvDatafeed.main:The read operation timed out\n",
      "ERROR:tvDatafeed.main:no data, please check the exchange and symbol\n"
     ]
    },
    {
     "name": "stdout",
     "output_type": "stream",
     "text": [
      "CRYPTO:GCRUSD\n"
     ]
    },
    {
     "name": "stderr",
     "output_type": "stream",
     "text": [
      "ERROR:tvDatafeed.main:The read operation timed out\n",
      "ERROR:tvDatafeed.main:no data, please check the exchange and symbol\n"
     ]
    },
    {
     "name": "stdout",
     "output_type": "stream",
     "text": [
      "CRYPTO:APLUSD\n"
     ]
    },
    {
     "name": "stderr",
     "output_type": "stream",
     "text": [
      "ERROR:tvDatafeed.main:The read operation timed out\n",
      "ERROR:tvDatafeed.main:no data, please check the exchange and symbol\n"
     ]
    },
    {
     "name": "stdout",
     "output_type": "stream",
     "text": [
      "CRYPTO:RNTUSD\n"
     ]
    },
    {
     "name": "stderr",
     "output_type": "stream",
     "text": [
      "ERROR:tvDatafeed.main:The read operation timed out\n",
      "ERROR:tvDatafeed.main:no data, please check the exchange and symbol\n"
     ]
    },
    {
     "name": "stdout",
     "output_type": "stream",
     "text": [
      "CRYPTO:DGTXUSD\n"
     ]
    },
    {
     "name": "stderr",
     "output_type": "stream",
     "text": [
      "ERROR:tvDatafeed.main:The read operation timed out\n",
      "ERROR:tvDatafeed.main:no data, please check the exchange and symbol\n"
     ]
    },
    {
     "name": "stdout",
     "output_type": "stream",
     "text": [
      "CRYPTO:SXDTUSD\n"
     ]
    },
    {
     "name": "stderr",
     "output_type": "stream",
     "text": [
      "ERROR:tvDatafeed.main:The read operation timed out\n",
      "ERROR:tvDatafeed.main:no data, please check the exchange and symbol\n"
     ]
    },
    {
     "name": "stdout",
     "output_type": "stream",
     "text": [
      "CRYPTO:APISUSD\n"
     ]
    },
    {
     "name": "stderr",
     "output_type": "stream",
     "text": [
      "ERROR:tvDatafeed.main:The read operation timed out\n",
      "ERROR:tvDatafeed.main:no data, please check the exchange and symbol\n"
     ]
    },
    {
     "name": "stdout",
     "output_type": "stream",
     "text": [
      "CRYPTO:COSMUSD\n",
      "datetime\n",
      "2020-01-08 08:00:00    1.010000\n",
      "2020-01-09 08:00:00    1.000000\n",
      "2020-01-10 08:00:00    1.010000\n",
      "2020-01-11 08:00:00    1.010000\n",
      "2020-01-12 08:00:00    1.000000\n",
      "                         ...   \n",
      "2023-09-23 08:00:00    1.000082\n",
      "2023-09-24 08:00:00    1.000028\n",
      "2023-09-25 08:00:00    0.999788\n",
      "2023-09-26 08:00:00    0.997500\n",
      "2023-09-27 08:00:00    0.996275\n",
      "Name: close, Length: 1359, dtype: float64\n",
      "Index(['symbol', 'open', 'high', 'low', 'close', 'volume'], dtype='object')\n"
     ]
    },
    {
     "name": "stderr",
     "output_type": "stream",
     "text": [
      "ERROR:tvDatafeed.main:The read operation timed out\n",
      "ERROR:tvDatafeed.main:no data, please check the exchange and symbol\n"
     ]
    },
    {
     "name": "stdout",
     "output_type": "stream",
     "text": [
      "CRYPTO:PAXUSD\n",
      "datetime\n",
      "2020-06-18 08:00:00    0.002280\n",
      "2020-06-19 08:00:00    0.002030\n",
      "2020-06-20 08:00:00    0.001940\n",
      "2020-06-21 08:00:00    0.001910\n",
      "2020-06-22 08:00:00    0.001970\n",
      "                         ...   \n",
      "2023-09-23 08:00:00    0.005382\n",
      "2023-09-24 08:00:00    0.004764\n",
      "2023-09-25 08:00:00    0.004813\n",
      "2023-09-26 08:00:00    0.004805\n",
      "2023-09-27 08:00:00    0.004941\n",
      "Name: close, Length: 1193, dtype: float64\n",
      "Index(['symbol', 'open', 'high', 'low', 'close', 'volume'], dtype='object')\n"
     ]
    },
    {
     "name": "stderr",
     "output_type": "stream",
     "text": [
      "ERROR:tvDatafeed.main:The read operation timed out\n",
      "ERROR:tvDatafeed.main:no data, please check the exchange and symbol\n"
     ]
    },
    {
     "name": "stdout",
     "output_type": "stream",
     "text": [
      "CRYPTO:INBUSD\n"
     ]
    },
    {
     "name": "stderr",
     "output_type": "stream",
     "text": [
      "ERROR:tvDatafeed.main:The read operation timed out\n",
      "ERROR:tvDatafeed.main:no data, please check the exchange and symbol\n"
     ]
    },
    {
     "name": "stdout",
     "output_type": "stream",
     "text": [
      "CRYPTO:ARBUSD\n",
      "datetime\n",
      "2021-06-24 08:00:00    78.480000\n",
      "2021-06-25 08:00:00    91.540000\n",
      "2021-06-26 08:00:00    80.500000\n",
      "2021-06-27 08:00:00    81.750000\n",
      "2021-06-28 08:00:00    75.420000\n",
      "                         ...    \n",
      "2023-09-23 08:00:00    91.501038\n",
      "2023-09-24 08:00:00    88.744561\n",
      "2023-09-25 08:00:00    87.857918\n",
      "2023-09-26 08:00:00    86.945953\n",
      "2023-09-27 08:00:00    87.313165\n",
      "Name: close, Length: 826, dtype: float64\n",
      "Index(['symbol', 'open', 'high', 'low', 'close', 'volume'], dtype='object')\n",
      "datetime\n",
      "2022-01-13 08:00:00    2.4700\n",
      "2022-01-14 08:00:00    3.1100\n",
      "2022-01-15 08:00:00    2.8400\n",
      "2022-01-16 08:00:00    2.8000\n",
      "2022-01-17 08:00:00    3.6600\n",
      "                        ...  \n",
      "2023-09-23 08:00:00    0.2549\n",
      "2023-09-24 08:00:00    0.2489\n",
      "2023-09-25 08:00:00    0.2397\n",
      "2023-09-26 08:00:00    0.2320\n",
      "2023-09-27 08:00:00    0.2310\n",
      "Name: close, Length: 623, dtype: float64\n",
      "Index(['symbol', 'open', 'high', 'low', 'close', 'volume'], dtype='object')\n"
     ]
    },
    {
     "name": "stderr",
     "output_type": "stream",
     "text": [
      "ERROR:tvDatafeed.main:The read operation timed out\n",
      "ERROR:tvDatafeed.main:no data, please check the exchange and symbol\n"
     ]
    },
    {
     "name": "stdout",
     "output_type": "stream",
     "text": [
      "CRYPTO:MDAUSD\n",
      "datetime\n",
      "2021-08-12 08:00:00    0.111738\n",
      "2021-08-13 08:00:00    0.099400\n",
      "2021-08-14 08:00:00    0.091527\n",
      "2021-08-15 08:00:00    0.086021\n",
      "2021-08-16 08:00:00    0.086838\n",
      "                         ...   \n",
      "2023-09-23 08:00:00    0.014925\n",
      "2023-09-24 08:00:00    0.014789\n",
      "2023-09-25 08:00:00    0.014888\n",
      "2023-09-26 08:00:00    0.014830\n",
      "2023-09-27 08:00:00    0.014549\n",
      "Name: close, Length: 777, dtype: float64\n",
      "Index(['symbol', 'open', 'high', 'low', 'close', 'volume'], dtype='object')\n"
     ]
    },
    {
     "name": "stderr",
     "output_type": "stream",
     "text": [
      "ERROR:tvDatafeed.main:The read operation timed out\n",
      "ERROR:tvDatafeed.main:no data, please check the exchange and symbol\n"
     ]
    },
    {
     "name": "stdout",
     "output_type": "stream",
     "text": [
      "CRYPTO:NIXUSD\n"
     ]
    },
    {
     "name": "stderr",
     "output_type": "stream",
     "text": [
      "ERROR:tvDatafeed.main:The read operation timed out\n",
      "ERROR:tvDatafeed.main:no data, please check the exchange and symbol\n"
     ]
    },
    {
     "name": "stdout",
     "output_type": "stream",
     "text": [
      "CRYPTO:GBCUSD\n",
      "datetime\n",
      "2018-02-21 08:00:00    0.082448\n",
      "2018-02-22 08:00:00    0.080330\n",
      "2018-02-23 08:00:00    0.088422\n",
      "2018-02-24 08:00:00    0.086985\n",
      "2018-02-25 08:00:00    0.085138\n",
      "                         ...   \n",
      "2023-09-23 08:00:00    0.045682\n",
      "2023-09-24 08:00:00    0.044465\n",
      "2023-09-25 08:00:00    0.044332\n",
      "2023-09-26 08:00:00    0.045586\n",
      "2023-09-27 08:00:00    0.045758\n",
      "Name: close, Length: 2045, dtype: float64\n",
      "Index(['symbol', 'open', 'high', 'low', 'close', 'volume'], dtype='object')\n",
      "datetime\n",
      "2018-11-30 08:00:00    93.20000\n",
      "2018-12-01 08:00:00    95.90000\n",
      "2018-12-02 08:00:00    95.20000\n",
      "2018-12-03 08:00:00    93.00000\n",
      "2018-12-04 08:00:00    88.00000\n",
      "                         ...   \n",
      "2023-09-23 08:00:00    31.19006\n",
      "2023-09-24 08:00:00    30.73592\n",
      "2023-09-25 08:00:00    30.81614\n",
      "2023-09-26 08:00:00    30.96476\n",
      "2023-09-27 08:00:00    30.68393\n",
      "Name: close, Length: 1761, dtype: float64\n",
      "Index(['symbol', 'open', 'high', 'low', 'close', 'volume'], dtype='object')\n",
      "datetime\n",
      "2021-07-15 08:00:00    1.002196\n",
      "2021-07-16 08:00:00    0.994519\n",
      "2021-07-17 08:00:00    0.991837\n",
      "2021-07-18 08:00:00    1.004886\n",
      "2021-07-19 08:00:00    0.998307\n",
      "                         ...   \n",
      "2023-09-23 08:00:00    1.000207\n",
      "2023-09-24 08:00:00    1.004219\n",
      "2023-09-25 08:00:00    0.999000\n",
      "2023-09-26 08:00:00    0.998000\n",
      "2023-09-27 08:00:00    1.001000\n",
      "Name: close, Length: 805, dtype: float64\n",
      "Index(['symbol', 'open', 'high', 'low', 'close', 'volume'], dtype='object')\n"
     ]
    },
    {
     "name": "stderr",
     "output_type": "stream",
     "text": [
      "ERROR:tvDatafeed.main:The read operation timed out\n",
      "ERROR:tvDatafeed.main:no data, please check the exchange and symbol\n"
     ]
    },
    {
     "name": "stdout",
     "output_type": "stream",
     "text": [
      "CRYPTO:SLTUSD\n"
     ]
    },
    {
     "name": "stderr",
     "output_type": "stream",
     "text": [
      "ERROR:tvDatafeed.main:The read operation timed out\n",
      "ERROR:tvDatafeed.main:no data, please check the exchange and symbol\n"
     ]
    },
    {
     "name": "stdout",
     "output_type": "stream",
     "text": [
      "CRYPTO:XPXUSD\n"
     ]
    },
    {
     "name": "stderr",
     "output_type": "stream",
     "text": [
      "ERROR:tvDatafeed.main:The read operation timed out\n",
      "ERROR:tvDatafeed.main:no data, please check the exchange and symbol\n"
     ]
    },
    {
     "name": "stdout",
     "output_type": "stream",
     "text": [
      "CRYPTO:NSDUSD\n"
     ]
    },
    {
     "name": "stderr",
     "output_type": "stream",
     "text": [
      "ERROR:tvDatafeed.main:The read operation timed out\n",
      "ERROR:tvDatafeed.main:no data, please check the exchange and symbol\n"
     ]
    },
    {
     "name": "stdout",
     "output_type": "stream",
     "text": [
      "CRYPTO:ETAUSD\n",
      "datetime\n",
      "2021-05-04 08:00:00    1.22378\n",
      "2021-05-05 08:00:00    1.23510\n",
      "2021-05-06 08:00:00    1.20365\n",
      "2021-05-07 08:00:00    1.21722\n",
      "2021-05-08 08:00:00    1.20231\n",
      "                        ...   \n",
      "2023-09-23 08:00:00    1.04852\n",
      "2023-09-24 08:00:00    1.04477\n",
      "2023-09-25 08:00:00    1.05568\n",
      "2023-09-26 08:00:00    1.06118\n",
      "2023-09-27 08:00:00    1.05981\n",
      "Name: close, Length: 877, dtype: float64\n",
      "Index(['symbol', 'open', 'high', 'low', 'close', 'volume'], dtype='object')\n"
     ]
    },
    {
     "name": "stderr",
     "output_type": "stream",
     "text": [
      "ERROR:tvDatafeed.main:The read operation timed out\n",
      "ERROR:tvDatafeed.main:no data, please check the exchange and symbol\n"
     ]
    },
    {
     "name": "stdout",
     "output_type": "stream",
     "text": [
      "CRYPTO:CREDOUSD\n"
     ]
    },
    {
     "name": "stderr",
     "output_type": "stream",
     "text": [
      "ERROR:tvDatafeed.main:The read operation timed out\n",
      "ERROR:tvDatafeed.main:no data, please check the exchange and symbol\n"
     ]
    },
    {
     "name": "stdout",
     "output_type": "stream",
     "text": [
      "CRYPTO:VITAEUSD\n"
     ]
    },
    {
     "name": "stderr",
     "output_type": "stream",
     "text": [
      "ERROR:tvDatafeed.main:The read operation timed out\n",
      "ERROR:tvDatafeed.main:no data, please check the exchange and symbol\n"
     ]
    },
    {
     "name": "stdout",
     "output_type": "stream",
     "text": [
      "CRYPTO:BCZEROUSD\n"
     ]
    },
    {
     "name": "stderr",
     "output_type": "stream",
     "text": [
      "ERROR:tvDatafeed.main:The read operation timed out\n",
      "ERROR:tvDatafeed.main:no data, please check the exchange and symbol\n"
     ]
    },
    {
     "name": "stdout",
     "output_type": "stream",
     "text": [
      "CRYPTO:OSAUSD\n"
     ]
    },
    {
     "name": "stderr",
     "output_type": "stream",
     "text": [
      "ERROR:tvDatafeed.main:The read operation timed out\n",
      "ERROR:tvDatafeed.main:no data, please check the exchange and symbol\n"
     ]
    },
    {
     "name": "stdout",
     "output_type": "stream",
     "text": [
      "CRYPTO:PMAUSD\n"
     ]
    },
    {
     "name": "stderr",
     "output_type": "stream",
     "text": [
      "ERROR:tvDatafeed.main:The read operation timed out\n",
      "ERROR:tvDatafeed.main:no data, please check the exchange and symbol\n"
     ]
    },
    {
     "name": "stdout",
     "output_type": "stream",
     "text": [
      "CRYPTO:BOXUSD\n"
     ]
    },
    {
     "name": "stderr",
     "output_type": "stream",
     "text": [
      "ERROR:tvDatafeed.main:The read operation timed out\n",
      "ERROR:tvDatafeed.main:no data, please check the exchange and symbol\n"
     ]
    },
    {
     "name": "stdout",
     "output_type": "stream",
     "text": [
      "CRYPTO:DMTUSD\n"
     ]
    },
    {
     "name": "stderr",
     "output_type": "stream",
     "text": [
      "ERROR:tvDatafeed.main:The read operation timed out\n",
      "ERROR:tvDatafeed.main:no data, please check the exchange and symbol\n"
     ]
    },
    {
     "name": "stdout",
     "output_type": "stream",
     "text": [
      "CRYPTO:TRXCUSD\n",
      "datetime\n",
      "2019-01-02 08:00:00    0.001563\n",
      "2019-01-03 08:00:00    0.001487\n",
      "2019-01-04 08:00:00    0.001365\n",
      "2019-01-05 08:00:00    0.001267\n",
      "2019-01-06 08:00:00    0.001232\n",
      "                         ...   \n",
      "2023-09-23 08:00:00    0.000447\n",
      "2023-09-24 08:00:00    0.000434\n",
      "2023-09-25 08:00:00    0.000480\n",
      "2023-09-26 08:00:00    0.000482\n",
      "2023-09-27 08:00:00    0.000488\n",
      "Name: close, Length: 1730, dtype: float64\n",
      "Index(['symbol', 'open', 'high', 'low', 'close', 'volume'], dtype='object')\n"
     ]
    },
    {
     "name": "stderr",
     "output_type": "stream",
     "text": [
      "ERROR:tvDatafeed.main:The read operation timed out\n",
      "ERROR:tvDatafeed.main:no data, please check the exchange and symbol\n"
     ]
    },
    {
     "name": "stdout",
     "output_type": "stream",
     "text": [
      "CRYPTO:DEXUSD\n"
     ]
    },
    {
     "name": "stderr",
     "output_type": "stream",
     "text": [
      "ERROR:tvDatafeed.main:The read operation timed out\n",
      "ERROR:tvDatafeed.main:no data, please check the exchange and symbol\n"
     ]
    },
    {
     "name": "stdout",
     "output_type": "stream",
     "text": [
      "CRYPTO:MXMUSD\n"
     ]
    },
    {
     "name": "stderr",
     "output_type": "stream",
     "text": [
      "ERROR:tvDatafeed.main:The read operation timed out\n",
      "ERROR:tvDatafeed.main:no data, please check the exchange and symbol\n"
     ]
    },
    {
     "name": "stdout",
     "output_type": "stream",
     "text": [
      "CRYPTO:REPOUSD\n",
      "datetime\n",
      "2021-11-03 08:00:00    0.275200\n",
      "2021-11-04 08:00:00    0.287200\n",
      "2021-11-05 08:00:00    0.375700\n",
      "2021-11-06 08:00:00    0.336400\n",
      "2021-11-07 08:00:00    0.350700\n",
      "                         ...   \n",
      "2023-09-23 08:00:00    0.050615\n",
      "2023-09-24 08:00:00    0.050610\n",
      "2023-09-25 08:00:00    0.050244\n",
      "2023-09-26 08:00:00    0.050075\n",
      "2023-09-27 08:00:00    0.049993\n",
      "Name: close, Length: 694, dtype: float64\n",
      "Index(['symbol', 'open', 'high', 'low', 'close', 'volume'], dtype='object')\n",
      "datetime\n",
      "2021-09-09 08:00:00    0.03360\n",
      "2021-09-10 08:00:00    0.04779\n",
      "2021-09-11 08:00:00    0.04730\n",
      "2021-09-12 08:00:00    0.04473\n",
      "2021-09-13 08:00:00    0.03989\n",
      "                        ...   \n",
      "2023-09-23 08:00:00    0.00293\n",
      "2023-09-24 08:00:00    0.00292\n",
      "2023-09-25 08:00:00    0.00287\n",
      "2023-09-26 08:00:00    0.00287\n",
      "2023-09-27 08:00:00    0.00286\n",
      "Name: close, Length: 749, dtype: float64\n",
      "Index(['symbol', 'open', 'high', 'low', 'close', 'volume'], dtype='object')\n"
     ]
    },
    {
     "name": "stderr",
     "output_type": "stream",
     "text": [
      "ERROR:tvDatafeed.main:The read operation timed out\n",
      "ERROR:tvDatafeed.main:no data, please check the exchange and symbol\n"
     ]
    },
    {
     "name": "stdout",
     "output_type": "stream",
     "text": [
      "CRYPTO:HUMUSD\n"
     ]
    },
    {
     "name": "stderr",
     "output_type": "stream",
     "text": [
      "ERROR:tvDatafeed.main:The read operation timed out\n",
      "ERROR:tvDatafeed.main:no data, please check the exchange and symbol\n"
     ]
    },
    {
     "name": "stdout",
     "output_type": "stream",
     "text": [
      "CRYPTO:TCTUSD\n"
     ]
    },
    {
     "name": "stderr",
     "output_type": "stream",
     "text": [
      "ERROR:tvDatafeed.main:The read operation timed out\n",
      "ERROR:tvDatafeed.main:no data, please check the exchange and symbol\n"
     ]
    },
    {
     "name": "stdout",
     "output_type": "stream",
     "text": [
      "CRYPTO:LMLUSD\n"
     ]
    },
    {
     "name": "stderr",
     "output_type": "stream",
     "text": [
      "ERROR:tvDatafeed.main:The read operation timed out\n",
      "ERROR:tvDatafeed.main:no data, please check the exchange and symbol\n"
     ]
    },
    {
     "name": "stdout",
     "output_type": "stream",
     "text": [
      "CRYPTO:NRGUSD\n"
     ]
    },
    {
     "name": "stderr",
     "output_type": "stream",
     "text": [
      "ERROR:tvDatafeed.main:The read operation timed out\n",
      "ERROR:tvDatafeed.main:no data, please check the exchange and symbol\n"
     ]
    },
    {
     "name": "stdout",
     "output_type": "stream",
     "text": [
      "CRYPTO:PAIUSD\n"
     ]
    },
    {
     "name": "stderr",
     "output_type": "stream",
     "text": [
      "ERROR:tvDatafeed.main:The read operation timed out\n",
      "ERROR:tvDatafeed.main:no data, please check the exchange and symbol\n"
     ]
    },
    {
     "name": "stdout",
     "output_type": "stream",
     "text": [
      "CRYPTO:EVRUSD\n"
     ]
    },
    {
     "name": "stderr",
     "output_type": "stream",
     "text": [
      "ERROR:tvDatafeed.main:The read operation timed out\n",
      "ERROR:tvDatafeed.main:no data, please check the exchange and symbol\n"
     ]
    },
    {
     "name": "stdout",
     "output_type": "stream",
     "text": [
      "CRYPTO:HYCUSD\n"
     ]
    },
    {
     "name": "stderr",
     "output_type": "stream",
     "text": [
      "ERROR:tvDatafeed.main:The read operation timed out\n",
      "ERROR:tvDatafeed.main:no data, please check the exchange and symbol\n"
     ]
    },
    {
     "name": "stdout",
     "output_type": "stream",
     "text": [
      "CRYPTO:LOCUSD\n"
     ]
    },
    {
     "name": "stderr",
     "output_type": "stream",
     "text": [
      "ERROR:tvDatafeed.main:The read operation timed out\n",
      "ERROR:tvDatafeed.main:no data, please check the exchange and symbol\n"
     ]
    },
    {
     "name": "stdout",
     "output_type": "stream",
     "text": [
      "CRYPTO:CHXUSD\n"
     ]
    },
    {
     "name": "stderr",
     "output_type": "stream",
     "text": [
      "ERROR:tvDatafeed.main:The read operation timed out\n",
      "ERROR:tvDatafeed.main:no data, please check the exchange and symbol\n"
     ]
    },
    {
     "name": "stdout",
     "output_type": "stream",
     "text": [
      "CRYPTO:QBITUSD\n"
     ]
    },
    {
     "name": "stderr",
     "output_type": "stream",
     "text": [
      "ERROR:tvDatafeed.main:The read operation timed out\n",
      "ERROR:tvDatafeed.main:no data, please check the exchange and symbol\n"
     ]
    },
    {
     "name": "stdout",
     "output_type": "stream",
     "text": [
      "CRYPTO:BZNTUSD\n"
     ]
    },
    {
     "name": "stderr",
     "output_type": "stream",
     "text": [
      "ERROR:tvDatafeed.main:The read operation timed out\n",
      "ERROR:tvDatafeed.main:no data, please check the exchange and symbol\n"
     ]
    },
    {
     "name": "stdout",
     "output_type": "stream",
     "text": [
      "CRYPTO:FLOUSD\n",
      "datetime\n",
      "2020-11-28 08:00:00    0.208000\n",
      "2020-11-29 08:00:00    0.218200\n",
      "2020-11-30 08:00:00    0.211700\n",
      "2020-12-01 08:00:00    0.217500\n",
      "2020-12-02 08:00:00    0.210400\n",
      "                         ...   \n",
      "2023-09-23 08:00:00    0.035930\n",
      "2023-09-24 08:00:00    0.036639\n",
      "2023-09-25 08:00:00    0.036022\n",
      "2023-09-26 08:00:00    0.036475\n",
      "2023-09-27 08:00:00    0.035148\n",
      "Name: close, Length: 1028, dtype: float64\n",
      "Index(['symbol', 'open', 'high', 'low', 'close', 'volume'], dtype='object')\n"
     ]
    },
    {
     "name": "stderr",
     "output_type": "stream",
     "text": [
      "ERROR:tvDatafeed.main:The read operation timed out\n",
      "ERROR:tvDatafeed.main:no data, please check the exchange and symbol\n"
     ]
    },
    {
     "name": "stdout",
     "output_type": "stream",
     "text": [
      "CRYPTO:LAUSD\n"
     ]
    },
    {
     "name": "stderr",
     "output_type": "stream",
     "text": [
      "ERROR:tvDatafeed.main:The read operation timed out\n",
      "ERROR:tvDatafeed.main:no data, please check the exchange and symbol\n"
     ]
    },
    {
     "name": "stdout",
     "output_type": "stream",
     "text": [
      "CRYPTO:S4FUSD\n"
     ]
    },
    {
     "name": "stderr",
     "output_type": "stream",
     "text": [
      "ERROR:tvDatafeed.main:The read operation timed out\n",
      "ERROR:tvDatafeed.main:no data, please check the exchange and symbol\n"
     ]
    },
    {
     "name": "stdout",
     "output_type": "stream",
     "text": [
      "CRYPTO:TKNUSD\n"
     ]
    },
    {
     "name": "stderr",
     "output_type": "stream",
     "text": [
      "ERROR:tvDatafeed.main:The read operation timed out\n",
      "ERROR:tvDatafeed.main:no data, please check the exchange and symbol\n"
     ]
    },
    {
     "name": "stdout",
     "output_type": "stream",
     "text": [
      "CRYPTO:HEDGUSD\n"
     ]
    },
    {
     "name": "stderr",
     "output_type": "stream",
     "text": [
      "ERROR:tvDatafeed.main:The read operation timed out\n",
      "ERROR:tvDatafeed.main:no data, please check the exchange and symbol\n"
     ]
    },
    {
     "name": "stdout",
     "output_type": "stream",
     "text": [
      "CRYPTO:THRUSD\n"
     ]
    },
    {
     "name": "stderr",
     "output_type": "stream",
     "text": [
      "ERROR:tvDatafeed.main:The read operation timed out\n",
      "ERROR:tvDatafeed.main:no data, please check the exchange and symbol\n"
     ]
    },
    {
     "name": "stdout",
     "output_type": "stream",
     "text": [
      "CRYPTO:GETXUSD\n"
     ]
    },
    {
     "name": "stderr",
     "output_type": "stream",
     "text": [
      "ERROR:tvDatafeed.main:The read operation timed out\n",
      "ERROR:tvDatafeed.main:no data, please check the exchange and symbol\n"
     ]
    },
    {
     "name": "stdout",
     "output_type": "stream",
     "text": [
      "CRYPTO:B2GUSD\n",
      "datetime\n",
      "2019-02-21 08:00:00    0.102805\n",
      "2019-02-22 08:00:00    0.094605\n",
      "2019-02-23 08:00:00    0.107553\n",
      "2019-02-24 08:00:00    0.095199\n",
      "2019-02-25 08:00:00    0.095852\n",
      "                         ...   \n",
      "2023-09-23 08:00:00    0.078330\n",
      "2023-09-24 08:00:00    0.074600\n",
      "2023-09-25 08:00:00    0.075043\n",
      "2023-09-26 08:00:00    0.073400\n",
      "2023-09-27 08:00:00    0.074336\n",
      "Name: close, Length: 1680, dtype: float64\n",
      "Index(['symbol', 'open', 'high', 'low', 'close', 'volume'], dtype='object')\n"
     ]
    },
    {
     "name": "stderr",
     "output_type": "stream",
     "text": [
      "ERROR:tvDatafeed.main:The read operation timed out\n",
      "ERROR:tvDatafeed.main:no data, please check the exchange and symbol\n"
     ]
    },
    {
     "name": "stdout",
     "output_type": "stream",
     "text": [
      "CRYPTO:DACUSD\n"
     ]
    },
    {
     "name": "stderr",
     "output_type": "stream",
     "text": [
      "ERROR:tvDatafeed.main:The read operation timed out\n",
      "ERROR:tvDatafeed.main:no data, please check the exchange and symbol\n"
     ]
    },
    {
     "name": "stdout",
     "output_type": "stream",
     "text": [
      "CRYPTO:CWVUSD\n"
     ]
    },
    {
     "name": "stderr",
     "output_type": "stream",
     "text": [
      "ERROR:tvDatafeed.main:The read operation timed out\n",
      "ERROR:tvDatafeed.main:no data, please check the exchange and symbol\n"
     ]
    },
    {
     "name": "stdout",
     "output_type": "stream",
     "text": [
      "CRYPTO:INOUSD\n"
     ]
    },
    {
     "name": "stderr",
     "output_type": "stream",
     "text": [
      "ERROR:tvDatafeed.main:The read operation timed out\n",
      "ERROR:tvDatafeed.main:no data, please check the exchange and symbol\n"
     ]
    },
    {
     "name": "stdout",
     "output_type": "stream",
     "text": [
      "CRYPTO:PLCUSD\n"
     ]
    },
    {
     "name": "stderr",
     "output_type": "stream",
     "text": [
      "ERROR:tvDatafeed.main:The read operation timed out\n",
      "ERROR:tvDatafeed.main:no data, please check the exchange and symbol\n"
     ]
    },
    {
     "name": "stdout",
     "output_type": "stream",
     "text": [
      "CRYPTO:ECOREALUSD\n"
     ]
    },
    {
     "name": "stderr",
     "output_type": "stream",
     "text": [
      "ERROR:tvDatafeed.main:The read operation timed out\n",
      "ERROR:tvDatafeed.main:no data, please check the exchange and symbol\n"
     ]
    },
    {
     "name": "stdout",
     "output_type": "stream",
     "text": [
      "CRYPTO:BCVUSD\n",
      "datetime\n",
      "2007-06-04 08:00:00    0.001073\n",
      "2007-06-05 08:00:00    0.001074\n",
      "2007-06-06 08:00:00    0.001074\n",
      "2007-06-07 08:00:00    0.001072\n",
      "2007-06-08 08:00:00    0.001069\n",
      "                         ...   \n",
      "2023-09-23 08:00:00    0.023690\n",
      "2023-09-24 08:00:00    0.022760\n",
      "2023-09-25 08:00:00    0.022580\n",
      "2023-09-26 08:00:00    0.022670\n",
      "2023-09-27 08:00:00    0.022620\n",
      "Name: close, Length: 4791, dtype: float64\n",
      "Index(['symbol', 'open', 'high', 'low', 'close', 'volume'], dtype='object')\n",
      "datetime\n",
      "2022-01-27 08:00:00    2.041600e-06\n",
      "2022-01-28 08:00:00    2.066700e-06\n",
      "2022-01-29 08:00:00    2.139700e-06\n",
      "2022-01-30 08:00:00    2.090100e-06\n",
      "2022-01-31 08:00:00    2.138400e-06\n",
      "                           ...     \n",
      "2023-09-23 08:00:00    3.861000e-07\n",
      "2023-09-24 08:00:00    3.862000e-07\n",
      "2023-09-25 08:00:00    3.866000e-07\n",
      "2023-09-26 08:00:00    3.829000e-07\n",
      "2023-09-27 08:00:00    3.789000e-07\n",
      "Name: close, Length: 605, dtype: float64\n",
      "Index(['symbol', 'open', 'high', 'low', 'close', 'volume'], dtype='object')\n"
     ]
    },
    {
     "name": "stderr",
     "output_type": "stream",
     "text": [
      "ERROR:tvDatafeed.main:The read operation timed out\n",
      "ERROR:tvDatafeed.main:no data, please check the exchange and symbol\n"
     ]
    },
    {
     "name": "stdout",
     "output_type": "stream",
     "text": [
      "CRYPTO:TTCUSD\n"
     ]
    },
    {
     "name": "stderr",
     "output_type": "stream",
     "text": [
      "ERROR:tvDatafeed.main:The read operation timed out\n",
      "ERROR:tvDatafeed.main:no data, please check the exchange and symbol\n"
     ]
    },
    {
     "name": "stdout",
     "output_type": "stream",
     "text": [
      "CRYPTO:MHCUSD\n"
     ]
    },
    {
     "name": "stderr",
     "output_type": "stream",
     "text": [
      "ERROR:tvDatafeed.main:The read operation timed out\n",
      "ERROR:tvDatafeed.main:no data, please check the exchange and symbol\n"
     ]
    },
    {
     "name": "stdout",
     "output_type": "stream",
     "text": [
      "CRYPTO:VESTUSD\n"
     ]
    },
    {
     "name": "stderr",
     "output_type": "stream",
     "text": [
      "ERROR:tvDatafeed.main:The read operation timed out\n",
      "ERROR:tvDatafeed.main:no data, please check the exchange and symbol\n"
     ]
    },
    {
     "name": "stdout",
     "output_type": "stream",
     "text": [
      "CRYPTO:GRINUSD\n"
     ]
    },
    {
     "name": "stderr",
     "output_type": "stream",
     "text": [
      "ERROR:tvDatafeed.main:The read operation timed out\n",
      "ERROR:tvDatafeed.main:no data, please check the exchange and symbol\n"
     ]
    },
    {
     "name": "stdout",
     "output_type": "stream",
     "text": [
      "CRYPTO:CLAMUSD\n"
     ]
    },
    {
     "name": "stderr",
     "output_type": "stream",
     "text": [
      "ERROR:tvDatafeed.main:The read operation timed out\n",
      "ERROR:tvDatafeed.main:no data, please check the exchange and symbol\n"
     ]
    },
    {
     "name": "stdout",
     "output_type": "stream",
     "text": [
      "CRYPTO:EVXUSD\n"
     ]
    },
    {
     "name": "stderr",
     "output_type": "stream",
     "text": [
      "ERROR:tvDatafeed.main:The read operation timed out\n",
      "ERROR:tvDatafeed.main:no data, please check the exchange and symbol\n"
     ]
    },
    {
     "name": "stdout",
     "output_type": "stream",
     "text": [
      "CRYPTO:ROXUSD\n"
     ]
    },
    {
     "name": "stderr",
     "output_type": "stream",
     "text": [
      "ERROR:tvDatafeed.main:The read operation timed out\n",
      "ERROR:tvDatafeed.main:no data, please check the exchange and symbol\n"
     ]
    },
    {
     "name": "stdout",
     "output_type": "stream",
     "text": [
      "CRYPTO:SCCUSD\n"
     ]
    },
    {
     "name": "stderr",
     "output_type": "stream",
     "text": [
      "ERROR:tvDatafeed.main:The read operation timed out\n",
      "ERROR:tvDatafeed.main:no data, please check the exchange and symbol\n"
     ]
    },
    {
     "name": "stdout",
     "output_type": "stream",
     "text": [
      "CRYPTO:SPNDUSD\n",
      "datetime\n",
      "2019-03-14 08:00:00    6.639943\n",
      "2019-03-15 08:00:00    7.606022\n",
      "2019-03-16 08:00:00    7.359728\n",
      "2019-03-17 08:00:00    4.817547\n",
      "2019-03-18 08:00:00    5.066909\n",
      "                         ...   \n",
      "2023-09-23 08:00:00    7.080401\n",
      "2023-09-24 08:00:00    6.965256\n",
      "2023-09-25 08:00:00    7.034669\n",
      "2023-09-26 08:00:00    6.953395\n",
      "2023-09-27 08:00:00    6.973187\n",
      "Name: close, Length: 1659, dtype: float64\n",
      "Index(['symbol', 'open', 'high', 'low', 'close', 'volume'], dtype='object')\n",
      "datetime\n",
      "2019-07-25 08:00:00    0.022015\n",
      "2019-07-26 08:00:00    0.022716\n",
      "2019-07-27 08:00:00    0.020821\n",
      "2019-07-28 08:00:00    0.021344\n",
      "2019-07-29 08:00:00    0.021468\n",
      "                         ...   \n",
      "2023-09-23 08:00:00    0.023333\n",
      "2023-09-24 08:00:00    0.022475\n",
      "2023-09-25 08:00:00    0.022358\n",
      "2023-09-26 08:00:00    0.022344\n",
      "2023-09-27 08:00:00    0.022110\n",
      "Name: close, Length: 1397, dtype: float64\n",
      "Index(['symbol', 'open', 'high', 'low', 'close', 'volume'], dtype='object')\n"
     ]
    },
    {
     "name": "stderr",
     "output_type": "stream",
     "text": [
      "ERROR:tvDatafeed.main:The read operation timed out\n",
      "ERROR:tvDatafeed.main:no data, please check the exchange and symbol\n"
     ]
    },
    {
     "name": "stdout",
     "output_type": "stream",
     "text": [
      "CRYPTO:NETUSD\n",
      "datetime\n",
      "2021-01-07 08:00:00    0.208567\n",
      "2021-01-08 08:00:00    0.179711\n",
      "2021-01-09 08:00:00    0.189993\n",
      "2021-01-10 08:00:00    0.179033\n",
      "2021-01-11 08:00:00    0.155309\n",
      "                         ...   \n",
      "2023-09-23 08:00:00    0.068570\n",
      "2023-09-24 08:00:00    0.066457\n",
      "2023-09-25 08:00:00    0.067847\n",
      "2023-09-26 08:00:00    0.066807\n",
      "2023-09-27 08:00:00    0.066928\n",
      "Name: close, Length: 994, dtype: float64\n",
      "Index(['symbol', 'open', 'high', 'low', 'close', 'volume'], dtype='object')\n"
     ]
    },
    {
     "name": "stderr",
     "output_type": "stream",
     "text": [
      "ERROR:tvDatafeed.main:The read operation timed out\n",
      "ERROR:tvDatafeed.main:no data, please check the exchange and symbol\n"
     ]
    },
    {
     "name": "stdout",
     "output_type": "stream",
     "text": [
      "CRYPTO:UGASUSD\n",
      "datetime\n",
      "2019-03-28 08:00:00    0.016965\n",
      "2019-03-29 08:00:00    0.016266\n",
      "2019-03-30 08:00:00    0.014985\n",
      "2019-03-31 08:00:00    0.014877\n",
      "2019-04-01 08:00:00    0.014089\n",
      "                         ...   \n",
      "2023-09-23 08:00:00    0.034830\n",
      "2023-09-24 08:00:00    0.032839\n",
      "2023-09-25 08:00:00    0.033142\n",
      "2023-09-26 08:00:00    0.032781\n",
      "2023-09-27 08:00:00    0.032831\n",
      "Name: close, Length: 1641, dtype: float64\n",
      "Index(['symbol', 'open', 'high', 'low', 'close', 'volume'], dtype='object')\n"
     ]
    },
    {
     "name": "stderr",
     "output_type": "stream",
     "text": [
      "ERROR:tvDatafeed.main:The read operation timed out\n",
      "ERROR:tvDatafeed.main:no data, please check the exchange and symbol\n"
     ]
    },
    {
     "name": "stdout",
     "output_type": "stream",
     "text": [
      "CRYPTO:LBAUSD\n"
     ]
    },
    {
     "name": "stderr",
     "output_type": "stream",
     "text": [
      "ERROR:tvDatafeed.main:The read operation timed out\n",
      "ERROR:tvDatafeed.main:no data, please check the exchange and symbol\n"
     ]
    },
    {
     "name": "stdout",
     "output_type": "stream",
     "text": [
      "CRYPTO:LAMBUSD\n",
      "datetime\n",
      "2021-10-25 08:00:00    0.144600\n",
      "2021-10-26 08:00:00    0.146400\n",
      "2021-10-27 08:00:00    0.122600\n",
      "2021-10-28 08:00:00    0.125100\n",
      "2021-10-29 08:00:00    0.125900\n",
      "                         ...   \n",
      "2023-09-23 08:00:00    0.011769\n",
      "2023-09-24 08:00:00    0.011959\n",
      "2023-09-25 08:00:00    0.012499\n",
      "2023-09-26 08:00:00    0.012201\n",
      "2023-09-27 08:00:00    0.012081\n",
      "Name: close, Length: 703, dtype: float64\n",
      "Index(['symbol', 'open', 'high', 'low', 'close', 'volume'], dtype='object')\n"
     ]
    },
    {
     "name": "stderr",
     "output_type": "stream",
     "text": [
      "ERROR:tvDatafeed.main:The read operation timed out\n",
      "ERROR:tvDatafeed.main:no data, please check the exchange and symbol\n"
     ]
    },
    {
     "name": "stdout",
     "output_type": "stream",
     "text": [
      "CRYPTO:LBTCUSD\n"
     ]
    },
    {
     "name": "stderr",
     "output_type": "stream",
     "text": [
      "ERROR:tvDatafeed.main:The read operation timed out\n",
      "ERROR:tvDatafeed.main:no data, please check the exchange and symbol\n"
     ]
    },
    {
     "name": "stdout",
     "output_type": "stream",
     "text": [
      "CRYPTO:ILCUSD\n"
     ]
    },
    {
     "name": "stderr",
     "output_type": "stream",
     "text": [
      "ERROR:tvDatafeed.main:The read operation timed out\n",
      "ERROR:tvDatafeed.main:no data, please check the exchange and symbol\n"
     ]
    },
    {
     "name": "stdout",
     "output_type": "stream",
     "text": [
      "CRYPTO:MEDXUSD\n",
      "datetime\n",
      "2019-03-06 08:00:00    0.013462\n",
      "2019-03-07 08:00:00    0.012128\n",
      "2019-03-08 08:00:00    0.011484\n",
      "2019-03-09 08:00:00    0.011049\n",
      "2019-03-10 08:00:00    0.012490\n",
      "                         ...   \n",
      "2023-09-23 08:00:00    0.020115\n",
      "2023-09-24 08:00:00    0.019403\n",
      "2023-09-25 08:00:00    0.019582\n",
      "2023-09-26 08:00:00    0.019088\n",
      "2023-09-27 08:00:00    0.018963\n",
      "Name: close, Length: 1667, dtype: float64\n",
      "Index(['symbol', 'open', 'high', 'low', 'close', 'volume'], dtype='object')\n",
      "datetime\n",
      "2019-01-21 08:00:00    0.351739\n",
      "2019-01-22 08:00:00    0.310674\n",
      "2019-01-23 08:00:00    0.250921\n",
      "2019-01-24 08:00:00    0.237426\n",
      "2019-01-25 08:00:00    0.200154\n",
      "                         ...   \n",
      "2023-09-23 08:00:00    0.027390\n",
      "2023-09-24 08:00:00    0.027340\n",
      "2023-09-25 08:00:00    0.025702\n",
      "2023-09-26 08:00:00    0.026070\n",
      "2023-09-27 08:00:00    0.026300\n",
      "Name: close, Length: 1711, dtype: float64\n",
      "Index(['symbol', 'open', 'high', 'low', 'close', 'volume'], dtype='object')\n"
     ]
    },
    {
     "name": "stderr",
     "output_type": "stream",
     "text": [
      "ERROR:tvDatafeed.main:The read operation timed out\n",
      "ERROR:tvDatafeed.main:no data, please check the exchange and symbol\n"
     ]
    },
    {
     "name": "stdout",
     "output_type": "stream",
     "text": [
      "CRYPTO:NEXUSD\n"
     ]
    },
    {
     "name": "stderr",
     "output_type": "stream",
     "text": [
      "ERROR:tvDatafeed.main:The read operation timed out\n",
      "ERROR:tvDatafeed.main:no data, please check the exchange and symbol\n"
     ]
    },
    {
     "name": "stdout",
     "output_type": "stream",
     "text": [
      "CRYPTO:NEWUSD\n"
     ]
    },
    {
     "name": "stderr",
     "output_type": "stream",
     "text": [
      "ERROR:tvDatafeed.main:The read operation timed out\n",
      "ERROR:tvDatafeed.main:no data, please check the exchange and symbol\n"
     ]
    },
    {
     "name": "stdout",
     "output_type": "stream",
     "text": [
      "CRYPTO:CCCUSD\n",
      "datetime\n",
      "2019-04-26 08:00:00    0.005307\n",
      "2019-04-27 08:00:00    0.005119\n",
      "2019-04-28 08:00:00    0.004332\n",
      "2019-04-29 08:00:00    0.003398\n",
      "2019-04-30 08:00:00    0.004426\n",
      "                         ...   \n",
      "2023-09-23 08:00:00    0.520670\n",
      "2023-09-24 08:00:00    0.513540\n",
      "2023-09-25 08:00:00    0.519370\n",
      "2023-09-26 08:00:00    0.509520\n",
      "2023-09-27 08:00:00    0.507750\n",
      "Name: close, Length: 1616, dtype: float64\n",
      "Index(['symbol', 'open', 'high', 'low', 'close', 'volume'], dtype='object')\n"
     ]
    },
    {
     "name": "stderr",
     "output_type": "stream",
     "text": [
      "ERROR:tvDatafeed.main:The read operation timed out\n",
      "ERROR:tvDatafeed.main:no data, please check the exchange and symbol\n"
     ]
    },
    {
     "name": "stdout",
     "output_type": "stream",
     "text": [
      "CRYPTO:JCTUSD\n",
      "datetime\n",
      "2018-10-30 08:00:00    0.022484\n",
      "2018-10-31 08:00:00    0.025480\n",
      "2018-11-01 08:00:00    0.022237\n",
      "2018-11-02 08:00:00    0.023696\n",
      "2018-11-03 08:00:00    0.022770\n",
      "                         ...   \n",
      "2023-09-23 08:00:00    0.188275\n",
      "2023-09-24 08:00:00    0.186628\n",
      "2023-09-25 08:00:00    0.189375\n",
      "2023-09-26 08:00:00    0.187750\n",
      "2023-09-27 08:00:00    0.186900\n",
      "Name: close, Length: 1794, dtype: float64\n",
      "Index(['symbol', 'open', 'high', 'low', 'close', 'volume'], dtype='object')\n"
     ]
    },
    {
     "name": "stderr",
     "output_type": "stream",
     "text": [
      "ERROR:tvDatafeed.main:The read operation timed out\n",
      "ERROR:tvDatafeed.main:no data, please check the exchange and symbol\n"
     ]
    },
    {
     "name": "stdout",
     "output_type": "stream",
     "text": [
      "CRYPTO:EGTUSD\n",
      "datetime\n",
      "2018-03-14 08:00:00    0.475024\n",
      "2018-03-15 08:00:00    0.431764\n",
      "2018-03-16 08:00:00    0.485233\n",
      "2018-03-17 08:00:00    0.376595\n",
      "2018-03-18 08:00:00    0.387779\n",
      "                         ...   \n",
      "2023-09-23 08:00:00    2.003265\n",
      "2023-09-24 08:00:00    1.950939\n",
      "2023-09-25 08:00:00    1.984824\n",
      "2023-09-26 08:00:00    1.983044\n",
      "2023-09-27 08:00:00    2.005837\n",
      "Name: close, Length: 1801, dtype: float64\n",
      "Index(['symbol', 'open', 'high', 'low', 'close', 'volume'], dtype='object')\n",
      "datetime\n",
      "2021-03-18 08:00:00    0.205199\n",
      "2021-03-19 08:00:00    0.167880\n",
      "2021-03-20 08:00:00    0.155755\n",
      "2021-03-21 08:00:00    0.169267\n",
      "2021-03-22 08:00:00    0.140649\n",
      "                         ...   \n",
      "2023-09-23 08:00:00    0.010900\n",
      "2023-09-24 08:00:00    0.010768\n",
      "2023-09-25 08:00:00    0.010784\n",
      "2023-09-26 08:00:00    0.010772\n",
      "2023-09-27 08:00:00    0.010511\n",
      "Name: close, Length: 924, dtype: float64\n",
      "Index(['symbol', 'open', 'high', 'low', 'close', 'volume'], dtype='object')\n"
     ]
    },
    {
     "name": "stderr",
     "output_type": "stream",
     "text": [
      "ERROR:tvDatafeed.main:The read operation timed out\n",
      "ERROR:tvDatafeed.main:no data, please check the exchange and symbol\n"
     ]
    },
    {
     "name": "stdout",
     "output_type": "stream",
     "text": [
      "CRYPTO:IPCUSD\n"
     ]
    },
    {
     "name": "stderr",
     "output_type": "stream",
     "text": [
      "ERROR:tvDatafeed.main:The read operation timed out\n",
      "ERROR:tvDatafeed.main:no data, please check the exchange and symbol\n"
     ]
    },
    {
     "name": "stdout",
     "output_type": "stream",
     "text": [
      "CRYPTO:HYNUSD\n"
     ]
    },
    {
     "name": "stderr",
     "output_type": "stream",
     "text": [
      "ERROR:tvDatafeed.main:The read operation timed out\n",
      "ERROR:tvDatafeed.main:no data, please check the exchange and symbol\n"
     ]
    },
    {
     "name": "stdout",
     "output_type": "stream",
     "text": [
      "CRYPTO:ETZUSD\n",
      "datetime\n",
      "2019-05-20 08:00:00    1.0550\n",
      "2019-05-21 08:00:00    1.0400\n",
      "2019-05-22 08:00:00    1.1200\n",
      "2019-05-23 08:00:00    1.0970\n",
      "2019-05-24 08:00:00    1.2210\n",
      "                        ...  \n",
      "2023-09-23 08:00:00    3.8373\n",
      "2023-09-24 08:00:00    3.7427\n",
      "2023-09-25 08:00:00    3.7870\n",
      "2023-09-26 08:00:00    3.6536\n",
      "2023-09-27 08:00:00    3.6627\n",
      "Name: close, Length: 1591, dtype: float64\n",
      "Index(['symbol', 'open', 'high', 'low', 'close', 'volume'], dtype='object')\n"
     ]
    },
    {
     "name": "stderr",
     "output_type": "stream",
     "text": [
      "ERROR:tvDatafeed.main:The read operation timed out\n",
      "ERROR:tvDatafeed.main:no data, please check the exchange and symbol\n"
     ]
    },
    {
     "name": "stdout",
     "output_type": "stream",
     "text": [
      "CRYPTO:VSYSUSD\n",
      "datetime\n",
      "2019-06-01 08:00:00    0.024133\n",
      "2019-06-02 08:00:00    0.021150\n",
      "2019-06-03 08:00:00    0.021169\n",
      "2019-06-04 08:00:00    0.023477\n",
      "2019-06-05 08:00:00    0.028428\n",
      "                         ...   \n",
      "2023-09-23 08:00:00    0.009717\n",
      "2023-09-24 08:00:00    0.009306\n",
      "2023-09-25 08:00:00    0.009661\n",
      "2023-09-26 08:00:00    0.009461\n",
      "2023-09-27 08:00:00    0.009531\n",
      "Name: close, Length: 1580, dtype: float64\n",
      "Index(['symbol', 'open', 'high', 'low', 'close', 'volume'], dtype='object')\n"
     ]
    },
    {
     "name": "stderr",
     "output_type": "stream",
     "text": [
      "ERROR:tvDatafeed.main:The read operation timed out\n",
      "ERROR:tvDatafeed.main:no data, please check the exchange and symbol\n"
     ]
    },
    {
     "name": "stdout",
     "output_type": "stream",
     "text": [
      "CRYPTO:XMXUSD\n",
      "datetime\n",
      "2021-11-15 08:00:00    0.013469\n",
      "2021-11-16 08:00:00    0.013096\n",
      "2021-11-17 08:00:00    0.014353\n",
      "2021-11-18 08:00:00    0.012391\n",
      "2021-11-19 08:00:00    0.013300\n",
      "                         ...   \n",
      "2023-09-23 08:00:00    0.004544\n",
      "2023-09-24 08:00:00    0.004003\n",
      "2023-09-25 08:00:00    0.004064\n",
      "2023-09-26 08:00:00    0.004137\n",
      "2023-09-27 08:00:00    0.004532\n",
      "Name: close, Length: 678, dtype: float64\n",
      "Index(['symbol', 'open', 'high', 'low', 'close', 'volume'], dtype='object')\n"
     ]
    },
    {
     "name": "stderr",
     "output_type": "stream",
     "text": [
      "ERROR:tvDatafeed.main:The read operation timed out\n",
      "ERROR:tvDatafeed.main:no data, please check the exchange and symbol\n"
     ]
    },
    {
     "name": "stdout",
     "output_type": "stream",
     "text": [
      "CRYPTO:UUUUSD\n"
     ]
    },
    {
     "name": "stderr",
     "output_type": "stream",
     "text": [
      "ERROR:tvDatafeed.main:The read operation timed out\n",
      "ERROR:tvDatafeed.main:no data, please check the exchange and symbol\n"
     ]
    },
    {
     "name": "stdout",
     "output_type": "stream",
     "text": [
      "CRYPTO:BEAMUSD\n"
     ]
    },
    {
     "name": "stderr",
     "output_type": "stream",
     "text": [
      "ERROR:tvDatafeed.main:The read operation timed out\n",
      "ERROR:tvDatafeed.main:no data, please check the exchange and symbol\n"
     ]
    },
    {
     "name": "stdout",
     "output_type": "stream",
     "text": [
      "CRYPTO:BTUUSD\n"
     ]
    },
    {
     "name": "stderr",
     "output_type": "stream",
     "text": [
      "ERROR:tvDatafeed.main:The read operation timed out\n",
      "ERROR:tvDatafeed.main:no data, please check the exchange and symbol\n"
     ]
    },
    {
     "name": "stdout",
     "output_type": "stream",
     "text": [
      "CRYPTO:SLVUSD\n"
     ]
    },
    {
     "name": "stderr",
     "output_type": "stream",
     "text": [
      "ERROR:tvDatafeed.main:The read operation timed out\n",
      "ERROR:tvDatafeed.main:no data, please check the exchange and symbol\n"
     ]
    },
    {
     "name": "stdout",
     "output_type": "stream",
     "text": [
      "CRYPTO:FXCUSD\n"
     ]
    },
    {
     "name": "stderr",
     "output_type": "stream",
     "text": [
      "ERROR:tvDatafeed.main:The read operation timed out\n",
      "ERROR:tvDatafeed.main:no data, please check the exchange and symbol\n"
     ]
    },
    {
     "name": "stdout",
     "output_type": "stream",
     "text": [
      "CRYPTO:FSTUSD\n"
     ]
    },
    {
     "name": "stderr",
     "output_type": "stream",
     "text": [
      "ERROR:tvDatafeed.main:The read operation timed out\n",
      "ERROR:tvDatafeed.main:no data, please check the exchange and symbol\n"
     ]
    },
    {
     "name": "stdout",
     "output_type": "stream",
     "text": [
      "CRYPTO:CIX100USD\n"
     ]
    },
    {
     "name": "stderr",
     "output_type": "stream",
     "text": [
      "ERROR:tvDatafeed.main:The read operation timed out\n",
      "ERROR:tvDatafeed.main:no data, please check the exchange and symbol\n"
     ]
    },
    {
     "name": "stdout",
     "output_type": "stream",
     "text": [
      "CRYPTO:UIPUSD\n",
      "datetime\n",
      "2021-10-07 08:00:00    1.5631\n",
      "2021-10-08 08:00:00    1.2477\n",
      "2021-10-09 08:00:00    1.1701\n",
      "2021-10-10 08:00:00    1.0604\n",
      "2021-10-11 08:00:00    1.4379\n",
      "                        ...  \n",
      "2023-09-23 08:00:00    0.1205\n",
      "2023-09-24 08:00:00    0.1182\n",
      "2023-09-25 08:00:00    0.1170\n",
      "2023-09-26 08:00:00    0.1174\n",
      "2023-09-27 08:00:00    0.1167\n",
      "Name: close, Length: 721, dtype: float64\n",
      "Index(['symbol', 'open', 'high', 'low', 'close', 'volume'], dtype='object')\n",
      "datetime\n",
      "2019-07-01 08:00:00    0.016692\n",
      "2019-07-02 08:00:00    0.016245\n",
      "2019-07-03 08:00:00    0.012270\n",
      "2019-07-04 08:00:00    0.013573\n",
      "2019-07-05 08:00:00    0.015663\n",
      "                         ...   \n",
      "2023-09-23 08:00:00    0.058100\n",
      "2023-09-24 08:00:00    0.057029\n",
      "2023-09-25 08:00:00    0.057727\n",
      "2023-09-26 08:00:00    0.057572\n",
      "2023-09-27 08:00:00    0.057321\n",
      "Name: close, Length: 1550, dtype: float64\n",
      "Index(['symbol', 'open', 'high', 'low', 'close', 'volume'], dtype='object')\n"
     ]
    },
    {
     "name": "stderr",
     "output_type": "stream",
     "text": [
      "ERROR:tvDatafeed.main:The read operation timed out\n",
      "ERROR:tvDatafeed.main:no data, please check the exchange and symbol\n"
     ]
    },
    {
     "name": "stdout",
     "output_type": "stream",
     "text": [
      "CRYPTO:BXKUSD\n"
     ]
    },
    {
     "name": "stderr",
     "output_type": "stream",
     "text": [
      "ERROR:tvDatafeed.main:The read operation timed out\n",
      "ERROR:tvDatafeed.main:no data, please check the exchange and symbol\n"
     ]
    },
    {
     "name": "stdout",
     "output_type": "stream",
     "text": [
      "CRYPTO:RETUSD\n"
     ]
    },
    {
     "name": "stderr",
     "output_type": "stream",
     "text": [
      "ERROR:tvDatafeed.main:The read operation timed out\n",
      "ERROR:tvDatafeed.main:no data, please check the exchange and symbol\n"
     ]
    },
    {
     "name": "stdout",
     "output_type": "stream",
     "text": [
      "CRYPTO:GRNUSD\n"
     ]
    },
    {
     "name": "stderr",
     "output_type": "stream",
     "text": [
      "ERROR:tvDatafeed.main:The read operation timed out\n",
      "ERROR:tvDatafeed.main:no data, please check the exchange and symbol\n"
     ]
    },
    {
     "name": "stdout",
     "output_type": "stream",
     "text": [
      "CRYPTO:LXTUSD\n"
     ]
    },
    {
     "name": "stderr",
     "output_type": "stream",
     "text": [
      "ERROR:tvDatafeed.main:The read operation timed out\n",
      "ERROR:tvDatafeed.main:no data, please check the exchange and symbol\n"
     ]
    },
    {
     "name": "stdout",
     "output_type": "stream",
     "text": [
      "CRYPTO:AGVCUSD\n"
     ]
    },
    {
     "name": "stderr",
     "output_type": "stream",
     "text": [
      "ERROR:tvDatafeed.main:The read operation timed out\n",
      "ERROR:tvDatafeed.main:no data, please check the exchange and symbol\n"
     ]
    },
    {
     "name": "stdout",
     "output_type": "stream",
     "text": [
      "CRYPTO:BZUSD\n"
     ]
    },
    {
     "name": "stderr",
     "output_type": "stream",
     "text": [
      "ERROR:tvDatafeed.main:The read operation timed out\n",
      "ERROR:tvDatafeed.main:no data, please check the exchange and symbol\n"
     ]
    },
    {
     "name": "stdout",
     "output_type": "stream",
     "text": [
      "CRYPTO:BHDUSD\n",
      "datetime\n",
      "2019-02-28 08:00:00    0.353468\n",
      "2019-03-01 08:00:00    0.441860\n",
      "2019-03-02 08:00:00    0.400535\n",
      "2019-03-03 08:00:00    0.361748\n",
      "2019-03-04 08:00:00    0.329418\n",
      "                         ...   \n",
      "2023-09-23 08:00:00    0.221270\n",
      "2023-09-24 08:00:00    0.214590\n",
      "2023-09-25 08:00:00    0.216077\n",
      "2023-09-26 08:00:00    0.212922\n",
      "2023-09-27 08:00:00    0.210127\n",
      "Name: close, Length: 1673, dtype: float64\n",
      "Index(['symbol', 'open', 'high', 'low', 'close', 'volume'], dtype='object')\n"
     ]
    },
    {
     "name": "stderr",
     "output_type": "stream",
     "text": [
      "ERROR:tvDatafeed.main:The read operation timed out\n",
      "ERROR:tvDatafeed.main:no data, please check the exchange and symbol\n"
     ]
    },
    {
     "name": "stdout",
     "output_type": "stream",
     "text": [
      "CRYPTO:ULTUSD\n"
     ]
    },
    {
     "name": "stderr",
     "output_type": "stream",
     "text": [
      "ERROR:tvDatafeed.main:The read operation timed out\n",
      "ERROR:tvDatafeed.main:no data, please check the exchange and symbol\n"
     ]
    },
    {
     "name": "stdout",
     "output_type": "stream",
     "text": [
      "CRYPTO:FOAMUSD\n"
     ]
    },
    {
     "name": "stderr",
     "output_type": "stream",
     "text": [
      "ERROR:tvDatafeed.main:The read operation timed out\n",
      "ERROR:tvDatafeed.main:no data, please check the exchange and symbol\n"
     ]
    },
    {
     "name": "stdout",
     "output_type": "stream",
     "text": [
      "CRYPTO:THXUSD\n"
     ]
    },
    {
     "name": "stderr",
     "output_type": "stream",
     "text": [
      "ERROR:tvDatafeed.main:The read operation timed out\n",
      "ERROR:tvDatafeed.main:no data, please check the exchange and symbol\n"
     ]
    },
    {
     "name": "stdout",
     "output_type": "stream",
     "text": [
      "CRYPTO:ZBUSD\n",
      "datetime\n",
      "2019-06-21 08:00:00    3.211516\n",
      "2019-06-22 08:00:00    2.155060\n",
      "2019-06-23 08:00:00    1.876061\n",
      "2019-06-24 08:00:00    1.370616\n",
      "2019-06-25 08:00:00    1.560770\n",
      "                         ...   \n",
      "2023-09-23 08:00:00    0.100622\n",
      "2023-09-24 08:00:00    0.101224\n",
      "2023-09-25 08:00:00    0.097495\n",
      "2023-09-26 08:00:00    0.095629\n",
      "2023-09-27 08:00:00    0.095192\n",
      "Name: close, Length: 1560, dtype: float64\n",
      "Index(['symbol', 'open', 'high', 'low', 'close', 'volume'], dtype='object')\n"
     ]
    },
    {
     "name": "stderr",
     "output_type": "stream",
     "text": [
      "ERROR:tvDatafeed.main:The read operation timed out\n",
      "ERROR:tvDatafeed.main:no data, please check the exchange and symbol\n"
     ]
    },
    {
     "name": "stdout",
     "output_type": "stream",
     "text": [
      "CRYPTO:OSCUSD\n"
     ]
    },
    {
     "name": "stderr",
     "output_type": "stream",
     "text": [
      "ERROR:tvDatafeed.main:The read operation timed out\n",
      "ERROR:tvDatafeed.main:no data, please check the exchange and symbol\n"
     ]
    },
    {
     "name": "stdout",
     "output_type": "stream",
     "text": [
      "CRYPTO:ATPUSD\n"
     ]
    },
    {
     "name": "stderr",
     "output_type": "stream",
     "text": [
      "ERROR:tvDatafeed.main:The read operation timed out\n",
      "ERROR:tvDatafeed.main:no data, please check the exchange and symbol\n"
     ]
    },
    {
     "name": "stdout",
     "output_type": "stream",
     "text": [
      "CRYPTO:KBCUSD\n"
     ]
    },
    {
     "name": "stderr",
     "output_type": "stream",
     "text": [
      "ERROR:tvDatafeed.main:The read operation timed out\n",
      "ERROR:tvDatafeed.main:no data, please check the exchange and symbol\n"
     ]
    },
    {
     "name": "stdout",
     "output_type": "stream",
     "text": [
      "CRYPTO:WIXUSD\n",
      "datetime\n",
      "2023-01-10 08:00:00    0.041048\n",
      "2023-01-11 08:00:00    0.043233\n",
      "2023-01-12 08:00:00    0.042603\n",
      "2023-01-13 08:00:00    0.042708\n",
      "2023-01-14 08:00:00    0.042708\n",
      "                         ...   \n",
      "2023-09-23 08:00:00    0.033471\n",
      "2023-09-24 08:00:00    0.033387\n",
      "2023-09-25 08:00:00    0.034168\n",
      "2023-09-26 08:00:00    0.032764\n",
      "2023-09-27 08:00:00    0.032481\n",
      "Name: close, Length: 261, dtype: float64\n",
      "Index(['symbol', 'open', 'high', 'low', 'close', 'volume'], dtype='object')\n"
     ]
    },
    {
     "name": "stderr",
     "output_type": "stream",
     "text": [
      "ERROR:tvDatafeed.main:The read operation timed out\n",
      "ERROR:tvDatafeed.main:no data, please check the exchange and symbol\n"
     ]
    },
    {
     "name": "stdout",
     "output_type": "stream",
     "text": [
      "CRYPTO:DRGUSD\n",
      "datetime\n",
      "2019-08-01 08:00:00    0.000443\n",
      "2019-08-02 08:00:00    0.000396\n",
      "2019-08-03 08:00:00    0.000364\n",
      "2019-08-04 08:00:00    0.000371\n",
      "2019-08-05 08:00:00    0.000368\n",
      "                         ...   \n",
      "2023-09-23 08:00:00    0.000061\n",
      "2023-09-24 08:00:00    0.000061\n",
      "2023-09-25 08:00:00    0.000061\n",
      "2023-09-26 08:00:00    0.000061\n",
      "2023-09-27 08:00:00    0.000061\n",
      "Name: close, Length: 1519, dtype: float64\n",
      "Index(['symbol', 'open', 'high', 'low', 'close', 'volume'], dtype='object')\n",
      "datetime\n",
      "2018-08-06 08:00:00     3.2560\n",
      "2018-08-07 08:00:00     3.0347\n",
      "2018-08-08 08:00:00     2.5828\n",
      "2018-08-09 08:00:00     2.5710\n",
      "2018-08-10 08:00:00     2.3370\n",
      "                        ...   \n",
      "2023-09-23 08:00:00    42.8440\n",
      "2023-09-24 08:00:00    42.5570\n",
      "2023-09-25 08:00:00    42.9260\n",
      "2023-09-26 08:00:00    43.0480\n",
      "2023-09-27 08:00:00    43.1050\n",
      "Name: close, Length: 1825, dtype: float64\n",
      "Index(['symbol', 'open', 'high', 'low', 'close', 'volume'], dtype='object')\n"
     ]
    },
    {
     "name": "stderr",
     "output_type": "stream",
     "text": [
      "ERROR:tvDatafeed.main:The read operation timed out\n",
      "ERROR:tvDatafeed.main:no data, please check the exchange and symbol\n"
     ]
    },
    {
     "name": "stdout",
     "output_type": "stream",
     "text": [
      "CRYPTO:BHTUSD\n"
     ]
    },
    {
     "name": "stderr",
     "output_type": "stream",
     "text": [
      "ERROR:tvDatafeed.main:The read operation timed out\n",
      "ERROR:tvDatafeed.main:no data, please check the exchange and symbol\n"
     ]
    },
    {
     "name": "stdout",
     "output_type": "stream",
     "text": [
      "CRYPTO:BNKUSD\n"
     ]
    },
    {
     "name": "stderr",
     "output_type": "stream",
     "text": [
      "ERROR:tvDatafeed.main:The read operation timed out\n",
      "ERROR:tvDatafeed.main:no data, please check the exchange and symbol\n"
     ]
    },
    {
     "name": "stdout",
     "output_type": "stream",
     "text": [
      "CRYPTO:BQTXUSD\n"
     ]
    },
    {
     "name": "stderr",
     "output_type": "stream",
     "text": [
      "ERROR:tvDatafeed.main:The read operation timed out\n",
      "ERROR:tvDatafeed.main:no data, please check the exchange and symbol\n"
     ]
    },
    {
     "name": "stdout",
     "output_type": "stream",
     "text": [
      "CRYPTO:CVCCUSD\n",
      "datetime\n",
      "2021-06-27 08:00:00    24.501300\n",
      "2021-06-28 08:00:00    25.276300\n",
      "2021-06-29 08:00:00    26.936400\n",
      "2021-06-30 08:00:00    27.389800\n",
      "2021-07-01 08:00:00    26.117100\n",
      "                         ...    \n",
      "2023-09-23 08:00:00     1.131223\n",
      "2023-09-24 08:00:00     1.228185\n",
      "2023-09-25 08:00:00     1.260666\n",
      "2023-09-26 08:00:00     1.175499\n",
      "2023-09-27 08:00:00     1.125731\n",
      "Name: close, Length: 822, dtype: float64\n",
      "Index(['symbol', 'open', 'high', 'low', 'close', 'volume'], dtype='object')\n"
     ]
    },
    {
     "name": "stderr",
     "output_type": "stream",
     "text": [
      "ERROR:tvDatafeed.main:The read operation timed out\n",
      "ERROR:tvDatafeed.main:no data, please check the exchange and symbol\n"
     ]
    },
    {
     "name": "stdout",
     "output_type": "stream",
     "text": [
      "CRYPTO:USDKUSD\n"
     ]
    },
    {
     "name": "stderr",
     "output_type": "stream",
     "text": [
      "ERROR:tvDatafeed.main:The read operation timed out\n",
      "ERROR:tvDatafeed.main:no data, please check the exchange and symbol\n"
     ]
    },
    {
     "name": "stdout",
     "output_type": "stream",
     "text": [
      "CRYPTO:VALORUSD\n"
     ]
    },
    {
     "name": "stderr",
     "output_type": "stream",
     "text": [
      "ERROR:tvDatafeed.main:The read operation timed out\n",
      "ERROR:tvDatafeed.main:no data, please check the exchange and symbol\n"
     ]
    },
    {
     "name": "stdout",
     "output_type": "stream",
     "text": [
      "CRYPTO:XACUSD\n"
     ]
    },
    {
     "name": "stderr",
     "output_type": "stream",
     "text": [
      "ERROR:tvDatafeed.main:The read operation timed out\n",
      "ERROR:tvDatafeed.main:no data, please check the exchange and symbol\n"
     ]
    },
    {
     "name": "stdout",
     "output_type": "stream",
     "text": [
      "CRYPTO:MBUSD\n",
      "datetime\n",
      "2019-08-26 08:00:00    0.241856\n",
      "2019-08-27 08:00:00    0.229888\n",
      "2019-08-28 08:00:00    0.222528\n",
      "2019-08-29 08:00:00    0.223035\n",
      "2019-08-30 08:00:00    0.209269\n",
      "                         ...   \n",
      "2023-09-23 08:00:00    0.292409\n",
      "2023-09-24 08:00:00    0.286058\n",
      "2023-09-25 08:00:00    0.282356\n",
      "2023-09-26 08:00:00    0.277646\n",
      "2023-09-27 08:00:00    0.293306\n",
      "Name: close, Length: 1494, dtype: float64\n",
      "Index(['symbol', 'open', 'high', 'low', 'close', 'volume'], dtype='object')\n"
     ]
    },
    {
     "name": "stderr",
     "output_type": "stream",
     "text": [
      "ERROR:tvDatafeed.main:The read operation timed out\n",
      "ERROR:tvDatafeed.main:no data, please check the exchange and symbol\n"
     ]
    },
    {
     "name": "stdout",
     "output_type": "stream",
     "text": [
      "CRYPTO:BFUSD\n"
     ]
    },
    {
     "name": "stderr",
     "output_type": "stream",
     "text": [
      "ERROR:tvDatafeed.main:The read operation timed out\n",
      "ERROR:tvDatafeed.main:no data, please check the exchange and symbol\n"
     ]
    },
    {
     "name": "stdout",
     "output_type": "stream",
     "text": [
      "CRYPTO:FNBUSD\n"
     ]
    },
    {
     "name": "stderr",
     "output_type": "stream",
     "text": [
      "ERROR:tvDatafeed.main:The read operation timed out\n",
      "ERROR:tvDatafeed.main:no data, please check the exchange and symbol\n"
     ]
    },
    {
     "name": "stdout",
     "output_type": "stream",
     "text": [
      "CRYPTO:SEELEUSD\n"
     ]
    },
    {
     "name": "stderr",
     "output_type": "stream",
     "text": [
      "ERROR:tvDatafeed.main:The read operation timed out\n",
      "ERROR:tvDatafeed.main:no data, please check the exchange and symbol\n"
     ]
    },
    {
     "name": "stdout",
     "output_type": "stream",
     "text": [
      "CRYPTO:BTC2USD\n"
     ]
    },
    {
     "name": "stderr",
     "output_type": "stream",
     "text": [
      "ERROR:tvDatafeed.main:The read operation timed out\n",
      "ERROR:tvDatafeed.main:no data, please check the exchange and symbol\n"
     ]
    },
    {
     "name": "stdout",
     "output_type": "stream",
     "text": [
      "CRYPTO:DXUSD\n"
     ]
    },
    {
     "name": "stderr",
     "output_type": "stream",
     "text": [
      "ERROR:tvDatafeed.main:The read operation timed out\n",
      "ERROR:tvDatafeed.main:no data, please check the exchange and symbol\n"
     ]
    },
    {
     "name": "stdout",
     "output_type": "stream",
     "text": [
      "CRYPTO:FABUSD\n"
     ]
    },
    {
     "name": "stderr",
     "output_type": "stream",
     "text": [
      "ERROR:tvDatafeed.main:Connection to remote host was lost.\n",
      "ERROR:tvDatafeed.main:no data, please check the exchange and symbol\n"
     ]
    },
    {
     "name": "stdout",
     "output_type": "stream",
     "text": [
      "CRYPTO:BOTXUSD\n",
      "datetime\n",
      "2019-04-21 08:00:00    0.914900\n",
      "2019-04-22 08:00:00    0.924000\n",
      "2019-04-23 08:00:00    1.103000\n",
      "2019-04-24 08:00:00    1.079000\n",
      "2019-04-25 08:00:00    0.835600\n",
      "                         ...   \n",
      "2023-09-23 08:00:00    3.883130\n",
      "2023-09-24 08:00:00    3.866156\n",
      "2023-09-25 08:00:00    3.878856\n",
      "2023-09-26 08:00:00    3.867718\n",
      "2023-09-27 08:00:00    3.864359\n",
      "Name: close, Length: 1360, dtype: float64\n",
      "Index(['symbol', 'open', 'high', 'low', 'close', 'volume'], dtype='object')\n"
     ]
    },
    {
     "name": "stderr",
     "output_type": "stream",
     "text": [
      "ERROR:tvDatafeed.main:The read operation timed out\n",
      "ERROR:tvDatafeed.main:no data, please check the exchange and symbol\n"
     ]
    },
    {
     "name": "stdout",
     "output_type": "stream",
     "text": [
      "CRYPTO:MEXCUSD\n",
      "datetime\n",
      "2021-07-13 08:00:00    7.107500\n",
      "2021-07-14 08:00:00    6.919700\n",
      "2021-07-15 08:00:00    6.628200\n",
      "2021-07-16 08:00:00    6.575000\n",
      "2021-07-17 08:00:00    6.474300\n",
      "                         ...   \n",
      "2023-09-23 08:00:00    0.393787\n",
      "2023-09-24 08:00:00    0.405253\n",
      "2023-09-25 08:00:00    0.410780\n",
      "2023-09-26 08:00:00    0.445690\n",
      "2023-09-27 08:00:00    0.466556\n",
      "Name: close, Length: 801, dtype: float64\n",
      "Index(['symbol', 'open', 'high', 'low', 'close', 'volume'], dtype='object')\n"
     ]
    },
    {
     "name": "stderr",
     "output_type": "stream",
     "text": [
      "ERROR:tvDatafeed.main:The read operation timed out\n",
      "ERROR:tvDatafeed.main:no data, please check the exchange and symbol\n"
     ]
    },
    {
     "name": "stdout",
     "output_type": "stream",
     "text": [
      "CRYPTO:EONUSD\n"
     ]
    },
    {
     "name": "stderr",
     "output_type": "stream",
     "text": [
      "ERROR:tvDatafeed.main:The read operation timed out\n",
      "ERROR:tvDatafeed.main:no data, please check the exchange and symbol\n"
     ]
    },
    {
     "name": "stdout",
     "output_type": "stream",
     "text": [
      "CRYPTO:GAPUSD\n",
      "datetime\n",
      "2022-05-24 08:00:00    1.5160\n",
      "2022-05-25 08:00:00    1.5209\n",
      "2022-05-26 08:00:00    1.5107\n",
      "2022-05-27 08:00:00    1.4717\n",
      "2022-05-28 08:00:00    1.5370\n",
      "                        ...  \n",
      "2023-09-23 08:00:00    2.1976\n",
      "2023-09-24 08:00:00    2.1286\n",
      "2023-09-25 08:00:00    2.1322\n",
      "2023-09-26 08:00:00    2.1309\n",
      "2023-09-27 08:00:00    2.1758\n",
      "Name: close, Length: 492, dtype: float64\n",
      "Index(['symbol', 'open', 'high', 'low', 'close', 'volume'], dtype='object')\n"
     ]
    },
    {
     "name": "stderr",
     "output_type": "stream",
     "text": [
      "ERROR:tvDatafeed.main:The read operation timed out\n",
      "ERROR:tvDatafeed.main:no data, please check the exchange and symbol\n"
     ]
    },
    {
     "name": "stdout",
     "output_type": "stream",
     "text": [
      "CRYPTO:MOFUSD\n"
     ]
    },
    {
     "name": "stderr",
     "output_type": "stream",
     "text": [
      "ERROR:tvDatafeed.main:The read operation timed out\n",
      "ERROR:tvDatafeed.main:no data, please check the exchange and symbol\n"
     ]
    },
    {
     "name": "stdout",
     "output_type": "stream",
     "text": [
      "CRYPTO:BRZEUSD\n"
     ]
    },
    {
     "name": "stderr",
     "output_type": "stream",
     "text": [
      "ERROR:tvDatafeed.main:The read operation timed out\n",
      "ERROR:tvDatafeed.main:no data, please check the exchange and symbol\n"
     ]
    },
    {
     "name": "stdout",
     "output_type": "stream",
     "text": [
      "CRYPTO:HPTUSD\n"
     ]
    },
    {
     "name": "stderr",
     "output_type": "stream",
     "text": [
      "ERROR:tvDatafeed.main:The read operation timed out\n",
      "ERROR:tvDatafeed.main:no data, please check the exchange and symbol\n"
     ]
    },
    {
     "name": "stdout",
     "output_type": "stream",
     "text": [
      "CRYPTO:JWLUSD\n"
     ]
    },
    {
     "name": "stderr",
     "output_type": "stream",
     "text": [
      "ERROR:tvDatafeed.main:The read operation timed out\n",
      "ERROR:tvDatafeed.main:no data, please check the exchange and symbol\n"
     ]
    },
    {
     "name": "stdout",
     "output_type": "stream",
     "text": [
      "CRYPTO:CVUSD\n",
      "datetime\n",
      "2019-09-17 08:00:00    0.089762\n",
      "2019-09-18 08:00:00    0.086755\n",
      "2019-09-19 08:00:00    0.057132\n",
      "2019-09-20 08:00:00    0.052561\n",
      "2019-09-21 08:00:00    0.048042\n",
      "                         ...   \n",
      "2023-09-23 08:00:00    0.052021\n",
      "2023-09-24 08:00:00    0.049882\n",
      "2023-09-25 08:00:00    0.050451\n",
      "2023-09-26 08:00:00    0.049419\n",
      "2023-09-27 08:00:00    0.049515\n",
      "Name: close, Length: 1472, dtype: float64\n",
      "Index(['symbol', 'open', 'high', 'low', 'close', 'volume'], dtype='object')\n"
     ]
    },
    {
     "name": "stderr",
     "output_type": "stream",
     "text": [
      "ERROR:tvDatafeed.main:The read operation timed out\n",
      "ERROR:tvDatafeed.main:no data, please check the exchange and symbol\n"
     ]
    },
    {
     "name": "stdout",
     "output_type": "stream",
     "text": [
      "CRYPTO:EDCUSD\n"
     ]
    },
    {
     "name": "stderr",
     "output_type": "stream",
     "text": [
      "ERROR:tvDatafeed.main:The read operation timed out\n",
      "ERROR:tvDatafeed.main:no data, please check the exchange and symbol\n"
     ]
    },
    {
     "name": "stdout",
     "output_type": "stream",
     "text": [
      "CRYPTO:MINUSD\n"
     ]
    },
    {
     "name": "stderr",
     "output_type": "stream",
     "text": [
      "ERROR:tvDatafeed.main:The read operation timed out\n",
      "ERROR:tvDatafeed.main:no data, please check the exchange and symbol\n"
     ]
    },
    {
     "name": "stdout",
     "output_type": "stream",
     "text": [
      "CRYPTO:BTMXUSD\n"
     ]
    },
    {
     "name": "stderr",
     "output_type": "stream",
     "text": [
      "ERROR:tvDatafeed.main:The read operation timed out\n",
      "ERROR:tvDatafeed.main:no data, please check the exchange and symbol\n"
     ]
    },
    {
     "name": "stdout",
     "output_type": "stream",
     "text": [
      "CRYPTO:YOUUSD\n"
     ]
    },
    {
     "name": "stderr",
     "output_type": "stream",
     "text": [
      "ERROR:tvDatafeed.main:The read operation timed out\n",
      "ERROR:tvDatafeed.main:no data, please check the exchange and symbol\n"
     ]
    },
    {
     "name": "stdout",
     "output_type": "stream",
     "text": [
      "CRYPTO:GNYUSD\n"
     ]
    },
    {
     "name": "stderr",
     "output_type": "stream",
     "text": [
      "ERROR:tvDatafeed.main:The read operation timed out\n",
      "ERROR:tvDatafeed.main:no data, please check the exchange and symbol\n"
     ]
    },
    {
     "name": "stdout",
     "output_type": "stream",
     "text": [
      "CRYPTO:DPTUSD\n"
     ]
    },
    {
     "name": "stderr",
     "output_type": "stream",
     "text": [
      "ERROR:tvDatafeed.main:The read operation timed out\n",
      "ERROR:tvDatafeed.main:no data, please check the exchange and symbol\n"
     ]
    },
    {
     "name": "stdout",
     "output_type": "stream",
     "text": [
      "CRYPTO:LOKIUSD\n",
      "datetime\n",
      "2022-04-27 08:00:00    1.001000\n",
      "2022-04-28 08:00:00    0.999000\n",
      "2022-04-29 08:00:00    1.001000\n",
      "2022-04-30 08:00:00    1.001000\n",
      "2022-05-01 08:00:00    1.001000\n",
      "                         ...   \n",
      "2023-09-23 08:00:00    1.000040\n",
      "2023-09-24 08:00:00    0.999956\n",
      "2023-09-25 08:00:00    1.000122\n",
      "2023-09-26 08:00:00    1.000082\n",
      "2023-09-27 08:00:00    1.000182\n",
      "Name: close, Length: 518, dtype: float64\n",
      "Index(['symbol', 'open', 'high', 'low', 'close', 'volume'], dtype='object')\n"
     ]
    },
    {
     "name": "stderr",
     "output_type": "stream",
     "text": [
      "ERROR:tvDatafeed.main:The read operation timed out\n",
      "ERROR:tvDatafeed.main:no data, please check the exchange and symbol\n"
     ]
    },
    {
     "name": "stdout",
     "output_type": "stream",
     "text": [
      "CRYPTO:CCAUSD\n"
     ]
    },
    {
     "name": "stderr",
     "output_type": "stream",
     "text": [
      "ERROR:tvDatafeed.main:The read operation timed out\n",
      "ERROR:tvDatafeed.main:no data, please check the exchange and symbol\n"
     ]
    },
    {
     "name": "stdout",
     "output_type": "stream",
     "text": [
      "CRYPTO:QCUSD\n"
     ]
    },
    {
     "name": "stderr",
     "output_type": "stream",
     "text": [
      "ERROR:tvDatafeed.main:The read operation timed out\n",
      "ERROR:tvDatafeed.main:no data, please check the exchange and symbol\n"
     ]
    },
    {
     "name": "stdout",
     "output_type": "stream",
     "text": [
      "CRYPTO:JULUSD\n"
     ]
    },
    {
     "name": "stderr",
     "output_type": "stream",
     "text": [
      "ERROR:tvDatafeed.main:The read operation timed out\n",
      "ERROR:tvDatafeed.main:no data, please check the exchange and symbol\n"
     ]
    },
    {
     "name": "stdout",
     "output_type": "stream",
     "text": [
      "CRYPTO:ADKUSD\n",
      "datetime\n",
      "2021-06-27 08:00:00    0.040959\n",
      "2021-06-28 08:00:00    0.040762\n",
      "2021-06-29 08:00:00    0.041722\n",
      "2021-06-30 08:00:00    0.040776\n",
      "2021-07-01 08:00:00    0.040219\n",
      "                         ...   \n",
      "2023-09-23 08:00:00    0.008254\n",
      "2023-09-24 08:00:00    0.008025\n",
      "2023-09-25 08:00:00    0.007844\n",
      "2023-09-26 08:00:00    0.007535\n",
      "2023-09-27 08:00:00    0.007550\n",
      "Name: close, Length: 818, dtype: float64\n",
      "Index(['symbol', 'open', 'high', 'low', 'close', 'volume'], dtype='object')\n",
      "datetime\n",
      "2021-05-31 08:00:00    0.062800\n",
      "2021-06-01 08:00:00    0.064000\n",
      "2021-06-02 08:00:00    0.062370\n",
      "2021-06-03 08:00:00    0.063310\n",
      "2021-06-04 08:00:00    0.059090\n",
      "                         ...   \n",
      "2023-09-23 08:00:00    0.001748\n",
      "2023-09-24 08:00:00    0.002058\n",
      "2023-09-25 08:00:00    0.001790\n",
      "2023-09-26 08:00:00    0.001866\n",
      "2023-09-27 08:00:00    0.001817\n",
      "Name: close, Length: 846, dtype: float64\n",
      "Index(['symbol', 'open', 'high', 'low', 'close', 'volume'], dtype='object')\n"
     ]
    },
    {
     "name": "stderr",
     "output_type": "stream",
     "text": [
      "ERROR:tvDatafeed.main:The read operation timed out\n",
      "ERROR:tvDatafeed.main:no data, please check the exchange and symbol\n"
     ]
    },
    {
     "name": "stdout",
     "output_type": "stream",
     "text": [
      "CRYPTO:FLGUSD\n"
     ]
    },
    {
     "name": "stderr",
     "output_type": "stream",
     "text": [
      "ERROR:tvDatafeed.main:The read operation timed out\n",
      "ERROR:tvDatafeed.main:no data, please check the exchange and symbol\n"
     ]
    },
    {
     "name": "stdout",
     "output_type": "stream",
     "text": [
      "CRYPTO:XTPUSD\n",
      "datetime\n",
      "2019-09-25 08:00:00    1.006520\n",
      "2019-09-26 08:00:00    1.010700\n",
      "2019-09-27 08:00:00    1.012660\n",
      "2019-09-28 08:00:00    1.009810\n",
      "2019-09-29 08:00:00    1.006410\n",
      "                         ...   \n",
      "2023-09-23 08:00:00    1.000066\n",
      "2023-09-24 08:00:00    1.000036\n",
      "2023-09-25 08:00:00    0.999998\n",
      "2023-09-26 08:00:00    0.999740\n",
      "2023-09-27 08:00:00    0.999740\n",
      "Name: close, Length: 1464, dtype: float64\n",
      "Index(['symbol', 'open', 'high', 'low', 'close', 'volume'], dtype='object')\n"
     ]
    },
    {
     "name": "stderr",
     "output_type": "stream",
     "text": [
      "ERROR:tvDatafeed.main:The read operation timed out\n",
      "ERROR:tvDatafeed.main:no data, please check the exchange and symbol\n"
     ]
    },
    {
     "name": "stdout",
     "output_type": "stream",
     "text": [
      "CRYPTO:GTNUSD\n",
      "datetime\n",
      "2019-11-16 08:00:00    0.010594\n",
      "2019-11-17 08:00:00    0.010133\n",
      "2019-11-18 08:00:00    0.009150\n",
      "2019-11-19 08:00:00    0.007834\n",
      "2019-11-20 08:00:00    0.008886\n",
      "                         ...   \n",
      "2023-09-23 08:00:00    0.002711\n",
      "2023-09-24 08:00:00    0.002673\n",
      "2023-09-25 08:00:00    0.002705\n",
      "2023-09-26 08:00:00    0.002732\n",
      "2023-09-27 08:00:00    0.002701\n",
      "Name: close, Length: 1408, dtype: float64\n",
      "Index(['symbol', 'open', 'high', 'low', 'close', 'volume'], dtype='object')\n"
     ]
    },
    {
     "name": "stderr",
     "output_type": "stream",
     "text": [
      "ERROR:tvDatafeed.main:The read operation timed out\n",
      "ERROR:tvDatafeed.main:no data, please check the exchange and symbol\n"
     ]
    },
    {
     "name": "stdout",
     "output_type": "stream",
     "text": [
      "CRYPTO:BSTUSD\n"
     ]
    },
    {
     "name": "stderr",
     "output_type": "stream",
     "text": [
      "ERROR:tvDatafeed.main:The read operation timed out\n",
      "ERROR:tvDatafeed.main:no data, please check the exchange and symbol\n"
     ]
    },
    {
     "name": "stdout",
     "output_type": "stream",
     "text": [
      "CRYPTO:YAPUSD\n"
     ]
    },
    {
     "name": "stderr",
     "output_type": "stream",
     "text": [
      "ERROR:tvDatafeed.main:The read operation timed out\n",
      "ERROR:tvDatafeed.main:no data, please check the exchange and symbol\n"
     ]
    },
    {
     "name": "stdout",
     "output_type": "stream",
     "text": [
      "CRYPTO:STXUSD\n"
     ]
    },
    {
     "name": "stderr",
     "output_type": "stream",
     "text": [
      "ERROR:tvDatafeed.main:The read operation timed out\n",
      "ERROR:tvDatafeed.main:no data, please check the exchange and symbol\n"
     ]
    },
    {
     "name": "stdout",
     "output_type": "stream",
     "text": [
      "CRYPTO:DNAUSD\n"
     ]
    },
    {
     "name": "stderr",
     "output_type": "stream",
     "text": [
      "ERROR:tvDatafeed.main:The read operation timed out\n",
      "ERROR:tvDatafeed.main:no data, please check the exchange and symbol\n"
     ]
    },
    {
     "name": "stdout",
     "output_type": "stream",
     "text": [
      "CRYPTO:PLFUSD\n"
     ]
    },
    {
     "name": "stderr",
     "output_type": "stream",
     "text": [
      "ERROR:tvDatafeed.main:The read operation timed out\n",
      "ERROR:tvDatafeed.main:no data, please check the exchange and symbol\n"
     ]
    },
    {
     "name": "stdout",
     "output_type": "stream",
     "text": [
      "CRYPTO:WCCUSD\n",
      "datetime\n",
      "2021-04-09 08:00:00    7.531000\n",
      "2021-04-10 08:00:00    7.232000\n",
      "2021-04-11 08:00:00    7.017000\n",
      "2021-04-12 08:00:00    7.083000\n",
      "2021-04-13 08:00:00    7.097000\n",
      "                         ...   \n",
      "2023-09-23 08:00:00    0.137974\n",
      "2023-09-24 08:00:00    0.143334\n",
      "2023-09-25 08:00:00    0.138927\n",
      "2023-09-26 08:00:00    0.142552\n",
      "2023-09-27 08:00:00    0.139663\n",
      "Name: close, Length: 899, dtype: float64\n",
      "Index(['symbol', 'open', 'high', 'low', 'close', 'volume'], dtype='object')\n"
     ]
    },
    {
     "name": "stderr",
     "output_type": "stream",
     "text": [
      "ERROR:tvDatafeed.main:The read operation timed out\n",
      "ERROR:tvDatafeed.main:no data, please check the exchange and symbol\n"
     ]
    },
    {
     "name": "stdout",
     "output_type": "stream",
     "text": [
      "CRYPTO:SEROUSD\n"
     ]
    },
    {
     "name": "stderr",
     "output_type": "stream",
     "text": [
      "ERROR:tvDatafeed.main:Connection to remote host was lost.\n",
      "ERROR:tvDatafeed.main:no data, please check the exchange and symbol\n"
     ]
    },
    {
     "name": "stdout",
     "output_type": "stream",
     "text": [
      "CRYPTO:UBTUSD\n"
     ]
    },
    {
     "name": "stderr",
     "output_type": "stream",
     "text": [
      "ERROR:tvDatafeed.main:Connection to remote host was lost.\n",
      "ERROR:tvDatafeed.main:no data, please check the exchange and symbol\n"
     ]
    },
    {
     "name": "stdout",
     "output_type": "stream",
     "text": [
      "CRYPTO:APMUSD\n"
     ]
    },
    {
     "name": "stderr",
     "output_type": "stream",
     "text": [
      "ERROR:tvDatafeed.main:Connection to remote host was lost.\n",
      "ERROR:tvDatafeed.main:no data, please check the exchange and symbol\n"
     ]
    },
    {
     "name": "stdout",
     "output_type": "stream",
     "text": [
      "CRYPTO:TAGZ5USD\n"
     ]
    },
    {
     "name": "stderr",
     "output_type": "stream",
     "text": [
      "ERROR:tvDatafeed.main:Connection to remote host was lost.\n",
      "ERROR:tvDatafeed.main:no data, please check the exchange and symbol\n"
     ]
    },
    {
     "name": "stdout",
     "output_type": "stream",
     "text": [
      "CRYPTO:ELAMAUSD\n"
     ]
    },
    {
     "name": "stderr",
     "output_type": "stream",
     "text": [
      "ERROR:tvDatafeed.main:Connection to remote host was lost.\n",
      "ERROR:tvDatafeed.main:no data, please check the exchange and symbol\n"
     ]
    },
    {
     "name": "stdout",
     "output_type": "stream",
     "text": [
      "CRYPTO:BRCUSD\n"
     ]
    },
    {
     "name": "stderr",
     "output_type": "stream",
     "text": [
      "ERROR:tvDatafeed.main:Connection to remote host was lost.\n",
      "ERROR:tvDatafeed.main:no data, please check the exchange and symbol\n"
     ]
    },
    {
     "name": "stdout",
     "output_type": "stream",
     "text": [
      "CRYPTO:CBUCKSUSD\n"
     ]
    },
    {
     "name": "stderr",
     "output_type": "stream",
     "text": [
      "ERROR:tvDatafeed.main:Connection to remote host was lost.\n",
      "ERROR:tvDatafeed.main:no data, please check the exchange and symbol\n"
     ]
    },
    {
     "name": "stdout",
     "output_type": "stream",
     "text": [
      "CRYPTO:HEXUSD\n"
     ]
    },
    {
     "name": "stderr",
     "output_type": "stream",
     "text": [
      "ERROR:tvDatafeed.main:The read operation timed out\n",
      "ERROR:tvDatafeed.main:no data, please check the exchange and symbol\n"
     ]
    },
    {
     "name": "stdout",
     "output_type": "stream",
     "text": [
      "CRYPTO:SUREUSD\n",
      "datetime\n",
      "2017-06-22 08:00:00     43.691310\n",
      "2017-06-23 08:00:00     45.300838\n",
      "2017-06-24 08:00:00    102.528910\n",
      "2017-06-25 08:00:00     85.688937\n",
      "2017-06-26 08:00:00     58.345115\n",
      "                          ...    \n",
      "2023-09-23 08:00:00     12.878787\n",
      "2023-09-24 08:00:00     12.394326\n",
      "2023-09-25 08:00:00     12.589868\n",
      "2023-09-26 08:00:00     12.750000\n",
      "2023-09-27 08:00:00     12.750000\n",
      "Name: close, Length: 2287, dtype: float64\n",
      "Index(['symbol', 'open', 'high', 'low', 'close', 'volume'], dtype='object')\n"
     ]
    },
    {
     "name": "stderr",
     "output_type": "stream",
     "text": [
      "ERROR:tvDatafeed.main:The read operation timed out\n",
      "ERROR:tvDatafeed.main:no data, please check the exchange and symbol\n"
     ]
    },
    {
     "name": "stdout",
     "output_type": "stream",
     "text": [
      "CRYPTO:QQQUSD\n",
      "datetime\n",
      "2020-08-26 08:00:00    1963.106331\n",
      "2020-08-27 08:00:00    1931.242566\n",
      "2020-08-28 08:00:00    1978.797441\n",
      "2020-08-29 08:00:00    1963.670765\n",
      "2020-08-30 08:00:00    1986.186976\n",
      "                          ...     \n",
      "2023-09-23 08:00:00    1913.408215\n",
      "2023-09-24 08:00:00    1913.863856\n",
      "2023-09-25 08:00:00    1908.558455\n",
      "2023-09-26 08:00:00    1899.149765\n",
      "2023-09-27 08:00:00    1897.048612\n",
      "Name: close, Length: 1128, dtype: float64\n",
      "Index(['symbol', 'open', 'high', 'low', 'close', 'volume'], dtype='object')\n"
     ]
    },
    {
     "name": "stderr",
     "output_type": "stream",
     "text": [
      "ERROR:tvDatafeed.main:The read operation timed out\n",
      "ERROR:tvDatafeed.main:no data, please check the exchange and symbol\n"
     ]
    },
    {
     "name": "stdout",
     "output_type": "stream",
     "text": [
      "CRYPTO:ZEONUSD\n"
     ]
    },
    {
     "name": "stderr",
     "output_type": "stream",
     "text": [
      "ERROR:tvDatafeed.main:The read operation timed out\n",
      "ERROR:tvDatafeed.main:no data, please check the exchange and symbol\n"
     ]
    },
    {
     "name": "stdout",
     "output_type": "stream",
     "text": [
      "CRYPTO:GLEECUSD\n"
     ]
    },
    {
     "name": "stderr",
     "output_type": "stream",
     "text": [
      "ERROR:tvDatafeed.main:The read operation timed out\n",
      "ERROR:tvDatafeed.main:no data, please check the exchange and symbol\n"
     ]
    },
    {
     "name": "stdout",
     "output_type": "stream",
     "text": [
      "CRYPTO:ERC20USD\n"
     ]
    },
    {
     "name": "stderr",
     "output_type": "stream",
     "text": [
      "ERROR:tvDatafeed.main:The read operation timed out\n",
      "ERROR:tvDatafeed.main:no data, please check the exchange and symbol\n"
     ]
    },
    {
     "name": "stdout",
     "output_type": "stream",
     "text": [
      "CRYPTO:IPXUSD\n"
     ]
    },
    {
     "name": "stderr",
     "output_type": "stream",
     "text": [
      "ERROR:tvDatafeed.main:The read operation timed out\n",
      "ERROR:tvDatafeed.main:no data, please check the exchange and symbol\n"
     ]
    },
    {
     "name": "stdout",
     "output_type": "stream",
     "text": [
      "CRYPTO:ZVCUSD\n"
     ]
    },
    {
     "name": "stderr",
     "output_type": "stream",
     "text": [
      "ERROR:tvDatafeed.main:The read operation timed out\n",
      "ERROR:tvDatafeed.main:no data, please check the exchange and symbol\n"
     ]
    },
    {
     "name": "stdout",
     "output_type": "stream",
     "text": [
      "CRYPTO:SNBUSD\n"
     ]
    },
    {
     "name": "stderr",
     "output_type": "stream",
     "text": [
      "ERROR:tvDatafeed.main:Connection to remote host was lost.\n",
      "ERROR:tvDatafeed.main:no data, please check the exchange and symbol\n"
     ]
    },
    {
     "name": "stdout",
     "output_type": "stream",
     "text": [
      "CRYPTO:STOUSD\n",
      "datetime\n",
      "2019-07-01 08:00:00    0.023030\n",
      "2019-07-02 08:00:00    0.033300\n",
      "2019-07-03 08:00:00    0.034030\n",
      "2019-07-04 08:00:00    0.027580\n",
      "2019-07-05 08:00:00    0.027200\n",
      "                         ...   \n",
      "2023-09-23 08:00:00    0.004565\n",
      "2023-09-24 08:00:00    0.004574\n",
      "2023-09-25 08:00:00    0.004782\n",
      "2023-09-26 08:00:00    0.004628\n",
      "2023-09-27 08:00:00    0.004629\n",
      "Name: close, Length: 1550, dtype: float64\n",
      "Index(['symbol', 'open', 'high', 'low', 'close', 'volume'], dtype='object')\n",
      "datetime\n",
      "2019-05-06 08:00:00    0.030179\n",
      "2019-05-07 08:00:00    0.031449\n",
      "2019-05-08 08:00:00    0.030907\n",
      "2019-05-09 08:00:00    0.026930\n",
      "2019-05-10 08:00:00    0.024574\n",
      "                         ...   \n",
      "2023-09-23 08:00:00    0.327874\n",
      "2023-09-24 08:00:00    0.322631\n",
      "2023-09-25 08:00:00    0.317907\n",
      "2023-09-26 08:00:00    0.319542\n",
      "2023-09-27 08:00:00    0.315954\n",
      "Name: close, Length: 1606, dtype: float64\n",
      "Index(['symbol', 'open', 'high', 'low', 'close', 'volume'], dtype='object')\n",
      "datetime\n",
      "2019-10-25 08:00:00    1.293912\n",
      "2019-10-26 08:00:00    0.977750\n",
      "2019-10-27 08:00:00    0.810141\n",
      "2019-10-28 08:00:00    0.911518\n",
      "2019-10-29 08:00:00    0.871844\n",
      "                         ...   \n",
      "2023-09-23 08:00:00    0.631844\n",
      "2023-09-24 08:00:00    0.616132\n",
      "2023-09-25 08:00:00    0.626594\n",
      "2023-09-26 08:00:00    0.624288\n",
      "2023-09-27 08:00:00    0.628771\n",
      "Name: close, Length: 1043, dtype: float64\n",
      "Index(['symbol', 'open', 'high', 'low', 'close', 'volume'], dtype='object')\n"
     ]
    },
    {
     "name": "stderr",
     "output_type": "stream",
     "text": [
      "ERROR:tvDatafeed.main:The read operation timed out\n",
      "ERROR:tvDatafeed.main:no data, please check the exchange and symbol\n"
     ]
    },
    {
     "name": "stdout",
     "output_type": "stream",
     "text": [
      "CRYPTO:CCXXUSD\n"
     ]
    },
    {
     "name": "stderr",
     "output_type": "stream",
     "text": [
      "ERROR:tvDatafeed.main:The read operation timed out\n",
      "ERROR:tvDatafeed.main:no data, please check the exchange and symbol\n"
     ]
    },
    {
     "name": "stdout",
     "output_type": "stream",
     "text": [
      "CRYPTO:MWCUSD\n"
     ]
    },
    {
     "name": "stderr",
     "output_type": "stream",
     "text": [
      "ERROR:tvDatafeed.main:The read operation timed out\n",
      "ERROR:tvDatafeed.main:no data, please check the exchange and symbol\n"
     ]
    },
    {
     "name": "stdout",
     "output_type": "stream",
     "text": [
      "CRYPTO:HUSDUSD\n",
      "datetime\n",
      "2020-03-26 08:00:00    0.298859\n",
      "2020-03-27 08:00:00    0.210767\n",
      "2020-03-28 08:00:00    0.237659\n",
      "2020-03-29 08:00:00    0.191957\n",
      "2020-03-30 08:00:00    0.194051\n",
      "                         ...   \n",
      "2023-09-23 08:00:00    0.298529\n",
      "2023-09-24 08:00:00    0.296310\n",
      "2023-09-25 08:00:00    0.297013\n",
      "2023-09-26 08:00:00    0.293419\n",
      "2023-09-27 08:00:00    0.295158\n",
      "Name: close, Length: 1281, dtype: float64\n",
      "Index(['symbol', 'open', 'high', 'low', 'close', 'volume'], dtype='object')\n"
     ]
    },
    {
     "name": "stderr",
     "output_type": "stream",
     "text": [
      "ERROR:tvDatafeed.main:The read operation timed out\n",
      "ERROR:tvDatafeed.main:no data, please check the exchange and symbol\n"
     ]
    },
    {
     "name": "stdout",
     "output_type": "stream",
     "text": [
      "CRYPTO:BTRSUSD\n"
     ]
    },
    {
     "name": "stderr",
     "output_type": "stream",
     "text": [
      "ERROR:tvDatafeed.main:The read operation timed out\n",
      "ERROR:tvDatafeed.main:no data, please check the exchange and symbol\n"
     ]
    },
    {
     "name": "stdout",
     "output_type": "stream",
     "text": [
      "CRYPTO:BZTUSD\n"
     ]
    },
    {
     "name": "stderr",
     "output_type": "stream",
     "text": [
      "ERROR:tvDatafeed.main:The read operation timed out\n",
      "ERROR:tvDatafeed.main:no data, please check the exchange and symbol\n"
     ]
    },
    {
     "name": "stdout",
     "output_type": "stream",
     "text": [
      "CRYPTO:HMRUSD\n",
      "datetime\n",
      "2022-01-15 08:00:00    0.87451\n",
      "2022-01-16 08:00:00    0.84255\n",
      "2022-01-17 08:00:00    0.70828\n",
      "2022-01-18 08:00:00    0.66196\n",
      "2022-01-19 08:00:00    0.52475\n",
      "                        ...   \n",
      "2023-09-23 08:00:00    0.09395\n",
      "2023-09-24 08:00:00    0.09152\n",
      "2023-09-25 08:00:00    0.08959\n",
      "2023-09-26 08:00:00    0.08905\n",
      "2023-09-27 08:00:00    0.08826\n",
      "Name: close, Length: 617, dtype: float64\n",
      "Index(['symbol', 'open', 'high', 'low', 'close', 'volume'], dtype='object')\n"
     ]
    },
    {
     "name": "stderr",
     "output_type": "stream",
     "text": [
      "ERROR:tvDatafeed.main:The read operation timed out\n",
      "ERROR:tvDatafeed.main:no data, please check the exchange and symbol\n"
     ]
    },
    {
     "name": "stdout",
     "output_type": "stream",
     "text": [
      "CRYPTO:NYEUSD\n",
      "datetime\n",
      "2020-02-25 08:00:00    0.169690\n",
      "2020-02-26 08:00:00    0.128840\n",
      "2020-02-27 08:00:00    0.142850\n",
      "2020-02-28 08:00:00    0.200000\n",
      "2020-02-29 08:00:00    0.267130\n",
      "                         ...   \n",
      "2023-09-23 08:00:00    0.014479\n",
      "2023-09-24 08:00:00    0.013255\n",
      "2023-09-25 08:00:00    0.013886\n",
      "2023-09-26 08:00:00    0.014776\n",
      "2023-09-27 08:00:00    0.014958\n",
      "Name: close, Length: 1305, dtype: float64\n",
      "Index(['symbol', 'open', 'high', 'low', 'close', 'volume'], dtype='object')\n",
      "datetime\n",
      "2022-03-24 08:00:00    0.94574\n",
      "2022-03-25 08:00:00    0.91717\n",
      "2022-03-26 08:00:00    0.92112\n",
      "2022-03-27 08:00:00    0.94560\n",
      "2022-03-28 08:00:00    0.95445\n",
      "                        ...   \n",
      "2023-09-23 08:00:00    0.11317\n",
      "2023-09-24 08:00:00    0.11136\n",
      "2023-09-25 08:00:00    0.11135\n",
      "2023-09-26 08:00:00    0.11043\n",
      "2023-09-27 08:00:00    0.10990\n",
      "Name: close, Length: 524, dtype: float64\n",
      "Index(['symbol', 'open', 'high', 'low', 'close', 'volume'], dtype='object')\n",
      "datetime\n",
      "2019-09-18 08:00:00    0.637653\n",
      "2019-09-19 08:00:00    0.603595\n",
      "2019-09-20 08:00:00    0.678848\n",
      "2019-09-21 08:00:00    0.812344\n",
      "2019-09-22 08:00:00    0.721439\n",
      "                         ...   \n",
      "2023-09-23 08:00:00    1.054932\n",
      "2023-09-24 08:00:00    1.033322\n",
      "2023-09-25 08:00:00    1.051822\n",
      "2023-09-26 08:00:00    1.033955\n",
      "2023-09-27 08:00:00    1.051496\n",
      "Name: close, Length: 1471, dtype: float64\n",
      "Index(['symbol', 'open', 'high', 'low', 'close', 'volume'], dtype='object')\n"
     ]
    },
    {
     "name": "stderr",
     "output_type": "stream",
     "text": [
      "ERROR:tvDatafeed.main:The read operation timed out\n",
      "ERROR:tvDatafeed.main:no data, please check the exchange and symbol\n"
     ]
    },
    {
     "name": "stdout",
     "output_type": "stream",
     "text": [
      "CRYPTO:ICHUSD\n"
     ]
    },
    {
     "name": "stderr",
     "output_type": "stream",
     "text": [
      "ERROR:tvDatafeed.main:The read operation timed out\n",
      "ERROR:tvDatafeed.main:no data, please check the exchange and symbol\n"
     ]
    },
    {
     "name": "stdout",
     "output_type": "stream",
     "text": [
      "CRYPTO:MASSUSD\n"
     ]
    },
    {
     "name": "stderr",
     "output_type": "stream",
     "text": [
      "ERROR:tvDatafeed.main:The read operation timed out\n",
      "ERROR:tvDatafeed.main:no data, please check the exchange and symbol\n"
     ]
    },
    {
     "name": "stdout",
     "output_type": "stream",
     "text": [
      "CRYPTO:DEVUSD\n",
      "datetime\n",
      "2022-04-22 08:00:00    32.216400\n",
      "2022-04-23 08:00:00    31.743200\n",
      "2022-04-24 08:00:00    28.975800\n",
      "2022-04-25 08:00:00    30.663100\n",
      "2022-04-26 08:00:00    28.440000\n",
      "                         ...    \n",
      "2023-09-23 08:00:00    21.608699\n",
      "2023-09-24 08:00:00    21.324824\n",
      "2023-09-25 08:00:00    21.747107\n",
      "2023-09-26 08:00:00    21.597699\n",
      "2023-09-27 08:00:00    21.738480\n",
      "Name: close, Length: 520, dtype: float64\n",
      "Index(['symbol', 'open', 'high', 'low', 'close', 'volume'], dtype='object')\n"
     ]
    },
    {
     "name": "stderr",
     "output_type": "stream",
     "text": [
      "ERROR:tvDatafeed.main:The read operation timed out\n",
      "ERROR:tvDatafeed.main:no data, please check the exchange and symbol\n"
     ]
    },
    {
     "name": "stdout",
     "output_type": "stream",
     "text": [
      "CRYPTO:XSRUSD\n"
     ]
    },
    {
     "name": "stderr",
     "output_type": "stream",
     "text": [
      "ERROR:tvDatafeed.main:The read operation timed out\n",
      "ERROR:tvDatafeed.main:no data, please check the exchange and symbol\n"
     ]
    },
    {
     "name": "stdout",
     "output_type": "stream",
     "text": [
      "CRYPTO:TSHPUSD\n"
     ]
    },
    {
     "name": "stderr",
     "output_type": "stream",
     "text": [
      "ERROR:tvDatafeed.main:The read operation timed out\n",
      "ERROR:tvDatafeed.main:no data, please check the exchange and symbol\n"
     ]
    },
    {
     "name": "stdout",
     "output_type": "stream",
     "text": [
      "CRYPTO:XNCUSD\n"
     ]
    },
    {
     "name": "stderr",
     "output_type": "stream",
     "text": [
      "ERROR:tvDatafeed.main:The read operation timed out\n",
      "ERROR:tvDatafeed.main:no data, please check the exchange and symbol\n"
     ]
    },
    {
     "name": "stdout",
     "output_type": "stream",
     "text": [
      "CRYPTO:XDCEUSD\n",
      "datetime\n",
      "2022-01-25 08:00:00    2.013248\n",
      "2022-01-26 08:00:00    1.692157\n",
      "2022-01-27 08:00:00    1.589850\n",
      "2022-01-28 08:00:00    1.621885\n",
      "2022-01-29 08:00:00    1.631432\n",
      "                         ...   \n",
      "2023-09-23 08:00:00    0.048961\n",
      "2023-09-24 08:00:00    0.047030\n",
      "2023-09-25 08:00:00    0.049862\n",
      "2023-09-26 08:00:00    0.047888\n",
      "2023-09-27 08:00:00    0.048297\n",
      "Name: close, Length: 611, dtype: float64\n",
      "Index(['symbol', 'open', 'high', 'low', 'close', 'volume'], dtype='object')\n",
      "datetime\n",
      "2020-06-16 08:00:00     97.284889\n",
      "2020-06-17 08:00:00     65.156994\n",
      "2020-06-18 08:00:00    144.408755\n",
      "2020-06-19 08:00:00    227.889311\n",
      "2020-06-20 08:00:00    257.054417\n",
      "                          ...    \n",
      "2023-09-23 08:00:00     40.237648\n",
      "2023-09-24 08:00:00     40.358875\n",
      "2023-09-25 08:00:00     39.733790\n",
      "2023-09-26 08:00:00     39.167006\n",
      "2023-09-27 08:00:00     39.814786\n",
      "Name: close, Length: 1199, dtype: float64\n",
      "Index(['symbol', 'open', 'high', 'low', 'close', 'volume'], dtype='object')\n"
     ]
    },
    {
     "name": "stderr",
     "output_type": "stream",
     "text": [
      "ERROR:tvDatafeed.main:The read operation timed out\n",
      "ERROR:tvDatafeed.main:no data, please check the exchange and symbol\n"
     ]
    },
    {
     "name": "stdout",
     "output_type": "stream",
     "text": [
      "CRYPTO:TMTGUSD\n"
     ]
    },
    {
     "name": "stderr",
     "output_type": "stream",
     "text": [
      "ERROR:tvDatafeed.main:The read operation timed out\n",
      "ERROR:tvDatafeed.main:no data, please check the exchange and symbol\n"
     ]
    },
    {
     "name": "stdout",
     "output_type": "stream",
     "text": [
      "CRYPTO:LRGUSD\n"
     ]
    },
    {
     "name": "stderr",
     "output_type": "stream",
     "text": [
      "ERROR:tvDatafeed.main:The read operation timed out\n",
      "ERROR:tvDatafeed.main:no data, please check the exchange and symbol\n"
     ]
    },
    {
     "name": "stdout",
     "output_type": "stream",
     "text": [
      "CRYPTO:ZLWUSD\n",
      "datetime\n",
      "2018-02-03 08:00:00    0.10186\n",
      "2018-02-04 08:00:00    0.08166\n",
      "2018-02-05 08:00:00    0.06918\n",
      "2018-02-06 08:00:00    0.07225\n",
      "2018-02-07 08:00:00    0.06939\n",
      "                        ...   \n",
      "2023-09-23 08:00:00    0.12599\n",
      "2023-09-24 08:00:00    0.12673\n",
      "2023-09-25 08:00:00    0.12733\n",
      "2023-09-26 08:00:00    0.13178\n",
      "2023-09-27 08:00:00    0.13337\n",
      "Name: close, Length: 2062, dtype: float64\n",
      "Index(['symbol', 'open', 'high', 'low', 'close', 'volume'], dtype='object')\n"
     ]
    },
    {
     "name": "stderr",
     "output_type": "stream",
     "text": [
      "ERROR:tvDatafeed.main:The read operation timed out\n",
      "ERROR:tvDatafeed.main:no data, please check the exchange and symbol\n"
     ]
    },
    {
     "name": "stdout",
     "output_type": "stream",
     "text": [
      "CRYPTO:EGRUSD\n"
     ]
    },
    {
     "name": "stderr",
     "output_type": "stream",
     "text": [
      "ERROR:tvDatafeed.main:The read operation timed out\n",
      "ERROR:tvDatafeed.main:no data, please check the exchange and symbol\n"
     ]
    },
    {
     "name": "stdout",
     "output_type": "stream",
     "text": [
      "CRYPTO:ERDUSD\n",
      "datetime\n",
      "2019-07-23 08:00:00    0.017072\n",
      "2019-07-24 08:00:00    0.015488\n",
      "2019-07-25 08:00:00    0.015738\n",
      "2019-07-26 08:00:00    0.012646\n",
      "2019-07-27 08:00:00    0.012943\n",
      "                         ...   \n",
      "2023-09-23 08:00:00    1.716127\n",
      "2023-09-24 08:00:00    1.671275\n",
      "2023-09-25 08:00:00    1.710299\n",
      "2023-09-26 08:00:00    1.743287\n",
      "2023-09-27 08:00:00    1.731601\n",
      "Name: close, Length: 1528, dtype: float64\n",
      "Index(['symbol', 'open', 'high', 'low', 'close', 'volume'], dtype='object')\n",
      "datetime\n",
      "2020-08-31 08:00:00    11786.663169\n",
      "2020-09-01 08:00:00    11961.596053\n",
      "2020-09-02 08:00:00    11443.363590\n",
      "2020-09-03 08:00:00    10160.471174\n",
      "2020-09-04 08:00:00    10493.929393\n",
      "                           ...     \n",
      "2023-09-23 08:00:00    26552.106264\n",
      "2023-09-24 08:00:00    26245.004533\n",
      "2023-09-25 08:00:00    26311.813509\n",
      "2023-09-26 08:00:00    26214.434216\n",
      "2023-09-27 08:00:00    26293.581258\n",
      "Name: close, Length: 1123, dtype: float64\n",
      "Index(['symbol', 'open', 'high', 'low', 'close', 'volume'], dtype='object')\n",
      "datetime\n",
      "2020-08-27 08:00:00    0.02400\n",
      "2020-08-28 08:00:00    0.02591\n",
      "2020-08-29 08:00:00    0.02443\n",
      "2020-08-30 08:00:00    0.02719\n",
      "2020-08-31 08:00:00    0.02841\n",
      "                        ...   \n",
      "2023-09-23 08:00:00    0.00191\n",
      "2023-09-24 08:00:00    0.00184\n",
      "2023-09-25 08:00:00    0.00182\n",
      "2023-09-26 08:00:00    0.00180\n",
      "2023-09-27 08:00:00    0.00180\n",
      "Name: close, Length: 1105, dtype: float64\n",
      "Index(['symbol', 'open', 'high', 'low', 'close', 'volume'], dtype='object')\n"
     ]
    },
    {
     "name": "stderr",
     "output_type": "stream",
     "text": [
      "ERROR:tvDatafeed.main:The read operation timed out\n",
      "ERROR:tvDatafeed.main:no data, please check the exchange and symbol\n"
     ]
    },
    {
     "name": "stdout",
     "output_type": "stream",
     "text": [
      "CRYPTO:APIXUSD\n",
      "datetime\n",
      "2020-08-11 08:00:00    0.278450\n",
      "2020-08-12 08:00:00    0.285229\n",
      "2020-08-13 08:00:00    0.295842\n",
      "2020-08-14 08:00:00    0.312026\n",
      "2020-08-15 08:00:00    0.307866\n",
      "                         ...   \n",
      "2023-09-23 08:00:00    0.013290\n",
      "2023-09-24 08:00:00    0.012600\n",
      "2023-09-25 08:00:00    0.012622\n",
      "2023-09-26 08:00:00    0.012345\n",
      "2023-09-27 08:00:00    0.012368\n",
      "Name: close, Length: 1137, dtype: float64\n",
      "Index(['symbol', 'open', 'high', 'low', 'close', 'volume'], dtype='object')\n",
      "datetime\n",
      "2019-05-09 08:00:00    0.031655\n",
      "2019-05-10 08:00:00    0.034095\n",
      "2019-05-11 08:00:00    0.038370\n",
      "2019-05-12 08:00:00    0.034647\n",
      "2019-05-13 08:00:00    0.037761\n",
      "                         ...   \n",
      "2023-09-23 08:00:00    0.049421\n",
      "2023-09-24 08:00:00    0.047727\n",
      "2023-09-25 08:00:00    0.048770\n",
      "2023-09-26 08:00:00    0.048049\n",
      "2023-09-27 08:00:00    0.047772\n",
      "Name: close, Length: 1603, dtype: float64\n",
      "Index(['symbol', 'open', 'high', 'low', 'close', 'volume'], dtype='object')\n",
      "datetime\n",
      "2020-07-23 08:00:00    1.991740\n",
      "2020-07-24 08:00:00    2.284090\n",
      "2020-07-25 08:00:00    2.668300\n",
      "2020-07-26 08:00:00    2.854400\n",
      "2020-07-27 08:00:00    2.308840\n",
      "                         ...   \n",
      "2023-09-23 08:00:00    1.329579\n",
      "2023-09-24 08:00:00    1.342759\n",
      "2023-09-25 08:00:00    1.294604\n",
      "2023-09-26 08:00:00    1.257321\n",
      "2023-09-27 08:00:00    1.261755\n",
      "Name: close, Length: 1112, dtype: float64\n",
      "Index(['symbol', 'open', 'high', 'low', 'close', 'volume'], dtype='object')\n"
     ]
    },
    {
     "name": "stderr",
     "output_type": "stream",
     "text": [
      "ERROR:tvDatafeed.main:The read operation timed out\n",
      "ERROR:tvDatafeed.main:no data, please check the exchange and symbol\n"
     ]
    },
    {
     "name": "stdout",
     "output_type": "stream",
     "text": [
      "CRYPTO:BPSUSD\n",
      "datetime\n",
      "2020-05-22 08:00:00    0.823077\n",
      "2020-05-23 08:00:00    2.454855\n",
      "2020-05-24 08:00:00    1.967416\n",
      "2020-05-25 08:00:00    1.447276\n",
      "2020-05-26 08:00:00    1.584964\n",
      "                         ...   \n",
      "2023-09-23 08:00:00    0.457115\n",
      "2023-09-24 08:00:00    0.442682\n",
      "2023-09-25 08:00:00    0.463474\n",
      "2023-09-26 08:00:00    0.450215\n",
      "2023-09-27 08:00:00    0.443769\n",
      "Name: close, Length: 1224, dtype: float64\n",
      "Index(['symbol', 'open', 'high', 'low', 'close', 'volume'], dtype='object')\n"
     ]
    },
    {
     "name": "stderr",
     "output_type": "stream",
     "text": [
      "ERROR:tvDatafeed.main:The read operation timed out\n",
      "ERROR:tvDatafeed.main:no data, please check the exchange and symbol\n"
     ]
    },
    {
     "name": "stdout",
     "output_type": "stream",
     "text": [
      "CRYPTO:ATTUSD\n",
      "datetime\n",
      "2020-07-20 08:00:00    1112.150227\n",
      "2020-07-21 08:00:00     865.719636\n",
      "2020-07-22 08:00:00    1201.030312\n",
      "2020-07-23 08:00:00    1920.696398\n",
      "2020-07-24 08:00:00    3213.371709\n",
      "                          ...     \n",
      "2023-09-23 08:00:00    5167.573225\n",
      "2023-09-24 08:00:00    5127.524775\n",
      "2023-09-25 08:00:00    5228.249550\n",
      "2023-09-26 08:00:00    5194.913725\n",
      "2023-09-27 08:00:00    5230.017300\n",
      "Name: close, Length: 1165, dtype: float64\n",
      "Index(['symbol', 'open', 'high', 'low', 'close', 'volume'], dtype='object')\n"
     ]
    },
    {
     "name": "stderr",
     "output_type": "stream",
     "text": [
      "ERROR:tvDatafeed.main:The read operation timed out\n",
      "ERROR:tvDatafeed.main:no data, please check the exchange and symbol\n"
     ]
    },
    {
     "name": "stdout",
     "output_type": "stream",
     "text": [
      "CRYPTO:BPCUSD\n"
     ]
    },
    {
     "name": "stderr",
     "output_type": "stream",
     "text": [
      "ERROR:tvDatafeed.main:The read operation timed out\n",
      "ERROR:tvDatafeed.main:no data, please check the exchange and symbol\n"
     ]
    },
    {
     "name": "stdout",
     "output_type": "stream",
     "text": [
      "CRYPTO:SHRUSD\n"
     ]
    },
    {
     "name": "stderr",
     "output_type": "stream",
     "text": [
      "ERROR:tvDatafeed.main:The read operation timed out\n",
      "ERROR:tvDatafeed.main:no data, please check the exchange and symbol\n"
     ]
    },
    {
     "name": "stdout",
     "output_type": "stream",
     "text": [
      "CRYPTO:KRTUSD\n",
      "datetime\n",
      "2018-05-28 08:00:00    0.245433\n",
      "2018-05-29 08:00:00    0.289719\n",
      "2018-05-30 08:00:00    0.288972\n",
      "2018-05-31 08:00:00    0.311071\n",
      "2018-06-01 08:00:00    0.323391\n",
      "                         ...   \n",
      "2023-09-23 08:00:00    0.457455\n",
      "2023-09-24 08:00:00    0.453560\n",
      "2023-09-25 08:00:00    0.463177\n",
      "2023-09-26 08:00:00    0.455121\n",
      "2023-09-27 08:00:00    0.452448\n",
      "Name: close, Length: 1949, dtype: float64\n",
      "Index(['symbol', 'open', 'high', 'low', 'close', 'volume'], dtype='object')\n",
      "datetime\n",
      "2020-03-30 08:00:00    1.049\n",
      "2020-03-31 08:00:00    0.774\n",
      "2020-04-01 08:00:00    0.990\n",
      "2020-04-02 08:00:00    0.541\n",
      "2020-04-03 08:00:00    0.624\n",
      "                       ...  \n",
      "2023-09-23 08:00:00    1.990\n",
      "2023-09-24 08:00:00    1.960\n",
      "2023-09-25 08:00:00    1.796\n",
      "2023-09-26 08:00:00    1.818\n",
      "2023-09-27 08:00:00    1.847\n",
      "Name: close, Length: 1101, dtype: float64\n",
      "Index(['symbol', 'open', 'high', 'low', 'close', 'volume'], dtype='object')\n"
     ]
    },
    {
     "name": "stderr",
     "output_type": "stream",
     "text": [
      "ERROR:tvDatafeed.main:The read operation timed out\n",
      "ERROR:tvDatafeed.main:no data, please check the exchange and symbol\n"
     ]
    },
    {
     "name": "stdout",
     "output_type": "stream",
     "text": [
      "CRYPTO:BZRXUSD\n",
      "datetime\n",
      "2019-04-18 08:00:00    0.124457\n",
      "2019-04-19 08:00:00    0.117426\n",
      "2019-04-20 08:00:00    0.114187\n",
      "2019-04-21 08:00:00    0.116796\n",
      "2019-04-22 08:00:00    0.156563\n",
      "                         ...   \n",
      "2023-09-23 08:00:00    0.018342\n",
      "2023-09-24 08:00:00    0.018029\n",
      "2023-09-25 08:00:00    0.018250\n",
      "2023-09-26 08:00:00    0.018063\n",
      "2023-09-27 08:00:00    0.017866\n",
      "Name: close, Length: 1624, dtype: float64\n",
      "Index(['symbol', 'open', 'high', 'low', 'close', 'volume'], dtype='object')\n",
      "datetime\n",
      "2018-07-30 08:00:00    0.038278\n",
      "2018-07-31 08:00:00    0.031163\n",
      "2018-08-01 08:00:00    0.033441\n",
      "2018-08-02 08:00:00    0.027482\n",
      "2018-08-03 08:00:00    0.027016\n",
      "                         ...   \n",
      "2023-09-23 08:00:00    0.001138\n",
      "2023-09-24 08:00:00    0.001115\n",
      "2023-09-25 08:00:00    0.001125\n",
      "2023-09-26 08:00:00    0.001230\n",
      "2023-09-27 08:00:00    0.001179\n",
      "Name: close, Length: 1886, dtype: float64\n",
      "Index(['symbol', 'open', 'high', 'low', 'close', 'volume'], dtype='object')\n",
      "datetime\n",
      "2021-04-29 08:00:00    34.533500\n",
      "2021-04-30 08:00:00    34.698600\n",
      "2021-05-01 08:00:00    34.895200\n",
      "2021-05-02 08:00:00    33.883900\n",
      "2021-05-03 08:00:00    32.652400\n",
      "                         ...    \n",
      "2023-09-23 08:00:00     5.633014\n",
      "2023-09-24 08:00:00     5.433193\n",
      "2023-09-25 08:00:00     5.532496\n",
      "2023-09-26 08:00:00     5.555661\n",
      "2023-09-27 08:00:00     5.524258\n",
      "Name: close, Length: 882, dtype: float64\n",
      "Index(['symbol', 'open', 'high', 'low', 'close', 'volume'], dtype='object')\n"
     ]
    },
    {
     "name": "stderr",
     "output_type": "stream",
     "text": [
      "ERROR:tvDatafeed.main:The read operation timed out\n",
      "ERROR:tvDatafeed.main:no data, please check the exchange and symbol\n"
     ]
    },
    {
     "name": "stdout",
     "output_type": "stream",
     "text": [
      "CRYPTO:PNTUSD\n",
      "datetime\n",
      "2018-09-01 08:00:00    0.002517\n",
      "2018-09-02 08:00:00    0.001896\n",
      "2018-09-03 08:00:00    0.001814\n",
      "2018-09-04 08:00:00    0.001693\n",
      "2018-09-05 08:00:00    0.001605\n",
      "                         ...   \n",
      "2023-09-23 08:00:00    0.000961\n",
      "2023-09-24 08:00:00    0.000983\n",
      "2023-09-25 08:00:00    0.001102\n",
      "2023-09-26 08:00:00    0.001066\n",
      "2023-09-27 08:00:00    0.001096\n",
      "Name: close, Length: 1849, dtype: float64\n",
      "Index(['symbol', 'open', 'high', 'low', 'close', 'volume'], dtype='object')\n",
      "datetime\n",
      "2020-05-25 08:00:00    1.398273\n",
      "2020-05-26 08:00:00    1.201400\n",
      "2020-05-27 08:00:00    1.408812\n",
      "2020-05-28 08:00:00    1.366879\n",
      "2020-05-29 08:00:00    1.384285\n",
      "                         ...   \n",
      "2023-09-23 08:00:00    1.372856\n",
      "2023-09-24 08:00:00    1.333906\n",
      "2023-09-25 08:00:00    1.366155\n",
      "2023-09-26 08:00:00    1.367386\n",
      "2023-09-27 08:00:00    1.357999\n",
      "Name: close, Length: 1221, dtype: float64\n",
      "Index(['symbol', 'open', 'high', 'low', 'close', 'volume'], dtype='object')\n",
      "datetime\n",
      "2019-12-12 08:00:00     1.821518\n",
      "2019-12-13 08:00:00     1.752763\n",
      "2019-12-14 08:00:00     1.944780\n",
      "2019-12-15 08:00:00     1.960656\n",
      "2019-12-16 08:00:00     1.957292\n",
      "                         ...    \n",
      "2023-09-23 08:00:00    18.667689\n",
      "2023-09-24 08:00:00    18.262875\n",
      "2023-09-25 08:00:00    18.944598\n",
      "2023-09-26 08:00:00    18.884150\n",
      "2023-09-27 08:00:00    18.999114\n",
      "Name: close, Length: 1386, dtype: float64\n",
      "Index(['symbol', 'open', 'high', 'low', 'close', 'volume'], dtype='object')\n"
     ]
    },
    {
     "name": "stderr",
     "output_type": "stream",
     "text": [
      "ERROR:tvDatafeed.main:The read operation timed out\n",
      "ERROR:tvDatafeed.main:no data, please check the exchange and symbol\n"
     ]
    },
    {
     "name": "stdout",
     "output_type": "stream",
     "text": [
      "CRYPTO:NXMUSD\n",
      "datetime\n",
      "2020-06-24 08:00:00    14.011361\n",
      "2020-06-25 08:00:00    17.447066\n",
      "2020-06-26 08:00:00    12.181584\n",
      "2020-06-27 08:00:00    11.848711\n",
      "2020-06-28 08:00:00    12.070119\n",
      "                         ...    \n",
      "2023-09-23 08:00:00     3.137219\n",
      "2023-09-24 08:00:00     3.082681\n",
      "2023-09-25 08:00:00     3.172465\n",
      "2023-09-26 08:00:00     3.201176\n",
      "2023-09-27 08:00:00     3.235528\n",
      "Name: close, Length: 1188, dtype: float64\n",
      "Index(['symbol', 'open', 'high', 'low', 'close', 'volume'], dtype='object')\n",
      "datetime\n",
      "2021-05-14 08:00:00    29.245538\n",
      "2021-05-15 08:00:00    26.693233\n",
      "2021-05-16 08:00:00    24.013351\n",
      "2021-05-17 08:00:00    22.799579\n",
      "2021-05-18 08:00:00    22.777338\n",
      "                         ...    \n",
      "2023-09-23 08:00:00     4.163402\n",
      "2023-09-24 08:00:00     4.074675\n",
      "2023-09-25 08:00:00     4.111966\n",
      "2023-09-26 08:00:00     4.146930\n",
      "2023-09-27 08:00:00     4.164187\n",
      "Name: close, Length: 867, dtype: float64\n",
      "Index(['symbol', 'open', 'high', 'low', 'close', 'volume'], dtype='object')\n"
     ]
    },
    {
     "name": "stderr",
     "output_type": "stream",
     "text": [
      "ERROR:tvDatafeed.main:The read operation timed out\n",
      "ERROR:tvDatafeed.main:no data, please check the exchange and symbol\n"
     ]
    },
    {
     "name": "stdout",
     "output_type": "stream",
     "text": [
      "CRYPTO:STPUSD\n",
      "datetime\n",
      "2022-07-26 08:00:00    0.033160\n",
      "2022-07-27 08:00:00    0.033660\n",
      "2022-07-28 08:00:00    0.033900\n",
      "2022-07-29 08:00:00    0.035040\n",
      "2022-07-30 08:00:00    0.032490\n",
      "                         ...   \n",
      "2023-09-23 08:00:00    0.005103\n",
      "2023-09-24 08:00:00    0.004706\n",
      "2023-09-25 08:00:00    0.004752\n",
      "2023-09-26 08:00:00    0.004631\n",
      "2023-09-27 08:00:00    0.004672\n",
      "Name: close, Length: 429, dtype: float64\n",
      "Index(['symbol', 'open', 'high', 'low', 'close', 'volume'], dtype='object')\n",
      "datetime\n",
      "2021-06-17 08:00:00    4.084000\n",
      "2021-06-18 08:00:00    3.826000\n",
      "2021-06-19 08:00:00    3.738000\n",
      "2021-06-20 08:00:00    3.764000\n",
      "2021-06-21 08:00:00    2.957000\n",
      "                         ...   \n",
      "2023-09-23 08:00:00    0.032695\n",
      "2023-09-24 08:00:00    0.033109\n",
      "2023-09-25 08:00:00    0.033966\n",
      "2023-09-26 08:00:00    0.033228\n",
      "2023-09-27 08:00:00    0.033050\n",
      "Name: close, Length: 833, dtype: float64\n",
      "Index(['symbol', 'open', 'high', 'low', 'close', 'volume'], dtype='object')\n",
      "datetime\n",
      "2020-04-10 08:00:00     0.947999\n",
      "2020-04-11 08:00:00     0.789100\n",
      "2020-04-12 08:00:00     0.878926\n",
      "2020-04-13 08:00:00     0.780641\n",
      "2020-04-14 08:00:00     0.667058\n",
      "                         ...    \n",
      "2023-09-23 08:00:00    19.461400\n",
      "2023-09-24 08:00:00    19.357800\n",
      "2023-09-25 08:00:00    19.385000\n",
      "2023-09-26 08:00:00    19.017400\n",
      "2023-09-27 08:00:00    19.119800\n",
      "Name: close, Length: 1266, dtype: float64\n",
      "Index(['symbol', 'open', 'high', 'low', 'close', 'volume'], dtype='object')\n",
      "datetime\n",
      "2020-09-01 08:00:00    8.761986\n",
      "2020-09-02 08:00:00    7.258102\n",
      "2020-09-03 08:00:00    4.892568\n",
      "2020-09-04 08:00:00    4.582973\n",
      "2020-09-05 08:00:00    1.881844\n",
      "                         ...   \n",
      "2023-09-23 08:00:00    0.585465\n",
      "2023-09-24 08:00:00    0.580556\n",
      "2023-09-25 08:00:00    0.590534\n",
      "2023-09-26 08:00:00    0.585321\n",
      "2023-09-27 08:00:00    0.591256\n",
      "Name: close, Length: 1122, dtype: float64\n",
      "Index(['symbol', 'open', 'high', 'low', 'close', 'volume'], dtype='object')\n",
      "datetime\n",
      "2020-07-29 08:00:00     950.508955\n",
      "2020-07-30 08:00:00    1097.551178\n",
      "2020-07-31 08:00:00     559.880935\n",
      "2020-08-01 08:00:00     461.733809\n",
      "2020-08-02 08:00:00     448.209766\n",
      "                          ...     \n",
      "2023-09-23 08:00:00     424.216900\n",
      "2023-09-24 08:00:00     410.833100\n",
      "2023-09-25 08:00:00     415.090400\n",
      "2023-09-26 08:00:00     412.576800\n",
      "2023-09-27 08:00:00     411.421500\n",
      "Name: close, Length: 1156, dtype: float64\n",
      "Index(['symbol', 'open', 'high', 'low', 'close', 'volume'], dtype='object')\n",
      "datetime\n",
      "2020-05-07 08:00:00    0.008415\n",
      "2020-05-08 08:00:00    0.006470\n",
      "2020-05-09 08:00:00    0.006445\n",
      "2020-05-10 08:00:00    0.006019\n",
      "2020-05-11 08:00:00    0.007170\n",
      "                         ...   \n",
      "2023-09-23 08:00:00    0.023045\n",
      "2023-09-24 08:00:00    0.022528\n",
      "2023-09-25 08:00:00    0.022364\n",
      "2023-09-26 08:00:00    0.022421\n",
      "2023-09-27 08:00:00    0.022288\n",
      "Name: close, Length: 1180, dtype: float64\n",
      "Index(['symbol', 'open', 'high', 'low', 'close', 'volume'], dtype='object')\n"
     ]
    },
    {
     "name": "stderr",
     "output_type": "stream",
     "text": [
      "ERROR:tvDatafeed.main:The read operation timed out\n",
      "ERROR:tvDatafeed.main:no data, please check the exchange and symbol\n"
     ]
    },
    {
     "name": "stdout",
     "output_type": "stream",
     "text": [
      "CRYPTO:DMCHUSD\n",
      "datetime\n",
      "2020-10-16 08:00:00    0.221870\n",
      "2020-10-17 08:00:00    0.204150\n",
      "2020-10-18 08:00:00    0.212650\n",
      "2020-10-19 08:00:00    0.202290\n",
      "2020-10-20 08:00:00    0.204960\n",
      "                         ...   \n",
      "2023-09-23 08:00:00    0.307219\n",
      "2023-09-24 08:00:00    0.291280\n",
      "2023-09-25 08:00:00    0.281586\n",
      "2023-09-26 08:00:00    0.280451\n",
      "2023-09-27 08:00:00    0.285463\n",
      "Name: close, Length: 1073, dtype: float64\n",
      "Index(['symbol', 'open', 'high', 'low', 'close', 'volume'], dtype='object')\n",
      "datetime\n",
      "2020-08-16 08:00:00    5.804084\n",
      "2020-08-17 08:00:00    4.392889\n",
      "2020-08-18 08:00:00    3.596406\n",
      "2020-08-19 08:00:00    3.930102\n",
      "2020-08-20 08:00:00    3.884571\n",
      "                         ...   \n",
      "2023-09-23 08:00:00    0.474100\n",
      "2023-09-24 08:00:00    0.514758\n",
      "2023-09-25 08:00:00    0.520737\n",
      "2023-09-26 08:00:00    0.523612\n",
      "2023-09-27 08:00:00    0.522338\n",
      "Name: close, Length: 1138, dtype: float64\n",
      "Index(['symbol', 'open', 'high', 'low', 'close', 'volume'], dtype='object')\n",
      "datetime\n",
      "2019-11-19 08:00:00     1.441488\n",
      "2019-11-20 08:00:00     2.123179\n",
      "2019-11-21 08:00:00     2.171946\n",
      "2019-11-22 08:00:00     1.915632\n",
      "2019-11-23 08:00:00     2.011394\n",
      "                         ...    \n",
      "2023-09-23 08:00:00    35.277216\n",
      "2023-09-24 08:00:00    35.703758\n",
      "2023-09-25 08:00:00    34.692083\n",
      "2023-09-26 08:00:00    46.015629\n",
      "2023-09-27 08:00:00    48.288708\n",
      "Name: close, Length: 1409, dtype: float64\n",
      "Index(['symbol', 'open', 'high', 'low', 'close', 'volume'], dtype='object')\n",
      "datetime\n",
      "2022-08-31 08:00:00    0.08219\n",
      "2022-09-01 08:00:00    0.07480\n",
      "2022-09-02 08:00:00    0.07093\n",
      "2022-09-03 08:00:00    0.06948\n",
      "2022-09-04 08:00:00    0.06845\n",
      "                        ...   \n",
      "2023-09-23 08:00:00    0.00876\n",
      "2023-09-24 08:00:00    0.00836\n",
      "2023-09-25 08:00:00    0.00808\n",
      "2023-09-26 08:00:00    0.00907\n",
      "2023-09-27 08:00:00    0.00879\n",
      "Name: close, Length: 393, dtype: float64\n",
      "Index(['symbol', 'open', 'high', 'low', 'close', 'volume'], dtype='object')\n"
     ]
    },
    {
     "name": "stderr",
     "output_type": "stream",
     "text": [
      "ERROR:tvDatafeed.main:The read operation timed out\n",
      "ERROR:tvDatafeed.main:no data, please check the exchange and symbol\n"
     ]
    },
    {
     "name": "stdout",
     "output_type": "stream",
     "text": [
      "CRYPTO:STAKEUSD\n",
      "datetime\n",
      "2021-05-07 08:00:00    0.105400\n",
      "2021-05-08 08:00:00    0.099200\n",
      "2021-05-09 08:00:00    0.094000\n",
      "2021-05-10 08:00:00    0.087500\n",
      "2021-05-11 08:00:00    0.085700\n",
      "                         ...   \n",
      "2023-09-23 08:00:00    0.051266\n",
      "2023-09-24 08:00:00    0.050056\n",
      "2023-09-25 08:00:00    0.049789\n",
      "2023-09-26 08:00:00    0.047593\n",
      "2023-09-27 08:00:00    0.046992\n",
      "Name: close, Length: 871, dtype: float64\n",
      "Index(['symbol', 'open', 'high', 'low', 'close', 'volume'], dtype='object')\n",
      "datetime\n",
      "2018-11-01 08:00:00    0.007511\n",
      "2018-11-02 08:00:00    0.008576\n",
      "2018-11-03 08:00:00    0.008000\n",
      "2018-11-04 08:00:00    0.008118\n",
      "2018-11-05 08:00:00    0.007747\n",
      "                         ...   \n",
      "2023-09-23 08:00:00    0.016040\n",
      "2023-09-24 08:00:00    0.015930\n",
      "2023-09-25 08:00:00    0.015620\n",
      "2023-09-26 08:00:00    0.015370\n",
      "2023-09-27 08:00:00    0.015430\n",
      "Name: close, Length: 1484, dtype: float64\n",
      "Index(['symbol', 'open', 'high', 'low', 'close', 'volume'], dtype='object')\n"
     ]
    },
    {
     "name": "stderr",
     "output_type": "stream",
     "text": [
      "ERROR:tvDatafeed.main:The read operation timed out\n",
      "ERROR:tvDatafeed.main:no data, please check the exchange and symbol\n"
     ]
    },
    {
     "name": "stdout",
     "output_type": "stream",
     "text": [
      "CRYPTO:TTTUSD\n"
     ]
    },
    {
     "name": "stderr",
     "output_type": "stream",
     "text": [
      "ERROR:tvDatafeed.main:The read operation timed out\n",
      "ERROR:tvDatafeed.main:no data, please check the exchange and symbol\n"
     ]
    },
    {
     "name": "stdout",
     "output_type": "stream",
     "text": [
      "CRYPTO:IZEUSD\n",
      "datetime\n",
      "2019-12-05 08:00:00    0.009565\n",
      "2019-12-06 08:00:00    0.009199\n",
      "2019-12-07 08:00:00    0.008148\n",
      "2019-12-08 08:00:00    0.008350\n",
      "2019-12-09 08:00:00    0.007943\n",
      "                         ...   \n",
      "2023-09-23 08:00:00    0.002357\n",
      "2023-09-24 08:00:00    0.002356\n",
      "2023-09-25 08:00:00    0.002344\n",
      "2023-09-26 08:00:00    0.002323\n",
      "2023-09-27 08:00:00    0.002341\n",
      "Name: close, Length: 1389, dtype: float64\n",
      "Index(['symbol', 'open', 'high', 'low', 'close', 'volume'], dtype='object')\n",
      "datetime\n",
      "2019-10-02 08:00:00    0.003355\n",
      "2019-10-03 08:00:00    0.004500\n",
      "2019-10-04 08:00:00    0.003783\n",
      "2019-10-05 08:00:00    0.003636\n",
      "2019-10-06 08:00:00    0.002841\n",
      "                         ...   \n",
      "2023-09-23 08:00:00    0.007424\n",
      "2023-09-24 08:00:00    0.007375\n",
      "2023-09-25 08:00:00    0.007479\n",
      "2023-09-26 08:00:00    0.006897\n",
      "2023-09-27 08:00:00    0.006780\n",
      "Name: close, Length: 1442, dtype: float64\n",
      "Index(['symbol', 'open', 'high', 'low', 'close', 'volume'], dtype='object')\n",
      "datetime\n",
      "2020-08-17 08:00:00    1.38850\n",
      "2020-08-18 08:00:00    1.42820\n",
      "2020-08-19 08:00:00    1.44650\n",
      "2020-08-20 08:00:00    1.46400\n",
      "2020-08-21 08:00:00    1.18410\n",
      "                        ...   \n",
      "2023-09-23 08:00:00    0.08906\n",
      "2023-09-24 08:00:00    0.09025\n",
      "2023-09-25 08:00:00    0.08908\n",
      "2023-09-26 08:00:00    0.08892\n",
      "2023-09-27 08:00:00    0.08714\n",
      "Name: close, Length: 1048, dtype: float64\n",
      "Index(['symbol', 'open', 'high', 'low', 'close', 'volume'], dtype='object')\n"
     ]
    },
    {
     "name": "stderr",
     "output_type": "stream",
     "text": [
      "ERROR:tvDatafeed.main:The read operation timed out\n",
      "ERROR:tvDatafeed.main:no data, please check the exchange and symbol\n"
     ]
    },
    {
     "name": "stdout",
     "output_type": "stream",
     "text": [
      "CRYPTO:DMGUSD\n",
      "datetime\n",
      "2020-08-27 08:00:00    0.14299\n",
      "2020-08-28 08:00:00    0.14790\n",
      "2020-08-29 08:00:00    0.15857\n",
      "2020-08-30 08:00:00    0.19987\n",
      "2020-08-31 08:00:00    0.21116\n",
      "                        ...   \n",
      "2023-09-23 08:00:00    0.13646\n",
      "2023-09-24 08:00:00    0.13037\n",
      "2023-09-25 08:00:00    0.13676\n",
      "2023-09-26 08:00:00    0.14383\n",
      "2023-09-27 08:00:00    0.14721\n",
      "Name: close, Length: 1120, dtype: float64\n",
      "Index(['symbol', 'open', 'high', 'low', 'close', 'volume'], dtype='object')\n"
     ]
    },
    {
     "name": "stderr",
     "output_type": "stream",
     "text": [
      "ERROR:tvDatafeed.main:The read operation timed out\n",
      "ERROR:tvDatafeed.main:no data, please check the exchange and symbol\n"
     ]
    },
    {
     "name": "stdout",
     "output_type": "stream",
     "text": [
      "CRYPTO:PCXUSD\n",
      "datetime\n",
      "2021-05-04 08:00:00    0.012818\n",
      "2021-05-05 08:00:00    0.013024\n",
      "2021-05-06 08:00:00    0.012962\n",
      "2021-05-07 08:00:00    0.012834\n",
      "2021-05-08 08:00:00    0.012951\n",
      "                         ...   \n",
      "2023-09-23 08:00:00    0.000110\n",
      "2023-09-24 08:00:00    0.000110\n",
      "2023-09-25 08:00:00    0.000110\n",
      "2023-09-26 08:00:00    0.000106\n",
      "2023-09-27 08:00:00    0.000109\n",
      "Name: close, Length: 872, dtype: float64\n",
      "Index(['symbol', 'open', 'high', 'low', 'close', 'volume'], dtype='object')\n"
     ]
    },
    {
     "name": "stderr",
     "output_type": "stream",
     "text": [
      "ERROR:tvDatafeed.main:The read operation timed out\n",
      "ERROR:tvDatafeed.main:no data, please check the exchange and symbol\n"
     ]
    },
    {
     "name": "stdout",
     "output_type": "stream",
     "text": [
      "CRYPTO:EXEUSD\n",
      "datetime\n",
      "2020-08-18 08:00:00    3.102618\n",
      "2020-08-19 08:00:00    2.962982\n",
      "2020-08-20 08:00:00    2.899199\n",
      "2020-08-21 08:00:00    2.834694\n",
      "2020-08-22 08:00:00    4.473849\n",
      "                         ...   \n",
      "2023-09-23 08:00:00    4.023000\n",
      "2023-09-24 08:00:00    3.997200\n",
      "2023-09-25 08:00:00    4.067000\n",
      "2023-09-26 08:00:00    4.002650\n",
      "2023-09-27 08:00:00    4.022900\n",
      "Name: close, Length: 1136, dtype: float64\n",
      "Index(['symbol', 'open', 'high', 'low', 'close', 'volume'], dtype='object')\n",
      "datetime\n",
      "2020-09-17 08:00:00    4.210100\n",
      "2020-09-18 08:00:00    6.969500\n",
      "2020-09-19 08:00:00    5.730200\n",
      "2020-09-20 08:00:00    5.207700\n",
      "2020-09-21 08:00:00    4.279600\n",
      "                         ...   \n",
      "2023-09-23 08:00:00    4.274531\n",
      "2023-09-24 08:00:00    4.232075\n",
      "2023-09-25 08:00:00    4.266433\n",
      "2023-09-26 08:00:00    4.247889\n",
      "2023-09-27 08:00:00    4.341495\n",
      "Name: close, Length: 1106, dtype: float64\n",
      "Index(['symbol', 'open', 'high', 'low', 'close', 'volume'], dtype='object')\n",
      "datetime\n",
      "2017-12-13 08:00:00    11.504500\n",
      "2017-12-14 08:00:00    11.801600\n",
      "2017-12-15 08:00:00    12.900500\n",
      "2017-12-16 08:00:00    20.467800\n",
      "2017-12-17 08:00:00    19.437100\n",
      "                         ...    \n",
      "2023-09-23 08:00:00     3.244539\n",
      "2023-09-24 08:00:00     3.206592\n",
      "2023-09-25 08:00:00     3.211447\n",
      "2023-09-26 08:00:00     3.161389\n",
      "2023-09-27 08:00:00     3.209439\n",
      "Name: close, Length: 2115, dtype: float64\n",
      "Index(['symbol', 'open', 'high', 'low', 'close', 'volume'], dtype='object')\n",
      "datetime\n",
      "2019-07-04 08:00:00     6.797762\n",
      "2019-07-05 08:00:00     5.720734\n",
      "2019-07-06 08:00:00     5.956337\n",
      "2019-07-07 08:00:00     6.311271\n",
      "2019-07-08 08:00:00     5.287366\n",
      "                         ...    \n",
      "2023-09-23 08:00:00    25.106400\n",
      "2023-09-24 08:00:00    24.196649\n",
      "2023-09-25 08:00:00    24.729177\n",
      "2023-09-26 08:00:00    24.558151\n",
      "2023-09-27 08:00:00    24.090353\n",
      "Name: close, Length: 1547, dtype: float64\n",
      "Index(['symbol', 'open', 'high', 'low', 'close', 'volume'], dtype='object')\n",
      "datetime\n",
      "2019-12-16 08:00:00    0.367900\n",
      "2019-12-17 08:00:00    0.306200\n",
      "2019-12-18 08:00:00    0.580000\n",
      "2019-12-19 08:00:00    0.659500\n",
      "2019-12-20 08:00:00    0.596000\n",
      "                         ...   \n",
      "2023-09-23 08:00:00    0.063256\n",
      "2023-09-24 08:00:00    0.063096\n",
      "2023-09-25 08:00:00    0.063330\n",
      "2023-09-26 08:00:00    0.062635\n",
      "2023-09-27 08:00:00    0.062674\n",
      "Name: close, Length: 1382, dtype: float64\n",
      "Index(['symbol', 'open', 'high', 'low', 'close', 'volume'], dtype='object')\n",
      "datetime\n",
      "2020-07-13 08:00:00     4.895398\n",
      "2020-07-14 08:00:00    10.297383\n",
      "2020-07-15 08:00:00    10.392932\n",
      "2020-07-16 08:00:00    10.358947\n",
      "2020-07-17 08:00:00    10.363876\n",
      "                         ...    \n",
      "2023-09-23 08:00:00     8.901108\n",
      "2023-09-24 08:00:00     8.775465\n",
      "2023-09-25 08:00:00     8.938872\n",
      "2023-09-26 08:00:00     9.033507\n",
      "2023-09-27 08:00:00     9.044286\n",
      "Name: close, Length: 1172, dtype: float64\n",
      "Index(['symbol', 'open', 'high', 'low', 'close', 'volume'], dtype='object')\n",
      "datetime\n",
      "2021-08-11 08:00:00    16.417632\n",
      "2021-08-12 08:00:00    15.897457\n",
      "2021-08-13 08:00:00    16.959339\n",
      "2021-08-14 08:00:00    16.726936\n",
      "2021-08-15 08:00:00    18.016430\n",
      "                         ...    \n",
      "2023-09-23 08:00:00     1.468878\n",
      "2023-09-24 08:00:00     1.452412\n",
      "2023-09-25 08:00:00     1.464504\n",
      "2023-09-26 08:00:00     1.447150\n",
      "2023-09-27 08:00:00     1.449892\n",
      "Name: close, Length: 776, dtype: float64\n",
      "Index(['symbol', 'open', 'high', 'low', 'close', 'volume'], dtype='object')\n",
      "datetime\n",
      "2021-05-04 08:00:00    28.352943\n",
      "2021-05-05 08:00:00    30.595712\n",
      "2021-05-06 08:00:00    30.238484\n",
      "2021-05-07 08:00:00    30.439931\n",
      "2021-05-08 08:00:00    29.830268\n",
      "                         ...    \n",
      "2023-09-23 08:00:00     2.591556\n",
      "2023-09-24 08:00:00     2.547306\n",
      "2023-09-25 08:00:00     2.555972\n",
      "2023-09-26 08:00:00     2.540835\n",
      "2023-09-27 08:00:00     2.551604\n",
      "Name: close, Length: 872, dtype: float64\n",
      "Index(['symbol', 'open', 'high', 'low', 'close', 'volume'], dtype='object')\n"
     ]
    },
    {
     "name": "stderr",
     "output_type": "stream",
     "text": [
      "ERROR:tvDatafeed.main:The read operation timed out\n",
      "ERROR:tvDatafeed.main:no data, please check the exchange and symbol\n"
     ]
    },
    {
     "name": "stdout",
     "output_type": "stream",
     "text": [
      "CRYPTO:HXROUSD\n",
      "datetime\n",
      "2020-08-04 08:00:00    0.967798\n",
      "2020-08-05 08:00:00    0.891218\n",
      "2020-08-06 08:00:00    0.993055\n",
      "2020-08-07 08:00:00    2.531042\n",
      "2020-08-08 08:00:00    3.128815\n",
      "                         ...   \n",
      "2023-09-23 08:00:00    0.250026\n",
      "2023-09-24 08:00:00    0.246433\n",
      "2023-09-25 08:00:00    0.251624\n",
      "2023-09-26 08:00:00    0.247549\n",
      "2023-09-27 08:00:00    0.258528\n",
      "Name: close, Length: 1150, dtype: float64\n",
      "Index(['symbol', 'open', 'high', 'low', 'close', 'volume'], dtype='object')\n"
     ]
    },
    {
     "name": "stderr",
     "output_type": "stream",
     "text": [
      "ERROR:tvDatafeed.main:The read operation timed out\n",
      "ERROR:tvDatafeed.main:no data, please check the exchange and symbol\n"
     ]
    },
    {
     "name": "stdout",
     "output_type": "stream",
     "text": [
      "CRYPTO:SWTHUSD\n",
      "datetime\n",
      "2020-01-09 08:00:00    0.216466\n",
      "2020-01-10 08:00:00    0.201439\n",
      "2020-01-11 08:00:00    0.170376\n",
      "2020-01-12 08:00:00    0.166668\n",
      "2020-01-13 08:00:00    0.166738\n",
      "                         ...   \n",
      "2023-09-23 08:00:00    0.091576\n",
      "2023-09-24 08:00:00    0.088076\n",
      "2023-09-25 08:00:00    0.091067\n",
      "2023-09-26 08:00:00    0.088660\n",
      "2023-09-27 08:00:00    0.089629\n",
      "Name: close, Length: 1358, dtype: float64\n",
      "Index(['symbol', 'open', 'high', 'low', 'close', 'volume'], dtype='object')\n",
      "datetime\n",
      "2021-06-22 08:00:00    0.052287\n",
      "2021-06-23 08:00:00    0.022477\n",
      "2021-06-24 08:00:00    0.025218\n",
      "2021-06-25 08:00:00    0.022310\n",
      "2021-06-26 08:00:00    0.022581\n",
      "                         ...   \n",
      "2023-09-23 08:00:00    0.005275\n",
      "2023-09-24 08:00:00    0.005220\n",
      "2023-09-25 08:00:00    0.005275\n",
      "2023-09-26 08:00:00    0.005302\n",
      "2023-09-27 08:00:00    0.005377\n",
      "Name: close, Length: 824, dtype: float64\n",
      "Index(['symbol', 'open', 'high', 'low', 'close', 'volume'], dtype='object')\n",
      "datetime\n",
      "2017-12-12 08:00:00     2.454295\n",
      "2017-12-13 08:00:00     2.343434\n",
      "2017-12-14 08:00:00     3.558769\n",
      "2017-12-15 08:00:00     3.945462\n",
      "2017-12-16 08:00:00     4.409173\n",
      "                         ...    \n",
      "2023-09-23 08:00:00    62.918440\n",
      "2023-09-24 08:00:00    61.688322\n",
      "2023-09-25 08:00:00    62.223270\n",
      "2023-09-26 08:00:00    61.058580\n",
      "2023-09-27 08:00:00    61.193744\n",
      "Name: close, Length: 2116, dtype: float64\n",
      "Index(['symbol', 'open', 'high', 'low', 'close', 'volume'], dtype='object')\n",
      "datetime\n",
      "2020-10-13 08:00:00    1.703006\n",
      "2020-10-14 08:00:00    1.170372\n",
      "2020-10-15 08:00:00    1.123073\n",
      "2020-10-16 08:00:00    0.818833\n",
      "2020-10-17 08:00:00    0.808195\n",
      "                         ...   \n",
      "2023-09-23 08:00:00    1.114014\n",
      "2023-09-24 08:00:00    1.094518\n",
      "2023-09-25 08:00:00    1.100689\n",
      "2023-09-26 08:00:00    1.080445\n",
      "2023-09-27 08:00:00    1.086894\n",
      "Name: close, Length: 1080, dtype: float64\n",
      "Index(['symbol', 'open', 'high', 'low', 'close', 'volume'], dtype='object')\n"
     ]
    },
    {
     "name": "stderr",
     "output_type": "stream",
     "text": [
      "ERROR:tvDatafeed.main:The read operation timed out\n",
      "ERROR:tvDatafeed.main:no data, please check the exchange and symbol\n"
     ]
    },
    {
     "name": "stdout",
     "output_type": "stream",
     "text": [
      "CRYPTO:BTCBUSD\n"
     ]
    },
    {
     "name": "stderr",
     "output_type": "stream",
     "text": [
      "ERROR:tvDatafeed.main:The read operation timed out\n",
      "ERROR:tvDatafeed.main:no data, please check the exchange and symbol\n"
     ]
    },
    {
     "name": "stdout",
     "output_type": "stream",
     "text": [
      "CRYPTO:XLTUSD\n"
     ]
    },
    {
     "name": "stderr",
     "output_type": "stream",
     "text": [
      "ERROR:tvDatafeed.main:The read operation timed out\n",
      "ERROR:tvDatafeed.main:no data, please check the exchange and symbol\n"
     ]
    },
    {
     "name": "stdout",
     "output_type": "stream",
     "text": [
      "CRYPTO:XHVUSD\n",
      "datetime\n",
      "2016-08-10 08:00:00    0.020742\n",
      "2016-08-11 08:00:00    0.013801\n",
      "2016-08-12 08:00:00    0.011561\n",
      "2016-08-13 08:00:00    0.014765\n",
      "2016-08-14 08:00:00    0.026291\n",
      "                         ...   \n",
      "2023-09-23 08:00:00    0.474496\n",
      "2023-09-24 08:00:00    0.436524\n",
      "2023-09-25 08:00:00    0.437906\n",
      "2023-09-26 08:00:00    0.432810\n",
      "2023-09-27 08:00:00    0.463409\n",
      "Name: close, Length: 2605, dtype: float64\n",
      "Index(['symbol', 'open', 'high', 'low', 'close', 'volume'], dtype='object')\n"
     ]
    },
    {
     "name": "stderr",
     "output_type": "stream",
     "text": [
      "ERROR:tvDatafeed.main:The read operation timed out\n",
      "ERROR:tvDatafeed.main:no data, please check the exchange and symbol\n"
     ]
    },
    {
     "name": "stdout",
     "output_type": "stream",
     "text": [
      "CRYPTO:ZAPUSD\n",
      "datetime\n",
      "2021-08-11 08:00:00    0.030033\n",
      "2021-08-12 08:00:00    0.028331\n",
      "2021-08-13 08:00:00    0.030128\n",
      "2021-08-14 08:00:00    0.029661\n",
      "2021-08-15 08:00:00    0.029987\n",
      "                         ...   \n",
      "2023-09-23 08:00:00    0.007136\n",
      "2023-09-24 08:00:00    0.006894\n",
      "2023-09-25 08:00:00    0.006845\n",
      "2023-09-26 08:00:00    0.007332\n",
      "2023-09-27 08:00:00    0.007188\n",
      "Name: close, Length: 776, dtype: float64\n",
      "Index(['symbol', 'open', 'high', 'low', 'close', 'volume'], dtype='object')\n",
      "datetime\n",
      "2019-11-18 08:00:00    0.018248\n",
      "2019-11-19 08:00:00    0.016427\n",
      "2019-11-20 08:00:00    0.015522\n",
      "2019-11-21 08:00:00    0.014226\n",
      "2019-11-22 08:00:00    0.014508\n",
      "                         ...   \n",
      "2023-09-23 08:00:00    0.024910\n",
      "2023-09-24 08:00:00    0.024151\n",
      "2023-09-25 08:00:00    0.026134\n",
      "2023-09-26 08:00:00    0.024747\n",
      "2023-09-27 08:00:00    0.024476\n",
      "Name: close, Length: 1410, dtype: float64\n",
      "Index(['symbol', 'open', 'high', 'low', 'close', 'volume'], dtype='object')\n",
      "datetime\n",
      "2018-05-28 08:00:00    0.370192\n",
      "2018-05-29 08:00:00    0.362390\n",
      "2018-05-30 08:00:00    0.379772\n",
      "2018-05-31 08:00:00    0.391410\n",
      "2018-06-01 08:00:00    0.496767\n",
      "                         ...   \n",
      "2023-09-23 08:00:00    0.086222\n",
      "2023-09-24 08:00:00    0.083509\n",
      "2023-09-25 08:00:00    0.085044\n",
      "2023-09-26 08:00:00    0.084489\n",
      "2023-09-27 08:00:00    0.085397\n",
      "Name: close, Length: 1904, dtype: float64\n",
      "Index(['symbol', 'open', 'high', 'low', 'close', 'volume'], dtype='object')\n"
     ]
    },
    {
     "name": "stderr",
     "output_type": "stream",
     "text": [
      "ERROR:tvDatafeed.main:The read operation timed out\n",
      "ERROR:tvDatafeed.main:no data, please check the exchange and symbol\n"
     ]
    },
    {
     "name": "stdout",
     "output_type": "stream",
     "text": [
      "CRYPTO:METUSD\n"
     ]
    },
    {
     "name": "stderr",
     "output_type": "stream",
     "text": [
      "ERROR:tvDatafeed.main:Connection to remote host was lost.\n",
      "ERROR:tvDatafeed.main:no data, please check the exchange and symbol\n"
     ]
    },
    {
     "name": "stdout",
     "output_type": "stream",
     "text": [
      "CRYPTO:MRPHUSD\n"
     ]
    },
    {
     "name": "stderr",
     "output_type": "stream",
     "text": [
      "ERROR:tvDatafeed.main:Connection to remote host was lost.\n",
      "ERROR:tvDatafeed.main:no data, please check the exchange and symbol\n"
     ]
    },
    {
     "name": "stdout",
     "output_type": "stream",
     "text": [
      "CRYPTO:COVUSD\n"
     ]
    },
    {
     "name": "stderr",
     "output_type": "stream",
     "text": [
      "ERROR:tvDatafeed.main:The read operation timed out\n",
      "ERROR:tvDatafeed.main:no data, please check the exchange and symbol\n"
     ]
    },
    {
     "name": "stdout",
     "output_type": "stream",
     "text": [
      "CRYPTO:DYNUSD\n",
      "datetime\n",
      "2018-09-04 08:00:00    0.049085\n",
      "2018-09-05 08:00:00    0.032361\n",
      "2018-09-06 08:00:00    0.027563\n",
      "2018-09-07 08:00:00    0.025198\n",
      "2018-09-08 08:00:00    0.024864\n",
      "                         ...   \n",
      "2023-09-23 08:00:00    0.067289\n",
      "2023-09-24 08:00:00    0.061769\n",
      "2023-09-25 08:00:00    0.060926\n",
      "2023-09-26 08:00:00    0.062170\n",
      "2023-09-27 08:00:00    0.061834\n",
      "Name: close, Length: 1850, dtype: float64\n",
      "Index(['symbol', 'open', 'high', 'low', 'close', 'volume'], dtype='object')\n"
     ]
    },
    {
     "name": "stderr",
     "output_type": "stream",
     "text": [
      "ERROR:tvDatafeed.main:The read operation timed out\n",
      "ERROR:tvDatafeed.main:no data, please check the exchange and symbol\n"
     ]
    },
    {
     "name": "stdout",
     "output_type": "stream",
     "text": [
      "CRYPTO:LETUSD\n",
      "datetime\n",
      "2018-04-25 08:00:00    0.079297\n",
      "2018-04-26 08:00:00    0.141494\n",
      "2018-04-27 08:00:00    0.126998\n",
      "2018-04-28 08:00:00    0.140565\n",
      "2018-04-29 08:00:00    0.132190\n",
      "                         ...   \n",
      "2023-09-23 08:00:00    0.015421\n",
      "2023-09-24 08:00:00    0.015219\n",
      "2023-09-25 08:00:00    0.014985\n",
      "2023-09-26 08:00:00    0.015445\n",
      "2023-09-27 08:00:00    0.015791\n",
      "Name: close, Length: 1982, dtype: float64\n",
      "Index(['symbol', 'open', 'high', 'low', 'close', 'volume'], dtype='object')\n"
     ]
    },
    {
     "name": "stderr",
     "output_type": "stream",
     "text": [
      "ERROR:tvDatafeed.main:Connection to remote host was lost.\n",
      "ERROR:tvDatafeed.main:no data, please check the exchange and symbol\n"
     ]
    },
    {
     "name": "stdout",
     "output_type": "stream",
     "text": [
      "CRYPTO:SBDUSD\n"
     ]
    },
    {
     "name": "stderr",
     "output_type": "stream",
     "text": [
      "ERROR:tvDatafeed.main:Connection to remote host was lost.\n",
      "ERROR:tvDatafeed.main:no data, please check the exchange and symbol\n"
     ]
    },
    {
     "name": "stdout",
     "output_type": "stream",
     "text": [
      "CRYPTO:SENTUSD\n"
     ]
    },
    {
     "name": "stderr",
     "output_type": "stream",
     "text": [
      "ERROR:tvDatafeed.main:Connection to remote host was lost.\n",
      "ERROR:tvDatafeed.main:no data, please check the exchange and symbol\n"
     ]
    },
    {
     "name": "stdout",
     "output_type": "stream",
     "text": [
      "CRYPTO:SPCUSD\n"
     ]
    },
    {
     "name": "stderr",
     "output_type": "stream",
     "text": [
      "ERROR:tvDatafeed.main:Connection to remote host was lost.\n",
      "ERROR:tvDatafeed.main:no data, please check the exchange and symbol\n"
     ]
    },
    {
     "name": "stdout",
     "output_type": "stream",
     "text": [
      "CRYPTO:GENUSD\n"
     ]
    },
    {
     "name": "stderr",
     "output_type": "stream",
     "text": [
      "ERROR:tvDatafeed.main:Connection to remote host was lost.\n",
      "ERROR:tvDatafeed.main:no data, please check the exchange and symbol\n"
     ]
    },
    {
     "name": "stdout",
     "output_type": "stream",
     "text": [
      "CRYPTO:DEROUSD\n"
     ]
    },
    {
     "name": "stderr",
     "output_type": "stream",
     "text": [
      "ERROR:tvDatafeed.main:Connection to remote host was lost.\n",
      "ERROR:tvDatafeed.main:no data, please check the exchange and symbol\n"
     ]
    },
    {
     "name": "stdout",
     "output_type": "stream",
     "text": [
      "CRYPTO:PIUSD\n"
     ]
    },
    {
     "name": "stderr",
     "output_type": "stream",
     "text": [
      "ERROR:tvDatafeed.main:Connection to remote host was lost.\n",
      "ERROR:tvDatafeed.main:no data, please check the exchange and symbol\n"
     ]
    },
    {
     "name": "stdout",
     "output_type": "stream",
     "text": [
      "CRYPTO:DGXUSD\n"
     ]
    },
    {
     "name": "stderr",
     "output_type": "stream",
     "text": [
      "ERROR:tvDatafeed.main:Connection to remote host was lost.\n",
      "ERROR:tvDatafeed.main:no data, please check the exchange and symbol\n"
     ]
    },
    {
     "name": "stdout",
     "output_type": "stream",
     "text": [
      "CRYPTO:PLUUSD\n"
     ]
    },
    {
     "name": "stderr",
     "output_type": "stream",
     "text": [
      "ERROR:tvDatafeed.main:Connection to remote host was lost.\n",
      "ERROR:tvDatafeed.main:no data, please check the exchange and symbol\n"
     ]
    },
    {
     "name": "stdout",
     "output_type": "stream",
     "text": [
      "CRYPTO:OAXUSD\n"
     ]
    },
    {
     "name": "stderr",
     "output_type": "stream",
     "text": [
      "ERROR:tvDatafeed.main:Connection to remote host was lost.\n",
      "ERROR:tvDatafeed.main:no data, please check the exchange and symbol\n"
     ]
    },
    {
     "name": "stdout",
     "output_type": "stream",
     "text": [
      "CRYPTO:GRTUSD\n"
     ]
    },
    {
     "name": "stderr",
     "output_type": "stream",
     "text": [
      "ERROR:tvDatafeed.main:Connection to remote host was lost.\n",
      "ERROR:tvDatafeed.main:no data, please check the exchange and symbol\n"
     ]
    },
    {
     "name": "stdout",
     "output_type": "stream",
     "text": [
      "CRYPTO:RENBTCUSD\n"
     ]
    },
    {
     "name": "stderr",
     "output_type": "stream",
     "text": [
      "ERROR:tvDatafeed.main:The read operation timed out\n",
      "ERROR:tvDatafeed.main:no data, please check the exchange and symbol\n"
     ]
    },
    {
     "name": "stdout",
     "output_type": "stream",
     "text": [
      "CRYPTO:USTUSD\n",
      "datetime\n",
      "2020-12-24 08:00:00    1.598819\n",
      "2020-12-25 08:00:00    2.302316\n",
      "2020-12-26 08:00:00    1.593095\n",
      "2020-12-27 08:00:00    1.059293\n",
      "2020-12-28 08:00:00    1.113153\n",
      "                         ...   \n",
      "2023-09-23 08:00:00    0.261995\n",
      "2023-09-24 08:00:00    0.258597\n",
      "2023-09-25 08:00:00    0.264287\n",
      "2023-09-26 08:00:00    0.266195\n",
      "2023-09-27 08:00:00    0.269093\n",
      "Name: close, Length: 1006, dtype: float64\n",
      "Index(['symbol', 'open', 'high', 'low', 'close', 'volume'], dtype='object')\n",
      "datetime\n",
      "2020-11-18 08:00:00    0.067814\n",
      "2020-11-19 08:00:00    0.037791\n",
      "2020-11-20 08:00:00    0.035683\n",
      "2020-11-21 08:00:00    0.037814\n",
      "2020-11-22 08:00:00    0.041681\n",
      "                         ...   \n",
      "2023-09-23 08:00:00    0.042001\n",
      "2023-09-24 08:00:00    0.041234\n",
      "2023-09-25 08:00:00    0.041016\n",
      "2023-09-26 08:00:00    0.041233\n",
      "2023-09-27 08:00:00    0.041294\n",
      "Name: close, Length: 1044, dtype: float64\n",
      "Index(['symbol', 'open', 'high', 'low', 'close', 'volume'], dtype='object')\n",
      "datetime\n",
      "2019-07-22 08:00:00    0.079183\n",
      "2019-07-23 08:00:00    0.048181\n",
      "2019-07-24 08:00:00    0.061972\n",
      "2019-07-25 08:00:00    0.065597\n",
      "2019-07-26 08:00:00    0.063512\n",
      "                         ...   \n",
      "2023-09-23 08:00:00    0.021054\n",
      "2023-09-24 08:00:00    0.021057\n",
      "2023-09-25 08:00:00    0.020984\n",
      "2023-09-26 08:00:00    0.021068\n",
      "2023-09-27 08:00:00    0.021128\n",
      "Name: close, Length: 1524, dtype: float64\n",
      "Index(['symbol', 'open', 'high', 'low', 'close', 'volume'], dtype='object')\n",
      "datetime\n",
      "2020-10-20 08:00:00    1.048865\n",
      "2020-10-21 08:00:00    0.779684\n",
      "2020-10-22 08:00:00    0.781623\n",
      "2020-10-23 08:00:00    1.192174\n",
      "2020-10-24 08:00:00    0.950819\n",
      "                         ...   \n",
      "2023-09-23 08:00:00    7.017716\n",
      "2023-09-24 08:00:00    6.910762\n",
      "2023-09-25 08:00:00    7.096866\n",
      "2023-09-26 08:00:00    7.122301\n",
      "2023-09-27 08:00:00    7.269401\n",
      "Name: close, Length: 1073, dtype: float64\n",
      "Index(['symbol', 'open', 'high', 'low', 'close', 'volume'], dtype='object')\n",
      "datetime\n",
      "2021-11-12 08:00:00    1497.4216\n",
      "2021-11-13 08:00:00    1653.6034\n",
      "2021-11-14 08:00:00    1670.3140\n",
      "2021-11-15 08:00:00    1637.6112\n",
      "2021-11-16 08:00:00    1592.3373\n",
      "                         ...    \n",
      "2023-09-23 08:00:00      43.1900\n",
      "2023-09-24 08:00:00      44.1600\n",
      "2023-09-25 08:00:00      48.1000\n",
      "2023-09-26 08:00:00      44.4000\n",
      "2023-09-27 08:00:00      44.3000\n",
      "Name: close, Length: 685, dtype: float64\n",
      "Index(['symbol', 'open', 'high', 'low', 'close', 'volume'], dtype='object')\n",
      "datetime\n",
      "2019-02-06 08:00:00    0.061253\n",
      "2019-02-07 08:00:00    0.055586\n",
      "2019-02-08 08:00:00    0.060892\n",
      "2019-02-09 08:00:00    0.060154\n",
      "2019-02-10 08:00:00    0.059487\n",
      "                         ...   \n",
      "2023-09-23 08:00:00    0.057951\n",
      "2023-09-24 08:00:00    0.057553\n",
      "2023-09-25 08:00:00    0.058366\n",
      "2023-09-26 08:00:00    0.056287\n",
      "2023-09-27 08:00:00    0.056955\n",
      "Name: close, Length: 1592, dtype: float64\n",
      "Index(['symbol', 'open', 'high', 'low', 'close', 'volume'], dtype='object')\n",
      "datetime\n",
      "2020-10-09 08:00:00    0.107227\n",
      "2020-10-10 08:00:00    0.051538\n",
      "2020-10-11 08:00:00    0.043909\n",
      "2020-10-12 08:00:00    0.042797\n",
      "2020-10-13 08:00:00    0.042972\n",
      "                         ...   \n",
      "2023-09-23 08:00:00    0.077637\n",
      "2023-09-24 08:00:00    0.075626\n",
      "2023-09-25 08:00:00    0.077270\n",
      "2023-09-26 08:00:00    0.075771\n",
      "2023-09-27 08:00:00    0.076175\n",
      "Name: close, Length: 1084, dtype: float64\n",
      "Index(['symbol', 'open', 'high', 'low', 'close', 'volume'], dtype='object')\n",
      "datetime\n",
      "2021-01-27 08:00:00    7.392000\n",
      "2021-01-28 08:00:00    7.000000\n",
      "2021-01-29 08:00:00    6.250000\n",
      "2021-01-30 08:00:00    9.023000\n",
      "2021-01-31 08:00:00    9.740000\n",
      "                         ...   \n",
      "2023-09-23 08:00:00    0.450614\n",
      "2023-09-24 08:00:00    0.441711\n",
      "2023-09-25 08:00:00    0.446077\n",
      "2023-09-26 08:00:00    0.442779\n",
      "2023-09-27 08:00:00    0.442445\n",
      "Name: close, Length: 974, dtype: float64\n",
      "Index(['symbol', 'open', 'high', 'low', 'close', 'volume'], dtype='object')\n",
      "datetime\n",
      "2020-09-28 08:00:00    1.367185\n",
      "2020-09-29 08:00:00    1.122663\n",
      "2020-09-30 08:00:00    0.436596\n",
      "2020-10-01 08:00:00    0.430506\n",
      "2020-10-02 08:00:00    0.494664\n",
      "                         ...   \n",
      "2023-09-23 08:00:00    1.146252\n",
      "2023-09-24 08:00:00    1.135359\n",
      "2023-09-25 08:00:00    1.145443\n",
      "2023-09-26 08:00:00    1.154304\n",
      "2023-09-27 08:00:00    1.158888\n",
      "Name: close, Length: 1095, dtype: float64\n",
      "Index(['symbol', 'open', 'high', 'low', 'close', 'volume'], dtype='object')\n",
      "datetime\n",
      "2016-11-18 08:00:00    0.014993\n",
      "2016-11-19 08:00:00    0.015007\n",
      "2016-11-20 08:00:00    0.014435\n",
      "2016-11-21 08:00:00    0.014113\n",
      "2016-11-22 08:00:00    0.013467\n",
      "                         ...   \n",
      "2023-09-23 08:00:00    0.180001\n",
      "2023-09-24 08:00:00    0.174221\n",
      "2023-09-25 08:00:00    0.175426\n",
      "2023-09-26 08:00:00    0.173151\n",
      "2023-09-27 08:00:00    0.174488\n",
      "Name: close, Length: 2494, dtype: float64\n",
      "Index(['symbol', 'open', 'high', 'low', 'close', 'volume'], dtype='object')\n",
      "datetime\n",
      "2020-10-05 08:00:00    2.567334\n",
      "2020-10-06 08:00:00    3.451168\n",
      "2020-10-07 08:00:00    2.723002\n",
      "2020-10-08 08:00:00    2.706357\n",
      "2020-10-09 08:00:00    2.778585\n",
      "                         ...   \n",
      "2023-09-23 08:00:00    4.751075\n",
      "2023-09-24 08:00:00    4.547307\n",
      "2023-09-25 08:00:00    4.566596\n",
      "2023-09-26 08:00:00    4.506293\n",
      "2023-09-27 08:00:00    4.637350\n",
      "Name: close, Length: 1088, dtype: float64\n",
      "Index(['symbol', 'open', 'high', 'low', 'close', 'volume'], dtype='object')\n",
      "datetime\n",
      "2017-10-13 08:00:00    0.693556\n",
      "2017-10-14 08:00:00    0.679197\n",
      "2017-10-15 08:00:00    0.642631\n",
      "2017-10-16 08:00:00    0.586998\n",
      "2017-10-17 08:00:00    0.503777\n",
      "                         ...   \n",
      "2023-09-23 08:00:00    0.249807\n",
      "2023-09-24 08:00:00    0.248044\n",
      "2023-09-25 08:00:00    0.253039\n",
      "2023-09-26 08:00:00    0.250040\n",
      "2023-09-27 08:00:00    0.252367\n",
      "Name: close, Length: 2176, dtype: float64\n",
      "Index(['symbol', 'open', 'high', 'low', 'close', 'volume'], dtype='object')\n"
     ]
    },
    {
     "name": "stderr",
     "output_type": "stream",
     "text": [
      "ERROR:tvDatafeed.main:The read operation timed out\n",
      "ERROR:tvDatafeed.main:no data, please check the exchange and symbol\n"
     ]
    },
    {
     "name": "stdout",
     "output_type": "stream",
     "text": [
      "CRYPTO:OPIUMUSD\n"
     ]
    },
    {
     "name": "stderr",
     "output_type": "stream",
     "text": [
      "ERROR:tvDatafeed.main:The read operation timed out\n",
      "ERROR:tvDatafeed.main:no data, please check the exchange and symbol\n"
     ]
    },
    {
     "name": "stdout",
     "output_type": "stream",
     "text": [
      "CRYPTO:ZCNUSD\n",
      "datetime\n",
      "2021-01-29 08:00:00    4.309615\n",
      "2021-01-30 08:00:00    4.159773\n",
      "2021-01-31 08:00:00    3.953449\n",
      "2021-02-01 08:00:00    3.719438\n",
      "2021-02-02 08:00:00    4.162282\n",
      "                         ...   \n",
      "2023-09-23 08:00:00    1.500415\n",
      "2023-09-24 08:00:00    1.470846\n",
      "2023-09-25 08:00:00    1.485818\n",
      "2023-09-26 08:00:00    1.492632\n",
      "2023-09-27 08:00:00    1.481265\n",
      "Name: close, Length: 972, dtype: float64\n",
      "Index(['symbol', 'open', 'high', 'low', 'close', 'volume'], dtype='object')\n",
      "datetime\n",
      "2020-09-29 08:00:00    0.062137\n",
      "2020-09-30 08:00:00    0.065912\n",
      "2020-10-01 08:00:00    0.064854\n",
      "2020-10-02 08:00:00    0.064576\n",
      "2020-10-03 08:00:00    0.064442\n",
      "                         ...   \n",
      "2023-09-23 08:00:00    0.099429\n",
      "2023-09-24 08:00:00    0.095425\n",
      "2023-09-25 08:00:00    0.096534\n",
      "2023-09-26 08:00:00    0.094656\n",
      "2023-09-27 08:00:00    0.095940\n",
      "Name: close, Length: 1039, dtype: float64\n",
      "Index(['symbol', 'open', 'high', 'low', 'close', 'volume'], dtype='object')\n"
     ]
    },
    {
     "name": "stderr",
     "output_type": "stream",
     "text": [
      "ERROR:tvDatafeed.main:The read operation timed out\n",
      "ERROR:tvDatafeed.main:no data, please check the exchange and symbol\n"
     ]
    },
    {
     "name": "stdout",
     "output_type": "stream",
     "text": [
      "CRYPTO:NUUSD\n",
      "datetime\n",
      "2021-05-19 08:00:00    2.172836\n",
      "2021-05-20 08:00:00    2.486712\n",
      "2021-05-21 08:00:00    2.178888\n",
      "2021-05-22 08:00:00    1.893017\n",
      "2021-05-23 08:00:00    1.583029\n",
      "                         ...   \n",
      "2023-09-23 08:00:00    0.252601\n",
      "2023-09-24 08:00:00    0.258648\n",
      "2023-09-25 08:00:00    0.265157\n",
      "2023-09-26 08:00:00    0.258977\n",
      "2023-09-27 08:00:00    0.269884\n",
      "Name: close, Length: 862, dtype: float64\n",
      "Index(['symbol', 'open', 'high', 'low', 'close', 'volume'], dtype='object')\n"
     ]
    },
    {
     "name": "stderr",
     "output_type": "stream",
     "text": [
      "ERROR:tvDatafeed.main:The read operation timed out\n",
      "ERROR:tvDatafeed.main:no data, please check the exchange and symbol\n"
     ]
    },
    {
     "name": "stdout",
     "output_type": "stream",
     "text": [
      "CRYPTO:BTCSTUSD\n",
      "datetime\n",
      "2021-04-24 08:00:00    0.978000\n",
      "2021-04-25 08:00:00    0.982200\n",
      "2021-04-26 08:00:00    0.962500\n",
      "2021-04-27 08:00:00    0.948900\n",
      "2021-04-28 08:00:00    0.950600\n",
      "                         ...   \n",
      "2023-09-23 08:00:00    0.996747\n",
      "2023-09-24 08:00:00    0.989301\n",
      "2023-09-25 08:00:00    0.986425\n",
      "2023-09-26 08:00:00    0.988096\n",
      "2023-09-27 08:00:00    0.988114\n",
      "Name: close, Length: 722, dtype: float64\n",
      "Index(['symbol', 'open', 'high', 'low', 'close', 'volume'], dtype='object')\n"
     ]
    },
    {
     "name": "stderr",
     "output_type": "stream",
     "text": [
      "ERROR:tvDatafeed.main:The read operation timed out\n",
      "ERROR:tvDatafeed.main:no data, please check the exchange and symbol\n"
     ]
    },
    {
     "name": "stdout",
     "output_type": "stream",
     "text": [
      "CRYPTO:SFIUSD\n",
      "datetime\n",
      "2019-06-04 08:00:00    0.093755\n",
      "2019-06-05 08:00:00    0.084533\n",
      "2019-06-06 08:00:00    0.092564\n",
      "2019-06-07 08:00:00    0.093825\n",
      "2019-06-08 08:00:00    0.095561\n",
      "                         ...   \n",
      "2023-09-23 08:00:00    0.042836\n",
      "2023-09-24 08:00:00    0.042690\n",
      "2023-09-25 08:00:00    0.044410\n",
      "2023-09-26 08:00:00    0.043433\n",
      "2023-09-27 08:00:00    0.042155\n",
      "Name: close, Length: 1577, dtype: float64\n",
      "Index(['symbol', 'open', 'high', 'low', 'close', 'volume'], dtype='object')\n",
      "datetime\n",
      "2021-02-03 08:00:00    4.411333\n",
      "2021-02-04 08:00:00    3.063311\n",
      "2021-02-05 08:00:00    5.521995\n",
      "2021-02-06 08:00:00    7.379010\n",
      "2021-02-07 08:00:00    7.547110\n",
      "                         ...   \n",
      "2023-09-23 08:00:00    0.650718\n",
      "2023-09-24 08:00:00    0.644559\n",
      "2023-09-25 08:00:00    0.662097\n",
      "2023-09-26 08:00:00    0.657433\n",
      "2023-09-27 08:00:00    0.661800\n",
      "Name: close, Length: 967, dtype: float64\n",
      "Index(['symbol', 'open', 'high', 'low', 'close', 'volume'], dtype='object')\n",
      "datetime\n",
      "2020-11-19 08:00:00    3.984275\n",
      "2020-11-20 08:00:00    3.635571\n",
      "2020-11-21 08:00:00    3.301232\n",
      "2020-11-22 08:00:00    3.309595\n",
      "2020-11-23 08:00:00    3.716461\n",
      "                         ...   \n",
      "2023-09-23 08:00:00    7.866819\n",
      "2023-09-24 08:00:00    7.534035\n",
      "2023-09-25 08:00:00    7.545755\n",
      "2023-09-26 08:00:00    7.471231\n",
      "2023-09-27 08:00:00    7.591458\n",
      "Name: close, Length: 1043, dtype: float64\n",
      "Index(['symbol', 'open', 'high', 'low', 'close', 'volume'], dtype='object')\n",
      "datetime\n",
      "2022-02-08 08:00:00    0.765286\n",
      "2022-02-09 08:00:00    0.733828\n",
      "2022-02-10 08:00:00    0.668578\n",
      "2022-02-11 08:00:00    0.584809\n",
      "2022-02-12 08:00:00    0.567227\n",
      "                         ...   \n",
      "2023-09-23 08:00:00    0.166929\n",
      "2023-09-24 08:00:00    0.164257\n",
      "2023-09-25 08:00:00    0.166889\n",
      "2023-09-26 08:00:00    0.164488\n",
      "2023-09-27 08:00:00    0.164829\n",
      "Name: close, Length: 597, dtype: float64\n",
      "Index(['symbol', 'open', 'high', 'low', 'close', 'volume'], dtype='object')\n",
      "datetime\n",
      "2020-10-11 08:00:00    0.8726\n",
      "2020-10-12 08:00:00    0.7586\n",
      "2020-10-13 08:00:00    0.7852\n",
      "2020-10-14 08:00:00    0.8000\n",
      "2020-10-15 08:00:00    0.6500\n",
      "                        ...  \n",
      "2023-09-23 08:00:00    0.9146\n",
      "2023-09-24 08:00:00    0.9648\n",
      "2023-09-25 08:00:00    0.9396\n",
      "2023-09-26 08:00:00    0.9620\n",
      "2023-09-27 08:00:00    0.9557\n",
      "Name: close, Length: 1078, dtype: float64\n",
      "Index(['symbol', 'open', 'high', 'low', 'close', 'volume'], dtype='object')\n",
      "datetime\n",
      "2020-09-13 08:00:00    0.189742\n",
      "2020-09-14 08:00:00    0.173108\n",
      "2020-09-15 08:00:00    0.118806\n",
      "2020-09-16 08:00:00    0.152316\n",
      "2020-09-17 08:00:00    0.127468\n",
      "                         ...   \n",
      "2023-09-23 08:00:00    0.095497\n",
      "2023-09-24 08:00:00    0.095398\n",
      "2023-09-25 08:00:00    0.104749\n",
      "2023-09-26 08:00:00    0.109715\n",
      "2023-09-27 08:00:00    0.108624\n",
      "Name: close, Length: 1110, dtype: float64\n",
      "Index(['symbol', 'open', 'high', 'low', 'close', 'volume'], dtype='object')\n",
      "datetime\n",
      "2021-03-02 08:00:00    53.061210\n",
      "2021-03-03 08:00:00    54.061141\n",
      "2021-03-04 08:00:00    49.710724\n",
      "2021-03-05 08:00:00    48.559148\n",
      "2021-03-06 08:00:00    47.191347\n",
      "                         ...    \n",
      "2023-09-23 08:00:00     1.986222\n",
      "2023-09-24 08:00:00     1.963205\n",
      "2023-09-25 08:00:00     2.030876\n",
      "2023-09-26 08:00:00     1.987003\n",
      "2023-09-27 08:00:00     2.049936\n",
      "Name: close, Length: 940, dtype: float64\n",
      "Index(['symbol', 'open', 'high', 'low', 'close', 'volume'], dtype='object')\n",
      "datetime\n",
      "2020-09-04 08:00:00    0.738595\n",
      "2020-09-05 08:00:00    0.630636\n",
      "2020-09-06 08:00:00    0.675803\n",
      "2020-09-07 08:00:00    0.679783\n",
      "2020-09-08 08:00:00    0.644052\n",
      "                         ...   \n",
      "2023-09-23 08:00:00    0.110654\n",
      "2023-09-24 08:00:00    0.111023\n",
      "2023-09-25 08:00:00    0.114671\n",
      "2023-09-26 08:00:00    0.111797\n",
      "2023-09-27 08:00:00    0.112868\n",
      "Name: close, Length: 1119, dtype: float64\n",
      "Index(['symbol', 'open', 'high', 'low', 'close', 'volume'], dtype='object')\n",
      "datetime\n",
      "2007-06-04 08:00:00    0.001073\n",
      "2007-06-05 08:00:00    0.001074\n",
      "2007-06-06 08:00:00    0.001074\n",
      "2007-06-07 08:00:00    0.001072\n",
      "2007-06-08 08:00:00    0.001069\n",
      "                         ...   \n",
      "2023-09-23 08:00:00    0.003275\n",
      "2023-09-24 08:00:00    0.003059\n",
      "2023-09-25 08:00:00    0.003150\n",
      "2023-09-26 08:00:00    0.003127\n",
      "2023-09-27 08:00:00    0.003151\n",
      "Name: close, Length: 4674, dtype: float64\n",
      "Index(['symbol', 'open', 'high', 'low', 'close', 'volume'], dtype='object')\n",
      "datetime\n",
      "2020-08-14 08:00:00    0.066190\n",
      "2020-08-15 08:00:00    0.051706\n",
      "2020-08-16 08:00:00    0.060901\n",
      "2020-08-17 08:00:00    0.054019\n",
      "2020-08-18 08:00:00    0.051411\n",
      "                         ...   \n",
      "2023-09-23 08:00:00    0.300933\n",
      "2023-09-24 08:00:00    0.295996\n",
      "2023-09-25 08:00:00    0.300427\n",
      "2023-09-26 08:00:00    0.301751\n",
      "2023-09-27 08:00:00    0.304181\n",
      "Name: close, Length: 1140, dtype: float64\n",
      "Index(['symbol', 'open', 'high', 'low', 'close', 'volume'], dtype='object')\n",
      "datetime\n",
      "2021-01-06 08:00:00    0.268180\n",
      "2021-01-07 08:00:00    0.290010\n",
      "2021-01-08 08:00:00    0.298471\n",
      "2021-01-09 08:00:00    0.306239\n",
      "2021-01-10 08:00:00    0.298435\n",
      "                         ...   \n",
      "2023-09-23 08:00:00    0.037690\n",
      "2023-09-24 08:00:00    0.037645\n",
      "2023-09-25 08:00:00    0.037331\n",
      "2023-09-26 08:00:00    0.037858\n",
      "2023-09-27 08:00:00    0.038398\n",
      "Name: close, Length: 993, dtype: float64\n",
      "Index(['symbol', 'open', 'high', 'low', 'close', 'volume'], dtype='object')\n",
      "datetime\n",
      "2020-12-01 08:00:00    0.072571\n",
      "2020-12-02 08:00:00    0.077710\n",
      "2020-12-03 08:00:00    0.101238\n",
      "2020-12-04 08:00:00    0.151421\n",
      "2020-12-05 08:00:00    0.138956\n",
      "                         ...   \n",
      "2023-09-23 08:00:00    0.022025\n",
      "2023-09-24 08:00:00    0.021491\n",
      "2023-09-25 08:00:00    0.021765\n",
      "2023-09-26 08:00:00    0.021846\n",
      "2023-09-27 08:00:00    0.021729\n",
      "Name: close, Length: 1031, dtype: float64\n",
      "Index(['symbol', 'open', 'high', 'low', 'close', 'volume'], dtype='object')\n",
      "datetime\n",
      "2021-08-11 08:00:00    0.021941\n",
      "2021-08-12 08:00:00    0.020901\n",
      "2021-08-13 08:00:00    0.022051\n",
      "2021-08-14 08:00:00    0.021895\n",
      "2021-08-15 08:00:00    0.021882\n",
      "                         ...   \n",
      "2023-09-23 08:00:00    0.001334\n",
      "2023-09-24 08:00:00    0.001320\n",
      "2023-09-25 08:00:00    0.001332\n",
      "2023-09-26 08:00:00    0.001325\n",
      "2023-09-27 08:00:00    0.001294\n",
      "Name: close, Length: 778, dtype: float64\n",
      "Index(['symbol', 'open', 'high', 'low', 'close', 'volume'], dtype='object')\n",
      "datetime\n",
      "2021-08-06 08:00:00    0.010404\n",
      "2021-08-07 08:00:00    0.010113\n",
      "2021-08-08 08:00:00    0.009753\n",
      "2021-08-09 08:00:00    0.009777\n",
      "2021-08-10 08:00:00    0.009248\n",
      "                         ...   \n",
      "2023-09-23 08:00:00    0.005380\n",
      "2023-09-24 08:00:00    0.004756\n",
      "2023-09-25 08:00:00    0.004557\n",
      "2023-09-26 08:00:00    0.004667\n",
      "2023-09-27 08:00:00    0.004872\n",
      "Name: close, Length: 779, dtype: float64\n",
      "Index(['symbol', 'open', 'high', 'low', 'close', 'volume'], dtype='object')\n",
      "datetime\n",
      "2021-03-14 08:00:00    16.397569\n",
      "2021-03-15 08:00:00    20.860812\n",
      "2021-03-16 08:00:00    17.132220\n",
      "2021-03-17 08:00:00    14.650976\n",
      "2021-03-18 08:00:00    16.992926\n",
      "                         ...    \n",
      "2023-09-23 08:00:00     0.759020\n",
      "2023-09-24 08:00:00     0.747871\n",
      "2023-09-25 08:00:00     0.750804\n",
      "2023-09-26 08:00:00     0.732357\n",
      "2023-09-27 08:00:00     0.727771\n",
      "Name: close, Length: 928, dtype: float64\n",
      "Index(['symbol', 'open', 'high', 'low', 'close', 'volume'], dtype='object')\n",
      "datetime\n",
      "2020-02-05 08:00:00    0.065676\n",
      "2020-02-06 08:00:00    0.121004\n",
      "2020-02-07 08:00:00    0.112290\n",
      "2020-02-08 08:00:00    0.110651\n",
      "2020-02-09 08:00:00    0.093645\n",
      "                         ...   \n",
      "2023-09-23 08:00:00    0.095200\n",
      "2023-09-24 08:00:00    0.092100\n",
      "2023-09-25 08:00:00    0.093400\n",
      "2023-09-26 08:00:00    0.095100\n",
      "2023-09-27 08:00:00    0.094000\n",
      "Name: close, Length: 1331, dtype: float64\n",
      "Index(['symbol', 'open', 'high', 'low', 'close', 'volume'], dtype='object')\n",
      "datetime\n",
      "2021-03-29 08:00:00    1.377472\n",
      "2021-03-30 08:00:00    1.281866\n",
      "2021-03-31 08:00:00    1.121773\n",
      "2021-04-01 08:00:00    1.018946\n",
      "2021-04-02 08:00:00    1.128158\n",
      "                         ...   \n",
      "2023-09-23 08:00:00    0.126127\n",
      "2023-09-24 08:00:00    0.126536\n",
      "2023-09-25 08:00:00    0.126610\n",
      "2023-09-26 08:00:00    0.124020\n",
      "2023-09-27 08:00:00    0.124144\n",
      "Name: close, Length: 913, dtype: float64\n",
      "Index(['symbol', 'open', 'high', 'low', 'close', 'volume'], dtype='object')\n"
     ]
    },
    {
     "name": "stderr",
     "output_type": "stream",
     "text": [
      "ERROR:tvDatafeed.main:The read operation timed out\n",
      "ERROR:tvDatafeed.main:no data, please check the exchange and symbol\n"
     ]
    },
    {
     "name": "stdout",
     "output_type": "stream",
     "text": [
      "CRYPTO:MDXUSD\n",
      "datetime\n",
      "2021-08-11 08:00:00    16.540000\n",
      "2021-08-12 08:00:00    19.270000\n",
      "2021-08-13 08:00:00    20.780000\n",
      "2021-08-15 08:00:00    20.190000\n",
      "2021-08-16 08:00:00    18.870000\n",
      "                         ...    \n",
      "2023-09-23 08:00:00     4.052026\n",
      "2023-09-24 08:00:00     3.982574\n",
      "2023-09-25 08:00:00     4.001070\n",
      "2023-09-26 08:00:00     3.948535\n",
      "2023-09-27 08:00:00     3.956273\n",
      "Name: close, Length: 777, dtype: float64\n",
      "Index(['symbol', 'open', 'high', 'low', 'close', 'volume'], dtype='object')\n"
     ]
    },
    {
     "name": "stderr",
     "output_type": "stream",
     "text": [
      "ERROR:tvDatafeed.main:The read operation timed out\n",
      "ERROR:tvDatafeed.main:no data, please check the exchange and symbol\n"
     ]
    },
    {
     "name": "stdout",
     "output_type": "stream",
     "text": [
      "CRYPTO:USDNUSD\n",
      "datetime\n",
      "2018-08-23 08:00:00    1.302984\n",
      "2018-08-24 08:00:00    1.078595\n",
      "2018-08-25 08:00:00    0.960168\n",
      "2018-08-26 08:00:00    0.550753\n",
      "2018-08-27 08:00:00    0.967204\n",
      "                         ...   \n",
      "2023-09-23 08:00:00    0.237681\n",
      "2023-09-24 08:00:00    0.225827\n",
      "2023-09-25 08:00:00    0.222997\n",
      "2023-09-26 08:00:00    0.219215\n",
      "2023-09-27 08:00:00    0.219706\n",
      "Name: close, Length: 1862, dtype: float64\n",
      "Index(['symbol', 'open', 'high', 'low', 'close', 'volume'], dtype='object')\n",
      "datetime\n",
      "2021-05-13 08:00:00    301.448000\n",
      "2021-05-14 08:00:00    304.559000\n",
      "2021-05-15 08:00:00    246.220000\n",
      "2021-05-16 08:00:00    225.200000\n",
      "2021-05-17 08:00:00    195.965000\n",
      "                          ...    \n",
      "2023-09-23 08:00:00      2.963711\n",
      "2023-09-24 08:00:00      2.920443\n",
      "2023-09-25 08:00:00      3.000163\n",
      "2023-09-26 08:00:00      2.952591\n",
      "2023-09-27 08:00:00      2.986106\n",
      "Name: close, Length: 868, dtype: float64\n",
      "Index(['symbol', 'open', 'high', 'low', 'close', 'volume'], dtype='object')\n",
      "datetime\n",
      "2021-09-09 08:00:00    0.000020\n",
      "2021-09-10 08:00:00    0.000007\n",
      "2021-09-11 08:00:00    0.000007\n",
      "2021-09-12 08:00:00    0.000007\n",
      "2021-09-13 08:00:00    0.000006\n",
      "                         ...   \n",
      "2023-09-23 08:00:00    0.000008\n",
      "2023-09-24 08:00:00    0.000007\n",
      "2023-09-25 08:00:00    0.000007\n",
      "2023-09-26 08:00:00    0.000007\n",
      "2023-09-27 08:00:00    0.000007\n",
      "Name: close, Length: 749, dtype: float64\n",
      "Index(['symbol', 'open', 'high', 'low', 'close', 'volume'], dtype='object')\n",
      "datetime\n",
      "2021-06-11 08:00:00    3.181077\n",
      "2021-06-12 08:00:00    3.017911\n",
      "2021-06-13 08:00:00    3.207980\n",
      "2021-06-14 08:00:00    3.348172\n",
      "2021-06-15 08:00:00    3.254153\n",
      "                         ...   \n",
      "2023-09-23 08:00:00    0.109542\n",
      "2023-09-24 08:00:00    0.107406\n",
      "2023-09-25 08:00:00    0.108328\n",
      "2023-09-26 08:00:00    0.107504\n",
      "2023-09-27 08:00:00    0.110019\n",
      "Name: close, Length: 839, dtype: float64\n",
      "Index(['symbol', 'open', 'high', 'low', 'close', 'volume'], dtype='object')\n",
      "datetime\n",
      "2020-04-23 08:00:00    0.057583\n",
      "2020-04-24 08:00:00    0.051900\n",
      "2020-04-25 08:00:00    0.051857\n",
      "2020-04-26 08:00:00    0.046296\n",
      "2020-04-27 08:00:00    0.041837\n",
      "                         ...   \n",
      "2023-09-23 08:00:00    0.126021\n",
      "2023-09-24 08:00:00    0.123036\n",
      "2023-09-25 08:00:00    0.125471\n",
      "2023-09-26 08:00:00    0.125152\n",
      "2023-09-27 08:00:00    0.125454\n",
      "Name: close, Length: 1253, dtype: float64\n",
      "Index(['symbol', 'open', 'high', 'low', 'close', 'volume'], dtype='object')\n",
      "datetime\n",
      "2021-06-01 08:00:00    3.250000\n",
      "2021-06-02 08:00:00    4.080000\n",
      "2021-06-03 08:00:00    4.550000\n",
      "2021-06-04 08:00:00    3.850000\n",
      "2021-06-05 08:00:00    3.470000\n",
      "                         ...   \n",
      "2023-09-23 08:00:00    0.384492\n",
      "2023-09-24 08:00:00    0.379447\n",
      "2023-09-25 08:00:00    0.376738\n",
      "2023-09-26 08:00:00    0.371046\n",
      "2023-09-27 08:00:00    0.372080\n",
      "Name: close, Length: 849, dtype: float64\n",
      "Index(['symbol', 'open', 'high', 'low', 'close', 'volume'], dtype='object')\n",
      "datetime\n",
      "2021-06-02 08:00:00    0.262687\n",
      "2021-06-03 08:00:00    0.263621\n",
      "2021-06-04 08:00:00    0.225613\n",
      "2021-06-05 08:00:00    0.205404\n",
      "2021-06-06 08:00:00    0.210881\n",
      "                         ...   \n",
      "2023-09-23 08:00:00    0.179725\n",
      "2023-09-24 08:00:00    0.176223\n",
      "2023-09-25 08:00:00    0.177796\n",
      "2023-09-26 08:00:00    0.175373\n",
      "2023-09-27 08:00:00    0.178168\n",
      "Name: close, Length: 848, dtype: float64\n",
      "Index(['symbol', 'open', 'high', 'low', 'close', 'volume'], dtype='object')\n",
      "datetime\n",
      "2021-05-07 08:00:00    59.291386\n",
      "2021-05-08 08:00:00    58.633069\n",
      "2021-05-09 08:00:00    56.391391\n",
      "2021-05-10 08:00:00    52.113082\n",
      "2021-05-11 08:00:00    54.984627\n",
      "                         ...    \n",
      "2023-09-23 08:00:00    10.370787\n",
      "2023-09-24 08:00:00    10.199534\n",
      "2023-09-25 08:00:00    10.092348\n",
      "2023-09-26 08:00:00     9.949232\n",
      "2023-09-27 08:00:00    10.144209\n",
      "Name: close, Length: 874, dtype: float64\n",
      "Index(['symbol', 'open', 'high', 'low', 'close', 'volume'], dtype='object')\n"
     ]
    },
    {
     "name": "stderr",
     "output_type": "stream",
     "text": [
      "ERROR:tvDatafeed.main:The read operation timed out\n",
      "ERROR:tvDatafeed.main:no data, please check the exchange and symbol\n"
     ]
    },
    {
     "name": "stdout",
     "output_type": "stream",
     "text": [
      "CRYPTO:AXSUSD\n"
     ]
    },
    {
     "name": "stderr",
     "output_type": "stream",
     "text": [
      "ERROR:tvDatafeed.main:The read operation timed out\n",
      "ERROR:tvDatafeed.main:no data, please check the exchange and symbol\n"
     ]
    },
    {
     "name": "stdout",
     "output_type": "stream",
     "text": [
      "CRYPTO:CHRUSD\n",
      "datetime\n",
      "2021-03-19 08:00:00    9.613895\n",
      "2021-03-20 08:00:00    8.520023\n",
      "2021-03-21 08:00:00    8.004319\n",
      "2021-03-22 08:00:00    7.600432\n",
      "2021-03-23 08:00:00    7.078269\n",
      "                         ...   \n",
      "2023-09-23 08:00:00    0.609950\n",
      "2023-09-24 08:00:00    0.593460\n",
      "2023-09-25 08:00:00    0.608720\n",
      "2023-09-26 08:00:00    0.615416\n",
      "2023-09-27 08:00:00    0.613753\n",
      "Name: close, Length: 923, dtype: float64\n",
      "Index(['symbol', 'open', 'high', 'low', 'close', 'volume'], dtype='object')\n",
      "datetime\n",
      "2020-10-22 08:00:00    0.482356\n",
      "2020-10-23 08:00:00    0.191384\n",
      "2020-10-24 08:00:00    0.238656\n",
      "2020-10-25 08:00:00    0.185068\n",
      "2020-10-26 08:00:00    0.166666\n",
      "                         ...   \n",
      "2023-09-23 08:00:00    0.149681\n",
      "2023-09-24 08:00:00    0.146013\n",
      "2023-09-25 08:00:00    0.147084\n",
      "2023-09-26 08:00:00    0.145649\n",
      "2023-09-27 08:00:00    0.146618\n",
      "Name: close, Length: 1071, dtype: float64\n",
      "Index(['symbol', 'open', 'high', 'low', 'close', 'volume'], dtype='object')\n",
      "datetime\n",
      "2021-04-04 08:00:00    0.87500\n",
      "2021-04-05 08:00:00    0.82720\n",
      "2021-04-06 08:00:00    0.82710\n",
      "2021-04-07 08:00:00    0.80620\n",
      "2021-04-08 08:00:00    0.78060\n",
      "                        ...   \n",
      "2023-09-23 08:00:00    0.98329\n",
      "2023-09-24 08:00:00    0.98336\n",
      "2023-09-25 08:00:00    0.98458\n",
      "2023-09-26 08:00:00    0.97850\n",
      "2023-09-27 08:00:00    0.97979\n",
      "Name: close, Length: 903, dtype: float64\n",
      "Index(['symbol', 'open', 'high', 'low', 'close', 'volume'], dtype='object')\n",
      "datetime\n",
      "2018-11-11 08:00:00    0.03449\n",
      "2018-11-12 08:00:00    0.03515\n",
      "2018-11-13 08:00:00    0.04495\n",
      "2018-11-14 08:00:00    0.04716\n",
      "2018-11-15 08:00:00    0.04500\n",
      "                        ...   \n",
      "2023-09-23 08:00:00    0.04815\n",
      "2023-09-24 08:00:00    0.04668\n",
      "2023-09-25 08:00:00    0.04613\n",
      "2023-09-26 08:00:00    0.04639\n",
      "2023-09-27 08:00:00    0.04610\n",
      "Name: close, Length: 1779, dtype: float64\n",
      "Index(['symbol', 'open', 'high', 'low', 'close', 'volume'], dtype='object')\n",
      "datetime\n",
      "2021-09-16 08:00:00    0.09500\n",
      "2021-09-17 08:00:00    0.08270\n",
      "2021-09-18 08:00:00    0.08120\n",
      "2021-09-19 08:00:00    0.07600\n",
      "2021-09-20 08:00:00    0.06340\n",
      "                        ...   \n",
      "2023-09-23 08:00:00    0.00137\n",
      "2023-09-24 08:00:00    0.00142\n",
      "2023-09-25 08:00:00    0.00137\n",
      "2023-09-26 08:00:00    0.00139\n",
      "2023-09-27 08:00:00    0.00139\n",
      "Name: close, Length: 740, dtype: float64\n",
      "Index(['symbol', 'open', 'high', 'low', 'close', 'volume'], dtype='object')\n",
      "datetime\n",
      "2021-12-13 08:00:00    0.000106\n",
      "2021-12-14 08:00:00    0.000113\n",
      "2021-12-15 08:00:00    0.000114\n",
      "2021-12-16 08:00:00    0.000110\n",
      "2021-12-17 08:00:00    0.000109\n",
      "                         ...   \n",
      "2023-09-23 08:00:00    0.000024\n",
      "2023-09-24 08:00:00    0.000024\n",
      "2023-09-25 08:00:00    0.000024\n",
      "2023-09-26 08:00:00    0.000024\n",
      "2023-09-27 08:00:00    0.000024\n",
      "Name: close, Length: 654, dtype: float64\n",
      "Index(['symbol', 'open', 'high', 'low', 'close', 'volume'], dtype='object')\n",
      "datetime\n",
      "2021-09-09 08:00:00    13.002387\n",
      "2021-09-10 08:00:00    10.408631\n",
      "2021-09-11 08:00:00    10.936647\n",
      "2021-09-12 08:00:00    11.296103\n",
      "2021-09-13 08:00:00    10.411825\n",
      "                         ...    \n",
      "2023-09-23 08:00:00     1.901740\n",
      "2023-09-24 08:00:00     1.869731\n",
      "2023-09-25 08:00:00     1.912872\n",
      "2023-09-26 08:00:00     1.887020\n",
      "2023-09-27 08:00:00     1.899996\n",
      "Name: close, Length: 749, dtype: float64\n",
      "Index(['symbol', 'open', 'high', 'low', 'close', 'volume'], dtype='object')\n",
      "datetime\n",
      "2021-07-27 08:00:00    1.010000\n",
      "2021-07-28 08:00:00    1.010000\n",
      "2021-07-29 08:00:00    1.010000\n",
      "2021-07-30 08:00:00    1.010000\n",
      "2021-07-31 08:00:00    1.000000\n",
      "                         ...   \n",
      "2023-09-23 08:00:00    0.998505\n",
      "2023-09-24 08:00:00    0.999231\n",
      "2023-09-25 08:00:00    0.999544\n",
      "2023-09-26 08:00:00    0.999570\n",
      "2023-09-27 08:00:00    0.999942\n",
      "Name: close, Length: 790, dtype: float64\n",
      "Index(['symbol', 'open', 'high', 'low', 'close', 'volume'], dtype='object')\n",
      "datetime\n",
      "2021-08-11 08:00:00    4.179900\n",
      "2021-08-12 08:00:00    4.498900\n",
      "2021-08-13 08:00:00    4.963700\n",
      "2021-08-15 08:00:00    5.815500\n",
      "2021-08-16 08:00:00    6.237500\n",
      "                         ...   \n",
      "2023-09-23 08:00:00    0.173129\n",
      "2023-09-24 08:00:00    0.174605\n",
      "2023-09-25 08:00:00    0.171359\n",
      "2023-09-26 08:00:00    0.168241\n",
      "2023-09-27 08:00:00    0.168639\n",
      "Name: close, Length: 777, dtype: float64\n",
      "Index(['symbol', 'open', 'high', 'low', 'close', 'volume'], dtype='object')\n"
     ]
    },
    {
     "name": "stderr",
     "output_type": "stream",
     "text": [
      "ERROR:tvDatafeed.main:The read operation timed out\n",
      "ERROR:tvDatafeed.main:no data, please check the exchange and symbol\n"
     ]
    },
    {
     "name": "stdout",
     "output_type": "stream",
     "text": [
      "CRYPTO:XDBUSD\n",
      "datetime\n",
      "2021-05-11 08:00:00    1.321600\n",
      "2021-05-12 08:00:00    0.784000\n",
      "2021-05-13 08:00:00    0.790000\n",
      "2021-05-14 08:00:00    0.783600\n",
      "2021-05-15 08:00:00    0.600300\n",
      "                         ...   \n",
      "2023-09-23 08:00:00    0.032217\n",
      "2023-09-24 08:00:00    0.032185\n",
      "2023-09-25 08:00:00    0.032066\n",
      "2023-09-26 08:00:00    0.031458\n",
      "2023-09-27 08:00:00    0.031399\n",
      "Name: close, Length: 870, dtype: float64\n",
      "Index(['symbol', 'open', 'high', 'low', 'close', 'volume'], dtype='object')\n",
      "datetime\n",
      "2021-05-21 08:00:00    2.953000e-07\n",
      "2021-05-22 08:00:00    2.487000e-07\n",
      "2021-05-23 08:00:00    1.865000e-07\n",
      "2021-05-24 08:00:00    2.203000e-07\n",
      "2021-05-25 08:00:00    1.997000e-07\n",
      "                           ...     \n",
      "2023-09-23 08:00:00    1.000000e-07\n",
      "2023-09-24 08:00:00    1.000000e-07\n",
      "2023-09-25 08:00:00    1.000000e-07\n",
      "2023-09-26 08:00:00    1.000000e-07\n",
      "2023-09-27 08:00:00    1.000000e-07\n",
      "Name: close, Length: 860, dtype: float64\n",
      "Index(['symbol', 'open', 'high', 'low', 'close', 'volume'], dtype='object')\n",
      "datetime\n",
      "2021-11-08 08:00:00    395.021716\n",
      "2021-11-09 08:00:00    377.686097\n",
      "2021-11-10 08:00:00    336.918663\n",
      "2021-11-11 08:00:00    372.611533\n",
      "2021-11-12 08:00:00    349.886518\n",
      "                          ...    \n",
      "2023-09-23 08:00:00      3.968420\n",
      "2023-09-24 08:00:00      3.915211\n",
      "2023-09-25 08:00:00      4.152436\n",
      "2023-09-26 08:00:00      4.095385\n",
      "2023-09-27 08:00:00      4.134069\n",
      "Name: close, Length: 689, dtype: float64\n",
      "Index(['symbol', 'open', 'high', 'low', 'close', 'volume'], dtype='object')\n",
      "datetime\n",
      "2019-12-25 08:00:00    0.000724\n",
      "2019-12-26 08:00:00    0.000597\n",
      "2019-12-27 08:00:00    0.000622\n",
      "2019-12-28 08:00:00    0.000594\n",
      "2019-12-29 08:00:00    0.000555\n",
      "                         ...   \n",
      "2023-09-23 08:00:00    0.003848\n",
      "2023-09-24 08:00:00    0.003784\n",
      "2023-09-25 08:00:00    0.003832\n",
      "2023-09-26 08:00:00    0.003776\n",
      "2023-09-27 08:00:00    0.003795\n",
      "Name: close, Length: 1299, dtype: float64\n",
      "Index(['symbol', 'open', 'high', 'low', 'close', 'volume'], dtype='object')\n",
      "datetime\n",
      "2021-07-19 08:00:00    0.003332\n",
      "2021-07-20 08:00:00    0.003036\n",
      "2021-07-21 08:00:00    0.003060\n",
      "2021-07-22 08:00:00    0.003230\n",
      "2021-07-23 08:00:00    0.003415\n",
      "                         ...   \n",
      "2023-09-23 08:00:00    0.000626\n",
      "2023-09-24 08:00:00    0.000635\n",
      "2023-09-25 08:00:00    0.000658\n",
      "2023-09-26 08:00:00    0.000646\n",
      "2023-09-27 08:00:00    0.000657\n",
      "Name: close, Length: 797, dtype: float64\n",
      "Index(['symbol', 'open', 'high', 'low', 'close', 'volume'], dtype='object')\n",
      "datetime\n",
      "2021-09-13 08:00:00    0.047660\n",
      "2021-09-14 08:00:00    0.043831\n",
      "2021-09-15 08:00:00    0.051521\n",
      "2021-09-16 08:00:00    0.099831\n",
      "2021-09-17 08:00:00    0.116809\n",
      "                         ...   \n",
      "2023-09-23 08:00:00    0.013475\n",
      "2023-09-24 08:00:00    0.013356\n",
      "2023-09-25 08:00:00    0.013602\n",
      "2023-09-26 08:00:00    0.013349\n",
      "2023-09-27 08:00:00    0.013408\n",
      "Name: close, Length: 743, dtype: float64\n",
      "Index(['symbol', 'open', 'high', 'low', 'close', 'volume'], dtype='object')\n",
      "datetime\n",
      "2021-06-27 08:00:00    0.401300\n",
      "2021-06-28 08:00:00    0.419100\n",
      "2021-06-29 08:00:00    0.436900\n",
      "2021-06-30 08:00:00    0.414900\n",
      "2021-07-01 08:00:00    0.410600\n",
      "                         ...   \n",
      "2023-09-23 08:00:00    0.470823\n",
      "2023-09-24 08:00:00    0.463612\n",
      "2023-09-25 08:00:00    0.479325\n",
      "2023-09-26 08:00:00    0.470445\n",
      "2023-09-27 08:00:00    0.471304\n",
      "Name: close, Length: 823, dtype: float64\n",
      "Index(['symbol', 'open', 'high', 'low', 'close', 'volume'], dtype='object')\n",
      "datetime\n",
      "2021-12-09 08:00:00    5.260000\n",
      "2021-12-10 08:00:00    4.790000\n",
      "2021-12-11 08:00:00    5.020000\n",
      "2021-12-12 08:00:00    5.290000\n",
      "2021-12-13 08:00:00    4.700000\n",
      "                         ...   \n",
      "2023-09-23 08:00:00    0.619523\n",
      "2023-09-24 08:00:00    0.593760\n",
      "2023-09-25 08:00:00    0.606859\n",
      "2023-09-26 08:00:00    0.587169\n",
      "2023-09-27 08:00:00    0.561262\n",
      "Name: close, Length: 658, dtype: float64\n",
      "Index(['symbol', 'open', 'high', 'low', 'close', 'volume'], dtype='object')\n"
     ]
    },
    {
     "name": "stderr",
     "output_type": "stream",
     "text": [
      "ERROR:tvDatafeed.main:Connection to remote host was lost.\n",
      "ERROR:tvDatafeed.main:no data, please check the exchange and symbol\n"
     ]
    },
    {
     "name": "stdout",
     "output_type": "stream",
     "text": [
      "CRYPTO:CEEKUSD\n"
     ]
    },
    {
     "name": "stderr",
     "output_type": "stream",
     "text": [
      "ERROR:tvDatafeed.main:Connection to remote host was lost.\n",
      "ERROR:tvDatafeed.main:no data, please check the exchange and symbol\n"
     ]
    },
    {
     "name": "stdout",
     "output_type": "stream",
     "text": [
      "CRYPTO:DVIUSD\n"
     ]
    },
    {
     "name": "stderr",
     "output_type": "stream",
     "text": [
      "ERROR:tvDatafeed.main:The read operation timed out\n",
      "ERROR:tvDatafeed.main:no data, please check the exchange and symbol\n"
     ]
    },
    {
     "name": "stdout",
     "output_type": "stream",
     "text": [
      "CRYPTO:FLUXUSD\n",
      "datetime\n",
      "2021-05-04 08:00:00    0.46477\n",
      "2021-05-05 08:00:00    0.62961\n",
      "2021-05-06 08:00:00    0.57193\n",
      "2021-05-07 08:00:00    0.55576\n",
      "2021-05-08 08:00:00    0.62047\n",
      "                        ...   \n",
      "2023-09-23 08:00:00    0.06954\n",
      "2023-09-24 08:00:00    0.06817\n",
      "2023-09-25 08:00:00    0.06852\n",
      "2023-09-26 08:00:00    0.07126\n",
      "2023-09-27 08:00:00    0.07190\n",
      "Name: close, Length: 877, dtype: float64\n",
      "Index(['symbol', 'open', 'high', 'low', 'close', 'volume'], dtype='object')\n",
      "datetime\n",
      "2021-06-11 08:00:00    2.469000e-06\n",
      "2021-06-12 08:00:00    2.327000e-06\n",
      "2021-06-13 08:00:00    2.370000e-06\n",
      "2021-06-14 08:00:00    2.349000e-06\n",
      "2021-06-15 08:00:00    2.494000e-06\n",
      "                           ...     \n",
      "2023-09-23 08:00:00    3.158000e-07\n",
      "2023-09-24 08:00:00    3.151000e-07\n",
      "2023-09-25 08:00:00    3.163000e-07\n",
      "2023-09-26 08:00:00    3.156000e-07\n",
      "2023-09-27 08:00:00    3.134000e-07\n",
      "Name: close, Length: 838, dtype: float64\n",
      "Index(['symbol', 'open', 'high', 'low', 'close', 'volume'], dtype='object')\n"
     ]
    },
    {
     "name": "stderr",
     "output_type": "stream",
     "text": [
      "ERROR:tvDatafeed.main:The read operation timed out\n",
      "ERROR:tvDatafeed.main:no data, please check the exchange and symbol\n"
     ]
    },
    {
     "name": "stdout",
     "output_type": "stream",
     "text": [
      "CRYPTO:XNOUSD\n",
      "datetime\n",
      "2019-07-22 08:00:00    0.295521\n",
      "2019-07-23 08:00:00    0.211124\n",
      "2019-07-24 08:00:00    0.171935\n",
      "2019-07-25 08:00:00    0.193527\n",
      "2019-07-26 08:00:00    0.186821\n",
      "                         ...   \n",
      "2023-09-23 08:00:00    0.115370\n",
      "2023-09-24 08:00:00    0.111374\n",
      "2023-09-25 08:00:00    0.112774\n",
      "2023-09-26 08:00:00    0.111950\n",
      "2023-09-27 08:00:00    0.116348\n",
      "Name: close, Length: 1529, dtype: float64\n",
      "Index(['symbol', 'open', 'high', 'low', 'close', 'volume'], dtype='object')\n",
      "datetime\n",
      "2021-12-01 08:00:00    13.690000\n",
      "2021-12-02 08:00:00     9.160000\n",
      "2021-12-03 08:00:00     7.850000\n",
      "2021-12-04 08:00:00     7.120000\n",
      "2021-12-05 08:00:00     6.640000\n",
      "                         ...    \n",
      "2023-09-23 08:00:00     0.203860\n",
      "2023-09-24 08:00:00     0.203206\n",
      "2023-09-25 08:00:00     0.212135\n",
      "2023-09-26 08:00:00     0.204717\n",
      "2023-09-27 08:00:00     0.210784\n",
      "Name: close, Length: 666, dtype: float64\n",
      "Index(['symbol', 'open', 'high', 'low', 'close', 'volume'], dtype='object')\n",
      "datetime\n",
      "2021-12-23 08:00:00    44.504005\n",
      "2021-12-24 08:00:00    40.084982\n",
      "2021-12-25 08:00:00    42.874289\n",
      "2021-12-26 08:00:00    41.413546\n",
      "2021-12-27 08:00:00    49.232452\n",
      "                         ...    \n",
      "2023-09-23 08:00:00     2.850127\n",
      "2023-09-24 08:00:00     2.909319\n",
      "2023-09-25 08:00:00     3.041366\n",
      "2023-09-26 08:00:00     2.994145\n",
      "2023-09-27 08:00:00     3.031930\n",
      "Name: close, Length: 644, dtype: float64\n",
      "Index(['symbol', 'open', 'high', 'low', 'close', 'volume'], dtype='object')\n",
      "datetime\n",
      "2021-03-17 08:00:00    0.511000\n",
      "2021-03-18 08:00:00    0.407800\n",
      "2021-03-19 08:00:00    0.382300\n",
      "2021-03-20 08:00:00    0.459500\n",
      "2021-03-21 08:00:00    0.565000\n",
      "                         ...   \n",
      "2023-09-22 08:00:00    0.021268\n",
      "2023-09-23 08:00:00    0.021535\n",
      "2023-09-24 08:00:00    0.020681\n",
      "2023-09-25 08:00:00    0.021041\n",
      "2023-09-26 08:00:00    0.021010\n",
      "Name: close, Length: 891, dtype: float64\n",
      "Index(['symbol', 'open', 'high', 'low', 'close', 'volume'], dtype='object')\n",
      "datetime\n",
      "2021-11-27 08:00:00    7.476877\n",
      "2021-11-28 08:00:00    6.964717\n",
      "2021-11-29 08:00:00    6.801842\n",
      "2021-11-30 08:00:00    6.266667\n",
      "2021-12-01 08:00:00    5.423827\n",
      "                         ...   \n",
      "2023-09-23 08:00:00    1.564154\n",
      "2023-09-24 08:00:00    1.550405\n",
      "2023-09-25 08:00:00    1.484462\n",
      "2023-09-26 08:00:00    1.485899\n",
      "2023-09-27 08:00:00    1.487013\n",
      "Name: close, Length: 670, dtype: float64\n",
      "Index(['symbol', 'open', 'high', 'low', 'close', 'volume'], dtype='object')\n",
      "datetime\n",
      "2021-12-07 08:00:00    0.018540\n",
      "2021-12-08 08:00:00    0.017920\n",
      "2021-12-09 08:00:00    0.014640\n",
      "2021-12-10 08:00:00    0.013190\n",
      "2021-12-11 08:00:00    0.013780\n",
      "                         ...   \n",
      "2023-09-23 08:00:00    0.000522\n",
      "2023-09-24 08:00:00    0.000500\n",
      "2023-09-25 08:00:00    0.000509\n",
      "2023-09-26 08:00:00    0.000498\n",
      "2023-09-27 08:00:00    0.000505\n",
      "Name: close, Length: 658, dtype: float64\n",
      "Index(['symbol', 'open', 'high', 'low', 'close', 'volume'], dtype='object')\n",
      "datetime\n",
      "2021-07-15 08:00:00    0.496300\n",
      "2021-07-16 08:00:00    0.466000\n",
      "2021-07-17 08:00:00    0.449000\n",
      "2021-07-18 08:00:00    0.441700\n",
      "2021-07-19 08:00:00    0.406900\n",
      "                         ...   \n",
      "2023-09-23 08:00:00    0.006115\n",
      "2023-09-24 08:00:00    0.006094\n",
      "2023-09-25 08:00:00    0.006119\n",
      "2023-09-26 08:00:00    0.006000\n",
      "2023-09-27 08:00:00    0.006065\n",
      "Name: close, Length: 805, dtype: float64\n",
      "Index(['symbol', 'open', 'high', 'low', 'close', 'volume'], dtype='object')\n",
      "datetime\n",
      "2021-11-28 08:00:00    0.092301\n",
      "2021-11-29 08:00:00    0.067157\n",
      "2021-11-30 08:00:00    0.064314\n",
      "2021-12-01 08:00:00    0.062256\n",
      "2021-12-02 08:00:00    0.062701\n",
      "                         ...   \n",
      "2023-09-23 08:00:00    0.009781\n",
      "2023-09-24 08:00:00    0.009215\n",
      "2023-09-25 08:00:00    0.009722\n",
      "2023-09-26 08:00:00    0.010160\n",
      "2023-09-27 08:00:00    0.009831\n",
      "Name: close, Length: 669, dtype: float64\n",
      "Index(['symbol', 'open', 'high', 'low', 'close', 'volume'], dtype='object')\n",
      "datetime\n",
      "2022-01-11 08:00:00    12.018404\n",
      "2022-01-12 08:00:00     8.977568\n",
      "2022-01-13 08:00:00    11.617363\n",
      "2022-01-14 08:00:00    13.393608\n",
      "2022-01-15 08:00:00    12.636279\n",
      "                         ...    \n",
      "2023-09-23 08:00:00     0.165800\n",
      "2023-09-24 08:00:00     0.166970\n",
      "2023-09-25 08:00:00     0.244443\n",
      "2023-09-26 08:00:00     0.236349\n",
      "2023-09-27 08:00:00     0.265565\n",
      "Name: close, Length: 625, dtype: float64\n",
      "Index(['symbol', 'open', 'high', 'low', 'close', 'volume'], dtype='object')\n"
     ]
    },
    {
     "name": "stderr",
     "output_type": "stream",
     "text": [
      "ERROR:tvDatafeed.main:The read operation timed out\n",
      "ERROR:tvDatafeed.main:no data, please check the exchange and symbol\n"
     ]
    },
    {
     "name": "stdout",
     "output_type": "stream",
     "text": [
      "CRYPTO:SOSUSD\n",
      "datetime\n",
      "2021-11-10 08:00:00    73.871492\n",
      "2021-11-11 08:00:00    55.429352\n",
      "2021-11-12 08:00:00    54.690712\n",
      "2021-11-13 08:00:00    55.628291\n",
      "2021-11-14 08:00:00    56.089765\n",
      "                         ...    \n",
      "2023-09-23 08:00:00     7.382758\n",
      "2023-09-24 08:00:00     7.297036\n",
      "2023-09-25 08:00:00     7.366386\n",
      "2023-09-26 08:00:00     7.363200\n",
      "2023-09-27 08:00:00     7.461485\n",
      "Name: close, Length: 687, dtype: float64\n",
      "Index(['symbol', 'open', 'high', 'low', 'close', 'volume'], dtype='object')\n"
     ]
    },
    {
     "name": "stderr",
     "output_type": "stream",
     "text": [
      "ERROR:tvDatafeed.main:The read operation timed out\n",
      "ERROR:tvDatafeed.main:no data, please check the exchange and symbol\n"
     ]
    },
    {
     "name": "stdout",
     "output_type": "stream",
     "text": [
      "CRYPTO:ILVUSD\n"
     ]
    },
    {
     "name": "stderr",
     "output_type": "stream",
     "text": [
      "ERROR:tvDatafeed.main:Connection to remote host was lost.\n",
      "ERROR:tvDatafeed.main:no data, please check the exchange and symbol\n"
     ]
    },
    {
     "name": "stdout",
     "output_type": "stream",
     "text": [
      "CRYPTO:BTRSTUSD\n"
     ]
    },
    {
     "name": "stderr",
     "output_type": "stream",
     "text": [
      "ERROR:tvDatafeed.main:Connection to remote host was lost.\n",
      "ERROR:tvDatafeed.main:no data, please check the exchange and symbol\n"
     ]
    },
    {
     "name": "stdout",
     "output_type": "stream",
     "text": [
      "CRYPTO:FXSUSD\n"
     ]
    },
    {
     "name": "stderr",
     "output_type": "stream",
     "text": [
      "ERROR:tvDatafeed.main:Connection to remote host was lost.\n",
      "ERROR:tvDatafeed.main:no data, please check the exchange and symbol\n"
     ]
    },
    {
     "name": "stdout",
     "output_type": "stream",
     "text": [
      "CRYPTO:ANCUSD\n"
     ]
    },
    {
     "name": "stderr",
     "output_type": "stream",
     "text": [
      "ERROR:tvDatafeed.main:Connection to remote host was lost.\n",
      "ERROR:tvDatafeed.main:no data, please check the exchange and symbol\n"
     ]
    },
    {
     "name": "stdout",
     "output_type": "stream",
     "text": [
      "CRYPTO:TRIBEUSD\n"
     ]
    },
    {
     "name": "stderr",
     "output_type": "stream",
     "text": [
      "ERROR:tvDatafeed.main:Connection to remote host was lost.\n",
      "ERROR:tvDatafeed.main:no data, please check the exchange and symbol\n"
     ]
    },
    {
     "name": "stdout",
     "output_type": "stream",
     "text": [
      "CRYPTO:C98USD\n"
     ]
    },
    {
     "name": "stderr",
     "output_type": "stream",
     "text": [
      "ERROR:tvDatafeed.main:The read operation timed out\n",
      "ERROR:tvDatafeed.main:no data, please check the exchange and symbol\n"
     ]
    },
    {
     "name": "stdout",
     "output_type": "stream",
     "text": [
      "CRYPTO:PLAUSD\n"
     ]
    },
    {
     "name": "stderr",
     "output_type": "stream",
     "text": [
      "ERROR:tvDatafeed.main:The read operation timed out\n",
      "ERROR:tvDatafeed.main:no data, please check the exchange and symbol\n"
     ]
    },
    {
     "name": "stdout",
     "output_type": "stream",
     "text": [
      "CRYPTO:KEEPUSD\n",
      "datetime\n",
      "2021-11-26 08:00:00    36.123022\n",
      "2021-11-27 08:00:00    37.225535\n",
      "2021-11-28 08:00:00    38.979485\n",
      "2021-11-29 08:00:00    41.493548\n",
      "2021-11-30 08:00:00    44.584487\n",
      "                         ...    \n",
      "2023-09-23 08:00:00     3.127500\n",
      "2023-09-24 08:00:00     3.066389\n",
      "2023-09-25 08:00:00     3.052569\n",
      "2023-09-26 08:00:00     3.040177\n",
      "2023-09-27 08:00:00     3.067884\n",
      "Name: close, Length: 671, dtype: float64\n",
      "Index(['symbol', 'open', 'high', 'low', 'close', 'volume'], dtype='object')\n",
      "datetime\n",
      "2021-04-01 08:00:00    3.840900\n",
      "2021-04-02 08:00:00    3.882600\n",
      "2021-04-03 08:00:00    3.868000\n",
      "2021-04-04 08:00:00    4.753700\n",
      "2021-04-05 08:00:00    4.154000\n",
      "                         ...   \n",
      "2023-09-23 08:00:00    0.165203\n",
      "2023-09-24 08:00:00    0.162353\n",
      "2023-09-25 08:00:00    0.166670\n",
      "2023-09-26 08:00:00    0.165437\n",
      "2023-09-27 08:00:00    0.165223\n",
      "Name: close, Length: 906, dtype: float64\n",
      "Index(['symbol', 'open', 'high', 'low', 'close', 'volume'], dtype='object')\n"
     ]
    },
    {
     "name": "stderr",
     "output_type": "stream",
     "text": [
      "ERROR:tvDatafeed.main:The read operation timed out\n",
      "ERROR:tvDatafeed.main:no data, please check the exchange and symbol\n"
     ]
    },
    {
     "name": "stdout",
     "output_type": "stream",
     "text": [
      "CRYPTO:RGTUSD\n",
      "datetime\n",
      "2021-09-24 08:00:00    7.056512\n",
      "2021-09-25 08:00:00    5.800311\n",
      "2021-09-26 08:00:00    5.105627\n",
      "2021-09-27 08:00:00    5.217390\n",
      "2021-09-28 08:00:00    5.375993\n",
      "                         ...   \n",
      "2023-09-23 08:00:00    0.213769\n",
      "2023-09-24 08:00:00    0.204324\n",
      "2023-09-25 08:00:00    0.206714\n",
      "2023-09-26 08:00:00    0.203743\n",
      "2023-09-27 08:00:00    0.201578\n",
      "Name: close, Length: 734, dtype: float64\n",
      "Index(['symbol', 'open', 'high', 'low', 'close', 'volume'], dtype='object')\n",
      "datetime\n",
      "2021-02-21 08:00:00    1.597041\n",
      "2021-02-22 08:00:00    1.556427\n",
      "2021-02-23 08:00:00    1.606546\n",
      "2021-02-24 08:00:00    1.419166\n",
      "2021-02-25 08:00:00    1.254501\n",
      "                         ...   \n",
      "2023-09-23 08:00:00    0.079210\n",
      "2023-09-24 08:00:00    0.077010\n",
      "2023-09-25 08:00:00    0.078119\n",
      "2023-09-26 08:00:00    0.076417\n",
      "2023-09-27 08:00:00    0.077001\n",
      "Name: close, Length: 949, dtype: float64\n",
      "Index(['symbol', 'open', 'high', 'low', 'close', 'volume'], dtype='object')\n",
      "datetime\n",
      "2022-06-30 08:00:00    0.3684\n",
      "2022-07-01 08:00:00    0.3501\n",
      "2022-07-02 08:00:00    0.3305\n",
      "2022-07-03 08:00:00    0.3398\n",
      "2022-07-04 08:00:00    0.3868\n",
      "                        ...  \n",
      "2023-09-23 08:00:00    0.1086\n",
      "2023-09-24 08:00:00    0.1078\n",
      "2023-09-25 08:00:00    0.1083\n",
      "2023-09-26 08:00:00    0.1084\n",
      "2023-09-27 08:00:00    0.1095\n",
      "Name: close, Length: 455, dtype: float64\n",
      "Index(['symbol', 'open', 'high', 'low', 'close', 'volume'], dtype='object')\n",
      "datetime\n",
      "2021-10-06 08:00:00    0.005667\n",
      "2021-10-07 08:00:00    0.010980\n",
      "2021-10-08 08:00:00    0.010899\n",
      "2021-10-09 08:00:00    0.012706\n",
      "2021-10-10 08:00:00    0.011777\n",
      "                         ...   \n",
      "2023-09-23 08:00:00    0.001308\n",
      "2023-09-24 08:00:00    0.001283\n",
      "2023-09-25 08:00:00    0.001371\n",
      "2023-09-26 08:00:00    0.001350\n",
      "2023-09-27 08:00:00    0.001350\n",
      "Name: close, Length: 658, dtype: float64\n",
      "Index(['symbol', 'open', 'high', 'low', 'close', 'volume'], dtype='object')\n"
     ]
    },
    {
     "name": "stderr",
     "output_type": "stream",
     "text": [
      "ERROR:tvDatafeed.main:Connection to remote host was lost.\n",
      "ERROR:tvDatafeed.main:no data, please check the exchange and symbol\n"
     ]
    },
    {
     "name": "stdout",
     "output_type": "stream",
     "text": [
      "CRYPTO:XCHUSD\n",
      "datetime\n",
      "2021-12-28 08:00:00    2.367748\n",
      "2021-12-29 08:00:00    2.263913\n",
      "2021-12-30 08:00:00    2.071174\n",
      "2021-12-31 08:00:00    2.115418\n",
      "2022-01-01 08:00:00    2.073136\n",
      "                         ...   \n",
      "2023-09-23 08:00:00    0.243012\n",
      "2023-09-24 08:00:00    0.242676\n",
      "2023-09-25 08:00:00    0.241946\n",
      "2023-09-26 08:00:00    0.241203\n",
      "2023-09-27 08:00:00    0.240556\n",
      "Name: close, Length: 639, dtype: float64\n",
      "Index(['symbol', 'open', 'high', 'low', 'close', 'volume'], dtype='object')\n"
     ]
    },
    {
     "name": "stderr",
     "output_type": "stream",
     "text": [
      "ERROR:tvDatafeed.main:Connection to remote host was lost.\n",
      "ERROR:tvDatafeed.main:no data, please check the exchange and symbol\n"
     ]
    },
    {
     "name": "stdout",
     "output_type": "stream",
     "text": [
      "CRYPTO:JASMYUSD\n",
      "datetime\n",
      "2021-11-15 08:00:00    6.247000\n",
      "2021-11-16 08:00:00    5.994000\n",
      "2021-11-17 08:00:00    6.145000\n",
      "2021-11-18 08:00:00    5.772000\n",
      "2021-11-19 08:00:00    6.196000\n",
      "                         ...   \n",
      "2023-09-23 08:00:00    1.103439\n",
      "2023-09-24 08:00:00    1.078151\n",
      "2023-09-25 08:00:00    1.104037\n",
      "2023-09-26 08:00:00    1.092477\n",
      "2023-09-27 08:00:00    1.164294\n",
      "Name: close, Length: 682, dtype: float64\n",
      "Index(['symbol', 'open', 'high', 'low', 'close', 'volume'], dtype='object')\n",
      "datetime\n",
      "2022-03-17 08:00:00     8.580481\n",
      "2022-03-18 08:00:00    13.094626\n",
      "2022-03-19 08:00:00    11.733950\n",
      "2022-03-20 08:00:00     9.624330\n",
      "2022-03-21 08:00:00    10.538792\n",
      "                         ...    \n",
      "2023-09-23 08:00:00     1.122872\n",
      "2023-09-24 08:00:00     1.103524\n",
      "2023-09-25 08:00:00     1.118709\n",
      "2023-09-26 08:00:00     1.110040\n",
      "2023-09-27 08:00:00     1.117582\n",
      "Name: close, Length: 560, dtype: float64\n",
      "Index(['symbol', 'open', 'high', 'low', 'close', 'volume'], dtype='object')\n",
      "datetime\n",
      "2022-03-09 08:00:00    0.133026\n",
      "2022-03-10 08:00:00    0.116737\n",
      "2022-03-11 08:00:00    0.159977\n",
      "2022-03-12 08:00:00    0.285248\n",
      "2022-03-13 08:00:00    0.399449\n",
      "                         ...   \n",
      "2023-09-23 08:00:00    0.153456\n",
      "2023-09-24 08:00:00    0.149503\n",
      "2023-09-25 08:00:00    0.152808\n",
      "2023-09-26 08:00:00    0.152629\n",
      "2023-09-27 08:00:00    0.152215\n",
      "Name: close, Length: 568, dtype: float64\n",
      "Index(['symbol', 'open', 'high', 'low', 'close', 'volume'], dtype='object')\n"
     ]
    },
    {
     "name": "stderr",
     "output_type": "stream",
     "text": [
      "ERROR:tvDatafeed.main:The read operation timed out\n",
      "ERROR:tvDatafeed.main:no data, please check the exchange and symbol\n"
     ]
    },
    {
     "name": "stdout",
     "output_type": "stream",
     "text": [
      "CRYPTO:BRGUSD\n",
      "datetime\n",
      "2020-07-30 08:00:00    0.006669\n",
      "2020-07-31 08:00:00    0.007349\n",
      "2020-08-01 08:00:00    0.011120\n",
      "2020-08-02 08:00:00    0.013432\n",
      "2020-08-03 08:00:00    0.018073\n",
      "                         ...   \n",
      "2023-09-23 08:00:00    0.778636\n",
      "2023-09-24 08:00:00    0.759621\n",
      "2023-09-25 08:00:00    0.765602\n",
      "2023-09-26 08:00:00    0.766763\n",
      "2023-09-27 08:00:00    0.764002\n",
      "Name: close, Length: 1155, dtype: float64\n",
      "Index(['symbol', 'open', 'high', 'low', 'close', 'volume'], dtype='object')\n",
      "datetime\n",
      "2021-04-05 08:00:00    5.0500\n",
      "2021-04-06 08:00:00    4.6250\n",
      "2021-04-07 08:00:00    3.9040\n",
      "2021-04-08 08:00:00    5.4730\n",
      "2021-04-09 08:00:00    5.5190\n",
      "                        ...  \n",
      "2023-09-23 08:00:00    0.3620\n",
      "2023-09-24 08:00:00    0.3485\n",
      "2023-09-25 08:00:00    0.3554\n",
      "2023-09-26 08:00:00    0.3526\n",
      "2023-09-27 08:00:00    0.3647\n",
      "Name: close, Length: 905, dtype: float64\n",
      "Index(['symbol', 'open', 'high', 'low', 'close', 'volume'], dtype='object')\n",
      "datetime\n",
      "2022-06-16 08:00:00    0.292731\n",
      "2022-06-17 08:00:00    0.305605\n",
      "2022-06-18 08:00:00    0.276791\n",
      "2022-06-19 08:00:00    0.291871\n",
      "2022-06-20 08:00:00    0.294826\n",
      "                         ...   \n",
      "2023-09-23 08:00:00    0.086729\n",
      "2023-09-24 08:00:00    0.083198\n",
      "2023-09-25 08:00:00    0.084015\n",
      "2023-09-26 08:00:00    0.082645\n",
      "2023-09-27 08:00:00    0.084052\n",
      "Name: close, Length: 469, dtype: float64\n",
      "Index(['symbol', 'open', 'high', 'low', 'close', 'volume'], dtype='object')\n",
      "datetime\n",
      "2021-02-09 08:00:00    3.06708\n",
      "2021-02-10 08:00:00    3.22389\n",
      "2021-02-11 08:00:00    3.07286\n",
      "2021-02-12 08:00:00    2.82800\n",
      "2021-02-13 08:00:00    2.74482\n",
      "                        ...   \n",
      "2023-09-23 08:00:00    0.73468\n",
      "2023-09-24 08:00:00    0.73846\n",
      "2023-09-25 08:00:00    0.73552\n",
      "2023-09-26 08:00:00    0.72024\n",
      "2023-09-27 08:00:00    0.71251\n",
      "Name: close, Length: 957, dtype: float64\n",
      "Index(['symbol', 'open', 'high', 'low', 'close', 'volume'], dtype='object')\n",
      "datetime\n",
      "2020-01-08 08:00:00    1.010000\n",
      "2020-01-09 08:00:00    1.000000\n",
      "2020-01-10 08:00:00    1.010000\n",
      "2020-01-11 08:00:00    1.010000\n",
      "2020-01-12 08:00:00    1.000000\n",
      "                         ...   \n",
      "2023-09-23 08:00:00    0.997808\n",
      "2023-09-24 08:00:00    0.998616\n",
      "2023-09-25 08:00:00    0.998364\n",
      "2023-09-26 08:00:00    0.998152\n",
      "2023-09-27 08:00:00    0.997679\n",
      "Name: close, Length: 1355, dtype: float64\n",
      "Index(['symbol', 'open', 'high', 'low', 'close', 'volume'], dtype='object')\n",
      "datetime\n",
      "2022-02-02 08:00:00    2.138000\n",
      "2022-02-03 08:00:00    2.160000\n",
      "2022-02-04 08:00:00    2.043000\n",
      "2022-02-05 08:00:00    2.043000\n",
      "2022-02-06 08:00:00    2.035000\n",
      "                         ...   \n",
      "2023-09-23 08:00:00    1.496290\n",
      "2023-09-24 08:00:00    1.464035\n",
      "2023-09-25 08:00:00    1.472030\n",
      "2023-09-26 08:00:00    1.462817\n",
      "2023-09-27 08:00:00    1.469778\n",
      "Name: close, Length: 602, dtype: float64\n",
      "Index(['symbol', 'open', 'high', 'low', 'close', 'volume'], dtype='object')\n",
      "datetime\n",
      "2022-01-12 08:00:00    1.000200\n",
      "2022-01-13 08:00:00    1.000800\n",
      "2022-01-14 08:00:00    1.000800\n",
      "2022-01-15 08:00:00    1.000800\n",
      "2022-01-16 08:00:00    1.000800\n",
      "                         ...   \n",
      "2023-09-23 08:00:00    0.012636\n",
      "2023-09-24 08:00:00    0.012482\n",
      "2023-09-25 08:00:00    0.012560\n",
      "2023-09-26 08:00:00    0.012761\n",
      "2023-09-27 08:00:00    0.012983\n",
      "Name: close, Length: 623, dtype: float64\n",
      "Index(['symbol', 'open', 'high', 'low', 'close', 'volume'], dtype='object')\n"
     ]
    },
    {
     "name": "stderr",
     "output_type": "stream",
     "text": [
      "ERROR:tvDatafeed.main:The read operation timed out\n",
      "ERROR:tvDatafeed.main:no data, please check the exchange and symbol\n"
     ]
    },
    {
     "name": "stdout",
     "output_type": "stream",
     "text": [
      "CRYPTO:EPSUSD\n",
      "datetime\n",
      "2021-04-26 08:00:00    0.9968\n",
      "2021-04-27 08:00:00    0.9999\n",
      "2021-04-28 08:00:00    1.0068\n",
      "2021-04-29 08:00:00    1.0028\n",
      "2021-04-30 08:00:00    1.0047\n",
      "                        ...  \n",
      "2023-09-23 08:00:00    0.9877\n",
      "2023-09-24 08:00:00    0.9883\n",
      "2023-09-25 08:00:00    0.9866\n",
      "2023-09-26 08:00:00    0.9865\n",
      "2023-09-27 08:00:00    0.9845\n",
      "Name: close, Length: 880, dtype: float64\n",
      "Index(['symbol', 'open', 'high', 'low', 'close', 'volume'], dtype='object')\n",
      "datetime\n",
      "2022-06-01 08:00:00    1.235338\n",
      "2022-06-02 08:00:00    1.545207\n",
      "2022-06-03 08:00:00    1.359517\n",
      "2022-06-04 08:00:00    1.392413\n",
      "2022-06-05 08:00:00    1.167136\n",
      "                         ...   \n",
      "2023-09-23 08:00:00    1.297810\n",
      "2023-09-24 08:00:00    1.263010\n",
      "2023-09-25 08:00:00    1.249716\n",
      "2023-09-26 08:00:00    1.288345\n",
      "2023-09-27 08:00:00    1.293313\n",
      "Name: close, Length: 484, dtype: float64\n",
      "Index(['symbol', 'open', 'high', 'low', 'close', 'volume'], dtype='object')\n",
      "datetime\n",
      "2022-05-14 08:00:00    0.000450\n",
      "2022-05-15 08:00:00    0.000219\n",
      "2022-05-16 08:00:00    0.000204\n",
      "2022-05-17 08:00:00    0.000190\n",
      "2022-05-18 08:00:00    0.000150\n",
      "                         ...   \n",
      "2023-09-23 08:00:00    0.000060\n",
      "2023-09-24 08:00:00    0.000061\n",
      "2023-09-25 08:00:00    0.000061\n",
      "2023-09-26 08:00:00    0.000062\n",
      "2023-09-27 08:00:00    0.000063\n",
      "Name: close, Length: 502, dtype: float64\n",
      "Index(['symbol', 'open', 'high', 'low', 'close', 'volume'], dtype='object')\n",
      "datetime\n",
      "2022-04-29 08:00:00    2.0001\n",
      "2022-04-30 08:00:00    1.8715\n",
      "2022-05-01 08:00:00    1.8719\n",
      "2022-05-02 08:00:00    1.8319\n",
      "2022-05-03 08:00:00    1.8062\n",
      "                        ...  \n",
      "2023-09-23 08:00:00    2.2979\n",
      "2023-09-24 08:00:00    2.1859\n",
      "2023-09-25 08:00:00    2.1452\n",
      "2023-09-26 08:00:00    2.1096\n",
      "2023-09-27 08:00:00    2.1280\n",
      "Name: close, Length: 516, dtype: float64\n",
      "Index(['symbol', 'open', 'high', 'low', 'close', 'volume'], dtype='object')\n"
     ]
    },
    {
     "name": "stderr",
     "output_type": "stream",
     "text": [
      "ERROR:tvDatafeed.main:The read operation timed out\n",
      "ERROR:tvDatafeed.main:no data, please check the exchange and symbol\n"
     ]
    },
    {
     "name": "stdout",
     "output_type": "stream",
     "text": [
      "CRYPTO:BNXUSD\n"
     ]
    },
    {
     "name": "stderr",
     "output_type": "stream",
     "text": [
      "ERROR:tvDatafeed.main:The read operation timed out\n",
      "ERROR:tvDatafeed.main:no data, please check the exchange and symbol\n"
     ]
    },
    {
     "name": "stdout",
     "output_type": "stream",
     "text": [
      "CRYPTO:XCNUSD\n"
     ]
    },
    {
     "name": "stderr",
     "output_type": "stream",
     "text": [
      "ERROR:tvDatafeed.main:The read operation timed out\n",
      "ERROR:tvDatafeed.main:no data, please check the exchange and symbol\n"
     ]
    },
    {
     "name": "stdout",
     "output_type": "stream",
     "text": [
      "CRYPTO:APTUSD\n"
     ]
    },
    {
     "name": "stderr",
     "output_type": "stream",
     "text": [
      "ERROR:tvDatafeed.main:The read operation timed out\n",
      "ERROR:tvDatafeed.main:no data, please check the exchange and symbol\n"
     ]
    },
    {
     "name": "stdout",
     "output_type": "stream",
     "text": [
      "CRYPTO:BITUSD\n"
     ]
    },
    {
     "name": "stderr",
     "output_type": "stream",
     "text": [
      "ERROR:tvDatafeed.main:The read operation timed out\n",
      "ERROR:tvDatafeed.main:no data, please check the exchange and symbol\n"
     ]
    },
    {
     "name": "stdout",
     "output_type": "stream",
     "text": [
      "CRYPTO:ETHWUSD\n",
      "datetime\n",
      "2022-04-01 08:00:00    7.979100\n",
      "2022-04-02 08:00:00    8.719000\n",
      "2022-04-03 08:00:00    8.645400\n",
      "2022-04-04 08:00:00    8.408600\n",
      "2022-04-05 08:00:00    7.967800\n",
      "                         ...   \n",
      "2023-09-23 08:00:00    0.323108\n",
      "2023-09-24 08:00:00    0.318851\n",
      "2023-09-25 08:00:00    0.318142\n",
      "2023-09-26 08:00:00    0.315478\n",
      "2023-09-27 08:00:00    0.315735\n",
      "Name: close, Length: 545, dtype: float64\n",
      "Index(['symbol', 'open', 'high', 'low', 'close', 'volume'], dtype='object')\n",
      "datetime\n",
      "2022-03-04 08:00:00    0.154690\n",
      "2022-03-05 08:00:00    0.156290\n",
      "2022-03-06 08:00:00    0.144745\n",
      "2022-03-07 08:00:00    0.136669\n",
      "2022-03-08 08:00:00    0.136141\n",
      "                         ...   \n",
      "2023-09-23 08:00:00    0.018440\n",
      "2023-09-24 08:00:00    0.017880\n",
      "2023-09-25 08:00:00    0.017930\n",
      "2023-09-26 08:00:00    0.017800\n",
      "2023-09-27 08:00:00    0.017950\n",
      "Name: close, Length: 573, dtype: float64\n",
      "Index(['symbol', 'open', 'high', 'low', 'close', 'volume'], dtype='object')\n",
      "datetime\n",
      "2021-12-09 08:00:00    1.56000\n",
      "2021-12-10 08:00:00    1.53000\n",
      "2021-12-11 08:00:00    1.67000\n",
      "2021-12-12 08:00:00    1.70000\n",
      "2021-12-13 08:00:00    1.41000\n",
      "                        ...   \n",
      "2023-09-23 08:00:00    0.16340\n",
      "2023-09-24 08:00:00    0.16392\n",
      "2023-09-25 08:00:00    0.15820\n",
      "2023-09-26 08:00:00    0.16407\n",
      "2023-09-27 08:00:00    0.16383\n",
      "Name: close, Length: 658, dtype: float64\n",
      "Index(['symbol', 'open', 'high', 'low', 'close', 'volume'], dtype='object')\n",
      "datetime\n",
      "2022-04-04 08:00:00    0.230400\n",
      "2022-04-05 08:00:00    0.218400\n",
      "2022-04-06 08:00:00    0.209600\n",
      "2022-04-07 08:00:00    0.236600\n",
      "2022-04-08 08:00:00    0.232900\n",
      "                         ...   \n",
      "2023-09-23 08:00:00    0.051208\n",
      "2023-09-24 08:00:00    0.049957\n",
      "2023-09-25 08:00:00    0.051010\n",
      "2023-09-26 08:00:00    0.048636\n",
      "2023-09-27 08:00:00    0.048203\n",
      "Name: close, Length: 542, dtype: float64\n",
      "Index(['symbol', 'open', 'high', 'low', 'close', 'volume'], dtype='object')\n",
      "datetime\n",
      "2022-03-09 08:00:00    2.495000\n",
      "2022-03-10 08:00:00    2.309000\n",
      "2022-03-11 08:00:00    2.244000\n",
      "2022-03-12 08:00:00    2.553000\n",
      "2022-03-13 08:00:00    2.454000\n",
      "                         ...   \n",
      "2023-09-23 08:00:00    0.302895\n",
      "2023-09-24 08:00:00    0.316939\n",
      "2023-09-25 08:00:00    0.311713\n",
      "2023-09-26 08:00:00    0.309709\n",
      "2023-09-27 08:00:00    0.316414\n",
      "Name: close, Length: 568, dtype: float64\n",
      "Index(['symbol', 'open', 'high', 'low', 'close', 'volume'], dtype='object')\n",
      "datetime\n",
      "2022-04-27 08:00:00    59.58\n",
      "2022-04-28 08:00:00    59.70\n",
      "2022-04-29 08:00:00    54.70\n",
      "2022-04-30 08:00:00    46.77\n",
      "2022-05-01 08:00:00    44.00\n",
      "                       ...  \n",
      "2023-09-23 08:00:00    13.35\n",
      "2023-09-24 08:00:00    13.29\n",
      "2023-09-25 08:00:00    14.44\n",
      "2023-09-26 08:00:00    13.98\n",
      "2023-09-27 08:00:00    13.62\n",
      "Name: close, Length: 517, dtype: float64\n",
      "Index(['symbol', 'open', 'high', 'low', 'close', 'volume'], dtype='object')\n",
      "datetime\n",
      "2022-01-11 08:00:00    2.73970\n",
      "2022-01-12 08:00:00    3.63660\n",
      "2022-01-13 08:00:00    3.99990\n",
      "2022-01-14 08:00:00    3.43640\n",
      "2022-01-15 08:00:00    3.72620\n",
      "                        ...   \n",
      "2023-09-23 08:00:00    0.05215\n",
      "2023-09-24 08:00:00    0.05154\n",
      "2023-09-25 08:00:00    0.05177\n",
      "2023-09-26 08:00:00    0.05107\n",
      "2023-09-27 08:00:00    0.05136\n",
      "Name: close, Length: 625, dtype: float64\n",
      "Index(['symbol', 'open', 'high', 'low', 'close', 'volume'], dtype='object')\n",
      "datetime\n",
      "2021-10-22 08:00:00    13.965561\n",
      "2021-10-23 08:00:00    14.734369\n",
      "2021-10-24 08:00:00    12.966438\n",
      "2021-10-25 08:00:00    13.891955\n",
      "2021-10-26 08:00:00    12.154301\n",
      "                         ...    \n",
      "2023-09-23 08:00:00    15.830450\n",
      "2023-09-24 08:00:00    15.776629\n",
      "2023-09-25 08:00:00    15.733224\n",
      "2023-09-26 08:00:00    16.168726\n",
      "2023-09-27 08:00:00    16.272843\n",
      "Name: close, Length: 706, dtype: float64\n",
      "Index(['symbol', 'open', 'high', 'low', 'close', 'volume'], dtype='object')\n",
      "datetime\n",
      "2022-10-05 08:00:00    50.851338\n",
      "2022-10-06 08:00:00    44.261654\n",
      "2022-10-07 08:00:00    43.147867\n",
      "2022-10-08 08:00:00    44.369399\n",
      "2022-10-09 08:00:00    45.132402\n",
      "                         ...    \n",
      "2023-09-23 08:00:00    34.093572\n",
      "2023-09-24 08:00:00    33.465615\n",
      "2023-09-25 08:00:00    34.701853\n",
      "2023-09-26 08:00:00    35.424771\n",
      "2023-09-27 08:00:00    35.914012\n",
      "Name: close, Length: 358, dtype: float64\n",
      "Index(['symbol', 'open', 'high', 'low', 'close', 'volume'], dtype='object')\n",
      "datetime\n",
      "2021-11-15 08:00:00    13.291500\n",
      "2021-11-16 08:00:00    11.799500\n",
      "2021-11-17 08:00:00    12.008000\n",
      "2021-11-18 08:00:00    10.373000\n",
      "2021-11-19 08:00:00    11.164500\n",
      "                         ...    \n",
      "2023-09-23 08:00:00     2.677976\n",
      "2023-09-24 08:00:00     2.586242\n",
      "2023-09-25 08:00:00     2.607491\n",
      "2023-09-26 08:00:00     2.579826\n",
      "2023-09-27 08:00:00     2.583853\n",
      "Name: close, Length: 682, dtype: float64\n",
      "Index(['symbol', 'open', 'high', 'low', 'close', 'volume'], dtype='object')\n",
      "datetime\n",
      "2022-06-20 08:00:00    0.4100\n",
      "2022-06-21 08:00:00    0.4538\n",
      "2022-06-22 08:00:00    0.4352\n",
      "2022-06-23 08:00:00    0.4651\n",
      "2022-06-24 08:00:00    0.5266\n",
      "                        ...  \n",
      "2023-09-23 08:00:00    0.8001\n",
      "2023-09-24 08:00:00    0.7824\n",
      "2023-09-25 08:00:00    0.8260\n",
      "2023-09-26 08:00:00    0.9267\n",
      "2023-09-27 08:00:00    0.8866\n",
      "Name: close, Length: 442, dtype: float64\n",
      "Index(['symbol', 'open', 'high', 'low', 'close', 'volume'], dtype='object')\n",
      "datetime\n",
      "2022-04-29 08:00:00    4.403356\n",
      "2022-04-30 08:00:00    4.447019\n",
      "2022-05-01 08:00:00    4.071110\n",
      "2022-05-02 08:00:00    3.657684\n",
      "2022-05-03 08:00:00    3.398985\n",
      "                         ...   \n",
      "2023-09-23 08:00:00    0.531592\n",
      "2023-09-24 08:00:00    0.522386\n",
      "2023-09-25 08:00:00    0.523568\n",
      "2023-09-26 08:00:00    0.516888\n",
      "2023-09-27 08:00:00    0.488491\n",
      "Name: close, Length: 517, dtype: float64\n",
      "Index(['symbol', 'open', 'high', 'low', 'close', 'volume'], dtype='object')\n",
      "datetime\n",
      "2021-02-07 08:00:00    0.973934\n",
      "2021-02-08 08:00:00    1.289860\n",
      "2021-02-09 08:00:00    3.469920\n",
      "2021-02-10 08:00:00    2.478478\n",
      "2021-02-11 08:00:00    2.674334\n",
      "                         ...   \n",
      "2023-09-23 08:00:00    0.582642\n",
      "2023-09-24 08:00:00    0.549703\n",
      "2023-09-25 08:00:00    0.565376\n",
      "2023-09-26 08:00:00    0.561862\n",
      "2023-09-27 08:00:00    0.568517\n",
      "Name: close, Length: 963, dtype: float64\n",
      "Index(['symbol', 'open', 'high', 'low', 'close', 'volume'], dtype='object')\n",
      "datetime\n",
      "2022-02-15 08:00:00    5.033300\n",
      "2022-02-16 08:00:00    5.901500\n",
      "2022-02-17 08:00:00    5.176700\n",
      "2022-02-18 08:00:00    5.470000\n",
      "2022-02-19 08:00:00    6.027100\n",
      "                         ...   \n",
      "2023-09-23 08:00:00    0.471610\n",
      "2023-09-24 08:00:00    0.455723\n",
      "2023-09-25 08:00:00    0.469148\n",
      "2023-09-26 08:00:00    0.483590\n",
      "2023-09-27 08:00:00    0.494876\n",
      "Name: close, Length: 590, dtype: float64\n",
      "Index(['symbol', 'open', 'high', 'low', 'close', 'volume'], dtype='object')\n",
      "datetime\n",
      "2021-09-01 08:00:00    14.450000\n",
      "2021-09-02 08:00:00    13.390000\n",
      "2021-09-03 08:00:00    12.450000\n",
      "2021-09-04 08:00:00    12.590000\n",
      "2021-09-05 08:00:00    12.290000\n",
      "                         ...    \n",
      "2023-09-23 08:00:00     1.343121\n",
      "2023-09-24 08:00:00     1.317326\n",
      "2023-09-25 08:00:00     1.319009\n",
      "2023-09-26 08:00:00     1.315892\n",
      "2023-09-27 08:00:00     1.310138\n",
      "Name: close, Length: 719, dtype: float64\n",
      "Index(['symbol', 'open', 'high', 'low', 'close', 'volume'], dtype='object')\n",
      "datetime\n",
      "2022-03-18 08:00:00    0.208370\n",
      "2022-03-19 08:00:00    0.223380\n",
      "2022-03-20 08:00:00    0.207030\n",
      "2022-03-21 08:00:00    0.216660\n",
      "2022-03-22 08:00:00    0.219910\n",
      "                         ...   \n",
      "2023-09-23 08:00:00    0.053029\n",
      "2023-09-24 08:00:00    0.052052\n",
      "2023-09-25 08:00:00    0.051600\n",
      "2023-09-26 08:00:00    0.051329\n",
      "2023-09-27 08:00:00    0.050888\n",
      "Name: close, Length: 559, dtype: float64\n",
      "Index(['symbol', 'open', 'high', 'low', 'close', 'volume'], dtype='object')\n",
      "datetime\n",
      "2022-12-01 08:00:00    2.545642\n",
      "2022-12-02 08:00:00    2.477827\n",
      "2022-12-03 08:00:00    2.197768\n",
      "2022-12-04 08:00:00    2.249701\n",
      "2022-12-05 08:00:00    2.258751\n",
      "                         ...   \n",
      "2023-09-23 08:00:00    0.882585\n",
      "2023-09-24 08:00:00    0.871946\n",
      "2023-09-25 08:00:00    0.857494\n",
      "2023-09-26 08:00:00    0.840948\n",
      "2023-09-27 08:00:00    0.860882\n",
      "Name: close, Length: 301, dtype: float64\n",
      "Index(['symbol', 'open', 'high', 'low', 'close', 'volume'], dtype='object')\n",
      "datetime\n",
      "2021-12-02 08:00:00    9.321600\n",
      "2021-12-03 08:00:00    8.588600\n",
      "2021-12-04 08:00:00    7.391000\n",
      "2021-12-05 08:00:00    6.229400\n",
      "2021-12-06 08:00:00    6.089100\n",
      "                         ...   \n",
      "2023-09-23 08:00:00    0.342260\n",
      "2023-09-24 08:00:00    0.318551\n",
      "2023-09-25 08:00:00    0.345235\n",
      "2023-09-26 08:00:00    0.335025\n",
      "2023-09-27 08:00:00    0.355438\n",
      "Name: close, Length: 665, dtype: float64\n",
      "Index(['symbol', 'open', 'high', 'low', 'close', 'volume'], dtype='object')\n",
      "datetime\n",
      "2023-01-10 08:00:00    0.04154\n",
      "2023-01-11 08:00:00    0.04544\n",
      "2023-01-12 08:00:00    0.04407\n",
      "2023-01-13 08:00:00    0.04279\n",
      "2023-01-14 08:00:00    0.04331\n",
      "                        ...   \n",
      "2023-09-23 08:00:00    0.01104\n",
      "2023-09-24 08:00:00    0.01104\n",
      "2023-09-25 08:00:00    0.01097\n",
      "2023-09-26 08:00:00    0.01092\n",
      "2023-09-27 08:00:00    0.01097\n",
      "Name: close, Length: 261, dtype: float64\n",
      "Index(['symbol', 'open', 'high', 'low', 'close', 'volume'], dtype='object')\n",
      "datetime\n",
      "2022-12-16 08:00:00    0.000009\n",
      "2022-12-17 08:00:00    0.000009\n",
      "2022-12-18 08:00:00    0.000009\n",
      "2022-12-19 08:00:00    0.000009\n",
      "2022-12-20 08:00:00    0.000009\n",
      "                         ...   \n",
      "2023-09-23 08:00:00    0.000016\n",
      "2023-09-24 08:00:00    0.000015\n",
      "2023-09-25 08:00:00    0.000016\n",
      "2023-09-26 08:00:00    0.000016\n",
      "2023-09-27 08:00:00    0.000016\n",
      "Name: close, Length: 285, dtype: float64\n",
      "Index(['symbol', 'open', 'high', 'low', 'close', 'volume'], dtype='object')\n",
      "datetime\n",
      "2023-02-14 08:00:00    0.658000\n",
      "2023-02-15 08:00:00    0.943700\n",
      "2023-02-16 08:00:00    0.891180\n",
      "2023-02-17 08:00:00    0.979400\n",
      "2023-02-18 08:00:00    1.176400\n",
      "                         ...   \n",
      "2023-09-23 08:00:00    0.179520\n",
      "2023-09-24 08:00:00    0.172834\n",
      "2023-09-25 08:00:00    0.174125\n",
      "2023-09-26 08:00:00    0.170595\n",
      "2023-09-27 08:00:00    0.169901\n",
      "Name: close, Length: 226, dtype: float64\n",
      "Index(['symbol', 'open', 'high', 'low', 'close', 'volume'], dtype='object')\n",
      "datetime\n",
      "2022-01-13 08:00:00    6.490000\n",
      "2022-01-14 08:00:00    6.130000\n",
      "2022-01-15 08:00:00    5.740000\n",
      "2022-01-16 08:00:00    5.830000\n",
      "2022-01-17 08:00:00    5.650000\n",
      "                         ...   \n",
      "2023-09-23 08:00:00    0.841244\n",
      "2023-09-24 08:00:00    0.825683\n",
      "2023-09-25 08:00:00    0.846780\n",
      "2023-09-26 08:00:00    0.887022\n",
      "2023-09-27 08:00:00    0.902229\n",
      "Name: close, Length: 623, dtype: float64\n",
      "Index(['symbol', 'open', 'high', 'low', 'close', 'volume'], dtype='object')\n",
      "datetime\n",
      "2021-08-03 08:00:00    0.023400\n",
      "2021-08-04 08:00:00    0.026985\n",
      "2021-08-05 08:00:00    0.070000\n",
      "2021-08-06 08:00:00    0.155802\n",
      "2021-08-07 08:00:00    0.097000\n",
      "                         ...   \n",
      "2023-09-23 08:00:00    0.015443\n",
      "2023-09-24 08:00:00    0.015044\n",
      "2023-09-25 08:00:00    0.015427\n",
      "2023-09-26 08:00:00    0.015934\n",
      "2023-09-27 08:00:00    0.015710\n",
      "Name: close, Length: 786, dtype: float64\n",
      "Index(['symbol', 'open', 'high', 'low', 'close', 'volume'], dtype='object')\n",
      "datetime\n",
      "2022-08-04 08:00:00    0.423200\n",
      "2022-08-05 08:00:00    0.410500\n",
      "2022-08-06 08:00:00    0.387500\n",
      "2022-08-07 08:00:00    0.399000\n",
      "2022-08-08 08:00:00    0.391500\n",
      "                         ...   \n",
      "2023-09-23 08:00:00    0.456258\n",
      "2023-09-24 08:00:00    0.452097\n",
      "2023-09-25 08:00:00    0.463043\n",
      "2023-09-26 08:00:00    0.451635\n",
      "2023-09-27 08:00:00    0.453104\n",
      "Name: close, Length: 420, dtype: float64\n",
      "Index(['symbol', 'open', 'high', 'low', 'close', 'volume'], dtype='object')\n",
      "datetime\n",
      "2020-12-03 08:00:00    3706.540\n",
      "2020-12-04 08:00:00    3980.527\n",
      "2020-12-05 08:00:00    4188.405\n",
      "2020-12-06 08:00:00    4450.000\n",
      "2020-12-07 08:00:00    2900.000\n",
      "                         ...   \n",
      "2023-09-23 08:00:00    5260.510\n",
      "2023-09-24 08:00:00    5198.580\n",
      "2023-09-25 08:00:00    5244.880\n",
      "2023-09-26 08:00:00    5253.230\n",
      "2023-09-27 08:00:00    5267.010\n",
      "Name: close, Length: 1012, dtype: float64\n",
      "Index(['symbol', 'open', 'high', 'low', 'close', 'volume'], dtype='object')\n",
      "datetime\n",
      "2022-02-15 08:00:00    3.166800e-07\n",
      "2022-02-16 08:00:00    3.390000e-07\n",
      "2022-02-17 08:00:00    4.833000e-07\n",
      "2022-02-18 08:00:00    4.568300e-07\n",
      "2022-02-19 08:00:00    4.326600e-07\n",
      "                           ...     \n",
      "2023-09-23 08:00:00    1.588000e-07\n",
      "2023-09-24 08:00:00    1.577200e-07\n",
      "2023-09-25 08:00:00    1.558300e-07\n",
      "2023-09-26 08:00:00    1.552700e-07\n",
      "2023-09-27 08:00:00    1.540100e-07\n",
      "Name: close, Length: 590, dtype: float64\n",
      "Index(['symbol', 'open', 'high', 'low', 'close', 'volume'], dtype='object')\n",
      "datetime\n",
      "2022-10-25 08:00:00    0.848100\n",
      "2022-10-26 08:00:00    0.878800\n",
      "2022-10-27 08:00:00    0.856000\n",
      "2022-10-28 08:00:00    0.853400\n",
      "2022-10-29 08:00:00    0.834300\n",
      "                         ...   \n",
      "2023-09-23 08:00:00    0.336009\n",
      "2023-09-24 08:00:00    0.332600\n",
      "2023-09-25 08:00:00    0.331825\n",
      "2023-09-26 08:00:00    0.338784\n",
      "2023-09-27 08:00:00    0.339769\n",
      "Name: close, Length: 338, dtype: float64\n",
      "Index(['symbol', 'open', 'high', 'low', 'close', 'volume'], dtype='object')\n",
      "datetime\n",
      "2022-08-05 08:00:00    10.4397\n",
      "2022-08-06 08:00:00    10.0239\n",
      "2022-08-07 08:00:00    10.1156\n",
      "2022-08-08 08:00:00    10.1022\n",
      "2022-08-09 08:00:00     9.5970\n",
      "                        ...   \n",
      "2023-09-23 08:00:00     0.6319\n",
      "2023-09-24 08:00:00     0.6192\n",
      "2023-09-25 08:00:00     0.6180\n",
      "2023-09-26 08:00:00     0.6178\n",
      "2023-09-27 08:00:00     0.6003\n",
      "Name: close, Length: 417, dtype: float64\n",
      "Index(['symbol', 'open', 'high', 'low', 'close', 'volume'], dtype='object')\n",
      "datetime\n",
      "2023-03-22 08:00:00    0.408422\n",
      "2023-03-23 08:00:00    0.529137\n",
      "2023-03-24 08:00:00    0.530617\n",
      "2023-03-25 08:00:00    0.473747\n",
      "2023-03-26 08:00:00    0.487774\n",
      "                         ...   \n",
      "2023-09-23 08:00:00    0.196486\n",
      "2023-09-24 08:00:00    0.195455\n",
      "2023-09-25 08:00:00    0.197508\n",
      "2023-09-26 08:00:00    0.195303\n",
      "2023-09-27 08:00:00    0.195033\n",
      "Name: close, Length: 190, dtype: float64\n",
      "Index(['symbol', 'open', 'high', 'low', 'close', 'volume'], dtype='object')\n",
      "datetime\n",
      "2022-04-06 08:00:00    18.296112\n",
      "2022-04-07 08:00:00    15.394198\n",
      "2022-04-08 08:00:00    14.963171\n",
      "2022-04-09 08:00:00    14.374261\n",
      "2022-04-10 08:00:00    13.399156\n",
      "                         ...    \n",
      "2023-09-23 08:00:00     2.692885\n",
      "2023-09-24 08:00:00     2.594333\n",
      "2023-09-25 08:00:00     2.626174\n",
      "2023-09-26 08:00:00     2.601018\n",
      "2023-09-27 08:00:00     2.432199\n",
      "Name: close, Length: 540, dtype: float64\n",
      "Index(['symbol', 'open', 'high', 'low', 'close', 'volume'], dtype='object')\n",
      "datetime\n",
      "2022-05-05 08:00:00    17.439861\n",
      "2022-05-06 08:00:00    13.108865\n",
      "2022-05-07 08:00:00    10.365906\n",
      "2022-05-08 08:00:00     9.979215\n",
      "2022-05-09 08:00:00     6.913893\n",
      "                         ...    \n",
      "2023-09-23 08:00:00     1.321298\n",
      "2023-09-24 08:00:00     1.293857\n",
      "2023-09-25 08:00:00     1.343915\n",
      "2023-09-26 08:00:00     1.355213\n",
      "2023-09-27 08:00:00     1.353969\n",
      "Name: close, Length: 511, dtype: float64\n",
      "Index(['symbol', 'open', 'high', 'low', 'close', 'volume'], dtype='object')\n"
     ]
    },
    {
     "name": "stderr",
     "output_type": "stream",
     "text": [
      "ERROR:tvDatafeed.main:The read operation timed out\n",
      "ERROR:tvDatafeed.main:no data, please check the exchange and symbol\n"
     ]
    },
    {
     "name": "stdout",
     "output_type": "stream",
     "text": [
      "CRYPTO:LNUSD\n"
     ]
    },
    {
     "name": "stderr",
     "output_type": "stream",
     "text": [
      "ERROR:tvDatafeed.main:The read operation timed out\n",
      "ERROR:tvDatafeed.main:no data, please check the exchange and symbol\n"
     ]
    },
    {
     "name": "stdout",
     "output_type": "stream",
     "text": [
      "CRYPTO:COCOSUSD\n",
      "datetime\n",
      "2023-05-03 08:00:00    1.406069\n",
      "2023-05-04 08:00:00    1.330499\n",
      "2023-05-05 08:00:00    1.309616\n",
      "2023-05-06 08:00:00    1.336090\n",
      "2023-05-07 08:00:00    1.239542\n",
      "                         ...   \n",
      "2023-09-23 08:00:00    0.445380\n",
      "2023-09-24 08:00:00    0.438392\n",
      "2023-09-25 08:00:00    0.442458\n",
      "2023-09-26 08:00:00    0.438275\n",
      "2023-09-27 08:00:00    0.440180\n",
      "Name: close, Length: 148, dtype: float64\n",
      "Index(['symbol', 'open', 'high', 'low', 'close', 'volume'], dtype='object')\n",
      "datetime\n",
      "2023-04-19 08:00:00    2.670340e-07\n",
      "2023-04-20 08:00:00    2.959790e-07\n",
      "2023-04-21 08:00:00    2.002240e-07\n",
      "2023-04-22 08:00:00    2.824650e-07\n",
      "2023-04-23 08:00:00    3.230730e-07\n",
      "                           ...     \n",
      "2023-09-23 08:00:00    6.777000e-07\n",
      "2023-09-24 08:00:00    6.750000e-07\n",
      "2023-09-25 08:00:00    7.102000e-07\n",
      "2023-09-26 08:00:00    6.969000e-07\n",
      "2023-09-27 08:00:00    7.186000e-07\n",
      "Name: close, Length: 162, dtype: float64\n",
      "Index(['symbol', 'open', 'high', 'low', 'close', 'volume'], dtype='object')\n"
     ]
    },
    {
     "name": "stderr",
     "output_type": "stream",
     "text": [
      "ERROR:tvDatafeed.main:The read operation timed out\n",
      "ERROR:tvDatafeed.main:no data, please check the exchange and symbol\n"
     ]
    },
    {
     "name": "stdout",
     "output_type": "stream",
     "text": [
      "CRYPTO:ARAWUSD\n"
     ]
    },
    {
     "name": "stderr",
     "output_type": "stream",
     "text": [
      "ERROR:tvDatafeed.main:The read operation timed out\n",
      "ERROR:tvDatafeed.main:no data, please check the exchange and symbol\n"
     ]
    },
    {
     "name": "stdout",
     "output_type": "stream",
     "text": [
      "CRYPTO:ESCEUSD\n"
     ]
    },
    {
     "name": "stderr",
     "output_type": "stream",
     "text": [
      "ERROR:tvDatafeed.main:The read operation timed out\n",
      "ERROR:tvDatafeed.main:no data, please check the exchange and symbol\n"
     ]
    },
    {
     "name": "stdout",
     "output_type": "stream",
     "text": [
      "CRYPTO:CNNCUSD\n"
     ]
    },
    {
     "name": "stderr",
     "output_type": "stream",
     "text": [
      "ERROR:tvDatafeed.main:The read operation timed out\n",
      "ERROR:tvDatafeed.main:no data, please check the exchange and symbol\n"
     ]
    },
    {
     "name": "stdout",
     "output_type": "stream",
     "text": [
      "CRYPTO:EDUUSD\n",
      "datetime\n",
      "2021-05-04 08:00:00    1781.5346\n",
      "2021-05-05 08:00:00    1785.3838\n",
      "2021-05-06 08:00:00    1815.8415\n",
      "2021-05-07 08:00:00    1832.3819\n",
      "2021-05-08 08:00:00    1836.3912\n",
      "                         ...    \n",
      "2023-09-23 08:00:00    1926.7300\n",
      "2023-09-24 08:00:00    1926.1800\n",
      "2023-09-25 08:00:00    1914.8600\n",
      "2023-09-26 08:00:00    1904.4300\n",
      "2023-09-27 08:00:00    1897.5700\n",
      "Name: close, Length: 873, dtype: float64\n",
      "Index(['symbol', 'open', 'high', 'low', 'close', 'volume'], dtype='object')\n"
     ]
    },
    {
     "name": "stderr",
     "output_type": "stream",
     "text": [
      "ERROR:tvDatafeed.main:The read operation timed out\n",
      "ERROR:tvDatafeed.main:no data, please check the exchange and symbol\n"
     ]
    },
    {
     "name": "stdout",
     "output_type": "stream",
     "text": [
      "CRYPTO:CNTUSD\n",
      "datetime\n",
      "2021-05-19 08:00:00    0.2776\n",
      "2021-05-20 08:00:00    0.2352\n",
      "2021-05-21 08:00:00    0.2142\n",
      "2021-05-22 08:00:00    0.2091\n",
      "2021-05-23 08:00:00    0.1669\n",
      "                        ...  \n",
      "2023-09-23 08:00:00    0.1973\n",
      "2023-09-24 08:00:00    0.1907\n",
      "2023-09-25 08:00:00    0.1947\n",
      "2023-09-26 08:00:00    0.1936\n",
      "2023-09-27 08:00:00    0.1895\n",
      "Name: close, Length: 862, dtype: float64\n",
      "Index(['symbol', 'open', 'high', 'low', 'close', 'volume'], dtype='object')\n",
      "datetime\n",
      "2020-08-06 08:00:00    0.20182\n",
      "2020-08-07 08:00:00    0.20168\n",
      "2020-08-08 08:00:00    0.20309\n",
      "2020-08-09 08:00:00    0.20105\n",
      "2020-08-10 08:00:00    0.21813\n",
      "                        ...   \n",
      "2023-09-23 08:00:00    0.25687\n",
      "2023-09-24 08:00:00    0.25548\n",
      "2023-09-25 08:00:00    0.25894\n",
      "2023-09-26 08:00:00    0.25615\n",
      "2023-09-27 08:00:00    0.25586\n",
      "Name: close, Length: 1148, dtype: float64\n",
      "Index(['symbol', 'open', 'high', 'low', 'close', 'volume'], dtype='object')\n",
      "datetime\n",
      "2021-07-14 08:00:00    0.7042\n",
      "2021-07-15 08:00:00    0.6719\n",
      "2021-07-16 08:00:00    0.7842\n",
      "2021-07-17 08:00:00    0.8486\n",
      "2021-07-18 08:00:00    0.7933\n",
      "                        ...  \n",
      "2023-09-23 08:00:00    0.2822\n",
      "2023-09-24 08:00:00    0.2976\n",
      "2023-09-25 08:00:00    0.2940\n",
      "2023-09-26 08:00:00    0.3093\n",
      "2023-09-27 08:00:00    0.3013\n",
      "Name: close, Length: 805, dtype: float64\n",
      "Index(['symbol', 'open', 'high', 'low', 'close', 'volume'], dtype='object')\n",
      "datetime\n",
      "2023-07-19 08:00:00    0.576702\n",
      "2023-07-20 08:00:00    0.596918\n",
      "2023-07-21 08:00:00    0.589440\n",
      "2023-07-22 08:00:00    0.573758\n",
      "2023-07-23 08:00:00    0.580233\n",
      "                         ...   \n",
      "2023-09-23 08:00:00    0.391218\n",
      "2023-09-24 08:00:00    0.395995\n",
      "2023-09-25 08:00:00    0.391832\n",
      "2023-09-26 08:00:00    0.389751\n",
      "2023-09-27 08:00:00    0.391450\n",
      "Name: close, Length: 71, dtype: float64\n",
      "Index(['symbol', 'open', 'high', 'low', 'close', 'volume'], dtype='object')\n"
     ]
    },
    {
     "name": "stderr",
     "output_type": "stream",
     "text": [
      "ERROR:tvDatafeed.main:The read operation timed out\n",
      "ERROR:tvDatafeed.main:no data, please check the exchange and symbol\n"
     ]
    },
    {
     "name": "stdout",
     "output_type": "stream",
     "text": [
      "CRYPTO:WLDUSD\n",
      "datetime\n",
      "2023-07-21 08:00:00     83.705000\n",
      "2023-07-22 08:00:00     97.561000\n",
      "2023-07-23 08:00:00    154.419000\n",
      "2023-07-24 08:00:00    129.148000\n",
      "2023-07-25 08:00:00    116.704000\n",
      "                          ...    \n",
      "2023-09-23 08:00:00     56.156859\n",
      "2023-09-24 08:00:00     54.348884\n",
      "2023-09-25 08:00:00     51.306325\n",
      "2023-09-26 08:00:00     52.629360\n",
      "2023-09-27 08:00:00     55.226596\n",
      "Name: close, Length: 69, dtype: float64\n",
      "Index(['symbol', 'open', 'high', 'low', 'close', 'volume'], dtype='object')\n",
      "datetime\n",
      "2022-10-17 08:00:00    0.329606\n",
      "2022-10-18 08:00:00    0.256726\n",
      "2022-10-19 08:00:00    0.211720\n",
      "2022-10-20 08:00:00    0.204726\n",
      "2022-10-21 08:00:00    0.202786\n",
      "                         ...   \n",
      "2023-09-23 08:00:00    0.116436\n",
      "2023-09-24 08:00:00    0.117671\n",
      "2023-09-25 08:00:00    0.117330\n",
      "2023-09-26 08:00:00    0.115618\n",
      "2023-09-27 08:00:00    0.115616\n",
      "Name: close, Length: 346, dtype: float64\n",
      "Index(['symbol', 'open', 'high', 'low', 'close', 'volume'], dtype='object')\n",
      "datetime\n",
      "2022-05-05 08:00:00    0.83220\n",
      "2022-05-06 08:00:00    0.75850\n",
      "2022-05-07 08:00:00    0.74650\n",
      "2022-05-08 08:00:00    0.73200\n",
      "2022-05-09 08:00:00    0.56460\n",
      "                        ...   \n",
      "2023-09-23 08:00:00    0.11240\n",
      "2023-09-24 08:00:00    0.11280\n",
      "2023-09-25 08:00:00    0.11340\n",
      "2023-09-26 08:00:00    0.11340\n",
      "2023-09-27 08:00:00    0.11236\n",
      "Name: close, Length: 511, dtype: float64\n",
      "Index(['symbol', 'open', 'high', 'low', 'close', 'volume'], dtype='object')\n"
     ]
    }
   ],
   "source": [
    "i = 0\n",
    "for index, row in input.iterrows():\n",
    "    if i == 0:\n",
    "        result_df = tv.get_hist(symbol=row['Symbol'], \n",
    "                                exchange=row['Exchange'], \n",
    "                                interval=intervalMap[row['Interval']], \n",
    "                                n_bars=row['n_bar'])\n",
    "        result_df.index = pd.to_datetime(result_df.index.date)\n",
    "        result_df = result_df['close']\n",
    "        result_df.name = row['Symbol']\n",
    "    else:\n",
    "        try:\n",
    "            tempDf = tv.get_hist(symbol=row['Symbol'], \n",
    "                                 exchange=row['Exchange'], \n",
    "                                 interval=intervalMap[row['Interval']], \n",
    "                                 n_bars=row['n_bar'])\n",
    "            print(tempDf.close)\n",
    "            print(tempDf.columns)\n",
    "            tempDf.index = pd.to_datetime(tempDf.index.date)\n",
    "            tempDf = tempDf['close']\n",
    "            tempDf.name = row['Symbol']\n",
    "            result_df = pd.merge(result_df, tempDf, left_index=True, right_index=True, how=\"outer\")\n",
    "        except:\n",
    "            print(row[\"Symbol\"])\n",
    "    i += 1\n",
    "    time.sleep(1)\n"
   ]
  },
  {
   "cell_type": "code",
   "execution_count": 12,
   "metadata": {},
   "outputs": [
    {
     "data": {
      "text/html": [
       "<div>\n",
       "<style scoped>\n",
       "    .dataframe tbody tr th:only-of-type {\n",
       "        vertical-align: middle;\n",
       "    }\n",
       "\n",
       "    .dataframe tbody tr th {\n",
       "        vertical-align: top;\n",
       "    }\n",
       "\n",
       "    .dataframe thead th {\n",
       "        text-align: right;\n",
       "    }\n",
       "</style>\n",
       "<table border=\"1\" class=\"dataframe\">\n",
       "  <thead>\n",
       "    <tr style=\"text-align: right;\">\n",
       "      <th></th>\n",
       "      <th>CRYPTO:BTCUSD</th>\n",
       "      <th>CRYPTO:XRPUSD</th>\n",
       "      <th>CRYPTO:ETHUSD</th>\n",
       "      <th>CRYPTO:BCHUSD</th>\n",
       "      <th>CRYPTO:ADAUSD</th>\n",
       "      <th>CRYPTO:LTCUSD</th>\n",
       "      <th>CRYPTO:MIOTAUSD</th>\n",
       "      <th>CRYPTO:XEMUSD</th>\n",
       "      <th>CRYPTO:DASHUSD</th>\n",
       "      <th>CRYPTO:XLMUSD</th>\n",
       "      <th>...</th>\n",
       "      <th>CRYPTO:SUIUSD</th>\n",
       "      <th>CRYPTO:PEPEUSD</th>\n",
       "      <th>CRYPTO:XAUTUSD</th>\n",
       "      <th>CRYPTO:WILDUSD</th>\n",
       "      <th>CRYPTO:MLKUSD</th>\n",
       "      <th>CRYPTO:CFGUSD</th>\n",
       "      <th>CRYPTO:MNTUSD</th>\n",
       "      <th>CRYPTO:UNIBOTUSD</th>\n",
       "      <th>CRYPTO:POLYXUSD</th>\n",
       "      <th>CRYPTO:NYMUSD</th>\n",
       "    </tr>\n",
       "    <tr>\n",
       "      <th>Date</th>\n",
       "      <th></th>\n",
       "      <th></th>\n",
       "      <th></th>\n",
       "      <th></th>\n",
       "      <th></th>\n",
       "      <th></th>\n",
       "      <th></th>\n",
       "      <th></th>\n",
       "      <th></th>\n",
       "      <th></th>\n",
       "      <th></th>\n",
       "      <th></th>\n",
       "      <th></th>\n",
       "      <th></th>\n",
       "      <th></th>\n",
       "      <th></th>\n",
       "      <th></th>\n",
       "      <th></th>\n",
       "      <th></th>\n",
       "      <th></th>\n",
       "      <th></th>\n",
       "    </tr>\n",
       "  </thead>\n",
       "  <tbody>\n",
       "    <tr>\n",
       "      <th>2007-06-04</th>\n",
       "      <td>NaN</td>\n",
       "      <td>NaN</td>\n",
       "      <td>NaN</td>\n",
       "      <td>NaN</td>\n",
       "      <td>NaN</td>\n",
       "      <td>NaN</td>\n",
       "      <td>NaN</td>\n",
       "      <td>NaN</td>\n",
       "      <td>NaN</td>\n",
       "      <td>NaN</td>\n",
       "      <td>...</td>\n",
       "      <td>NaN</td>\n",
       "      <td>NaN</td>\n",
       "      <td>NaN</td>\n",
       "      <td>NaN</td>\n",
       "      <td>NaN</td>\n",
       "      <td>NaN</td>\n",
       "      <td>NaN</td>\n",
       "      <td>NaN</td>\n",
       "      <td>NaN</td>\n",
       "      <td>NaN</td>\n",
       "    </tr>\n",
       "    <tr>\n",
       "      <th>2007-06-05</th>\n",
       "      <td>NaN</td>\n",
       "      <td>NaN</td>\n",
       "      <td>NaN</td>\n",
       "      <td>NaN</td>\n",
       "      <td>NaN</td>\n",
       "      <td>NaN</td>\n",
       "      <td>NaN</td>\n",
       "      <td>NaN</td>\n",
       "      <td>NaN</td>\n",
       "      <td>NaN</td>\n",
       "      <td>...</td>\n",
       "      <td>NaN</td>\n",
       "      <td>NaN</td>\n",
       "      <td>NaN</td>\n",
       "      <td>NaN</td>\n",
       "      <td>NaN</td>\n",
       "      <td>NaN</td>\n",
       "      <td>NaN</td>\n",
       "      <td>NaN</td>\n",
       "      <td>NaN</td>\n",
       "      <td>NaN</td>\n",
       "    </tr>\n",
       "    <tr>\n",
       "      <th>2007-06-06</th>\n",
       "      <td>NaN</td>\n",
       "      <td>NaN</td>\n",
       "      <td>NaN</td>\n",
       "      <td>NaN</td>\n",
       "      <td>NaN</td>\n",
       "      <td>NaN</td>\n",
       "      <td>NaN</td>\n",
       "      <td>NaN</td>\n",
       "      <td>NaN</td>\n",
       "      <td>NaN</td>\n",
       "      <td>...</td>\n",
       "      <td>NaN</td>\n",
       "      <td>NaN</td>\n",
       "      <td>NaN</td>\n",
       "      <td>NaN</td>\n",
       "      <td>NaN</td>\n",
       "      <td>NaN</td>\n",
       "      <td>NaN</td>\n",
       "      <td>NaN</td>\n",
       "      <td>NaN</td>\n",
       "      <td>NaN</td>\n",
       "    </tr>\n",
       "    <tr>\n",
       "      <th>2007-06-07</th>\n",
       "      <td>NaN</td>\n",
       "      <td>NaN</td>\n",
       "      <td>NaN</td>\n",
       "      <td>NaN</td>\n",
       "      <td>NaN</td>\n",
       "      <td>NaN</td>\n",
       "      <td>NaN</td>\n",
       "      <td>NaN</td>\n",
       "      <td>NaN</td>\n",
       "      <td>NaN</td>\n",
       "      <td>...</td>\n",
       "      <td>NaN</td>\n",
       "      <td>NaN</td>\n",
       "      <td>NaN</td>\n",
       "      <td>NaN</td>\n",
       "      <td>NaN</td>\n",
       "      <td>NaN</td>\n",
       "      <td>NaN</td>\n",
       "      <td>NaN</td>\n",
       "      <td>NaN</td>\n",
       "      <td>NaN</td>\n",
       "    </tr>\n",
       "    <tr>\n",
       "      <th>2007-06-08</th>\n",
       "      <td>NaN</td>\n",
       "      <td>NaN</td>\n",
       "      <td>NaN</td>\n",
       "      <td>NaN</td>\n",
       "      <td>NaN</td>\n",
       "      <td>NaN</td>\n",
       "      <td>NaN</td>\n",
       "      <td>NaN</td>\n",
       "      <td>NaN</td>\n",
       "      <td>NaN</td>\n",
       "      <td>...</td>\n",
       "      <td>NaN</td>\n",
       "      <td>NaN</td>\n",
       "      <td>NaN</td>\n",
       "      <td>NaN</td>\n",
       "      <td>NaN</td>\n",
       "      <td>NaN</td>\n",
       "      <td>NaN</td>\n",
       "      <td>NaN</td>\n",
       "      <td>NaN</td>\n",
       "      <td>NaN</td>\n",
       "    </tr>\n",
       "    <tr>\n",
       "      <th>...</th>\n",
       "      <td>...</td>\n",
       "      <td>...</td>\n",
       "      <td>...</td>\n",
       "      <td>...</td>\n",
       "      <td>...</td>\n",
       "      <td>...</td>\n",
       "      <td>...</td>\n",
       "      <td>...</td>\n",
       "      <td>...</td>\n",
       "      <td>...</td>\n",
       "      <td>...</td>\n",
       "      <td>...</td>\n",
       "      <td>...</td>\n",
       "      <td>...</td>\n",
       "      <td>...</td>\n",
       "      <td>...</td>\n",
       "      <td>...</td>\n",
       "      <td>...</td>\n",
       "      <td>...</td>\n",
       "      <td>...</td>\n",
       "      <td>...</td>\n",
       "    </tr>\n",
       "    <tr>\n",
       "      <th>2023-09-23</th>\n",
       "      <td>26581.40</td>\n",
       "      <td>0.50772</td>\n",
       "      <td>1593.79</td>\n",
       "      <td>208.09469</td>\n",
       "      <td>0.246068</td>\n",
       "      <td>65.093564</td>\n",
       "      <td>0.151499</td>\n",
       "      <td>0.026266</td>\n",
       "      <td>26.487522</td>\n",
       "      <td>0.114173</td>\n",
       "      <td>...</td>\n",
       "      <td>0.445380</td>\n",
       "      <td>6.777000e-07</td>\n",
       "      <td>1926.73</td>\n",
       "      <td>0.1973</td>\n",
       "      <td>0.25687</td>\n",
       "      <td>0.2822</td>\n",
       "      <td>0.391218</td>\n",
       "      <td>56.156859</td>\n",
       "      <td>0.116436</td>\n",
       "      <td>0.11240</td>\n",
       "    </tr>\n",
       "    <tr>\n",
       "      <th>2023-09-24</th>\n",
       "      <td>26250.50</td>\n",
       "      <td>0.50214</td>\n",
       "      <td>1580.85</td>\n",
       "      <td>204.58380</td>\n",
       "      <td>0.242765</td>\n",
       "      <td>63.589565</td>\n",
       "      <td>0.148525</td>\n",
       "      <td>0.026103</td>\n",
       "      <td>26.138654</td>\n",
       "      <td>0.112168</td>\n",
       "      <td>...</td>\n",
       "      <td>0.438392</td>\n",
       "      <td>6.750000e-07</td>\n",
       "      <td>1926.18</td>\n",
       "      <td>0.1907</td>\n",
       "      <td>0.25548</td>\n",
       "      <td>0.2976</td>\n",
       "      <td>0.395995</td>\n",
       "      <td>54.348884</td>\n",
       "      <td>0.117671</td>\n",
       "      <td>0.11280</td>\n",
       "    </tr>\n",
       "    <tr>\n",
       "      <th>2023-09-25</th>\n",
       "      <td>26294.44</td>\n",
       "      <td>0.50536</td>\n",
       "      <td>1588.06</td>\n",
       "      <td>210.30118</td>\n",
       "      <td>0.245901</td>\n",
       "      <td>64.319431</td>\n",
       "      <td>0.150477</td>\n",
       "      <td>0.025527</td>\n",
       "      <td>26.705462</td>\n",
       "      <td>0.113008</td>\n",
       "      <td>...</td>\n",
       "      <td>0.442458</td>\n",
       "      <td>7.102000e-07</td>\n",
       "      <td>1914.86</td>\n",
       "      <td>0.1947</td>\n",
       "      <td>0.25894</td>\n",
       "      <td>0.2940</td>\n",
       "      <td>0.391832</td>\n",
       "      <td>51.306325</td>\n",
       "      <td>0.117330</td>\n",
       "      <td>0.11340</td>\n",
       "    </tr>\n",
       "    <tr>\n",
       "      <th>2023-09-26</th>\n",
       "      <td>26193.80</td>\n",
       "      <td>0.50182</td>\n",
       "      <td>1593.16</td>\n",
       "      <td>214.52612</td>\n",
       "      <td>0.245496</td>\n",
       "      <td>63.770531</td>\n",
       "      <td>0.149254</td>\n",
       "      <td>0.025238</td>\n",
       "      <td>26.290048</td>\n",
       "      <td>0.111837</td>\n",
       "      <td>...</td>\n",
       "      <td>0.438275</td>\n",
       "      <td>6.969000e-07</td>\n",
       "      <td>1904.43</td>\n",
       "      <td>0.1936</td>\n",
       "      <td>0.25615</td>\n",
       "      <td>0.3093</td>\n",
       "      <td>0.389751</td>\n",
       "      <td>52.629360</td>\n",
       "      <td>0.115618</td>\n",
       "      <td>0.11340</td>\n",
       "    </tr>\n",
       "    <tr>\n",
       "      <th>2023-09-27</th>\n",
       "      <td>26239.81</td>\n",
       "      <td>0.49707</td>\n",
       "      <td>1591.45</td>\n",
       "      <td>214.92560</td>\n",
       "      <td>0.244257</td>\n",
       "      <td>63.811302</td>\n",
       "      <td>0.148167</td>\n",
       "      <td>0.025066</td>\n",
       "      <td>26.359155</td>\n",
       "      <td>0.112358</td>\n",
       "      <td>...</td>\n",
       "      <td>0.440180</td>\n",
       "      <td>7.186000e-07</td>\n",
       "      <td>1897.57</td>\n",
       "      <td>0.1895</td>\n",
       "      <td>0.25586</td>\n",
       "      <td>0.3013</td>\n",
       "      <td>0.391450</td>\n",
       "      <td>55.226596</td>\n",
       "      <td>0.115616</td>\n",
       "      <td>0.11236</td>\n",
       "    </tr>\n",
       "  </tbody>\n",
       "</table>\n",
       "<p>5686 rows × 361 columns</p>\n",
       "</div>"
      ],
      "text/plain": [
       "            CRYPTO:BTCUSD  CRYPTO:XRPUSD  CRYPTO:ETHUSD  CRYPTO:BCHUSD  \\\n",
       "Date                                                                     \n",
       "2007-06-04            NaN            NaN            NaN            NaN   \n",
       "2007-06-05            NaN            NaN            NaN            NaN   \n",
       "2007-06-06            NaN            NaN            NaN            NaN   \n",
       "2007-06-07            NaN            NaN            NaN            NaN   \n",
       "2007-06-08            NaN            NaN            NaN            NaN   \n",
       "...                   ...            ...            ...            ...   \n",
       "2023-09-23       26581.40        0.50772        1593.79      208.09469   \n",
       "2023-09-24       26250.50        0.50214        1580.85      204.58380   \n",
       "2023-09-25       26294.44        0.50536        1588.06      210.30118   \n",
       "2023-09-26       26193.80        0.50182        1593.16      214.52612   \n",
       "2023-09-27       26239.81        0.49707        1591.45      214.92560   \n",
       "\n",
       "            CRYPTO:ADAUSD  CRYPTO:LTCUSD  CRYPTO:MIOTAUSD  CRYPTO:XEMUSD  \\\n",
       "Date                                                                       \n",
       "2007-06-04            NaN            NaN              NaN            NaN   \n",
       "2007-06-05            NaN            NaN              NaN            NaN   \n",
       "2007-06-06            NaN            NaN              NaN            NaN   \n",
       "2007-06-07            NaN            NaN              NaN            NaN   \n",
       "2007-06-08            NaN            NaN              NaN            NaN   \n",
       "...                   ...            ...              ...            ...   \n",
       "2023-09-23       0.246068      65.093564         0.151499       0.026266   \n",
       "2023-09-24       0.242765      63.589565         0.148525       0.026103   \n",
       "2023-09-25       0.245901      64.319431         0.150477       0.025527   \n",
       "2023-09-26       0.245496      63.770531         0.149254       0.025238   \n",
       "2023-09-27       0.244257      63.811302         0.148167       0.025066   \n",
       "\n",
       "            CRYPTO:DASHUSD  CRYPTO:XLMUSD  ...  CRYPTO:SUIUSD  CRYPTO:PEPEUSD  \\\n",
       "Date                                       ...                                  \n",
       "2007-06-04             NaN            NaN  ...            NaN             NaN   \n",
       "2007-06-05             NaN            NaN  ...            NaN             NaN   \n",
       "2007-06-06             NaN            NaN  ...            NaN             NaN   \n",
       "2007-06-07             NaN            NaN  ...            NaN             NaN   \n",
       "2007-06-08             NaN            NaN  ...            NaN             NaN   \n",
       "...                    ...            ...  ...            ...             ...   \n",
       "2023-09-23       26.487522       0.114173  ...       0.445380    6.777000e-07   \n",
       "2023-09-24       26.138654       0.112168  ...       0.438392    6.750000e-07   \n",
       "2023-09-25       26.705462       0.113008  ...       0.442458    7.102000e-07   \n",
       "2023-09-26       26.290048       0.111837  ...       0.438275    6.969000e-07   \n",
       "2023-09-27       26.359155       0.112358  ...       0.440180    7.186000e-07   \n",
       "\n",
       "            CRYPTO:XAUTUSD  CRYPTO:WILDUSD  CRYPTO:MLKUSD  CRYPTO:CFGUSD  \\\n",
       "Date                                                                       \n",
       "2007-06-04             NaN             NaN            NaN            NaN   \n",
       "2007-06-05             NaN             NaN            NaN            NaN   \n",
       "2007-06-06             NaN             NaN            NaN            NaN   \n",
       "2007-06-07             NaN             NaN            NaN            NaN   \n",
       "2007-06-08             NaN             NaN            NaN            NaN   \n",
       "...                    ...             ...            ...            ...   \n",
       "2023-09-23         1926.73          0.1973        0.25687         0.2822   \n",
       "2023-09-24         1926.18          0.1907        0.25548         0.2976   \n",
       "2023-09-25         1914.86          0.1947        0.25894         0.2940   \n",
       "2023-09-26         1904.43          0.1936        0.25615         0.3093   \n",
       "2023-09-27         1897.57          0.1895        0.25586         0.3013   \n",
       "\n",
       "            CRYPTO:MNTUSD  CRYPTO:UNIBOTUSD  CRYPTO:POLYXUSD  CRYPTO:NYMUSD  \n",
       "Date                                                                         \n",
       "2007-06-04            NaN               NaN              NaN            NaN  \n",
       "2007-06-05            NaN               NaN              NaN            NaN  \n",
       "2007-06-06            NaN               NaN              NaN            NaN  \n",
       "2007-06-07            NaN               NaN              NaN            NaN  \n",
       "2007-06-08            NaN               NaN              NaN            NaN  \n",
       "...                   ...               ...              ...            ...  \n",
       "2023-09-23       0.391218         56.156859         0.116436        0.11240  \n",
       "2023-09-24       0.395995         54.348884         0.117671        0.11280  \n",
       "2023-09-25       0.391832         51.306325         0.117330        0.11340  \n",
       "2023-09-26       0.389751         52.629360         0.115618        0.11340  \n",
       "2023-09-27       0.391450         55.226596         0.115616        0.11236  \n",
       "\n",
       "[5686 rows x 361 columns]"
      ]
     },
     "execution_count": 12,
     "metadata": {},
     "output_type": "execute_result"
    }
   ],
   "source": [
    "result_df.index.name = \"Date\"\n",
    "result_df"
   ]
  },
  {
   "cell_type": "code",
   "execution_count": 8,
   "metadata": {},
   "outputs": [],
   "source": [
    "### Get Fear and Greed Index Data\n",
    "import json\n",
    "import requests\n",
    "from bs4 import BeautifulSoup\n",
    "\n",
    "if dataType == \"On-chain Data\":\n",
    "    URL = 'https://api.alternative.me/fng/?limit=0&format=json&date_format=us'\n",
    "    page = requests.get(URL)\n",
    "    soup = BeautifulSoup(page.content, \"html.parser\")\n",
    "\n",
    "    FnGIdxDict = json.loads(soup.text)\n",
    "    FnGIdxDf = pd.DataFrame(FnGIdxDict['data'])\n",
    "\n",
    "    FnGIdxDf = FnGIdxDf.set_index('timestamp')\n",
    "    FnGIdxDf['Fear and Greed Index'] = pd.to_numeric(FnGIdxDf['value'])\n",
    "    FnGIdxDf.index = pd.to_datetime(FnGIdxDf.index)\n",
    "    FnGIdxDf.index.name = 'Date'\n",
    "    FnGIdxDf = FnGIdxDf['Fear and Greed Index']\n",
    "    result_df = pd.merge(result_df, FnGIdxDf, left_index=True, right_index=True, how=\"outer\")\n",
    "    print(FnGIdxDf)"
   ]
  },
  {
   "cell_type": "code",
   "execution_count": 13,
   "metadata": {},
   "outputs": [],
   "source": [
    "result_df.to_csv(r\"data\\TradingViewCryptoPrice.csv\")"
   ]
  },
  {
   "cell_type": "code",
   "execution_count": null,
   "metadata": {},
   "outputs": [],
   "source": []
  }
 ],
 "metadata": {
  "kernelspec": {
   "display_name": "Python 3",
   "language": "python",
   "name": "python3"
  },
  "language_info": {
   "codemirror_mode": {
    "name": "ipython",
    "version": 3
   },
   "file_extension": ".py",
   "mimetype": "text/x-python",
   "name": "python",
   "nbconvert_exporter": "python",
   "pygments_lexer": "ipython3",
   "version": "3.9.13"
  },
  "orig_nbformat": 4
 },
 "nbformat": 4,
 "nbformat_minor": 2
}
