{
 "cells": [
  {
   "cell_type": "code",
   "execution_count": 110,
   "metadata": {},
   "outputs": [],
   "source": [
    "import pandas as pd\n",
    "from selenium import webdriver\n",
    "from datetime import datetime as dt\n",
    "import time"
   ]
  },
  {
   "cell_type": "code",
   "execution_count": 23,
   "metadata": {},
   "outputs": [],
   "source": [
    "# CoinMarketCap API\n",
    "\n",
    "# headers = {\n",
    "#     'X-CMC_PRO_API_KEY': API\n",
    "# }\n",
    "# kw = {\n",
    "#     # \"date\": '2020-01-01 12:00:00.000'\n",
    "# }\n",
    "# x = requests.get('https://pro-api.coinmarketcap.com/v1/cryptocurrency/listings/latest', params=kw, headers=headers)"
   ]
  },
  {
   "cell_type": "code",
   "execution_count": 17,
   "metadata": {},
   "outputs": [],
   "source": [
    "# import requests\n",
    "# from bs4 import BeautifulSoup\n",
    "\n",
    "# URL = \"https://coincodex.com/historical-data/crypto/?date=2018-01-01T04:00:00Z\"\n",
    "# page = requests.get(URL)\n",
    "\n",
    "# soup = BeautifulSoup(page.content, \"html.parser\")"
   ]
  },
  {
   "cell_type": "code",
   "execution_count": 116,
   "metadata": {},
   "outputs": [],
   "source": [
    "# Path\n",
    "DriverPath = 'C:\\\\Users\\\\harry\\\\OneDrive\\\\文件\\\\chromedriver.exe'\n",
    "# DownloadDir =  r'D:\\Git\\Quant Analysis\\Pair Trading'\n",
    "\n",
    "# Chrome Seeting\n",
    "chrome_options = webdriver.ChromeOptions()\n",
    "# prefs = {'download.default_directory' : DownloadDir}\n",
    "# chrome_options.add_experimental_option('prefs', prefs)\n",
    "driver = webdriver.Chrome(DriverPath, options=chrome_options)"
   ]
  },
  {
   "cell_type": "code",
   "execution_count": 117,
   "metadata": {},
   "outputs": [],
   "source": [
    "start = '2017-12-31'\n",
    "end = '2023-07-31'\n",
    "dateRange = pd.date_range(start=start, end=end, freq=\"M\").tolist()\n",
    "result = pd.DataFrame()\n",
    "\n",
    "for date in dateRange:\n",
    "    time.sleep(2)\n",
    "    Location = 'https://coinmarketcap.com/historical/' + dt.strftime(date, '%Y%m%d')\n",
    "    driver.get(Location)\n",
    "    \n",
    "    # smooth scrolling\n",
    "    total_height = int(driver.execute_script(\"return document.body.scrollHeight\"))\n",
    "    for i in range(1, total_height, 200):\n",
    "        driver.execute_script(\"window.scrollTo(0, {});\".format(i))\n",
    "\n",
    "    time.sleep(2)\n",
    "    df = pd.read_html(driver.page_source)[2]\n",
    "    df = df.loc[:, ['Name', 'Symbol', 'Market Cap']]\n",
    "    df['Date'] = date\n",
    "    df['Rank'] = df.index + 1\n",
    "    result = pd.concat([result, df], ignore_index=True)"
   ]
  },
  {
   "cell_type": "code",
   "execution_count": 119,
   "metadata": {},
   "outputs": [],
   "source": [
    "driver.close()"
   ]
  },
  {
   "cell_type": "code",
   "execution_count": 118,
   "metadata": {},
   "outputs": [],
   "source": [
    "result.to_csv(r'data\\CryptoMarketCap.csv', index=False)"
   ]
  },
  {
   "cell_type": "code",
   "execution_count": null,
   "metadata": {},
   "outputs": [],
   "source": []
  }
 ],
 "metadata": {
  "kernelspec": {
   "display_name": "Python 3",
   "language": "python",
   "name": "python3"
  },
  "language_info": {
   "codemirror_mode": {
    "name": "ipython",
    "version": 3
   },
   "file_extension": ".py",
   "mimetype": "text/x-python",
   "name": "python",
   "nbconvert_exporter": "python",
   "pygments_lexer": "ipython3",
   "version": "3.9.13"
  },
  "orig_nbformat": 4
 },
 "nbformat": 4,
 "nbformat_minor": 2
}
