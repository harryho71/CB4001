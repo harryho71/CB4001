{
 "cells": [
  {
   "cell_type": "code",
   "execution_count": 1,
   "metadata": {},
   "outputs": [],
   "source": [
    "import pandas as pd\n",
    "from datetime import timedelta\n",
    "import numpy as np\n",
    "from dateutil.relativedelta import *\n",
    "from statsmodels.tsa.stattools import adfuller\n",
    "import statsmodels.api as sm\n",
    "from collections import defaultdict\n",
    "from sklearn.preprocessing import StandardScaler\n",
    "from sklearn.cluster import KMeans\n",
    "from sklearn import metrics\n",
    "from kneed import KneeLocator\n",
    "from sklearn.metrics import silhouette_score"
   ]
  },
  {
   "cell_type": "markdown",
   "metadata": {},
   "source": [
    "### Import Data"
   ]
  },
  {
   "cell_type": "code",
   "execution_count": 2,
   "metadata": {},
   "outputs": [],
   "source": [
    "# Get historical crypto market cap rank data\n",
    "cryptoMarketCapRankDf = pd.read_csv('data\\CryptoMarketCap.csv')\n",
    "cryptoMarketCapRankDf['Date'] = pd.to_datetime(cryptoMarketCapRankDf['Date'])"
   ]
  },
  {
   "cell_type": "code",
   "execution_count": 3,
   "metadata": {},
   "outputs": [],
   "source": [
    "# Get historical crypto price data\n",
    "cryptoPriceDf = pd.read_csv('data\\TradingViewCryptoPrice.csv', index_col=0)\n",
    "cryptoPriceDf.index = pd.to_datetime(cryptoPriceDf.index)"
   ]
  },
  {
   "cell_type": "code",
   "execution_count": 4,
   "metadata": {},
   "outputs": [],
   "source": [
    "# Get Crpyto Category data\n",
    "cryptoCategoryDf = pd.read_csv('data\\CryptoCategory.csv', index_col=0)"
   ]
  },
  {
   "cell_type": "markdown",
   "metadata": {},
   "source": [
    "### Formation Period"
   ]
  },
  {
   "cell_type": "code",
   "execution_count": 5,
   "metadata": {},
   "outputs": [],
   "source": [
    "def marketCapCryptoSelection(cryptoMarketCapRankDf, cutoffDate, cutoffRank):\n",
    "    # Get formation period sample crypto list\n",
    "    marketCapCutoffDate = pd.to_datetime(cutoffDate) - timedelta(days=1)\n",
    "    sampleCrypto = cryptoMarketCapRankDf[(cryptoMarketCapRankDf['Date'] == marketCapCutoffDate) & (cryptoMarketCapRankDf['Rank'] <= cutoffRank)]\n",
    "    sampleCrypto = list(sampleCrypto['Symbol'])\n",
    "    return sampleCrypto"
   ]
  },
  {
   "cell_type": "code",
   "execution_count": 6,
   "metadata": {},
   "outputs": [],
   "source": [
    "def cryptoPriceCleaning(cryptoPriceDf, sampleCrypto, cutoffDate, lookback):\n",
    "    # Fliter the crypto with formation period\n",
    "    cutoffRowIdx = cryptoPriceDf.index.get_loc(cutoffDate)\n",
    "    if cutoffRowIdx < lookback:\n",
    "        # if there is not enough got the whole lookback period, just get all the availiable data\n",
    "        sampleCryptoPrice = cryptoPriceDf.iloc[:cutoffRowIdx]\n",
    "    else:\n",
    "        sampleCryptoPrice = cryptoPriceDf.iloc[cutoffRowIdx-lookback:cutoffRowIdx]\n",
    "    \n",
    "    # Filter based on the availiablity of crpyto price\n",
    "    sampleCrypto = set(sampleCrypto).intersection([x[7:-3] for x in sampleCryptoPrice.columns])\n",
    "\n",
    "    # Data Cleaning\n",
    "    sampleCryptoPrice = sampleCryptoPrice[[\"CRYPTO:\" + x + \"USD\" for x in sampleCrypto]]\n",
    "    sampleCryptoPrice = sampleCryptoPrice.ffill(axis=0)\n",
    "    sampleCryptoPrice = sampleCryptoPrice.dropna(axis=1)\n",
    "\n",
    "    print('Remaining number of crpyto: ', len(sampleCryptoPrice.columns))\n",
    "\n",
    "    return sampleCryptoPrice"
   ]
  },
  {
   "cell_type": "markdown",
   "metadata": {},
   "source": [
    "#### Cointegration Method"
   ]
  },
  {
   "cell_type": "code",
   "execution_count": 7,
   "metadata": {},
   "outputs": [],
   "source": [
    "def cointegrationMethodSelection(sampleCryptoPrice, ADFtestThreshold):\n",
    "    # Take log for the price series\n",
    "    sampleCryptoLogPrice = np.log(sampleCryptoPrice)\n",
    "    \n",
    "    # Test all price series for order 1 integration\n",
    "    I0Series = []\n",
    "    for crypto in sampleCryptoLogPrice.columns:\n",
    "        if adfuller(sampleCryptoLogPrice[crypto])[1] < ADFtestThreshold:\n",
    "            I0Series.append(crypto)\n",
    "\n",
    "    # remove price series with order 0 integration from samples\n",
    "    sampleCryptoPrice = sampleCryptoPrice.drop(I0Series, axis=1)\n",
    "\n",
    "    print('I0Series: ', I0Series)\n",
    "    print('Remaining number of crpyto: ', len(sampleCryptoPrice.columns))\n",
    "\n",
    "    # Finding cointegrated pairs\n",
    "    CointegratedPairs = pd.DataFrame(columns=['Crypto 1', 'Crypto 2', 'Beta'])\n",
    "    for crypto1 in sampleCryptoPrice.columns:\n",
    "        for crypto2 in sampleCryptoPrice.columns:\n",
    "            if crypto1 != crypto2:\n",
    "                # OLS regression input\n",
    "                y = sampleCryptoPrice[crypto1]\n",
    "                x = sampleCryptoPrice[crypto2]\n",
    "                x_withConst = sm.add_constant(x)\n",
    "\n",
    "                # OLS Regression fitting\n",
    "                model = sm.OLS(y, x_withConst).fit()\n",
    "\n",
    "                # OLS Result\n",
    "                const = model.params[0]\n",
    "                beta = model.params[1]\n",
    "                residuals = y - (x * beta + const)\n",
    "\n",
    "                # the residuals are tested for stationarity by using the Augmented-Dickey-Fuller test (ADF-test)\n",
    "                if adfuller(residuals)[1] < ADFtestThreshold:\n",
    "                    CointegratedPairs.loc[len(CointegratedPairs)] = {'Crypto 1': crypto1, 'Crypto 2': crypto2, 'Beta': beta}\n",
    "    \n",
    "    return CointegratedPairs\n"
   ]
  },
  {
   "cell_type": "code",
   "execution_count": 8,
   "metadata": {},
   "outputs": [],
   "source": [
    "# Grouping\n",
    "# Coingecko https://www.coingecko.com/en/categories\n",
    "# Crypto.com https://crypto.com/price/categories\n",
    "# Coin Market Cap https://coinmarketcap.com/cryptocurrency-category/\n",
    "# https://cryptorank.io/categories\n",
    "\n",
    "def categoriesFilter(CointegratedPairs, cryptoCategoryDf):\n",
    "    \n",
    "    results = pd.DataFrame(columns=CointegratedPairs.columns)\n",
    "    \n",
    "    for idx, row in CointegratedPairs.iterrows():\n",
    "        crypto1 = row['Crypto 1'][7:][:-3].lower()\n",
    "        crypto2 = row['Crypto 2'][7:][:-3].lower()\n",
    "        \n",
    "        crypto1CategoriesList = []\n",
    "        for category in cryptoCategoryDf.columns:\n",
    "            if crypto1 in cryptoCategoryDf[category].values:\n",
    "                crypto1CategoriesList.append(category)\n",
    "       \n",
    "        for category in crypto1CategoriesList:\n",
    "            if crypto2 in cryptoCategoryDf[category].values:\n",
    "                results.loc[len(results)] = row\n",
    "                break\n",
    "    \n",
    "    return results"
   ]
  },
  {
   "cell_type": "code",
   "execution_count": 9,
   "metadata": {},
   "outputs": [],
   "source": [
    "# Grouping\n",
    "# Kmean\n",
    "# https://blog.quantinsti.com/k-means-clustering-pair-selection-python/\n",
    "# https://algotrading101.com/learn/cluster-analysis-guide/ (Easier version)\n",
    "\n",
    "def KmeanFilter(sampleCryptoPrice, CointegratedPairs):\n",
    "    \n",
    "    inputData = pd.DataFrame(columns=['returns', 'volatility'])\n",
    "\n",
    "    # Calculate the annulaized return and volatility of all sample Crpyto in the formation periods\n",
    "    inputData['returns'] = sampleCryptoPrice.pct_change().mean()*266\n",
    "    inputData['volatility'] = sampleCryptoPrice.pct_change().std()*np.sqrt(266)\n",
    "\n",
    "    # scale the variables to (mean = 0, variance = 1)\n",
    "    scale = StandardScaler().fit(inputData)\n",
    "    inputData = pd.DataFrame(scale.fit_transform(inputData), columns = inputData.columns, index = inputData.index)\n",
    "    \n",
    "    # choosing the parameter K with silhouette method\n",
    "    K = range(2,15)\n",
    "    silhouettes = []\n",
    "\n",
    "    # Fit the method\n",
    "    for k in K:\n",
    "        kmeans = KMeans(n_clusters=k, random_state=42, n_init=10, init='random')\n",
    "        kmeans.fit(inputData)\n",
    "        silhouettes.append(silhouette_score(inputData, kmeans.labels_))\n",
    "    \n",
    "    kl = KneeLocator(K, silhouettes, curve=\"convex\", direction=\"decreasing\")\n",
    "    K = kl.elbow\n",
    "\n",
    "    # Fit the model\n",
    "    k_means = KMeans(n_clusters=K)\n",
    "    k_means.fit(inputData)\n",
    "    prediction = k_means.predict(inputData)\n",
    "    inputData['Group'] = prediction\n",
    "\n",
    "    #########################################################################\n",
    "\n",
    "    # Filter the pairs witin the same group\n",
    "    results = pd.DataFrame(columns=CointegratedPairs.columns)\n",
    "    \n",
    "    for idx, row in CointegratedPairs.iterrows():\n",
    "        crypto1 = row['Crypto 1']\n",
    "        crypto2 = row['Crypto 2']\n",
    "        \n",
    "        if inputData.loc[crypto1,'Group'] == inputData.loc[crypto2,'Group']:\n",
    "            results.loc[len(results)] = row\n",
    "\n",
    "    \n",
    "    return results\n",
    "    \n",
    "    "
   ]
  },
  {
   "cell_type": "code",
   "execution_count": 10,
   "metadata": {},
   "outputs": [],
   "source": [
    "# Half-life\n",
    "# Ornstein–Uhlenbeck process \n",
    "# https://pypi.org/project/ouparams/\n",
    "# https://github.com/cantaro86/Financial-Models-Numerical-Methods/blob/master/6.1%20Ornstein-Uhlenbeck%20process%20and%20applications.ipynb\n",
    "# half life: https://mathtopics.wordpress.com/2013/01/07/ornstein-uhlenbeck-process/\n",
    "\n",
    "def halfLifeFilter(sampleCryptoPrice, CointegratedPairs, noOfPair):\n",
    "        \n",
    "        halfLifeList = []\n",
    "        for i in range(len(CointegratedPairs)):\n",
    "                # parameter\n",
    "                crypto1 = CointegratedPairs.loc[i, 'Crypto 1']\n",
    "                crypto2 = CointegratedPairs.loc[i, 'Crypto 2']\n",
    "                beta = CointegratedPairs.loc[i, 'Beta']\n",
    "                \n",
    "                # Calculate the spread for formation period\n",
    "                spread = sampleCryptoPrice[crypto1] - sampleCryptoPrice[crypto2] * beta\n",
    "                # Calculate thr normilized spread in the formation period\n",
    "                normalizedSpread = (spread - spread.mean()) / spread.std()\n",
    "\n",
    "                x = list(normalizedSpread.iloc[:-1].reset_index(drop=True))\n",
    "                y = list(normalizedSpread.iloc[1:].reset_index(drop=True))\n",
    "                x_withConst = sm.add_constant(x)\n",
    "\n",
    "                # OLS Regression fitting\n",
    "                model = sm.OLS(y, x_withConst).fit()\n",
    "\n",
    "                # OLS Result\n",
    "                beta_ols = model.params[1]\n",
    "                dt = 1 # dt is one day\n",
    "                kappa_ols = -np.log(beta_ols) / dt\n",
    "                halfLife = np.log(2) / kappa_ols\n",
    "                halfLifeList.append(halfLife)\n",
    "        \n",
    "        CointegratedPairs['Half-life'] = halfLifeList\n",
    "        CointegratedPairs = CointegratedPairs.sort_values('Half-life', ascending=True)\n",
    "        CointegratedPairs = CointegratedPairs.iloc[:noOfPair].reset_index(drop=True)\n",
    "\n",
    "        return CointegratedPairs\n"
   ]
  },
  {
   "cell_type": "code",
   "execution_count": 11,
   "metadata": {},
   "outputs": [],
   "source": [
    "# for testing\n",
    "# cutoffDate = '2020-01-01'\n",
    "# sampleCrypto = marketCapCryptoSelection(cryptoMarketCapRankDf, cutoffDate, cutoffRank)\n",
    "# sampleCryptoPrice = cryptoPriceCleaning(cryptoPriceDf, sampleCrypto, cutoffDate, lookback)\n",
    "# CointegratedPairs = cointegrationMethodSelection(sampleCryptoPrice, ADFtestThreshold)\n",
    "# CointegratedPairs = categoriesFilter(CointegratedPairs, cryptoCategoryDf)"
   ]
  },
  {
   "cell_type": "markdown",
   "metadata": {},
   "source": [
    "### Trading Period"
   ]
  },
  {
   "cell_type": "code",
   "execution_count": 12,
   "metadata": {},
   "outputs": [],
   "source": [
    "def cointegrationMethodTrading(cryptoPriceDf, sampleCryptoPrice, CointegratedPairs, cutoffDate, forward, spreadThreshold, closeThreshold, constantModel=True):\n",
    "    \n",
    "    # initialize the records dataframe\n",
    "    TransactionRecords = pd.DataFrame(columns=['Date', 'Crypto', 'Long/Short', 'Price', \"Open/Close\", \"Transaction pair\", \"Round Trip No.\", \"Pair No.\", \"Quantity\"])\n",
    "    SpreadRecords = pd.DataFrame()\n",
    "    PairNo = 0\n",
    "\n",
    "    # get trading crpyto price\n",
    "    cutoffRowIdx = cryptoPriceDf.index.get_loc(cutoffDate)\n",
    "    if cutoffRowIdx + forward > len(cryptoPriceDf):\n",
    "        # if there is not enough got the whole forward period, just get all the availiable data\n",
    "        tradingCryptoPrice = cryptoPriceDf.iloc[cutoffRowIdx:]\n",
    "    else:\n",
    "        tradingCryptoPrice = cryptoPriceDf.iloc[cutoffRowIdx:cutoffRowIdx+forward]\n",
    "\n",
    "\n",
    "    for i in range(len(CointegratedPairs)):\n",
    "        ############ Trading Signal Calculation ############\n",
    "        \n",
    "        # parameter\n",
    "        crypto1 = CointegratedPairs.loc[i, 'Crypto 1']\n",
    "        crypto2 = CointegratedPairs.loc[i, 'Crypto 2']\n",
    "        beta = CointegratedPairs.loc[i, 'Beta']\n",
    "\n",
    "         # Calculate normalized spread\n",
    "        if constantModel:\n",
    "            # Calculate spread mean and std from formation period\n",
    "            formationSpread = sampleCryptoPrice[crypto1] - sampleCryptoPrice[crypto1] * beta\n",
    "            formationSpreadMean = formationSpread.mean()\n",
    "            formationSpreadStd = formationSpread.std()\n",
    "\n",
    "            # Calculate spread and normilized them in the trading period\n",
    "            spread = tradingCryptoPrice[crypto1] - tradingCryptoPrice[crypto2] * beta\n",
    "            normalizedSpread = (spread - formationSpreadMean) / formationSpreadStd\n",
    "\n",
    "        else:\n",
    "            # Expending window model\n",
    "            # Combine the crpyto price from formation and trading period\n",
    "            crypto1Price = pd.concat([sampleCryptoPrice[crypto1],tradingCryptoPrice[crypto1]], axis=0)\n",
    "            crypto2Price = pd.concat([sampleCryptoPrice[crypto2],tradingCryptoPrice[crypto2]], axis=0)\n",
    "            \n",
    "            # Calculate the spread for both formation and trading period\n",
    "            spread = crypto1Price - crypto2Price * beta\n",
    "            # calculate spread mean and std in expaning window\n",
    "            spreadMean = spread.expanding(min_periods=1).mean() # or df.rolling(window=len(df), min_periods=1).mean()\n",
    "            spreadStd = spread.expanding(min_periods=1).std()\n",
    "\n",
    "            # Calculate thr normilized spread in theformation and trading period\n",
    "            normalizedSpread = (spread - spreadMean) / spreadStd\n",
    "            # Extrate only the normalized spread from trading period\n",
    "            normalizedSpread = normalizedSpread.loc[cutoffDate:]\n",
    "        \n",
    "        ############ Trading Execution ############\n",
    "        # check if there is any trading opportunity\n",
    "        SpreadWithoutLastDay = normalizedSpread.iloc[:-1]\n",
    "        if len(SpreadWithoutLastDay[(SpreadWithoutLastDay >= spreadThreshold) | (SpreadWithoutLastDay <= -spreadThreshold)]) > 0:\n",
    "            \n",
    "            # save the spread records\n",
    "            normalizedSpread.name = crypto1 + \" \" + crypto2\n",
    "            SpreadRecords = SpreadRecords.merge(normalizedSpread, how='outer', left_index=True, right_index=True)\n",
    "\n",
    "            # initialize before the transaction\n",
    "            PairNo += 1\n",
    "            normalizedSpread.name = 'spread'\n",
    "            normalizedSpread = normalizedSpread.to_frame()\n",
    "            Opened = False\n",
    "            long = None\n",
    "            RoundTripNo = 1\n",
    "\n",
    "            for date in normalizedSpread.index:\n",
    "\n",
    "                # When the trading date is not the last day\n",
    "                if date != normalizedSpread.index[-1]:\n",
    "                    # If there is an open position before that date\n",
    "                    if Opened:\n",
    "                        # Close postion if the spread cross closeThreshold\n",
    "                        if not long and normalizedSpread.loc[date, 'spread'] <= closeThreshold:\n",
    "                            TransactionRecords.loc[len(TransactionRecords)] = [date, crypto1, \"Long\",  tradingCryptoPrice.loc[date, crypto1], \"Close\", crypto2, RoundTripNo, PairNo, 1]\n",
    "                            if beta >= 0:\n",
    "                                TransactionRecords.loc[len(TransactionRecords)] = [date, crypto2, \"Short\",  tradingCryptoPrice.loc[date, crypto2], \"Close\", crypto1, RoundTripNo, PairNo, beta]\n",
    "                            else:\n",
    "                                TransactionRecords.loc[len(TransactionRecords)] = [date, crypto2, \"Long\",  tradingCryptoPrice.loc[date, crypto2], \"Close\", crypto1, RoundTripNo, PairNo, -beta]\n",
    "                            RoundTripNo += 1\n",
    "                            long = None\n",
    "                            Opened = False\n",
    "                            \n",
    "                        elif long and normalizedSpread.loc[date, 'spread'] >= -closeThreshold:\n",
    "                            TransactionRecords.loc[len(TransactionRecords)] = [date, crypto1, \"Short\",  tradingCryptoPrice.loc[date, crypto1], \"Close\", crypto2, RoundTripNo, PairNo, 1]\n",
    "                            if beta >= 0:\n",
    "                                TransactionRecords.loc[len(TransactionRecords)] = [date, crypto2, \"Long\",  tradingCryptoPrice.loc[date, crypto2], \"Close\", crypto1, RoundTripNo, PairNo, beta]\n",
    "                            else:\n",
    "                                TransactionRecords.loc[len(TransactionRecords)] = [date, crypto2, \"Short\",  tradingCryptoPrice.loc[date, crypto2], \"Close\", crypto1, RoundTripNo, PairNo, -beta]\n",
    "                            RoundTripNo += 1\n",
    "                            long = None\n",
    "                            Opened = False\n",
    "                            \n",
    "                    \n",
    "                    # Check again if there is any position, if no and fulfil the criteria, then open position \n",
    "                    if not Opened:\n",
    "                        # short crypto 1 and long crypto 2 if spread >= spreadThreshold\n",
    "                        if normalizedSpread.loc[date, 'spread'] >= spreadThreshold:\n",
    "                            TransactionRecords.loc[len(TransactionRecords)] = [date, crypto1, \"Short\",  tradingCryptoPrice.loc[date, crypto1], \"Open\", crypto2, RoundTripNo, PairNo, 1]\n",
    "                            if beta >= 0:\n",
    "                                TransactionRecords.loc[len(TransactionRecords)] = [date, crypto2, \"Long\",  tradingCryptoPrice.loc[date, crypto2], \"Open\", crypto1, RoundTripNo, PairNo, beta]\n",
    "                            else:\n",
    "                                TransactionRecords.loc[len(TransactionRecords)] = [date, crypto2, \"Short\",  tradingCryptoPrice.loc[date, crypto2], \"Open\", crypto1, RoundTripNo, PairNo, -beta]\n",
    "                            long = False\n",
    "                            Opened = True\n",
    "                            \n",
    "                        # long crypto 1 and short crypto 2 if spread <= -spreadThreshold\n",
    "                        elif normalizedSpread.loc[date, 'spread'] <= -spreadThreshold:\n",
    "                            TransactionRecords.loc[len(TransactionRecords)] = [date, crypto1, \"Long\",  tradingCryptoPrice.loc[date, crypto1], \"Open\", crypto2, RoundTripNo, PairNo, 1]\n",
    "                            if beta >= 0:\n",
    "                                TransactionRecords.loc[len(TransactionRecords)] = [date, crypto2, \"Short\",  tradingCryptoPrice.loc[date, crypto2], \"Open\", crypto1, RoundTripNo, PairNo, beta]\n",
    "                            else:\n",
    "                                TransactionRecords.loc[len(TransactionRecords)] = [date, crypto2, \"Long\",  tradingCryptoPrice.loc[date, crypto2], \"Open\", crypto1, RoundTripNo, PairNo, -beta]\n",
    "                            long = True\n",
    "                            Opened = True\n",
    "                            \n",
    "\n",
    "                # For last day closing position\n",
    "                else:\n",
    "                    if Opened:\n",
    "                        if not long:\n",
    "                            TransactionRecords.loc[len(TransactionRecords)] = [date, crypto1, \"Long\",  tradingCryptoPrice.loc[date, crypto1], \"Close\", crypto2, RoundTripNo, PairNo, 1]\n",
    "                            if beta >= 0:\n",
    "                                TransactionRecords.loc[len(TransactionRecords)] = [date, crypto2, \"Short\",  tradingCryptoPrice.loc[date, crypto2], \"Close\", crypto1, RoundTripNo, PairNo, beta]\n",
    "                            else:\n",
    "                                TransactionRecords.loc[len(TransactionRecords)] = [date, crypto2, \"Long\",  tradingCryptoPrice.loc[date, crypto2], \"Close\", crypto1, RoundTripNo, PairNo, -beta]\n",
    "                            long = None\n",
    "                            Opened = False\n",
    "                            \n",
    "                        else:\n",
    "                            TransactionRecords.loc[len(TransactionRecords)] = [date, crypto1, \"Short\",  tradingCryptoPrice.loc[date, crypto1], \"Close\", crypto2, RoundTripNo, PairNo, 1]\n",
    "                            if beta >= 0:\n",
    "                                TransactionRecords.loc[len(TransactionRecords)] = [date, crypto2, \"Long\",  tradingCryptoPrice.loc[date, crypto2], \"Close\", crypto1, RoundTripNo, PairNo, beta]\n",
    "                            else:\n",
    "                                TransactionRecords.loc[len(TransactionRecords)] = [date, crypto2, \"Short\",  tradingCryptoPrice.loc[date, crypto2], \"Close\", crypto1, RoundTripNo, PairNo, -beta]\n",
    "                            long = None\n",
    "                            Opened = False\n",
    "                            \n",
    "    return (TransactionRecords, SpreadRecords)"
   ]
  },
  {
   "cell_type": "markdown",
   "metadata": {},
   "source": [
    "### Rolling Window"
   ]
  },
  {
   "cell_type": "code",
   "execution_count": 98,
   "metadata": {},
   "outputs": [],
   "source": [
    "# General parameters\n",
    "startDate = '2019-01-01'\n",
    "endDate = '2023-07-01'\n",
    "lookback =365\n",
    "forward = 60\n",
    "\n",
    "# Formation period paramenter\n",
    "cutoffRank = 100\n",
    "ADFtestThreshold = 0.01\n",
    "# For Half-life filter\n",
    "noOfPair = 500 #1000 #100 # 50\n",
    "\n",
    "# Trading period parameters\n",
    "spreadThreshold = 2.5\n",
    "closeThreshold = 0 # same sign as spreadThreshold"
   ]
  },
  {
   "cell_type": "code",
   "execution_count": 14,
   "metadata": {},
   "outputs": [
    {
     "name": "stdout",
     "output_type": "stream",
     "text": [
      "Remaining number of crpyto:  45\n",
      "I0Series:  []\n",
      "Remaining number of crpyto:  45\n",
      "Remaining number of crpyto:  51\n",
      "I0Series:  []\n",
      "Remaining number of crpyto:  51\n",
      "Remaining number of crpyto:  55\n",
      "I0Series:  []\n",
      "Remaining number of crpyto:  55\n",
      "Remaining number of crpyto:  49\n",
      "I0Series:  ['CRYPTO:USDTUSD']\n",
      "Remaining number of crpyto:  48\n",
      "Remaining number of crpyto:  47\n",
      "I0Series:  []\n",
      "Remaining number of crpyto:  47\n",
      "Remaining number of crpyto:  48\n",
      "I0Series:  ['CRYPTO:ZRXUSD', 'CRYPTO:USDTUSD', 'CRYPTO:SCUSD']\n",
      "Remaining number of crpyto:  45\n",
      "Remaining number of crpyto:  46\n",
      "I0Series:  ['CRYPTO:USDTUSD']\n",
      "Remaining number of crpyto:  45\n",
      "Remaining number of crpyto:  47\n",
      "I0Series:  ['CRYPTO:USDTUSD', 'CRYPTO:KCSUSD']\n",
      "Remaining number of crpyto:  45\n",
      "Remaining number of crpyto:  49\n",
      "I0Series:  ['CRYPTO:LINKUSD', 'CRYPTO:TUSDUSD', 'CRYPTO:USDTUSD']\n",
      "Remaining number of crpyto:  46\n",
      "Remaining number of crpyto:  52\n",
      "I0Series:  ['CRYPTO:TUSDUSD', 'CRYPTO:USDTUSD']\n",
      "Remaining number of crpyto:  50\n",
      "Remaining number of crpyto:  52\n",
      "I0Series:  ['CRYPTO:USDTUSD', 'CRYPTO:TUSDUSD']\n",
      "Remaining number of crpyto:  50\n",
      "Remaining number of crpyto:  57\n",
      "I0Series:  ['CRYPTO:USDTUSD', 'CRYPTO:TUSDUSD']\n",
      "Remaining number of crpyto:  55\n",
      "Remaining number of crpyto:  60\n",
      "I0Series:  ['CRYPTO:BSVUSD', 'CRYPTO:TUSDUSD', 'CRYPTO:DASHUSD', 'CRYPTO:LSKUSD']\n",
      "Remaining number of crpyto:  56\n",
      "Remaining number of crpyto:  58\n",
      "I0Series:  ['CRYPTO:BSVUSD', 'CRYPTO:USDCUSD']\n",
      "Remaining number of crpyto:  56\n",
      "Remaining number of crpyto:  62\n",
      "I0Series:  ['CRYPTO:USDTUSD']\n",
      "Remaining number of crpyto:  61\n",
      "Remaining number of crpyto:  63\n",
      "I0Series:  ['CRYPTO:USDTUSD', 'CRYPTO:TUSDUSD']\n",
      "Remaining number of crpyto:  61\n",
      "Remaining number of crpyto:  66\n",
      "I0Series:  ['CRYPTO:TUSDUSD', 'CRYPTO:DAIUSD']\n",
      "Remaining number of crpyto:  64\n",
      "Remaining number of crpyto:  67\n",
      "I0Series:  ['CRYPTO:DCRUSD', 'CRYPTO:DAIUSD', 'CRYPTO:SUSHIUSD']\n",
      "Remaining number of crpyto:  64\n",
      "Remaining number of crpyto:  65\n",
      "I0Series:  ['CRYPTO:UNIUSD', 'CRYPTO:CAKEUSD', 'CRYPTO:TUSDUSD', 'CRYPTO:AAVEUSD', 'CRYPTO:HBARUSD', 'CRYPTO:XLMUSD']\n",
      "Remaining number of crpyto:  59\n",
      "Remaining number of crpyto:  65\n",
      "I0Series:  ['CRYPTO:USDTUSD', 'CRYPTO:TUSDUSD', 'CRYPTO:CHZUSD']\n",
      "Remaining number of crpyto:  62\n",
      "Remaining number of crpyto:  68\n",
      "I0Series:  ['CRYPTO:ZECUSD', 'CRYPTO:TUSDUSD']\n",
      "Remaining number of crpyto:  66\n",
      "Remaining number of crpyto:  77\n",
      "I0Series:  ['CRYPTO:TUSDUSD']\n",
      "Remaining number of crpyto:  76\n",
      "Remaining number of crpyto:  84\n",
      "I0Series:  ['CRYPTO:FEIUSD', 'CRYPTO:USDPUSD', 'CRYPTO:TUSDUSD', 'CRYPTO:USDCUSD']\n",
      "Remaining number of crpyto:  80\n",
      "Remaining number of crpyto:  78\n",
      "I0Series:  ['CRYPTO:GUSDUSD', 'CRYPTO:USDPUSD', 'CRYPTO:TUSDUSD', 'CRYPTO:USDCUSD', 'CRYPTO:DAIUSD']\n",
      "Remaining number of crpyto:  73\n",
      "Remaining number of crpyto:  82\n",
      "I0Series:  ['CRYPTO:GUSDUSD', 'CRYPTO:USDPUSD', 'CRYPTO:TUSDUSD', 'CRYPTO:USDCUSD', 'CRYPTO:DAIUSD']\n",
      "Remaining number of crpyto:  77\n",
      "Remaining number of crpyto:  82\n",
      "I0Series:  ['CRYPTO:FEIUSD', 'CRYPTO:GUSDUSD', 'CRYPTO:USDPUSD', 'CRYPTO:TUSDUSD', 'CRYPTO:USDCUSD']\n",
      "Remaining number of crpyto:  77\n",
      "Remaining number of crpyto:  88\n",
      "I0Series:  ['CRYPTO:NEXOUSD', 'CRYPTO:FILUSD', 'CRYPTO:KLAYUSD', 'CRYPTO:CAKEUSD', 'CRYPTO:DOTUSD', 'CRYPTO:BTTUSD', 'CRYPTO:GUSDUSD', 'CRYPTO:USDPUSD', 'CRYPTO:TUSDUSD', 'CRYPTO:AVAXUSD', 'CRYPTO:OSMOUSD', 'CRYPTO:USDCUSD', 'CRYPTO:AAVEUSD', 'CRYPTO:BUSDUSD', 'CRYPTO:EOSUSD', 'CRYPTO:LINKUSD', 'CRYPTO:XMRUSD', 'CRYPTO:EGLDUSD', 'CRYPTO:RUNEUSD', 'CRYPTO:MINAUSD', 'CRYPTO:APEUSD', 'CRYPTO:DAIUSD', 'CRYPTO:BCHUSD', 'CRYPTO:DOGEUSD', 'CRYPTO:SHIBUSD', 'CRYPTO:USDDUSD']\n",
      "Remaining number of crpyto:  62\n",
      "Remaining number of crpyto:  88\n",
      "I0Series:  ['CRYPTO:GUSDUSD', 'CRYPTO:USDPUSD', 'CRYPTO:TUSDUSD', 'CRYPTO:USDCUSD', 'CRYPTO:LDOUSD', 'CRYPTO:QNTUSD', 'CRYPTO:XMRUSD', 'CRYPTO:DAIUSD']\n",
      "Remaining number of crpyto:  80\n"
     ]
    }
   ],
   "source": [
    "TransactionRecords = pd.DataFrame(columns=['Date', 'Crypto', 'Long/Short', 'Price', \"Open/Close\", \"Transaction pair\", \"Period No.\", \"Pair No.\", \"Round Trip No.\", \"Quantity\"])\n",
    "SpreadRecords = pd.DataFrame()\n",
    "\n",
    "period = 1\n",
    "for cutoffDate in pd.date_range(startDate, endDate, freq='2MS'):\n",
    "    sampleCrypto = marketCapCryptoSelection(cryptoMarketCapRankDf, cutoffDate, cutoffRank)\n",
    "    sampleCryptoPrice = cryptoPriceCleaning(cryptoPriceDf, sampleCrypto, cutoffDate, lookback)\n",
    "    CointegratedPairs = cointegrationMethodSelection(sampleCryptoPrice, ADFtestThreshold)\n",
    "    Transaction, Spread = cointegrationMethodTrading(cryptoPriceDf, sampleCryptoPrice, CointegratedPairs, cutoffDate, forward, spreadThreshold, closeThreshold, False)\n",
    "    Transaction['Period No.'] = period\n",
    "    TransactionRecords = pd.concat([TransactionRecords, Transaction], ignore_index=True)\n",
    "    SpreadRecords = pd.concat([SpreadRecords, Spread])\n",
    "    period += 1\n",
    "\n",
    "TransactionRecords.to_csv('Transaction/Transactions_cointegration_All.csv')\n",
    "SpreadRecords.to_csv('Transaction/SpreadRecord_cointegration_All.csv')"
   ]
  },
  {
   "cell_type": "code",
   "execution_count": 15,
   "metadata": {},
   "outputs": [
    {
     "name": "stdout",
     "output_type": "stream",
     "text": [
      "Remaining number of crpyto:  45\n",
      "I0Series:  []\n",
      "Remaining number of crpyto:  45\n",
      "Remaining number of crpyto:  51\n",
      "I0Series:  []\n",
      "Remaining number of crpyto:  51\n",
      "Remaining number of crpyto:  55\n",
      "I0Series:  []\n",
      "Remaining number of crpyto:  55\n",
      "Remaining number of crpyto:  49\n",
      "I0Series:  ['CRYPTO:USDTUSD']\n",
      "Remaining number of crpyto:  48\n",
      "Remaining number of crpyto:  47\n",
      "I0Series:  []\n",
      "Remaining number of crpyto:  47\n",
      "Remaining number of crpyto:  48\n",
      "I0Series:  ['CRYPTO:ZRXUSD', 'CRYPTO:USDTUSD', 'CRYPTO:SCUSD']\n",
      "Remaining number of crpyto:  45\n",
      "Remaining number of crpyto:  46\n",
      "I0Series:  ['CRYPTO:USDTUSD']\n",
      "Remaining number of crpyto:  45\n",
      "Remaining number of crpyto:  47\n",
      "I0Series:  ['CRYPTO:USDTUSD', 'CRYPTO:KCSUSD']\n",
      "Remaining number of crpyto:  45\n",
      "Remaining number of crpyto:  49\n",
      "I0Series:  ['CRYPTO:LINKUSD', 'CRYPTO:TUSDUSD', 'CRYPTO:USDTUSD']\n",
      "Remaining number of crpyto:  46\n",
      "Remaining number of crpyto:  52\n",
      "I0Series:  ['CRYPTO:TUSDUSD', 'CRYPTO:USDTUSD']\n",
      "Remaining number of crpyto:  50\n",
      "Remaining number of crpyto:  52\n",
      "I0Series:  ['CRYPTO:USDTUSD', 'CRYPTO:TUSDUSD']\n",
      "Remaining number of crpyto:  50\n",
      "Remaining number of crpyto:  57\n",
      "I0Series:  ['CRYPTO:USDTUSD', 'CRYPTO:TUSDUSD']\n",
      "Remaining number of crpyto:  55\n",
      "Remaining number of crpyto:  60\n",
      "I0Series:  ['CRYPTO:BSVUSD', 'CRYPTO:TUSDUSD', 'CRYPTO:DASHUSD', 'CRYPTO:LSKUSD']\n",
      "Remaining number of crpyto:  56\n",
      "Remaining number of crpyto:  58\n",
      "I0Series:  ['CRYPTO:BSVUSD', 'CRYPTO:USDCUSD']\n",
      "Remaining number of crpyto:  56\n",
      "Remaining number of crpyto:  62\n",
      "I0Series:  ['CRYPTO:USDTUSD']\n",
      "Remaining number of crpyto:  61\n",
      "Remaining number of crpyto:  63\n",
      "I0Series:  ['CRYPTO:USDTUSD', 'CRYPTO:TUSDUSD']\n",
      "Remaining number of crpyto:  61\n",
      "Remaining number of crpyto:  66\n",
      "I0Series:  ['CRYPTO:TUSDUSD', 'CRYPTO:DAIUSD']\n",
      "Remaining number of crpyto:  64\n",
      "Remaining number of crpyto:  67\n",
      "I0Series:  ['CRYPTO:DCRUSD', 'CRYPTO:DAIUSD', 'CRYPTO:SUSHIUSD']\n",
      "Remaining number of crpyto:  64\n",
      "Remaining number of crpyto:  65\n",
      "I0Series:  ['CRYPTO:UNIUSD', 'CRYPTO:CAKEUSD', 'CRYPTO:TUSDUSD', 'CRYPTO:AAVEUSD', 'CRYPTO:HBARUSD', 'CRYPTO:XLMUSD']\n",
      "Remaining number of crpyto:  59\n",
      "Remaining number of crpyto:  65\n",
      "I0Series:  ['CRYPTO:USDTUSD', 'CRYPTO:TUSDUSD', 'CRYPTO:CHZUSD']\n",
      "Remaining number of crpyto:  62\n",
      "Remaining number of crpyto:  68\n",
      "I0Series:  ['CRYPTO:ZECUSD', 'CRYPTO:TUSDUSD']\n",
      "Remaining number of crpyto:  66\n",
      "Remaining number of crpyto:  77\n",
      "I0Series:  ['CRYPTO:TUSDUSD']\n",
      "Remaining number of crpyto:  76\n",
      "Remaining number of crpyto:  84\n",
      "I0Series:  ['CRYPTO:FEIUSD', 'CRYPTO:USDPUSD', 'CRYPTO:TUSDUSD', 'CRYPTO:USDCUSD']\n",
      "Remaining number of crpyto:  80\n",
      "Remaining number of crpyto:  78\n",
      "I0Series:  ['CRYPTO:GUSDUSD', 'CRYPTO:USDPUSD', 'CRYPTO:TUSDUSD', 'CRYPTO:USDCUSD', 'CRYPTO:DAIUSD']\n",
      "Remaining number of crpyto:  73\n",
      "Remaining number of crpyto:  82\n",
      "I0Series:  ['CRYPTO:GUSDUSD', 'CRYPTO:USDPUSD', 'CRYPTO:TUSDUSD', 'CRYPTO:USDCUSD', 'CRYPTO:DAIUSD']\n",
      "Remaining number of crpyto:  77\n",
      "Remaining number of crpyto:  82\n",
      "I0Series:  ['CRYPTO:FEIUSD', 'CRYPTO:GUSDUSD', 'CRYPTO:USDPUSD', 'CRYPTO:TUSDUSD', 'CRYPTO:USDCUSD']\n",
      "Remaining number of crpyto:  77\n",
      "Remaining number of crpyto:  88\n",
      "I0Series:  ['CRYPTO:NEXOUSD', 'CRYPTO:FILUSD', 'CRYPTO:KLAYUSD', 'CRYPTO:CAKEUSD', 'CRYPTO:DOTUSD', 'CRYPTO:BTTUSD', 'CRYPTO:GUSDUSD', 'CRYPTO:USDPUSD', 'CRYPTO:TUSDUSD', 'CRYPTO:AVAXUSD', 'CRYPTO:OSMOUSD', 'CRYPTO:USDCUSD', 'CRYPTO:AAVEUSD', 'CRYPTO:BUSDUSD', 'CRYPTO:EOSUSD', 'CRYPTO:LINKUSD', 'CRYPTO:XMRUSD', 'CRYPTO:EGLDUSD', 'CRYPTO:RUNEUSD', 'CRYPTO:MINAUSD', 'CRYPTO:APEUSD', 'CRYPTO:DAIUSD', 'CRYPTO:BCHUSD', 'CRYPTO:DOGEUSD', 'CRYPTO:SHIBUSD', 'CRYPTO:USDDUSD']\n",
      "Remaining number of crpyto:  62\n",
      "Remaining number of crpyto:  88\n",
      "I0Series:  ['CRYPTO:GUSDUSD', 'CRYPTO:USDPUSD', 'CRYPTO:TUSDUSD', 'CRYPTO:USDCUSD', 'CRYPTO:LDOUSD', 'CRYPTO:QNTUSD', 'CRYPTO:XMRUSD', 'CRYPTO:DAIUSD']\n",
      "Remaining number of crpyto:  80\n"
     ]
    }
   ],
   "source": [
    "TransactionRecords = pd.DataFrame(columns=['Date', 'Crypto', 'Long/Short', 'Price', \"Open/Close\", \"Transaction pair\", \"Period No.\", \"Pair No.\", \"Round Trip No.\", \"Quantity\"])\n",
    "SpreadRecords = pd.DataFrame()\n",
    "\n",
    "period = 1\n",
    "for cutoffDate in pd.date_range(startDate, endDate, freq='2MS'):\n",
    "    sampleCrypto = marketCapCryptoSelection(cryptoMarketCapRankDf, cutoffDate, cutoffRank)\n",
    "    sampleCryptoPrice = cryptoPriceCleaning(cryptoPriceDf, sampleCrypto, cutoffDate, lookback)\n",
    "    CointegratedPairs = cointegrationMethodSelection(sampleCryptoPrice, ADFtestThreshold)\n",
    "    CointegratedPairs = categoriesFilter(CointegratedPairs, cryptoCategoryDf)\n",
    "    Transaction, Spread = cointegrationMethodTrading(cryptoPriceDf, sampleCryptoPrice, CointegratedPairs, cutoffDate, forward, spreadThreshold, closeThreshold, False)\n",
    "    Transaction['Period No.'] = period\n",
    "    TransactionRecords = pd.concat([TransactionRecords, Transaction], ignore_index=True)\n",
    "    SpreadRecords = pd.concat([SpreadRecords, Spread])\n",
    "    period += 1\n",
    "\n",
    "TransactionRecords.to_csv('Transaction/Transactions_cointegration_categoriesFilter.csv')\n",
    "SpreadRecords.to_csv('Transaction/SpreadRecord_cointegration_categoriesFilter.csv')"
   ]
  },
  {
   "cell_type": "code",
   "execution_count": 16,
   "metadata": {},
   "outputs": [
    {
     "name": "stdout",
     "output_type": "stream",
     "text": [
      "Remaining number of crpyto:  45\n",
      "I0Series:  []\n",
      "Remaining number of crpyto:  45\n"
     ]
    },
    {
     "name": "stderr",
     "output_type": "stream",
     "text": [
      "C:\\Users\\harry\\AppData\\Local\\Packages\\PythonSoftwareFoundation.Python.3.9_qbz5n2kfra8p0\\LocalCache\\local-packages\\Python39\\site-packages\\sklearn\\cluster\\_kmeans.py:870: FutureWarning: The default value of `n_init` will change from 10 to 'auto' in 1.4. Set the value of `n_init` explicitly to suppress the warning\n",
      "  warnings.warn(\n"
     ]
    },
    {
     "name": "stdout",
     "output_type": "stream",
     "text": [
      "Remaining number of crpyto:  51\n",
      "I0Series:  []\n",
      "Remaining number of crpyto:  51\n"
     ]
    },
    {
     "name": "stderr",
     "output_type": "stream",
     "text": [
      "C:\\Users\\harry\\AppData\\Local\\Packages\\PythonSoftwareFoundation.Python.3.9_qbz5n2kfra8p0\\LocalCache\\local-packages\\Python39\\site-packages\\sklearn\\cluster\\_kmeans.py:870: FutureWarning: The default value of `n_init` will change from 10 to 'auto' in 1.4. Set the value of `n_init` explicitly to suppress the warning\n",
      "  warnings.warn(\n"
     ]
    },
    {
     "name": "stdout",
     "output_type": "stream",
     "text": [
      "Remaining number of crpyto:  55\n",
      "I0Series:  []\n",
      "Remaining number of crpyto:  55\n"
     ]
    },
    {
     "name": "stderr",
     "output_type": "stream",
     "text": [
      "C:\\Users\\harry\\AppData\\Local\\Packages\\PythonSoftwareFoundation.Python.3.9_qbz5n2kfra8p0\\LocalCache\\local-packages\\Python39\\site-packages\\sklearn\\cluster\\_kmeans.py:870: FutureWarning: The default value of `n_init` will change from 10 to 'auto' in 1.4. Set the value of `n_init` explicitly to suppress the warning\n",
      "  warnings.warn(\n"
     ]
    },
    {
     "name": "stdout",
     "output_type": "stream",
     "text": [
      "Remaining number of crpyto:  49\n",
      "I0Series:  ['CRYPTO:USDTUSD']\n",
      "Remaining number of crpyto:  48\n"
     ]
    },
    {
     "name": "stderr",
     "output_type": "stream",
     "text": [
      "C:\\Users\\harry\\AppData\\Local\\Packages\\PythonSoftwareFoundation.Python.3.9_qbz5n2kfra8p0\\LocalCache\\local-packages\\Python39\\site-packages\\sklearn\\cluster\\_kmeans.py:870: FutureWarning: The default value of `n_init` will change from 10 to 'auto' in 1.4. Set the value of `n_init` explicitly to suppress the warning\n",
      "  warnings.warn(\n"
     ]
    },
    {
     "name": "stdout",
     "output_type": "stream",
     "text": [
      "Remaining number of crpyto:  47\n",
      "I0Series:  []\n",
      "Remaining number of crpyto:  47\n"
     ]
    },
    {
     "name": "stderr",
     "output_type": "stream",
     "text": [
      "C:\\Users\\harry\\AppData\\Local\\Packages\\PythonSoftwareFoundation.Python.3.9_qbz5n2kfra8p0\\LocalCache\\local-packages\\Python39\\site-packages\\sklearn\\cluster\\_kmeans.py:870: FutureWarning: The default value of `n_init` will change from 10 to 'auto' in 1.4. Set the value of `n_init` explicitly to suppress the warning\n",
      "  warnings.warn(\n"
     ]
    },
    {
     "name": "stdout",
     "output_type": "stream",
     "text": [
      "Remaining number of crpyto:  48\n",
      "I0Series:  ['CRYPTO:ZRXUSD', 'CRYPTO:USDTUSD', 'CRYPTO:SCUSD']\n",
      "Remaining number of crpyto:  45\n"
     ]
    },
    {
     "name": "stderr",
     "output_type": "stream",
     "text": [
      "C:\\Users\\harry\\AppData\\Local\\Packages\\PythonSoftwareFoundation.Python.3.9_qbz5n2kfra8p0\\LocalCache\\local-packages\\Python39\\site-packages\\sklearn\\cluster\\_kmeans.py:870: FutureWarning: The default value of `n_init` will change from 10 to 'auto' in 1.4. Set the value of `n_init` explicitly to suppress the warning\n",
      "  warnings.warn(\n"
     ]
    },
    {
     "name": "stdout",
     "output_type": "stream",
     "text": [
      "Remaining number of crpyto:  46\n",
      "I0Series:  ['CRYPTO:USDTUSD']\n",
      "Remaining number of crpyto:  45\n"
     ]
    },
    {
     "name": "stderr",
     "output_type": "stream",
     "text": [
      "C:\\Users\\harry\\AppData\\Local\\Packages\\PythonSoftwareFoundation.Python.3.9_qbz5n2kfra8p0\\LocalCache\\local-packages\\Python39\\site-packages\\sklearn\\cluster\\_kmeans.py:870: FutureWarning: The default value of `n_init` will change from 10 to 'auto' in 1.4. Set the value of `n_init` explicitly to suppress the warning\n",
      "  warnings.warn(\n"
     ]
    },
    {
     "name": "stdout",
     "output_type": "stream",
     "text": [
      "Remaining number of crpyto:  47\n",
      "I0Series:  ['CRYPTO:USDTUSD', 'CRYPTO:KCSUSD']\n",
      "Remaining number of crpyto:  45\n"
     ]
    },
    {
     "name": "stderr",
     "output_type": "stream",
     "text": [
      "C:\\Users\\harry\\AppData\\Local\\Packages\\PythonSoftwareFoundation.Python.3.9_qbz5n2kfra8p0\\LocalCache\\local-packages\\Python39\\site-packages\\sklearn\\cluster\\_kmeans.py:870: FutureWarning: The default value of `n_init` will change from 10 to 'auto' in 1.4. Set the value of `n_init` explicitly to suppress the warning\n",
      "  warnings.warn(\n"
     ]
    },
    {
     "name": "stdout",
     "output_type": "stream",
     "text": [
      "Remaining number of crpyto:  49\n",
      "I0Series:  ['CRYPTO:LINKUSD', 'CRYPTO:TUSDUSD', 'CRYPTO:USDTUSD']\n",
      "Remaining number of crpyto:  46\n"
     ]
    },
    {
     "name": "stderr",
     "output_type": "stream",
     "text": [
      "C:\\Users\\harry\\AppData\\Local\\Packages\\PythonSoftwareFoundation.Python.3.9_qbz5n2kfra8p0\\LocalCache\\local-packages\\Python39\\site-packages\\sklearn\\cluster\\_kmeans.py:870: FutureWarning: The default value of `n_init` will change from 10 to 'auto' in 1.4. Set the value of `n_init` explicitly to suppress the warning\n",
      "  warnings.warn(\n"
     ]
    },
    {
     "name": "stdout",
     "output_type": "stream",
     "text": [
      "Remaining number of crpyto:  52\n",
      "I0Series:  ['CRYPTO:TUSDUSD', 'CRYPTO:USDTUSD']\n",
      "Remaining number of crpyto:  50\n"
     ]
    },
    {
     "name": "stderr",
     "output_type": "stream",
     "text": [
      "C:\\Users\\harry\\AppData\\Local\\Packages\\PythonSoftwareFoundation.Python.3.9_qbz5n2kfra8p0\\LocalCache\\local-packages\\Python39\\site-packages\\sklearn\\cluster\\_kmeans.py:870: FutureWarning: The default value of `n_init` will change from 10 to 'auto' in 1.4. Set the value of `n_init` explicitly to suppress the warning\n",
      "  warnings.warn(\n"
     ]
    },
    {
     "name": "stdout",
     "output_type": "stream",
     "text": [
      "Remaining number of crpyto:  52\n",
      "I0Series:  ['CRYPTO:USDTUSD', 'CRYPTO:TUSDUSD']\n",
      "Remaining number of crpyto:  50\n"
     ]
    },
    {
     "name": "stderr",
     "output_type": "stream",
     "text": [
      "C:\\Users\\harry\\AppData\\Local\\Packages\\PythonSoftwareFoundation.Python.3.9_qbz5n2kfra8p0\\LocalCache\\local-packages\\Python39\\site-packages\\sklearn\\cluster\\_kmeans.py:870: FutureWarning: The default value of `n_init` will change from 10 to 'auto' in 1.4. Set the value of `n_init` explicitly to suppress the warning\n",
      "  warnings.warn(\n"
     ]
    },
    {
     "name": "stdout",
     "output_type": "stream",
     "text": [
      "Remaining number of crpyto:  57\n",
      "I0Series:  ['CRYPTO:USDTUSD', 'CRYPTO:TUSDUSD']\n",
      "Remaining number of crpyto:  55\n"
     ]
    },
    {
     "name": "stderr",
     "output_type": "stream",
     "text": [
      "C:\\Users\\harry\\AppData\\Local\\Packages\\PythonSoftwareFoundation.Python.3.9_qbz5n2kfra8p0\\LocalCache\\local-packages\\Python39\\site-packages\\sklearn\\cluster\\_kmeans.py:870: FutureWarning: The default value of `n_init` will change from 10 to 'auto' in 1.4. Set the value of `n_init` explicitly to suppress the warning\n",
      "  warnings.warn(\n"
     ]
    },
    {
     "name": "stdout",
     "output_type": "stream",
     "text": [
      "Remaining number of crpyto:  60\n",
      "I0Series:  ['CRYPTO:BSVUSD', 'CRYPTO:TUSDUSD', 'CRYPTO:DASHUSD', 'CRYPTO:LSKUSD']\n",
      "Remaining number of crpyto:  56\n"
     ]
    },
    {
     "name": "stderr",
     "output_type": "stream",
     "text": [
      "C:\\Users\\harry\\AppData\\Local\\Packages\\PythonSoftwareFoundation.Python.3.9_qbz5n2kfra8p0\\LocalCache\\local-packages\\Python39\\site-packages\\sklearn\\cluster\\_kmeans.py:870: FutureWarning: The default value of `n_init` will change from 10 to 'auto' in 1.4. Set the value of `n_init` explicitly to suppress the warning\n",
      "  warnings.warn(\n"
     ]
    },
    {
     "name": "stdout",
     "output_type": "stream",
     "text": [
      "Remaining number of crpyto:  58\n",
      "I0Series:  ['CRYPTO:BSVUSD', 'CRYPTO:USDCUSD']\n",
      "Remaining number of crpyto:  56\n"
     ]
    },
    {
     "name": "stderr",
     "output_type": "stream",
     "text": [
      "C:\\Users\\harry\\AppData\\Local\\Packages\\PythonSoftwareFoundation.Python.3.9_qbz5n2kfra8p0\\LocalCache\\local-packages\\Python39\\site-packages\\sklearn\\cluster\\_kmeans.py:870: FutureWarning: The default value of `n_init` will change from 10 to 'auto' in 1.4. Set the value of `n_init` explicitly to suppress the warning\n",
      "  warnings.warn(\n"
     ]
    },
    {
     "name": "stdout",
     "output_type": "stream",
     "text": [
      "Remaining number of crpyto:  62\n",
      "I0Series:  ['CRYPTO:USDTUSD']\n",
      "Remaining number of crpyto:  61\n"
     ]
    },
    {
     "name": "stderr",
     "output_type": "stream",
     "text": [
      "C:\\Users\\harry\\AppData\\Local\\Packages\\PythonSoftwareFoundation.Python.3.9_qbz5n2kfra8p0\\LocalCache\\local-packages\\Python39\\site-packages\\sklearn\\cluster\\_kmeans.py:870: FutureWarning: The default value of `n_init` will change from 10 to 'auto' in 1.4. Set the value of `n_init` explicitly to suppress the warning\n",
      "  warnings.warn(\n"
     ]
    },
    {
     "name": "stdout",
     "output_type": "stream",
     "text": [
      "Remaining number of crpyto:  63\n",
      "I0Series:  ['CRYPTO:USDTUSD', 'CRYPTO:TUSDUSD']\n",
      "Remaining number of crpyto:  61\n"
     ]
    },
    {
     "name": "stderr",
     "output_type": "stream",
     "text": [
      "C:\\Users\\harry\\AppData\\Local\\Packages\\PythonSoftwareFoundation.Python.3.9_qbz5n2kfra8p0\\LocalCache\\local-packages\\Python39\\site-packages\\sklearn\\cluster\\_kmeans.py:870: FutureWarning: The default value of `n_init` will change from 10 to 'auto' in 1.4. Set the value of `n_init` explicitly to suppress the warning\n",
      "  warnings.warn(\n"
     ]
    },
    {
     "name": "stdout",
     "output_type": "stream",
     "text": [
      "Remaining number of crpyto:  66\n",
      "I0Series:  ['CRYPTO:TUSDUSD', 'CRYPTO:DAIUSD']\n",
      "Remaining number of crpyto:  64\n"
     ]
    },
    {
     "name": "stderr",
     "output_type": "stream",
     "text": [
      "C:\\Users\\harry\\AppData\\Local\\Packages\\PythonSoftwareFoundation.Python.3.9_qbz5n2kfra8p0\\LocalCache\\local-packages\\Python39\\site-packages\\sklearn\\cluster\\_kmeans.py:870: FutureWarning: The default value of `n_init` will change from 10 to 'auto' in 1.4. Set the value of `n_init` explicitly to suppress the warning\n",
      "  warnings.warn(\n"
     ]
    },
    {
     "name": "stdout",
     "output_type": "stream",
     "text": [
      "Remaining number of crpyto:  67\n",
      "I0Series:  ['CRYPTO:DCRUSD', 'CRYPTO:DAIUSD', 'CRYPTO:SUSHIUSD']\n",
      "Remaining number of crpyto:  64\n"
     ]
    },
    {
     "name": "stderr",
     "output_type": "stream",
     "text": [
      "C:\\Users\\harry\\AppData\\Local\\Packages\\PythonSoftwareFoundation.Python.3.9_qbz5n2kfra8p0\\LocalCache\\local-packages\\Python39\\site-packages\\sklearn\\cluster\\_kmeans.py:870: FutureWarning: The default value of `n_init` will change from 10 to 'auto' in 1.4. Set the value of `n_init` explicitly to suppress the warning\n",
      "  warnings.warn(\n"
     ]
    },
    {
     "name": "stdout",
     "output_type": "stream",
     "text": [
      "Remaining number of crpyto:  65\n",
      "I0Series:  ['CRYPTO:UNIUSD', 'CRYPTO:CAKEUSD', 'CRYPTO:TUSDUSD', 'CRYPTO:AAVEUSD', 'CRYPTO:HBARUSD', 'CRYPTO:XLMUSD']\n",
      "Remaining number of crpyto:  59\n"
     ]
    },
    {
     "name": "stderr",
     "output_type": "stream",
     "text": [
      "C:\\Users\\harry\\AppData\\Local\\Packages\\PythonSoftwareFoundation.Python.3.9_qbz5n2kfra8p0\\LocalCache\\local-packages\\Python39\\site-packages\\sklearn\\cluster\\_kmeans.py:870: FutureWarning: The default value of `n_init` will change from 10 to 'auto' in 1.4. Set the value of `n_init` explicitly to suppress the warning\n",
      "  warnings.warn(\n"
     ]
    },
    {
     "name": "stdout",
     "output_type": "stream",
     "text": [
      "Remaining number of crpyto:  65\n",
      "I0Series:  ['CRYPTO:USDTUSD', 'CRYPTO:TUSDUSD', 'CRYPTO:CHZUSD']\n",
      "Remaining number of crpyto:  62\n"
     ]
    },
    {
     "name": "stderr",
     "output_type": "stream",
     "text": [
      "C:\\Users\\harry\\AppData\\Local\\Packages\\PythonSoftwareFoundation.Python.3.9_qbz5n2kfra8p0\\LocalCache\\local-packages\\Python39\\site-packages\\sklearn\\cluster\\_kmeans.py:870: FutureWarning: The default value of `n_init` will change from 10 to 'auto' in 1.4. Set the value of `n_init` explicitly to suppress the warning\n",
      "  warnings.warn(\n"
     ]
    },
    {
     "name": "stdout",
     "output_type": "stream",
     "text": [
      "Remaining number of crpyto:  68\n",
      "I0Series:  ['CRYPTO:ZECUSD', 'CRYPTO:TUSDUSD']\n",
      "Remaining number of crpyto:  66\n"
     ]
    },
    {
     "name": "stderr",
     "output_type": "stream",
     "text": [
      "C:\\Users\\harry\\AppData\\Local\\Packages\\PythonSoftwareFoundation.Python.3.9_qbz5n2kfra8p0\\LocalCache\\local-packages\\Python39\\site-packages\\sklearn\\cluster\\_kmeans.py:870: FutureWarning: The default value of `n_init` will change from 10 to 'auto' in 1.4. Set the value of `n_init` explicitly to suppress the warning\n",
      "  warnings.warn(\n"
     ]
    },
    {
     "name": "stdout",
     "output_type": "stream",
     "text": [
      "Remaining number of crpyto:  77\n",
      "I0Series:  ['CRYPTO:TUSDUSD']\n",
      "Remaining number of crpyto:  76\n"
     ]
    },
    {
     "name": "stderr",
     "output_type": "stream",
     "text": [
      "C:\\Users\\harry\\AppData\\Local\\Packages\\PythonSoftwareFoundation.Python.3.9_qbz5n2kfra8p0\\LocalCache\\local-packages\\Python39\\site-packages\\sklearn\\cluster\\_kmeans.py:870: FutureWarning: The default value of `n_init` will change from 10 to 'auto' in 1.4. Set the value of `n_init` explicitly to suppress the warning\n",
      "  warnings.warn(\n"
     ]
    },
    {
     "name": "stdout",
     "output_type": "stream",
     "text": [
      "Remaining number of crpyto:  84\n",
      "I0Series:  ['CRYPTO:FEIUSD', 'CRYPTO:USDPUSD', 'CRYPTO:TUSDUSD', 'CRYPTO:USDCUSD']\n",
      "Remaining number of crpyto:  80\n"
     ]
    },
    {
     "name": "stderr",
     "output_type": "stream",
     "text": [
      "C:\\Users\\harry\\AppData\\Local\\Packages\\PythonSoftwareFoundation.Python.3.9_qbz5n2kfra8p0\\LocalCache\\local-packages\\Python39\\site-packages\\sklearn\\cluster\\_kmeans.py:870: FutureWarning: The default value of `n_init` will change from 10 to 'auto' in 1.4. Set the value of `n_init` explicitly to suppress the warning\n",
      "  warnings.warn(\n"
     ]
    },
    {
     "name": "stdout",
     "output_type": "stream",
     "text": [
      "Remaining number of crpyto:  78\n",
      "I0Series:  ['CRYPTO:GUSDUSD', 'CRYPTO:USDPUSD', 'CRYPTO:TUSDUSD', 'CRYPTO:USDCUSD', 'CRYPTO:DAIUSD']\n",
      "Remaining number of crpyto:  73\n"
     ]
    },
    {
     "name": "stderr",
     "output_type": "stream",
     "text": [
      "C:\\Users\\harry\\AppData\\Local\\Packages\\PythonSoftwareFoundation.Python.3.9_qbz5n2kfra8p0\\LocalCache\\local-packages\\Python39\\site-packages\\sklearn\\cluster\\_kmeans.py:870: FutureWarning: The default value of `n_init` will change from 10 to 'auto' in 1.4. Set the value of `n_init` explicitly to suppress the warning\n",
      "  warnings.warn(\n"
     ]
    },
    {
     "name": "stdout",
     "output_type": "stream",
     "text": [
      "Remaining number of crpyto:  82\n",
      "I0Series:  ['CRYPTO:GUSDUSD', 'CRYPTO:USDPUSD', 'CRYPTO:TUSDUSD', 'CRYPTO:USDCUSD', 'CRYPTO:DAIUSD']\n",
      "Remaining number of crpyto:  77\n"
     ]
    },
    {
     "name": "stderr",
     "output_type": "stream",
     "text": [
      "C:\\Users\\harry\\AppData\\Local\\Packages\\PythonSoftwareFoundation.Python.3.9_qbz5n2kfra8p0\\LocalCache\\local-packages\\Python39\\site-packages\\sklearn\\cluster\\_kmeans.py:870: FutureWarning: The default value of `n_init` will change from 10 to 'auto' in 1.4. Set the value of `n_init` explicitly to suppress the warning\n",
      "  warnings.warn(\n"
     ]
    },
    {
     "name": "stdout",
     "output_type": "stream",
     "text": [
      "Remaining number of crpyto:  82\n",
      "I0Series:  ['CRYPTO:FEIUSD', 'CRYPTO:GUSDUSD', 'CRYPTO:USDPUSD', 'CRYPTO:TUSDUSD', 'CRYPTO:USDCUSD']\n",
      "Remaining number of crpyto:  77\n"
     ]
    },
    {
     "name": "stderr",
     "output_type": "stream",
     "text": [
      "C:\\Users\\harry\\AppData\\Local\\Packages\\PythonSoftwareFoundation.Python.3.9_qbz5n2kfra8p0\\LocalCache\\local-packages\\Python39\\site-packages\\sklearn\\cluster\\_kmeans.py:870: FutureWarning: The default value of `n_init` will change from 10 to 'auto' in 1.4. Set the value of `n_init` explicitly to suppress the warning\n",
      "  warnings.warn(\n"
     ]
    },
    {
     "name": "stdout",
     "output_type": "stream",
     "text": [
      "Remaining number of crpyto:  88\n",
      "I0Series:  ['CRYPTO:NEXOUSD', 'CRYPTO:FILUSD', 'CRYPTO:KLAYUSD', 'CRYPTO:CAKEUSD', 'CRYPTO:DOTUSD', 'CRYPTO:BTTUSD', 'CRYPTO:GUSDUSD', 'CRYPTO:USDPUSD', 'CRYPTO:TUSDUSD', 'CRYPTO:AVAXUSD', 'CRYPTO:OSMOUSD', 'CRYPTO:USDCUSD', 'CRYPTO:AAVEUSD', 'CRYPTO:BUSDUSD', 'CRYPTO:EOSUSD', 'CRYPTO:LINKUSD', 'CRYPTO:XMRUSD', 'CRYPTO:EGLDUSD', 'CRYPTO:RUNEUSD', 'CRYPTO:MINAUSD', 'CRYPTO:APEUSD', 'CRYPTO:DAIUSD', 'CRYPTO:BCHUSD', 'CRYPTO:DOGEUSD', 'CRYPTO:SHIBUSD', 'CRYPTO:USDDUSD']\n",
      "Remaining number of crpyto:  62\n"
     ]
    },
    {
     "name": "stderr",
     "output_type": "stream",
     "text": [
      "C:\\Users\\harry\\AppData\\Local\\Packages\\PythonSoftwareFoundation.Python.3.9_qbz5n2kfra8p0\\LocalCache\\local-packages\\Python39\\site-packages\\sklearn\\cluster\\_kmeans.py:870: FutureWarning: The default value of `n_init` will change from 10 to 'auto' in 1.4. Set the value of `n_init` explicitly to suppress the warning\n",
      "  warnings.warn(\n"
     ]
    },
    {
     "name": "stdout",
     "output_type": "stream",
     "text": [
      "Remaining number of crpyto:  88\n",
      "I0Series:  ['CRYPTO:GUSDUSD', 'CRYPTO:USDPUSD', 'CRYPTO:TUSDUSD', 'CRYPTO:USDCUSD', 'CRYPTO:LDOUSD', 'CRYPTO:QNTUSD', 'CRYPTO:XMRUSD', 'CRYPTO:DAIUSD']\n",
      "Remaining number of crpyto:  80\n"
     ]
    },
    {
     "name": "stderr",
     "output_type": "stream",
     "text": [
      "C:\\Users\\harry\\AppData\\Local\\Packages\\PythonSoftwareFoundation.Python.3.9_qbz5n2kfra8p0\\LocalCache\\local-packages\\Python39\\site-packages\\sklearn\\cluster\\_kmeans.py:870: FutureWarning: The default value of `n_init` will change from 10 to 'auto' in 1.4. Set the value of `n_init` explicitly to suppress the warning\n",
      "  warnings.warn(\n"
     ]
    }
   ],
   "source": [
    "TransactionRecords = pd.DataFrame(columns=['Date', 'Crypto', 'Long/Short', 'Price', \"Open/Close\", \"Transaction pair\", \"Period No.\", \"Pair No.\", \"Round Trip No.\", \"Quantity\"])\n",
    "SpreadRecords = pd.DataFrame()\n",
    "\n",
    "period = 1\n",
    "for cutoffDate in pd.date_range(startDate, endDate, freq='2MS'):\n",
    "    sampleCrypto = marketCapCryptoSelection(cryptoMarketCapRankDf, cutoffDate, cutoffRank)\n",
    "    sampleCryptoPrice = cryptoPriceCleaning(cryptoPriceDf, sampleCrypto, cutoffDate, lookback)\n",
    "    CointegratedPairs = cointegrationMethodSelection(sampleCryptoPrice, ADFtestThreshold)\n",
    "    CointegratedPairs = KmeanFilter(sampleCryptoPrice, CointegratedPairs)\n",
    "    Transaction, Spread = cointegrationMethodTrading(cryptoPriceDf, sampleCryptoPrice, CointegratedPairs, cutoffDate, forward, spreadThreshold, closeThreshold, False)\n",
    "    Transaction['Period No.'] = period\n",
    "    TransactionRecords = pd.concat([TransactionRecords, Transaction], ignore_index=True)\n",
    "    SpreadRecords = pd.concat([SpreadRecords, Spread])\n",
    "    period += 1\n",
    "\n",
    "TransactionRecords.to_csv('Transaction/Transactions_cointegration_KmeanFilter.csv')\n",
    "SpreadRecords.to_csv('Transaction/SpreadRecord_cointegration_KmeanFilter.csv')"
   ]
  },
  {
   "cell_type": "code",
   "execution_count": 99,
   "metadata": {},
   "outputs": [
    {
     "name": "stdout",
     "output_type": "stream",
     "text": [
      "Remaining number of crpyto:  45\n",
      "I0Series:  []\n",
      "Remaining number of crpyto:  45\n",
      "Remaining number of crpyto:  51\n",
      "I0Series:  []\n",
      "Remaining number of crpyto:  51\n",
      "Remaining number of crpyto:  55\n",
      "I0Series:  []\n",
      "Remaining number of crpyto:  55\n",
      "Remaining number of crpyto:  49\n",
      "I0Series:  ['CRYPTO:USDTUSD']\n",
      "Remaining number of crpyto:  48\n",
      "Remaining number of crpyto:  47\n",
      "I0Series:  []\n",
      "Remaining number of crpyto:  47\n",
      "Remaining number of crpyto:  48\n",
      "I0Series:  ['CRYPTO:ZRXUSD', 'CRYPTO:USDTUSD', 'CRYPTO:SCUSD']\n",
      "Remaining number of crpyto:  45\n",
      "Remaining number of crpyto:  46\n",
      "I0Series:  ['CRYPTO:USDTUSD']\n",
      "Remaining number of crpyto:  45\n",
      "Remaining number of crpyto:  47\n",
      "I0Series:  ['CRYPTO:USDTUSD', 'CRYPTO:KCSUSD']\n",
      "Remaining number of crpyto:  45\n",
      "Remaining number of crpyto:  49\n",
      "I0Series:  ['CRYPTO:LINKUSD', 'CRYPTO:TUSDUSD', 'CRYPTO:USDTUSD']\n",
      "Remaining number of crpyto:  46\n",
      "Remaining number of crpyto:  52\n",
      "I0Series:  ['CRYPTO:TUSDUSD', 'CRYPTO:USDTUSD']\n",
      "Remaining number of crpyto:  50\n",
      "Remaining number of crpyto:  52\n",
      "I0Series:  ['CRYPTO:USDTUSD', 'CRYPTO:TUSDUSD']\n",
      "Remaining number of crpyto:  50\n",
      "Remaining number of crpyto:  57\n",
      "I0Series:  ['CRYPTO:USDTUSD', 'CRYPTO:TUSDUSD']\n",
      "Remaining number of crpyto:  55\n",
      "Remaining number of crpyto:  60\n",
      "I0Series:  ['CRYPTO:BSVUSD', 'CRYPTO:TUSDUSD', 'CRYPTO:DASHUSD', 'CRYPTO:LSKUSD']\n",
      "Remaining number of crpyto:  56\n",
      "Remaining number of crpyto:  58\n",
      "I0Series:  ['CRYPTO:BSVUSD', 'CRYPTO:USDCUSD']\n",
      "Remaining number of crpyto:  56\n",
      "Remaining number of crpyto:  62\n",
      "I0Series:  ['CRYPTO:USDTUSD']\n",
      "Remaining number of crpyto:  61\n",
      "Remaining number of crpyto:  63\n",
      "I0Series:  ['CRYPTO:USDTUSD', 'CRYPTO:TUSDUSD']\n",
      "Remaining number of crpyto:  61\n",
      "Remaining number of crpyto:  66\n",
      "I0Series:  ['CRYPTO:TUSDUSD', 'CRYPTO:DAIUSD']\n",
      "Remaining number of crpyto:  64\n",
      "Remaining number of crpyto:  67\n",
      "I0Series:  ['CRYPTO:DCRUSD', 'CRYPTO:DAIUSD', 'CRYPTO:SUSHIUSD']\n",
      "Remaining number of crpyto:  64\n",
      "Remaining number of crpyto:  65\n",
      "I0Series:  ['CRYPTO:UNIUSD', 'CRYPTO:CAKEUSD', 'CRYPTO:TUSDUSD', 'CRYPTO:AAVEUSD', 'CRYPTO:HBARUSD', 'CRYPTO:XLMUSD']\n",
      "Remaining number of crpyto:  59\n",
      "Remaining number of crpyto:  65\n",
      "I0Series:  ['CRYPTO:USDTUSD', 'CRYPTO:TUSDUSD', 'CRYPTO:CHZUSD']\n",
      "Remaining number of crpyto:  62\n",
      "Remaining number of crpyto:  68\n",
      "I0Series:  ['CRYPTO:ZECUSD', 'CRYPTO:TUSDUSD']\n",
      "Remaining number of crpyto:  66\n",
      "Remaining number of crpyto:  77\n",
      "I0Series:  ['CRYPTO:TUSDUSD']\n",
      "Remaining number of crpyto:  76\n",
      "Remaining number of crpyto:  84\n",
      "I0Series:  ['CRYPTO:FEIUSD', 'CRYPTO:USDPUSD', 'CRYPTO:TUSDUSD', 'CRYPTO:USDCUSD']\n",
      "Remaining number of crpyto:  80\n",
      "Remaining number of crpyto:  78\n",
      "I0Series:  ['CRYPTO:GUSDUSD', 'CRYPTO:USDPUSD', 'CRYPTO:TUSDUSD', 'CRYPTO:USDCUSD', 'CRYPTO:DAIUSD']\n",
      "Remaining number of crpyto:  73\n",
      "Remaining number of crpyto:  82\n",
      "I0Series:  ['CRYPTO:GUSDUSD', 'CRYPTO:USDPUSD', 'CRYPTO:TUSDUSD', 'CRYPTO:USDCUSD', 'CRYPTO:DAIUSD']\n",
      "Remaining number of crpyto:  77\n",
      "Remaining number of crpyto:  82\n",
      "I0Series:  ['CRYPTO:FEIUSD', 'CRYPTO:GUSDUSD', 'CRYPTO:USDPUSD', 'CRYPTO:TUSDUSD', 'CRYPTO:USDCUSD']\n",
      "Remaining number of crpyto:  77\n",
      "Remaining number of crpyto:  88\n",
      "I0Series:  ['CRYPTO:NEXOUSD', 'CRYPTO:FILUSD', 'CRYPTO:KLAYUSD', 'CRYPTO:CAKEUSD', 'CRYPTO:DOTUSD', 'CRYPTO:BTTUSD', 'CRYPTO:GUSDUSD', 'CRYPTO:USDPUSD', 'CRYPTO:TUSDUSD', 'CRYPTO:AVAXUSD', 'CRYPTO:OSMOUSD', 'CRYPTO:USDCUSD', 'CRYPTO:AAVEUSD', 'CRYPTO:BUSDUSD', 'CRYPTO:EOSUSD', 'CRYPTO:LINKUSD', 'CRYPTO:XMRUSD', 'CRYPTO:EGLDUSD', 'CRYPTO:RUNEUSD', 'CRYPTO:MINAUSD', 'CRYPTO:APEUSD', 'CRYPTO:DAIUSD', 'CRYPTO:BCHUSD', 'CRYPTO:DOGEUSD', 'CRYPTO:SHIBUSD', 'CRYPTO:USDDUSD']\n",
      "Remaining number of crpyto:  62\n",
      "Remaining number of crpyto:  88\n",
      "I0Series:  ['CRYPTO:GUSDUSD', 'CRYPTO:USDPUSD', 'CRYPTO:TUSDUSD', 'CRYPTO:USDCUSD', 'CRYPTO:LDOUSD', 'CRYPTO:QNTUSD', 'CRYPTO:XMRUSD', 'CRYPTO:DAIUSD']\n",
      "Remaining number of crpyto:  80\n"
     ]
    }
   ],
   "source": [
    "TransactionRecords = pd.DataFrame(columns=['Date', 'Crypto', 'Long/Short', 'Price', \"Open/Close\", \"Transaction pair\", \"Period No.\", \"Pair No.\", \"Round Trip No.\", \"Quantity\"])\n",
    "SpreadRecords = pd.DataFrame()\n",
    "\n",
    "period = 1\n",
    "for cutoffDate in pd.date_range(startDate, endDate, freq='2MS'):\n",
    "    sampleCrypto = marketCapCryptoSelection(cryptoMarketCapRankDf, cutoffDate, cutoffRank)\n",
    "    sampleCryptoPrice = cryptoPriceCleaning(cryptoPriceDf, sampleCrypto, cutoffDate, lookback)\n",
    "    CointegratedPairs = cointegrationMethodSelection(sampleCryptoPrice, ADFtestThreshold)\n",
    "    CointegratedPairs = halfLifeFilter(sampleCryptoPrice, CointegratedPairs, noOfPair)\n",
    "    Transaction, Spread = cointegrationMethodTrading(cryptoPriceDf, sampleCryptoPrice, CointegratedPairs, cutoffDate, forward, spreadThreshold, closeThreshold, False)\n",
    "    Transaction['Period No.'] = period\n",
    "    TransactionRecords = pd.concat([TransactionRecords, Transaction], ignore_index=True)\n",
    "    SpreadRecords = pd.concat([SpreadRecords, Spread])\n",
    "    period += 1\n",
    "\n",
    "TransactionRecords.to_csv('Transaction/Transactions_cointegration_halfLifeFilter 500.csv')\n",
    "SpreadRecords.to_csv('Transaction/SpreadRecord_cointegration_halfLifeFilter 500.csv')"
   ]
  },
  {
   "cell_type": "code",
   "execution_count": 62,
   "metadata": {},
   "outputs": [
    {
     "name": "stdout",
     "output_type": "stream",
     "text": [
      "Remaining number of crpyto:  45\n",
      "I0Series:  []\n",
      "Remaining number of crpyto:  45\n"
     ]
    },
    {
     "name": "stderr",
     "output_type": "stream",
     "text": [
      "C:\\Users\\harry\\AppData\\Local\\Packages\\PythonSoftwareFoundation.Python.3.9_qbz5n2kfra8p0\\LocalCache\\local-packages\\Python39\\site-packages\\sklearn\\cluster\\_kmeans.py:870: FutureWarning: The default value of `n_init` will change from 10 to 'auto' in 1.4. Set the value of `n_init` explicitly to suppress the warning\n",
      "  warnings.warn(\n"
     ]
    },
    {
     "name": "stdout",
     "output_type": "stream",
     "text": [
      "Remaining number of crpyto:  51\n",
      "I0Series:  []\n",
      "Remaining number of crpyto:  51\n"
     ]
    },
    {
     "name": "stderr",
     "output_type": "stream",
     "text": [
      "C:\\Users\\harry\\AppData\\Local\\Packages\\PythonSoftwareFoundation.Python.3.9_qbz5n2kfra8p0\\LocalCache\\local-packages\\Python39\\site-packages\\sklearn\\cluster\\_kmeans.py:870: FutureWarning: The default value of `n_init` will change from 10 to 'auto' in 1.4. Set the value of `n_init` explicitly to suppress the warning\n",
      "  warnings.warn(\n"
     ]
    },
    {
     "name": "stdout",
     "output_type": "stream",
     "text": [
      "Remaining number of crpyto:  55\n",
      "I0Series:  []\n",
      "Remaining number of crpyto:  55\n"
     ]
    },
    {
     "name": "stderr",
     "output_type": "stream",
     "text": [
      "C:\\Users\\harry\\AppData\\Local\\Packages\\PythonSoftwareFoundation.Python.3.9_qbz5n2kfra8p0\\LocalCache\\local-packages\\Python39\\site-packages\\sklearn\\cluster\\_kmeans.py:870: FutureWarning: The default value of `n_init` will change from 10 to 'auto' in 1.4. Set the value of `n_init` explicitly to suppress the warning\n",
      "  warnings.warn(\n"
     ]
    },
    {
     "name": "stdout",
     "output_type": "stream",
     "text": [
      "Remaining number of crpyto:  49\n",
      "I0Series:  ['CRYPTO:USDTUSD']\n",
      "Remaining number of crpyto:  48\n"
     ]
    },
    {
     "name": "stderr",
     "output_type": "stream",
     "text": [
      "C:\\Users\\harry\\AppData\\Local\\Packages\\PythonSoftwareFoundation.Python.3.9_qbz5n2kfra8p0\\LocalCache\\local-packages\\Python39\\site-packages\\sklearn\\cluster\\_kmeans.py:870: FutureWarning: The default value of `n_init` will change from 10 to 'auto' in 1.4. Set the value of `n_init` explicitly to suppress the warning\n",
      "  warnings.warn(\n"
     ]
    },
    {
     "name": "stdout",
     "output_type": "stream",
     "text": [
      "Remaining number of crpyto:  47\n",
      "I0Series:  []\n",
      "Remaining number of crpyto:  47\n"
     ]
    },
    {
     "name": "stderr",
     "output_type": "stream",
     "text": [
      "C:\\Users\\harry\\AppData\\Local\\Packages\\PythonSoftwareFoundation.Python.3.9_qbz5n2kfra8p0\\LocalCache\\local-packages\\Python39\\site-packages\\sklearn\\cluster\\_kmeans.py:870: FutureWarning: The default value of `n_init` will change from 10 to 'auto' in 1.4. Set the value of `n_init` explicitly to suppress the warning\n",
      "  warnings.warn(\n"
     ]
    },
    {
     "name": "stdout",
     "output_type": "stream",
     "text": [
      "Remaining number of crpyto:  48\n",
      "I0Series:  ['CRYPTO:ZRXUSD', 'CRYPTO:USDTUSD', 'CRYPTO:SCUSD']\n",
      "Remaining number of crpyto:  45\n"
     ]
    },
    {
     "name": "stderr",
     "output_type": "stream",
     "text": [
      "C:\\Users\\harry\\AppData\\Local\\Packages\\PythonSoftwareFoundation.Python.3.9_qbz5n2kfra8p0\\LocalCache\\local-packages\\Python39\\site-packages\\sklearn\\cluster\\_kmeans.py:870: FutureWarning: The default value of `n_init` will change from 10 to 'auto' in 1.4. Set the value of `n_init` explicitly to suppress the warning\n",
      "  warnings.warn(\n"
     ]
    },
    {
     "name": "stdout",
     "output_type": "stream",
     "text": [
      "Remaining number of crpyto:  46\n",
      "I0Series:  ['CRYPTO:USDTUSD']\n",
      "Remaining number of crpyto:  45\n"
     ]
    },
    {
     "name": "stderr",
     "output_type": "stream",
     "text": [
      "C:\\Users\\harry\\AppData\\Local\\Packages\\PythonSoftwareFoundation.Python.3.9_qbz5n2kfra8p0\\LocalCache\\local-packages\\Python39\\site-packages\\sklearn\\cluster\\_kmeans.py:870: FutureWarning: The default value of `n_init` will change from 10 to 'auto' in 1.4. Set the value of `n_init` explicitly to suppress the warning\n",
      "  warnings.warn(\n"
     ]
    },
    {
     "name": "stdout",
     "output_type": "stream",
     "text": [
      "Remaining number of crpyto:  47\n",
      "I0Series:  ['CRYPTO:USDTUSD', 'CRYPTO:KCSUSD']\n",
      "Remaining number of crpyto:  45\n"
     ]
    },
    {
     "name": "stderr",
     "output_type": "stream",
     "text": [
      "C:\\Users\\harry\\AppData\\Local\\Packages\\PythonSoftwareFoundation.Python.3.9_qbz5n2kfra8p0\\LocalCache\\local-packages\\Python39\\site-packages\\sklearn\\cluster\\_kmeans.py:870: FutureWarning: The default value of `n_init` will change from 10 to 'auto' in 1.4. Set the value of `n_init` explicitly to suppress the warning\n",
      "  warnings.warn(\n"
     ]
    },
    {
     "name": "stdout",
     "output_type": "stream",
     "text": [
      "Remaining number of crpyto:  49\n",
      "I0Series:  ['CRYPTO:LINKUSD', 'CRYPTO:TUSDUSD', 'CRYPTO:USDTUSD']\n",
      "Remaining number of crpyto:  46\n"
     ]
    },
    {
     "name": "stderr",
     "output_type": "stream",
     "text": [
      "C:\\Users\\harry\\AppData\\Local\\Packages\\PythonSoftwareFoundation.Python.3.9_qbz5n2kfra8p0\\LocalCache\\local-packages\\Python39\\site-packages\\sklearn\\cluster\\_kmeans.py:870: FutureWarning: The default value of `n_init` will change from 10 to 'auto' in 1.4. Set the value of `n_init` explicitly to suppress the warning\n",
      "  warnings.warn(\n"
     ]
    },
    {
     "name": "stdout",
     "output_type": "stream",
     "text": [
      "Remaining number of crpyto:  52\n",
      "I0Series:  ['CRYPTO:TUSDUSD', 'CRYPTO:USDTUSD']\n",
      "Remaining number of crpyto:  50\n"
     ]
    },
    {
     "name": "stderr",
     "output_type": "stream",
     "text": [
      "C:\\Users\\harry\\AppData\\Local\\Packages\\PythonSoftwareFoundation.Python.3.9_qbz5n2kfra8p0\\LocalCache\\local-packages\\Python39\\site-packages\\sklearn\\cluster\\_kmeans.py:870: FutureWarning: The default value of `n_init` will change from 10 to 'auto' in 1.4. Set the value of `n_init` explicitly to suppress the warning\n",
      "  warnings.warn(\n"
     ]
    },
    {
     "name": "stdout",
     "output_type": "stream",
     "text": [
      "Remaining number of crpyto:  52\n",
      "I0Series:  ['CRYPTO:USDTUSD', 'CRYPTO:TUSDUSD']\n",
      "Remaining number of crpyto:  50\n"
     ]
    },
    {
     "name": "stderr",
     "output_type": "stream",
     "text": [
      "C:\\Users\\harry\\AppData\\Local\\Packages\\PythonSoftwareFoundation.Python.3.9_qbz5n2kfra8p0\\LocalCache\\local-packages\\Python39\\site-packages\\sklearn\\cluster\\_kmeans.py:870: FutureWarning: The default value of `n_init` will change from 10 to 'auto' in 1.4. Set the value of `n_init` explicitly to suppress the warning\n",
      "  warnings.warn(\n"
     ]
    },
    {
     "name": "stdout",
     "output_type": "stream",
     "text": [
      "Remaining number of crpyto:  57\n",
      "I0Series:  ['CRYPTO:USDTUSD', 'CRYPTO:TUSDUSD']\n",
      "Remaining number of crpyto:  55\n"
     ]
    },
    {
     "name": "stderr",
     "output_type": "stream",
     "text": [
      "C:\\Users\\harry\\AppData\\Local\\Packages\\PythonSoftwareFoundation.Python.3.9_qbz5n2kfra8p0\\LocalCache\\local-packages\\Python39\\site-packages\\sklearn\\cluster\\_kmeans.py:870: FutureWarning: The default value of `n_init` will change from 10 to 'auto' in 1.4. Set the value of `n_init` explicitly to suppress the warning\n",
      "  warnings.warn(\n"
     ]
    },
    {
     "name": "stdout",
     "output_type": "stream",
     "text": [
      "Remaining number of crpyto:  60\n",
      "I0Series:  ['CRYPTO:BSVUSD', 'CRYPTO:TUSDUSD', 'CRYPTO:DASHUSD', 'CRYPTO:LSKUSD']\n",
      "Remaining number of crpyto:  56\n"
     ]
    },
    {
     "name": "stderr",
     "output_type": "stream",
     "text": [
      "C:\\Users\\harry\\AppData\\Local\\Packages\\PythonSoftwareFoundation.Python.3.9_qbz5n2kfra8p0\\LocalCache\\local-packages\\Python39\\site-packages\\sklearn\\cluster\\_kmeans.py:870: FutureWarning: The default value of `n_init` will change from 10 to 'auto' in 1.4. Set the value of `n_init` explicitly to suppress the warning\n",
      "  warnings.warn(\n"
     ]
    },
    {
     "name": "stdout",
     "output_type": "stream",
     "text": [
      "Remaining number of crpyto:  58\n",
      "I0Series:  ['CRYPTO:BSVUSD', 'CRYPTO:USDCUSD']\n",
      "Remaining number of crpyto:  56\n"
     ]
    },
    {
     "name": "stderr",
     "output_type": "stream",
     "text": [
      "C:\\Users\\harry\\AppData\\Local\\Packages\\PythonSoftwareFoundation.Python.3.9_qbz5n2kfra8p0\\LocalCache\\local-packages\\Python39\\site-packages\\sklearn\\cluster\\_kmeans.py:870: FutureWarning: The default value of `n_init` will change from 10 to 'auto' in 1.4. Set the value of `n_init` explicitly to suppress the warning\n",
      "  warnings.warn(\n"
     ]
    },
    {
     "name": "stdout",
     "output_type": "stream",
     "text": [
      "Remaining number of crpyto:  62\n",
      "I0Series:  ['CRYPTO:USDTUSD']\n",
      "Remaining number of crpyto:  61\n"
     ]
    },
    {
     "name": "stderr",
     "output_type": "stream",
     "text": [
      "C:\\Users\\harry\\AppData\\Local\\Packages\\PythonSoftwareFoundation.Python.3.9_qbz5n2kfra8p0\\LocalCache\\local-packages\\Python39\\site-packages\\sklearn\\cluster\\_kmeans.py:870: FutureWarning: The default value of `n_init` will change from 10 to 'auto' in 1.4. Set the value of `n_init` explicitly to suppress the warning\n",
      "  warnings.warn(\n"
     ]
    },
    {
     "name": "stdout",
     "output_type": "stream",
     "text": [
      "Remaining number of crpyto:  63\n",
      "I0Series:  ['CRYPTO:USDTUSD', 'CRYPTO:TUSDUSD']\n",
      "Remaining number of crpyto:  61\n"
     ]
    },
    {
     "name": "stderr",
     "output_type": "stream",
     "text": [
      "C:\\Users\\harry\\AppData\\Local\\Packages\\PythonSoftwareFoundation.Python.3.9_qbz5n2kfra8p0\\LocalCache\\local-packages\\Python39\\site-packages\\sklearn\\cluster\\_kmeans.py:870: FutureWarning: The default value of `n_init` will change from 10 to 'auto' in 1.4. Set the value of `n_init` explicitly to suppress the warning\n",
      "  warnings.warn(\n"
     ]
    },
    {
     "name": "stdout",
     "output_type": "stream",
     "text": [
      "Remaining number of crpyto:  66\n",
      "I0Series:  ['CRYPTO:TUSDUSD', 'CRYPTO:DAIUSD']\n",
      "Remaining number of crpyto:  64\n"
     ]
    },
    {
     "name": "stderr",
     "output_type": "stream",
     "text": [
      "C:\\Users\\harry\\AppData\\Local\\Packages\\PythonSoftwareFoundation.Python.3.9_qbz5n2kfra8p0\\LocalCache\\local-packages\\Python39\\site-packages\\sklearn\\cluster\\_kmeans.py:870: FutureWarning: The default value of `n_init` will change from 10 to 'auto' in 1.4. Set the value of `n_init` explicitly to suppress the warning\n",
      "  warnings.warn(\n"
     ]
    },
    {
     "name": "stdout",
     "output_type": "stream",
     "text": [
      "Remaining number of crpyto:  67\n",
      "I0Series:  ['CRYPTO:DCRUSD', 'CRYPTO:DAIUSD', 'CRYPTO:SUSHIUSD']\n",
      "Remaining number of crpyto:  64\n"
     ]
    },
    {
     "name": "stderr",
     "output_type": "stream",
     "text": [
      "C:\\Users\\harry\\AppData\\Local\\Packages\\PythonSoftwareFoundation.Python.3.9_qbz5n2kfra8p0\\LocalCache\\local-packages\\Python39\\site-packages\\sklearn\\cluster\\_kmeans.py:870: FutureWarning: The default value of `n_init` will change from 10 to 'auto' in 1.4. Set the value of `n_init` explicitly to suppress the warning\n",
      "  warnings.warn(\n"
     ]
    },
    {
     "name": "stdout",
     "output_type": "stream",
     "text": [
      "Remaining number of crpyto:  65\n",
      "I0Series:  ['CRYPTO:UNIUSD', 'CRYPTO:CAKEUSD', 'CRYPTO:TUSDUSD', 'CRYPTO:AAVEUSD', 'CRYPTO:HBARUSD', 'CRYPTO:XLMUSD']\n",
      "Remaining number of crpyto:  59\n"
     ]
    },
    {
     "name": "stderr",
     "output_type": "stream",
     "text": [
      "C:\\Users\\harry\\AppData\\Local\\Packages\\PythonSoftwareFoundation.Python.3.9_qbz5n2kfra8p0\\LocalCache\\local-packages\\Python39\\site-packages\\sklearn\\cluster\\_kmeans.py:870: FutureWarning: The default value of `n_init` will change from 10 to 'auto' in 1.4. Set the value of `n_init` explicitly to suppress the warning\n",
      "  warnings.warn(\n"
     ]
    },
    {
     "name": "stdout",
     "output_type": "stream",
     "text": [
      "Remaining number of crpyto:  65\n",
      "I0Series:  ['CRYPTO:USDTUSD', 'CRYPTO:TUSDUSD', 'CRYPTO:CHZUSD']\n",
      "Remaining number of crpyto:  62\n"
     ]
    },
    {
     "name": "stderr",
     "output_type": "stream",
     "text": [
      "C:\\Users\\harry\\AppData\\Local\\Packages\\PythonSoftwareFoundation.Python.3.9_qbz5n2kfra8p0\\LocalCache\\local-packages\\Python39\\site-packages\\sklearn\\cluster\\_kmeans.py:870: FutureWarning: The default value of `n_init` will change from 10 to 'auto' in 1.4. Set the value of `n_init` explicitly to suppress the warning\n",
      "  warnings.warn(\n"
     ]
    },
    {
     "name": "stdout",
     "output_type": "stream",
     "text": [
      "Remaining number of crpyto:  68\n",
      "I0Series:  ['CRYPTO:ZECUSD', 'CRYPTO:TUSDUSD']\n",
      "Remaining number of crpyto:  66\n"
     ]
    },
    {
     "name": "stderr",
     "output_type": "stream",
     "text": [
      "C:\\Users\\harry\\AppData\\Local\\Packages\\PythonSoftwareFoundation.Python.3.9_qbz5n2kfra8p0\\LocalCache\\local-packages\\Python39\\site-packages\\sklearn\\cluster\\_kmeans.py:870: FutureWarning: The default value of `n_init` will change from 10 to 'auto' in 1.4. Set the value of `n_init` explicitly to suppress the warning\n",
      "  warnings.warn(\n"
     ]
    },
    {
     "name": "stdout",
     "output_type": "stream",
     "text": [
      "Remaining number of crpyto:  77\n",
      "I0Series:  ['CRYPTO:TUSDUSD']\n",
      "Remaining number of crpyto:  76\n"
     ]
    },
    {
     "name": "stderr",
     "output_type": "stream",
     "text": [
      "C:\\Users\\harry\\AppData\\Local\\Packages\\PythonSoftwareFoundation.Python.3.9_qbz5n2kfra8p0\\LocalCache\\local-packages\\Python39\\site-packages\\sklearn\\cluster\\_kmeans.py:870: FutureWarning: The default value of `n_init` will change from 10 to 'auto' in 1.4. Set the value of `n_init` explicitly to suppress the warning\n",
      "  warnings.warn(\n"
     ]
    },
    {
     "name": "stdout",
     "output_type": "stream",
     "text": [
      "Remaining number of crpyto:  84\n",
      "I0Series:  ['CRYPTO:FEIUSD', 'CRYPTO:USDPUSD', 'CRYPTO:TUSDUSD', 'CRYPTO:USDCUSD']\n",
      "Remaining number of crpyto:  80\n"
     ]
    },
    {
     "name": "stderr",
     "output_type": "stream",
     "text": [
      "C:\\Users\\harry\\AppData\\Local\\Packages\\PythonSoftwareFoundation.Python.3.9_qbz5n2kfra8p0\\LocalCache\\local-packages\\Python39\\site-packages\\sklearn\\cluster\\_kmeans.py:870: FutureWarning: The default value of `n_init` will change from 10 to 'auto' in 1.4. Set the value of `n_init` explicitly to suppress the warning\n",
      "  warnings.warn(\n"
     ]
    },
    {
     "name": "stdout",
     "output_type": "stream",
     "text": [
      "Remaining number of crpyto:  78\n",
      "I0Series:  ['CRYPTO:GUSDUSD', 'CRYPTO:USDPUSD', 'CRYPTO:TUSDUSD', 'CRYPTO:USDCUSD', 'CRYPTO:DAIUSD']\n",
      "Remaining number of crpyto:  73\n"
     ]
    },
    {
     "name": "stderr",
     "output_type": "stream",
     "text": [
      "C:\\Users\\harry\\AppData\\Local\\Packages\\PythonSoftwareFoundation.Python.3.9_qbz5n2kfra8p0\\LocalCache\\local-packages\\Python39\\site-packages\\sklearn\\cluster\\_kmeans.py:870: FutureWarning: The default value of `n_init` will change from 10 to 'auto' in 1.4. Set the value of `n_init` explicitly to suppress the warning\n",
      "  warnings.warn(\n"
     ]
    },
    {
     "name": "stdout",
     "output_type": "stream",
     "text": [
      "Remaining number of crpyto:  82\n",
      "I0Series:  ['CRYPTO:GUSDUSD', 'CRYPTO:USDPUSD', 'CRYPTO:TUSDUSD', 'CRYPTO:USDCUSD', 'CRYPTO:DAIUSD']\n",
      "Remaining number of crpyto:  77\n"
     ]
    },
    {
     "name": "stderr",
     "output_type": "stream",
     "text": [
      "C:\\Users\\harry\\AppData\\Local\\Packages\\PythonSoftwareFoundation.Python.3.9_qbz5n2kfra8p0\\LocalCache\\local-packages\\Python39\\site-packages\\sklearn\\cluster\\_kmeans.py:870: FutureWarning: The default value of `n_init` will change from 10 to 'auto' in 1.4. Set the value of `n_init` explicitly to suppress the warning\n",
      "  warnings.warn(\n"
     ]
    },
    {
     "name": "stdout",
     "output_type": "stream",
     "text": [
      "Remaining number of crpyto:  82\n",
      "I0Series:  ['CRYPTO:FEIUSD', 'CRYPTO:GUSDUSD', 'CRYPTO:USDPUSD', 'CRYPTO:TUSDUSD', 'CRYPTO:USDCUSD']\n",
      "Remaining number of crpyto:  77\n"
     ]
    },
    {
     "name": "stderr",
     "output_type": "stream",
     "text": [
      "C:\\Users\\harry\\AppData\\Local\\Packages\\PythonSoftwareFoundation.Python.3.9_qbz5n2kfra8p0\\LocalCache\\local-packages\\Python39\\site-packages\\sklearn\\cluster\\_kmeans.py:870: FutureWarning: The default value of `n_init` will change from 10 to 'auto' in 1.4. Set the value of `n_init` explicitly to suppress the warning\n",
      "  warnings.warn(\n"
     ]
    },
    {
     "name": "stdout",
     "output_type": "stream",
     "text": [
      "Remaining number of crpyto:  88\n",
      "I0Series:  ['CRYPTO:NEXOUSD', 'CRYPTO:FILUSD', 'CRYPTO:KLAYUSD', 'CRYPTO:CAKEUSD', 'CRYPTO:DOTUSD', 'CRYPTO:BTTUSD', 'CRYPTO:GUSDUSD', 'CRYPTO:USDPUSD', 'CRYPTO:TUSDUSD', 'CRYPTO:AVAXUSD', 'CRYPTO:OSMOUSD', 'CRYPTO:USDCUSD', 'CRYPTO:AAVEUSD', 'CRYPTO:BUSDUSD', 'CRYPTO:EOSUSD', 'CRYPTO:LINKUSD', 'CRYPTO:XMRUSD', 'CRYPTO:EGLDUSD', 'CRYPTO:RUNEUSD', 'CRYPTO:MINAUSD', 'CRYPTO:APEUSD', 'CRYPTO:DAIUSD', 'CRYPTO:BCHUSD', 'CRYPTO:DOGEUSD', 'CRYPTO:SHIBUSD', 'CRYPTO:USDDUSD']\n",
      "Remaining number of crpyto:  62\n"
     ]
    },
    {
     "name": "stderr",
     "output_type": "stream",
     "text": [
      "C:\\Users\\harry\\AppData\\Local\\Packages\\PythonSoftwareFoundation.Python.3.9_qbz5n2kfra8p0\\LocalCache\\local-packages\\Python39\\site-packages\\sklearn\\cluster\\_kmeans.py:870: FutureWarning: The default value of `n_init` will change from 10 to 'auto' in 1.4. Set the value of `n_init` explicitly to suppress the warning\n",
      "  warnings.warn(\n"
     ]
    },
    {
     "name": "stdout",
     "output_type": "stream",
     "text": [
      "Remaining number of crpyto:  88\n",
      "I0Series:  ['CRYPTO:GUSDUSD', 'CRYPTO:USDPUSD', 'CRYPTO:TUSDUSD', 'CRYPTO:USDCUSD', 'CRYPTO:LDOUSD', 'CRYPTO:QNTUSD', 'CRYPTO:XMRUSD', 'CRYPTO:DAIUSD']\n",
      "Remaining number of crpyto:  80\n"
     ]
    },
    {
     "name": "stderr",
     "output_type": "stream",
     "text": [
      "C:\\Users\\harry\\AppData\\Local\\Packages\\PythonSoftwareFoundation.Python.3.9_qbz5n2kfra8p0\\LocalCache\\local-packages\\Python39\\site-packages\\sklearn\\cluster\\_kmeans.py:870: FutureWarning: The default value of `n_init` will change from 10 to 'auto' in 1.4. Set the value of `n_init` explicitly to suppress the warning\n",
      "  warnings.warn(\n"
     ]
    }
   ],
   "source": [
    "TransactionRecords = pd.DataFrame(columns=['Date', 'Crypto', 'Long/Short', 'Price', \"Open/Close\", \"Transaction pair\", \"Period No.\", \"Pair No.\", \"Round Trip No.\", \"Quantity\"])\n",
    "SpreadRecords = pd.DataFrame()\n",
    "\n",
    "period = 1\n",
    "for cutoffDate in pd.date_range(startDate, endDate, freq='2MS'):\n",
    "    sampleCrypto = marketCapCryptoSelection(cryptoMarketCapRankDf, cutoffDate, cutoffRank)\n",
    "    sampleCryptoPrice = cryptoPriceCleaning(cryptoPriceDf, sampleCrypto, cutoffDate, lookback)\n",
    "    CointegratedPairs = cointegrationMethodSelection(sampleCryptoPrice, ADFtestThreshold)\n",
    "    CointegratedPairs = KmeanFilter(sampleCryptoPrice, CointegratedPairs)\n",
    "    CointegratedPairs = categoriesFilter(CointegratedPairs, cryptoCategoryDf)\n",
    "    Transaction, Spread = cointegrationMethodTrading(cryptoPriceDf, sampleCryptoPrice, CointegratedPairs, cutoffDate, forward, spreadThreshold, closeThreshold, False)\n",
    "    Transaction['Period No.'] = period\n",
    "    TransactionRecords = pd.concat([TransactionRecords, Transaction], ignore_index=True)\n",
    "    SpreadRecords = pd.concat([SpreadRecords, Spread])\n",
    "    period += 1\n",
    "\n",
    "TransactionRecords.to_csv('Transaction/Transactions_cointegration_Kmean_categoriesFilter.csv')\n",
    "SpreadRecords.to_csv('Transaction/SpreadRecord_cointegration_Kmean_categoriesFilter.csv')"
   ]
  },
  {
   "cell_type": "markdown",
   "metadata": {},
   "source": [
    "### Transform transaction records to Result"
   ]
  },
  {
   "cell_type": "code",
   "execution_count": 19,
   "metadata": {},
   "outputs": [],
   "source": [
    "def transformTransactionRecords(TransactionRecords):\n",
    "    result = pd.DataFrame(columns=['Period No.', 'Pair No.', 'Round Trip No.', 'Start Date', 'End Date', 'crypto 1', 'crypto 2', 'crypto 1 return', 'crypto 2 return', 'crypto 1 Long/Short', 'crypto 2 Long/Short', 'Quantity'])\n",
    "\n",
    "    for k in range(1, TransactionRecords['Period No.'].max() + 1):\n",
    "        period =  TransactionRecords[TransactionRecords['Period No.'] == k]\n",
    "        \n",
    "        # if there is no trade in that period\n",
    "        if len(period) == 0:\n",
    "            continue\n",
    "\n",
    "        # loop each pair of transactions\n",
    "        for i in range(1, period['Pair No.'].max() + 1):\n",
    "            pair = period[period['Pair No.'] == i]\n",
    "\n",
    "            # loop each Round Trip in pair\n",
    "            for j in range(1, pair['Round Trip No.'].max() + 1):\n",
    "                roundTrip = pair[pair['Round Trip No.'] == j]\n",
    "\n",
    "                returnResult = dict()\n",
    "\n",
    "                # loop each crypto in the round trip\n",
    "                for crypto in set(roundTrip['Crypto']):\n",
    "                    # prepare the specific round trip transaction record\n",
    "                    record = roundTrip[roundTrip['Crypto'] == crypto]\n",
    "                    record = record.reset_index(drop=True)\n",
    "\n",
    "                    # Calculate the return of the specific round trip\n",
    "                    returns = record['Price'][1] / record['Price'][0] - 1\n",
    "                    if record['Long/Short'][0] == 'Short':\n",
    "                        returns = -returns \n",
    "\n",
    "                    # Insert Record\n",
    "                    if len(returnResult) == 0:\n",
    "                        returnResult['Period No.'] = k\n",
    "                        returnResult['Pair No.'] = i\n",
    "                        returnResult['Round Trip No.'] = j\n",
    "                        returnResult['Start Date'] = record['Date'][0]\n",
    "                        returnResult['End Date'] = record['Date'][1]\n",
    "                    \n",
    "                    if record['Quantity'][0] == 1:\n",
    "                        returnResult['crypto 1'] = crypto\n",
    "                        returnResult['crypto 1 return'] = returns\n",
    "                        if record['Long/Short'][0] == 'Long':\n",
    "                            returnResult['crypto 1 Long/Short'] = 1\n",
    "                        else:\n",
    "                            returnResult['crypto 1 Long/Short'] = -1\n",
    "                    else:\n",
    "                        returnResult['crypto 2'] = crypto\n",
    "                        returnResult['crypto 2 return'] = returns\n",
    "                        returnResult['Quantity'] = record['Quantity'][0]\n",
    "                        if record['Long/Short'][0] == 'Long':\n",
    "                            returnResult['crypto 2 Long/Short'] = 1\n",
    "                        else:\n",
    "                            returnResult['crypto 2 Long/Short'] = -1\n",
    "\n",
    "                result.loc[len(result)] = returnResult  \n",
    "    return result\n"
   ]
  },
  {
   "cell_type": "code",
   "execution_count": 100,
   "metadata": {},
   "outputs": [],
   "source": [
    "TransactionRecords_All = pd.read_csv('Transaction/Transactions_cointegration.csv', index_col=0)\n",
    "TransactionRecords_All['Date'] = pd.to_datetime(TransactionRecords_All['Date'])\n",
    "\n",
    "TransactionRecords_halfLife50 = pd.read_csv('Transaction/Transactions_cointegration_halfLifeFilter 50.csv', index_col=0)\n",
    "TransactionRecords_halfLife50['Date'] = pd.to_datetime(TransactionRecords_halfLife50['Date'])\n",
    "\n",
    "TransactionRecords_halfLife100 = pd.read_csv('Transaction/Transactions_cointegration_halfLifeFilter 100.csv', index_col=0)\n",
    "TransactionRecords_halfLife100['Date'] = pd.to_datetime(TransactionRecords_halfLife100['Date'])\n",
    "\n",
    "TransactionRecords_halfLife500 = pd.read_csv('Transaction/Transactions_cointegration_halfLifeFilter 500.csv', index_col=0)\n",
    "TransactionRecords_halfLife500['Date'] = pd.to_datetime(TransactionRecords_halfLife500['Date'])\n",
    "\n",
    "TransactionRecords_halfLife1000 = pd.read_csv('Transaction/Transactions_cointegration_halfLifeFilter 1000.csv', index_col=0)\n",
    "TransactionRecords_halfLife1000['Date'] = pd.to_datetime(TransactionRecords_halfLife1000['Date'])\n",
    "\n",
    "TransactionRecords_Kmean = pd.read_csv('Transaction/Transactions_cointegration_KmeanFilter.csv', index_col=0)\n",
    "TransactionRecords_Kmean['Date'] = pd.to_datetime(TransactionRecords_Kmean['Date'])\n",
    "\n",
    "TransactionRecords_categories = pd.read_csv('Transaction/Transactions_cointegration_categoriesFilter.csv', index_col=0)\n",
    "TransactionRecords_categories['Date'] = pd.to_datetime(TransactionRecords_categories['Date'])\n",
    "\n",
    "TransactionRecords_Kmean_categories = pd.read_csv('Transaction/Transactions_cointegration_Kmean_categoriesFilter.csv', index_col=0)\n",
    "TransactionRecords_Kmean_categories['Date'] = pd.to_datetime(TransactionRecords_Kmean_categories['Date'])"
   ]
  },
  {
   "cell_type": "code",
   "execution_count": 101,
   "metadata": {},
   "outputs": [],
   "source": [
    "result_All = transformTransactionRecords(TransactionRecords_All)\n",
    "result_halfLife50 =  transformTransactionRecords(TransactionRecords_halfLife50)\n",
    "result_halfLife100 =  transformTransactionRecords(TransactionRecords_halfLife100)\n",
    "result_halfLife500 =  transformTransactionRecords(TransactionRecords_halfLife500)\n",
    "result_halfLife1000 =  transformTransactionRecords(TransactionRecords_halfLife1000)\n",
    "result_Kmean =  transformTransactionRecords(TransactionRecords_Kmean)\n",
    "result_categories =  transformTransactionRecords(TransactionRecords_categories)\n",
    "result_Kmean_categories = transformTransactionRecords(TransactionRecords_Kmean_categories)"
   ]
  },
  {
   "cell_type": "markdown",
   "metadata": {},
   "source": [
    "### Daily Return"
   ]
  },
  {
   "cell_type": "code",
   "execution_count": 85,
   "metadata": {},
   "outputs": [],
   "source": [
    "def getcumReturns(cryptoPriceDf, result):\n",
    "    cumReturn = pd.DataFrame()\n",
    "    # loop through each row\n",
    "    for idx, row in result.iterrows():\n",
    "        crpyto1StartPrice = cryptoPriceDf.loc[row['Start Date'], row['crypto 1']]\n",
    "        crpyto2StartPrice = cryptoPriceDf.loc[row['Start Date'], row['crypto 2']]\n",
    "        crpyto1cumPnL = (cryptoPriceDf.loc[row['Start Date']:row['End Date'], row['crypto 1']] - crpyto1StartPrice) * row['crypto 1 Long/Short'] \n",
    "        crpyto2cumPnL = (cryptoPriceDf.loc[row['Start Date']:row['End Date'], row['crypto 2']] - crpyto2StartPrice) * row['crypto 2 Long/Short'] * row['Quantity']\n",
    "        cumReturnSeries = (crpyto1cumPnL + crpyto2cumPnL) / (crpyto1StartPrice * 0.5 + crpyto2StartPrice * row['Quantity'] * 0.5) \n",
    "        cumReturnSeries.name = row['crypto 1'] + \" \" + row['crypto 2'] + \" \" + str(row['Period No.']) + \" \" + str(row['Round Trip No.'])\n",
    "        cumReturn = cumReturn.merge(cumReturnSeries, left_index=True, right_index=True, how=\"outer\")\n",
    "    return cumReturn"
   ]
  },
  {
   "cell_type": "code",
   "execution_count": 109,
   "metadata": {},
   "outputs": [],
   "source": [
    "for result in [result_All, result_halfLife50, result_halfLife100, result_halfLife500, result_halfLife1000, result_Kmean, result_categories, result_Kmean_categories]:\n",
    "    cumReturns = getcumReturns(cryptoPriceDf, result)\n",
    "    result['Total Return'] = cumReturns.ffill(axis=0).iloc[-1].reset_index(drop=True)\n",
    "# dailyReturns = np.exp(np.log(cumReturns + 1).diff()) - 1 # OR (cumReturns + 1) / (cumReturns.shift(1) + 1) - 1\n",
    "# averageDailyReturn = dailyReturns.mean(axis=1)\n",
    "# averageDailyReturn = averageDailyReturn.fillna(0)\n",
    "# averageCumReturn = np.cumprod(1 +averageDailyReturn) - 1"
   ]
  },
  {
   "cell_type": "code",
   "execution_count": 4,
   "metadata": {},
   "outputs": [],
   "source": [
    "for result in [(result_All, 'All'), (result_halfLife50, 'Half-life Filter 50'), \n",
    "               (result_halfLife100, 'Half-life Filter 100'), (result_halfLife500, 'Half-life Filter 500'),\n",
    "               (result_halfLife1000, 'Half-life Filter 1000'), (result_Kmean, 'Kmean Filter'), \n",
    "               (result_categories, 'Categories Filter'), (result_Kmean_categories, 'Kmean and Categories Filter')]:\n",
    "    result[0].to_csv('Result/Result_cointegration_' + result[1] +  '.csv')"
   ]
  },
  {
   "cell_type": "markdown",
   "metadata": {},
   "source": [
    "Time 0,\n",
    "long crypto 1 $100 price 100 quantity 1\n",
    "short crypto 2 $1.93*4 price 4 quantity 1.93 beta 1.93\n",
    "\n",
    "Time 1,\n",
    "long crypto 1 $101 price 101 quantity 1\n",
    "short crypto 2 $1.93*5 price 5 quantity 1.93\n",
    "\n",
    " Return = [(101 - 100) - 1.93*(5 - 4)]/(100 + 1.93 * 4)*0.5"
   ]
  },
  {
   "cell_type": "markdown",
   "metadata": {},
   "source": []
  }
 ],
 "metadata": {
  "kernelspec": {
   "display_name": "Python 3",
   "language": "python",
   "name": "python3"
  },
  "language_info": {
   "codemirror_mode": {
    "name": "ipython",
    "version": 3
   },
   "file_extension": ".py",
   "mimetype": "text/x-python",
   "name": "python",
   "nbconvert_exporter": "python",
   "pygments_lexer": "ipython3",
   "version": "3.9.13"
  },
  "orig_nbformat": 4
 },
 "nbformat": 4,
 "nbformat_minor": 2
}
