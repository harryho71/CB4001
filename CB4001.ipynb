{
 "cells": [
  {
   "cell_type": "code",
   "execution_count": 1,
   "metadata": {},
   "outputs": [],
   "source": [
    "import pandas as pd\n",
    "from datetime import timedelta\n",
    "import numpy as np\n",
    "from dateutil.relativedelta import *"
   ]
  },
  {
   "cell_type": "markdown",
   "metadata": {},
   "source": [
    "### Import Data"
   ]
  },
  {
   "cell_type": "code",
   "execution_count": 2,
   "metadata": {},
   "outputs": [],
   "source": [
    "# Get historical crypto market cap rank data\n",
    "cryptoMarketCapRankDf = pd.read_csv('data\\CryptoMarketCap.csv')\n",
    "cryptoMarketCapRankDf['Date'] = pd.to_datetime(cryptoMarketCapRankDf['Date'])"
   ]
  },
  {
   "cell_type": "code",
   "execution_count": 3,
   "metadata": {},
   "outputs": [],
   "source": [
    "# Get historical crypto price data\n",
    "cryptoPriceDf = pd.read_csv('data\\TradingViewCryptoPrice.csv', index_col=0)\n",
    "cryptoPriceDf.index = pd.to_datetime(cryptoPriceDf.index)"
   ]
  },
  {
   "cell_type": "markdown",
   "metadata": {},
   "source": [
    "### Formation Period"
   ]
  },
  {
   "cell_type": "code",
   "execution_count": 4,
   "metadata": {},
   "outputs": [],
   "source": [
    "# Formation period paramenter\n",
    "cutoffDate = '2020-01-01'\n",
    "cutoffRank = 100"
   ]
  },
  {
   "cell_type": "code",
   "execution_count": 5,
   "metadata": {},
   "outputs": [],
   "source": [
    "# Get formation period sample crypto list\n",
    "marketCapCutoffDate = pd.to_datetime(cutoffDate) - timedelta(days=1)\n",
    "sampleCrypto = cryptoMarketCapRankDf[(cryptoMarketCapRankDf['Date'] == marketCapCutoffDate) & (cryptoMarketCapRankDf['Rank'] <= cutoffRank)]\n",
    "sampleCrypto = list(sampleCrypto['Symbol'])"
   ]
  },
  {
   "cell_type": "code",
   "execution_count": 6,
   "metadata": {},
   "outputs": [
    {
     "name": "stdout",
     "output_type": "stream",
     "text": [
      "Remaining number of crpyto:  46\n"
     ]
    }
   ],
   "source": [
    "# Fliter the crypto with formation period and availiablity of crpyto price\n",
    "sampleCryptoPrice = cryptoPriceDf.loc[pd.to_datetime(cutoffDate) + relativedelta(months=-12): marketCapCutoffDate]\n",
    "sampleCrypto = set(sampleCrypto).intersection([x[7:-3] for x in sampleCryptoPrice.columns])\n",
    "\n",
    "# Data Cleaning\n",
    "sampleCryptoPrice = sampleCryptoPrice[[\"CRYPTO:\" + x + \"USD\" for x in sampleCrypto]]\n",
    "sampleCryptoPrice = sampleCryptoPrice.ffill(axis=0)\n",
    "sampleCryptoPrice = sampleCryptoPrice.dropna(axis=1)\n",
    "\n",
    "print('Remaining number of crpyto: ', len(sampleCryptoPrice.columns))"
   ]
  },
  {
   "cell_type": "markdown",
   "metadata": {},
   "source": [
    "#### Distance Method"
   ]
  },
  {
   "cell_type": "code",
   "execution_count": 7,
   "metadata": {},
   "outputs": [],
   "source": [
    "# Normalized the log price\n",
    "sampleCryptoLogPrice = np.log(sampleCryptoPrice)\n",
    "sampleCryptoNormalizedLogPrice = (sampleCryptoLogPrice - sampleCryptoLogPrice.mean())/sampleCryptoLogPrice.std()"
   ]
  },
  {
   "cell_type": "code",
   "execution_count": 8,
   "metadata": {},
   "outputs": [],
   "source": [
    "# SSD calculation for each pair\n",
    "SSDResults = []\n",
    "for i in range(len(sampleCryptoNormalizedLogPrice.columns)):\n",
    "    for j in range(i+1, len(sampleCryptoNormalizedLogPrice.columns)):\n",
    "        SSD = ((sampleCryptoNormalizedLogPrice[sampleCryptoNormalizedLogPrice.columns[i]] - sampleCryptoNormalizedLogPrice[sampleCryptoNormalizedLogPrice.columns[j]]) ** 2).sum()\n",
    "        SSDResults.append([sampleCryptoNormalizedLogPrice.columns[i], sampleCryptoNormalizedLogPrice.columns[j], SSD])"
   ]
  },
  {
   "cell_type": "code",
   "execution_count": 9,
   "metadata": {},
   "outputs": [
    {
     "data": {
      "text/html": [
       "<div>\n",
       "<style scoped>\n",
       "    .dataframe tbody tr th:only-of-type {\n",
       "        vertical-align: middle;\n",
       "    }\n",
       "\n",
       "    .dataframe tbody tr th {\n",
       "        vertical-align: top;\n",
       "    }\n",
       "\n",
       "    .dataframe thead th {\n",
       "        text-align: right;\n",
       "    }\n",
       "</style>\n",
       "<table border=\"1\" class=\"dataframe\">\n",
       "  <thead>\n",
       "    <tr style=\"text-align: right;\">\n",
       "      <th></th>\n",
       "      <th>Crypto 1</th>\n",
       "      <th>Crypto 2</th>\n",
       "      <th>SSD</th>\n",
       "    </tr>\n",
       "  </thead>\n",
       "  <tbody>\n",
       "    <tr>\n",
       "      <th>607</th>\n",
       "      <td>CRYPTO:BCDUSD</td>\n",
       "      <td>CRYPTO:LSKUSD</td>\n",
       "      <td>19.497151</td>\n",
       "    </tr>\n",
       "    <tr>\n",
       "      <th>627</th>\n",
       "      <td>CRYPTO:BCDUSD</td>\n",
       "      <td>CRYPTO:OMGUSD</td>\n",
       "      <td>20.357515</td>\n",
       "    </tr>\n",
       "    <tr>\n",
       "      <th>152</th>\n",
       "      <td>CRYPTO:ICXUSD</td>\n",
       "      <td>CRYPTO:LSKUSD</td>\n",
       "      <td>20.667822</td>\n",
       "    </tr>\n",
       "    <tr>\n",
       "      <th>666</th>\n",
       "      <td>CRYPTO:XRPUSD</td>\n",
       "      <td>CRYPTO:MIOTAUSD</td>\n",
       "      <td>23.009346</td>\n",
       "    </tr>\n",
       "    <tr>\n",
       "      <th>823</th>\n",
       "      <td>CRYPTO:LSKUSD</td>\n",
       "      <td>CRYPTO:OMGUSD</td>\n",
       "      <td>26.456084</td>\n",
       "    </tr>\n",
       "    <tr>\n",
       "      <th>...</th>\n",
       "      <td>...</td>\n",
       "      <td>...</td>\n",
       "      <td>...</td>\n",
       "    </tr>\n",
       "    <tr>\n",
       "      <th>510</th>\n",
       "      <td>CRYPTO:TUSDUSD</td>\n",
       "      <td>CRYPTO:OKBUSD</td>\n",
       "      <td>1352.361155</td>\n",
       "    </tr>\n",
       "    <tr>\n",
       "      <th>56</th>\n",
       "      <td>CRYPTO:BTCUSD</td>\n",
       "      <td>CRYPTO:TUSDUSD</td>\n",
       "      <td>1365.086738</td>\n",
       "    </tr>\n",
       "    <tr>\n",
       "      <th>407</th>\n",
       "      <td>CRYPTO:LINKUSD</td>\n",
       "      <td>CRYPTO:TUSDUSD</td>\n",
       "      <td>1384.314325</td>\n",
       "    </tr>\n",
       "    <tr>\n",
       "      <th>464</th>\n",
       "      <td>CRYPTO:SNXUSD</td>\n",
       "      <td>CRYPTO:WAVESUSD</td>\n",
       "      <td>1385.484417</td>\n",
       "    </tr>\n",
       "    <tr>\n",
       "      <th>441</th>\n",
       "      <td>CRYPTO:SNXUSD</td>\n",
       "      <td>CRYPTO:TUSDUSD</td>\n",
       "      <td>1395.042788</td>\n",
       "    </tr>\n",
       "  </tbody>\n",
       "</table>\n",
       "<p>1035 rows × 3 columns</p>\n",
       "</div>"
      ],
      "text/plain": [
       "           Crypto 1         Crypto 2          SSD\n",
       "607   CRYPTO:BCDUSD    CRYPTO:LSKUSD    19.497151\n",
       "627   CRYPTO:BCDUSD    CRYPTO:OMGUSD    20.357515\n",
       "152   CRYPTO:ICXUSD    CRYPTO:LSKUSD    20.667822\n",
       "666   CRYPTO:XRPUSD  CRYPTO:MIOTAUSD    23.009346\n",
       "823   CRYPTO:LSKUSD    CRYPTO:OMGUSD    26.456084\n",
       "..              ...              ...          ...\n",
       "510  CRYPTO:TUSDUSD    CRYPTO:OKBUSD  1352.361155\n",
       "56    CRYPTO:BTCUSD   CRYPTO:TUSDUSD  1365.086738\n",
       "407  CRYPTO:LINKUSD   CRYPTO:TUSDUSD  1384.314325\n",
       "464   CRYPTO:SNXUSD  CRYPTO:WAVESUSD  1385.484417\n",
       "441   CRYPTO:SNXUSD   CRYPTO:TUSDUSD  1395.042788\n",
       "\n",
       "[1035 rows x 3 columns]"
      ]
     },
     "execution_count": 9,
     "metadata": {},
     "output_type": "execute_result"
    }
   ],
   "source": [
    "# Print out the SSD results\n",
    "SSDResults = pd.DataFrame(SSDResults, columns=['Crypto 1', 'Crypto 2', 'SSD'])\n",
    "SSDResults = SSDResults.sort_values('SSD', ascending=True)\n",
    "SSDResults"
   ]
  },
  {
   "cell_type": "markdown",
   "metadata": {},
   "source": [
    "### Trading Period"
   ]
  },
  {
   "cell_type": "code",
   "execution_count": null,
   "metadata": {},
   "outputs": [],
   "source": [
    "spread"
   ]
  }
 ],
 "metadata": {
  "kernelspec": {
   "display_name": "Python 3",
   "language": "python",
   "name": "python3"
  },
  "language_info": {
   "name": "python",
   "version": "3.9.13"
  },
  "orig_nbformat": 4
 },
 "nbformat": 4,
 "nbformat_minor": 2
}
