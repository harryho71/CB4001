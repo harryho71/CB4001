{
 "cells": [
  {
   "cell_type": "code",
   "execution_count": 60,
   "metadata": {},
   "outputs": [],
   "source": [
    "import pandas as pd\n",
    "from datetime import timedelta\n",
    "import numpy as np\n",
    "from dateutil.relativedelta import *\n",
    "from collections import defaultdict"
   ]
  },
  {
   "cell_type": "markdown",
   "metadata": {},
   "source": [
    "### Import Data"
   ]
  },
  {
   "cell_type": "code",
   "execution_count": 4,
   "metadata": {},
   "outputs": [],
   "source": [
    "# Get historical crypto market cap rank data\n",
    "cryptoMarketCapRankDf = pd.read_csv('data\\CryptoMarketCap.csv')\n",
    "cryptoMarketCapRankDf['Date'] = pd.to_datetime(cryptoMarketCapRankDf['Date'])"
   ]
  },
  {
   "cell_type": "code",
   "execution_count": 5,
   "metadata": {},
   "outputs": [],
   "source": [
    "# Get historical crypto price data\n",
    "cryptoPriceDf = pd.read_csv('data\\TradingViewCryptoPrice.csv', index_col=0)\n",
    "cryptoPriceDf.index = pd.to_datetime(cryptoPriceDf.index)"
   ]
  },
  {
   "cell_type": "markdown",
   "metadata": {},
   "source": [
    "### Formation Period"
   ]
  },
  {
   "cell_type": "code",
   "execution_count": 6,
   "metadata": {},
   "outputs": [],
   "source": [
    "# Formation period paramenter\n",
    "cutoffDate = '2020-01-01'\n",
    "cutoffRank = 100"
   ]
  },
  {
   "cell_type": "code",
   "execution_count": 7,
   "metadata": {},
   "outputs": [],
   "source": [
    "# Get formation period sample crypto list\n",
    "marketCapCutoffDate = pd.to_datetime(cutoffDate) - timedelta(days=1)\n",
    "sampleCrypto = cryptoMarketCapRankDf[(cryptoMarketCapRankDf['Date'] == marketCapCutoffDate) & (cryptoMarketCapRankDf['Rank'] <= cutoffRank)]\n",
    "sampleCrypto = list(sampleCrypto['Symbol'])"
   ]
  },
  {
   "cell_type": "code",
   "execution_count": 8,
   "metadata": {},
   "outputs": [
    {
     "name": "stdout",
     "output_type": "stream",
     "text": [
      "Remaining number of crpyto:  46\n"
     ]
    }
   ],
   "source": [
    "# Fliter the crypto with formation period and availiablity of crpyto price\n",
    "sampleCryptoPrice = cryptoPriceDf.loc[pd.to_datetime(cutoffDate) + relativedelta(months=-12): marketCapCutoffDate]\n",
    "sampleCrypto = set(sampleCrypto).intersection([x[7:-3] for x in sampleCryptoPrice.columns])\n",
    "\n",
    "# Data Cleaning\n",
    "sampleCryptoPrice = sampleCryptoPrice[[\"CRYPTO:\" + x + \"USD\" for x in sampleCrypto]]\n",
    "sampleCryptoPrice = sampleCryptoPrice.ffill(axis=0)\n",
    "sampleCryptoPrice = sampleCryptoPrice.dropna(axis=1)\n",
    "\n",
    "print('Remaining number of crpyto: ', len(sampleCryptoPrice.columns))"
   ]
  },
  {
   "cell_type": "markdown",
   "metadata": {},
   "source": [
    "#### Distance Method"
   ]
  },
  {
   "cell_type": "code",
   "execution_count": 9,
   "metadata": {},
   "outputs": [],
   "source": [
    "# Normalized the log price\n",
    "sampleCryptoLogPrice = np.log(sampleCryptoPrice)\n",
    "sampleCryptoNormalizedLogPrice = (sampleCryptoLogPrice - sampleCryptoLogPrice.mean())/sampleCryptoLogPrice.std()"
   ]
  },
  {
   "cell_type": "code",
   "execution_count": 10,
   "metadata": {},
   "outputs": [],
   "source": [
    "# SSD calculation for each pair\n",
    "SSDResults = []\n",
    "for i in range(len(sampleCryptoNormalizedLogPrice.columns)):\n",
    "    for j in range(i+1, len(sampleCryptoNormalizedLogPrice.columns)):\n",
    "        SSD = ((sampleCryptoNormalizedLogPrice[sampleCryptoNormalizedLogPrice.columns[i]] - sampleCryptoNormalizedLogPrice[sampleCryptoNormalizedLogPrice.columns[j]]) ** 2).sum()\n",
    "        SSDResults.append([sampleCryptoNormalizedLogPrice.columns[i], sampleCryptoNormalizedLogPrice.columns[j], SSD])"
   ]
  },
  {
   "cell_type": "code",
   "execution_count": 25,
   "metadata": {},
   "outputs": [
    {
     "data": {
      "text/html": [
       "<div>\n",
       "<style scoped>\n",
       "    .dataframe tbody tr th:only-of-type {\n",
       "        vertical-align: middle;\n",
       "    }\n",
       "\n",
       "    .dataframe tbody tr th {\n",
       "        vertical-align: top;\n",
       "    }\n",
       "\n",
       "    .dataframe thead th {\n",
       "        text-align: right;\n",
       "    }\n",
       "</style>\n",
       "<table border=\"1\" class=\"dataframe\">\n",
       "  <thead>\n",
       "    <tr style=\"text-align: right;\">\n",
       "      <th></th>\n",
       "      <th>Crypto 1</th>\n",
       "      <th>Crypto 2</th>\n",
       "      <th>SSD</th>\n",
       "    </tr>\n",
       "  </thead>\n",
       "  <tbody>\n",
       "    <tr>\n",
       "      <th>0</th>\n",
       "      <td>CRYPTO:LSKUSD</td>\n",
       "      <td>CRYPTO:BCDUSD</td>\n",
       "      <td>19.497151</td>\n",
       "    </tr>\n",
       "    <tr>\n",
       "      <th>1</th>\n",
       "      <td>CRYPTO:OMGUSD</td>\n",
       "      <td>CRYPTO:BCDUSD</td>\n",
       "      <td>20.357515</td>\n",
       "    </tr>\n",
       "    <tr>\n",
       "      <th>2</th>\n",
       "      <td>CRYPTO:LSKUSD</td>\n",
       "      <td>CRYPTO:ICXUSD</td>\n",
       "      <td>20.667822</td>\n",
       "    </tr>\n",
       "    <tr>\n",
       "      <th>3</th>\n",
       "      <td>CRYPTO:XRPUSD</td>\n",
       "      <td>CRYPTO:MIOTAUSD</td>\n",
       "      <td>23.009346</td>\n",
       "    </tr>\n",
       "    <tr>\n",
       "      <th>4</th>\n",
       "      <td>CRYPTO:LSKUSD</td>\n",
       "      <td>CRYPTO:OMGUSD</td>\n",
       "      <td>26.456084</td>\n",
       "    </tr>\n",
       "    <tr>\n",
       "      <th>...</th>\n",
       "      <td>...</td>\n",
       "      <td>...</td>\n",
       "      <td>...</td>\n",
       "    </tr>\n",
       "    <tr>\n",
       "      <th>1030</th>\n",
       "      <td>CRYPTO:TUSDUSD</td>\n",
       "      <td>CRYPTO:OKBUSD</td>\n",
       "      <td>1352.361155</td>\n",
       "    </tr>\n",
       "    <tr>\n",
       "      <th>1031</th>\n",
       "      <td>CRYPTO:BTCUSD</td>\n",
       "      <td>CRYPTO:TUSDUSD</td>\n",
       "      <td>1365.086738</td>\n",
       "    </tr>\n",
       "    <tr>\n",
       "      <th>1032</th>\n",
       "      <td>CRYPTO:LINKUSD</td>\n",
       "      <td>CRYPTO:TUSDUSD</td>\n",
       "      <td>1384.314325</td>\n",
       "    </tr>\n",
       "    <tr>\n",
       "      <th>1033</th>\n",
       "      <td>CRYPTO:WAVESUSD</td>\n",
       "      <td>CRYPTO:SNXUSD</td>\n",
       "      <td>1385.484417</td>\n",
       "    </tr>\n",
       "    <tr>\n",
       "      <th>1034</th>\n",
       "      <td>CRYPTO:TUSDUSD</td>\n",
       "      <td>CRYPTO:SNXUSD</td>\n",
       "      <td>1395.042788</td>\n",
       "    </tr>\n",
       "  </tbody>\n",
       "</table>\n",
       "<p>1035 rows × 3 columns</p>\n",
       "</div>"
      ],
      "text/plain": [
       "             Crypto 1         Crypto 2          SSD\n",
       "0       CRYPTO:LSKUSD    CRYPTO:BCDUSD    19.497151\n",
       "1       CRYPTO:OMGUSD    CRYPTO:BCDUSD    20.357515\n",
       "2       CRYPTO:LSKUSD    CRYPTO:ICXUSD    20.667822\n",
       "3       CRYPTO:XRPUSD  CRYPTO:MIOTAUSD    23.009346\n",
       "4       CRYPTO:LSKUSD    CRYPTO:OMGUSD    26.456084\n",
       "...               ...              ...          ...\n",
       "1030   CRYPTO:TUSDUSD    CRYPTO:OKBUSD  1352.361155\n",
       "1031    CRYPTO:BTCUSD   CRYPTO:TUSDUSD  1365.086738\n",
       "1032   CRYPTO:LINKUSD   CRYPTO:TUSDUSD  1384.314325\n",
       "1033  CRYPTO:WAVESUSD    CRYPTO:SNXUSD  1385.484417\n",
       "1034   CRYPTO:TUSDUSD    CRYPTO:SNXUSD  1395.042788\n",
       "\n",
       "[1035 rows x 3 columns]"
      ]
     },
     "execution_count": 25,
     "metadata": {},
     "output_type": "execute_result"
    }
   ],
   "source": [
    "# Print out the SSD results\n",
    "SSDResults = pd.DataFrame(SSDResults, columns=['Crypto 1', 'Crypto 2', 'SSD'])\n",
    "SSDResults = SSDResults.sort_values('SSD', ascending=True)\n",
    "SSDResults = SSDResults.reindex()\n",
    "SSDResults"
   ]
  },
  {
   "cell_type": "markdown",
   "metadata": {},
   "source": [
    "### Trading Period"
   ]
  },
  {
   "cell_type": "code",
   "execution_count": 95,
   "metadata": {},
   "outputs": [],
   "source": [
    "noTradingPairs = 50"
   ]
  },
  {
   "cell_type": "code",
   "execution_count": 101,
   "metadata": {},
   "outputs": [],
   "source": [
    "DistanceMethodReturns = defaultdict(list)\n",
    "# get trading crpyto price\n",
    "tradingCryptoPrice = cryptoPriceDf.loc[pd.to_datetime(cutoffDate): pd.to_datetime(cutoffDate) + relativedelta(days=59)]\n",
    "logTradingCryptoPrice = np.log(tradingCryptoPrice)\n",
    "\n",
    "for i in range(noTradingPairs):\n",
    "    \n",
    "    # parameter\n",
    "    crypto1 = SSDResults.loc[i, 'Crypto 1']\n",
    "    crypto2 = SSDResults.loc[i, 'Crypto 2']\n",
    "    crypto1Mean = sampleCryptoLogPrice.mean()[crypto1]\n",
    "    crypto2Mean = sampleCryptoLogPrice.mean()[crypto2]\n",
    "    crypto1SD = sampleCryptoLogPrice.std()[crypto1]\n",
    "    crypto2SD = sampleCryptoLogPrice.std()[crypto2]\n",
    "\n",
    "    # calculate spread\n",
    "    normalizedCrypto1LogPrice = (logTradingCryptoPrice[crypto1] - crypto1Mean)/crypto1SD\n",
    "    normalizedCrypto2LogPrice = (logTradingCryptoPrice[crypto2] - crypto2Mean)/crypto2SD\n",
    "    Spread = normalizedCrypto1LogPrice - normalizedCrypto2LogPrice\n",
    "\n",
    "    # check if there is any trading opportunity\n",
    "    if len(Spread[(Spread >= 2) | (Spread <= -2)]) > 0:\n",
    "\n",
    "        Spread.name = 'spread'\n",
    "        Spread = Spread.to_frame()\n",
    "        Spread['position'] = 0\n",
    "\n",
    "        for date in Spread.index:\n",
    "            # When the trading date is not the last day\n",
    "            if date != (pd.to_datetime(cutoffDate) + relativedelta(days=59)):\n",
    "                # short crypto 1 and long crypto 2 if spread >= 2\n",
    "                if Spread.loc[date, 'spread'] >= 2:\n",
    "                    Spread.loc[date + relativedelta(days=1), 'position'] = -1\n",
    "                # long crypto 1 and short crypto 2 if spread <= -2\n",
    "                elif Spread.loc[date, 'spread'] <= -2:\n",
    "                    Spread.loc[date + relativedelta(days=1), 'position'] = 1\n",
    "                # continuous the position if the spread do not cross zero\n",
    "                elif Spread.loc[date, 'position'] == -1 and Spread.loc[date, 'spread'] > 0:\n",
    "                    Spread.loc[date + relativedelta(days=1), 'position'] = -1\n",
    "                # continuous the position if the spread do not cross zero\n",
    "                elif Spread.loc[date, 'position'] == 1 and Spread.loc[date, 'spread'] < 0:\n",
    "                    Spread.loc[date + relativedelta(days=1), 'position'] = 1\n",
    "        \n",
    "        # Spread[crypto1] = tradingCryptoPrice[crypto1]\n",
    "        # Spread[crypto2] = tradingCryptoPrice[crypto2]\n",
    "        Spread[crypto1 + ' Log Return'] = (logTradingCryptoPrice[crypto1] - logTradingCryptoPrice[crypto1].shift(1)) * Spread['position']\n",
    "        Spread[crypto2 + ' Log Return'] = (logTradingCryptoPrice[crypto2] - logTradingCryptoPrice[crypto2].shift(1)) * -Spread['position']\n",
    "        Spread[crypto1 + ' cum Log Return'] = Spread[crypto1 + ' Log Return'].cumsum()\n",
    "        Spread[crypto2 + ' cum Log Return'] = Spread[crypto2 + ' Log Return'].cumsum()\n",
    "        \n",
    "        # Add Transaction records [Crypto1, Crypto2, transaction date, long/short]\n",
    "        # return calculation  np.exp(Spread[crypto2 + ' cum Log Return'][-1])-1\n",
    "        DistanceMethodReturns.append()\n",
    "\n"
   ]
  },
  {
   "cell_type": "code",
   "execution_count": null,
   "metadata": {},
   "outputs": [],
   "source": []
  }
 ],
 "metadata": {
  "kernelspec": {
   "display_name": "Python 3",
   "language": "python",
   "name": "python3"
  },
  "language_info": {
   "codemirror_mode": {
    "name": "ipython",
    "version": 3
   },
   "file_extension": ".py",
   "mimetype": "text/x-python",
   "name": "python",
   "nbconvert_exporter": "python",
   "pygments_lexer": "ipython3",
   "version": "3.9.13"
  },
  "orig_nbformat": 4
 },
 "nbformat": 4,
 "nbformat_minor": 2
}
