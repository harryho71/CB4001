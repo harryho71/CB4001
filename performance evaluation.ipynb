{
 "cells": [
  {
   "cell_type": "code",
   "execution_count": 41,
   "metadata": {},
   "outputs": [],
   "source": [
    "import pandas as pd\n",
    "import warnings\n",
    "warnings.filterwarnings(\"ignore\")"
   ]
  },
  {
   "cell_type": "code",
   "execution_count": 42,
   "metadata": {},
   "outputs": [],
   "source": [
    "parameters = [[3, 0],[2, 0], [1.5, 0], [1, 0], [3, 1], [2.5, 1], [2, 1], [1.5, 1]]\n",
    "spreadThreshold = 1.5\n",
    "closeThreshold = 1"
   ]
  },
  {
   "cell_type": "code",
   "execution_count": 43,
   "metadata": {},
   "outputs": [],
   "source": [
    "result_Distance = pd.read_csv('Result/open ' + str(spreadThreshold) + \" close \" + str(closeThreshold) + '/Result_distance.csv', index_col=0)\n",
    "result_All = pd.read_csv('Result/open ' + str(spreadThreshold) + \" close \" + str(closeThreshold) + '/Result_cointegration_All.csv', index_col=0)\n",
    "result_halfLife50 = pd.read_csv('Result/open ' + str(spreadThreshold) + \" close \" + str(closeThreshold) + '/Result_cointegration_halfLifeFilter 50.csv', index_col=0)\n",
    "result_halfLife100 = pd.read_csv('Result/open ' + str(spreadThreshold) + \" close \" + str(closeThreshold) + '/Result_cointegration_halfLifeFilter 100.csv', index_col=0)\n",
    "result_halfLife500 = pd.read_csv('Result/open ' + str(spreadThreshold) + \" close \" + str(closeThreshold) + '/Result_cointegration_halfLifeFilter 500.csv', index_col=0)\n",
    "result_halfLife1000 = pd.read_csv('Result/open ' + str(spreadThreshold) + \" close \" + str(closeThreshold) + '/Result_cointegration_halfLifeFilter 1000.csv', index_col=0)\n",
    "result_Kmean = pd.read_csv('Result/open ' + str(spreadThreshold) + \" close \" + str(closeThreshold) + '/Result_cointegration_KmeanFilter.csv', index_col=0)\n",
    "result_categories = pd.read_csv('Result/open ' + str(spreadThreshold) + \" close \" + str(closeThreshold) + '/Result_cointegration_CategoriesFilter.csv', index_col=0)\n",
    "result_Kmean_categories = pd.read_csv('Result/open ' + str(spreadThreshold) + \" close \" + str(closeThreshold) + '/Result_cointegration_Kmean_CategoriesFilter.csv', index_col=0)"
   ]
  },
  {
   "cell_type": "code",
   "execution_count": 44,
   "metadata": {},
   "outputs": [],
   "source": [
    "# No. of trades in each period\n",
    "noOfTrades = pd.DataFrame()\n",
    "winRate = pd.DataFrame()\n",
    "averageReturn = pd.DataFrame()\n",
    "maxLoss = pd.DataFrame()\n",
    "\n",
    "for result in [(result_Distance, 'Distance'), (result_All, 'Cointegration (All)'), \n",
    "               (result_halfLife50, 'Cointegration (Half-life Filter 50)'), (result_halfLife100, 'Cointegration (Half-life Filter 100)'), \n",
    "               (result_halfLife500, 'Cointegration (Half-life Filter 500)'), (result_halfLife1000, 'Cointegration (Half-life Filter 1000)'), \n",
    "               (result_Kmean, 'Cointegration (Kmean Filter)'), (result_categories, 'Cointegration (Categories Filter)'), \n",
    "               (result_Kmean_categories, 'Cointegration (Kmean and Categories Filter)')]:\n",
    "    noOfTrades[result[1]] = result[0].groupby(['Period No.']).count()['Total Return']\n",
    "    winRate[result[1]] = result[0][result[0]['Total Return'] > 0].groupby(['Period No.']).count()['Total Return'] / noOfTrades[result[1]] \n",
    "    averageReturn[result[1]] = result[0].groupby(['Period No.']).mean()['Total Return']\n",
    "    maxLoss[result[1]] = result[0].groupby(['Period No.']).min()['Total Return']\n",
    "\n",
    "noOfTrades = noOfTrades.fillna(0)\n",
    "winRate  = winRate.fillna(0)\n",
    "averageReturn = averageReturn.fillna(0)\n",
    "maxLoss = maxLoss.fillna(0)\n",
    "maxLoss = maxLoss[maxLoss < 0]"
   ]
  },
  {
   "cell_type": "code",
   "execution_count": 45,
   "metadata": {},
   "outputs": [],
   "source": [
    "with pd.ExcelWriter(\"Report/open \" + str(spreadThreshold) + \" close \" + str(closeThreshold) + \"/transaction_summary.xlsx\") as writer:\n",
    "    noOfTrades.to_excel(writer, sheet_name=\"No. of Trades\")\n",
    "    winRate.to_excel(writer, sheet_name=\"Win Rate\")\n",
    "    averageReturn.to_excel(writer, sheet_name=\"Average Return\")\n",
    "    maxLoss.to_excel(writer, sheet_name=\"Max Loss\")"
   ]
  },
  {
   "cell_type": "code",
   "execution_count": null,
   "metadata": {},
   "outputs": [],
   "source": []
  }
 ],
 "metadata": {
  "kernelspec": {
   "display_name": "Python 3",
   "language": "python",
   "name": "python3"
  },
  "language_info": {
   "codemirror_mode": {
    "name": "ipython",
    "version": 3
   },
   "file_extension": ".py",
   "mimetype": "text/x-python",
   "name": "python",
   "nbconvert_exporter": "python",
   "pygments_lexer": "ipython3",
   "version": "3.9.13"
  }
 },
 "nbformat": 4,
 "nbformat_minor": 2
}
